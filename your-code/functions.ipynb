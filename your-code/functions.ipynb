{
 "cells": [
  {
   "cell_type": "code",
   "execution_count": null,
   "id": "e9db0bb4",
   "metadata": {},
   "outputs": [],
   "source": [
    "#Funciones\n"
   ]
  },
  {
   "cell_type": "code",
   "execution_count": 1,
   "id": "d86669e8",
   "metadata": {},
   "outputs": [],
   "source": [
    "def scrp_proverbia_autores():\n",
    "    url = 'https://proverbia.net/frases-cortas'\n",
    "    frases = []\n",
    "    for e in range(1, 433):\n",
    "        driver = webdriver.Chrome(ChromeDriverManager().install()) #Selenium\n",
    "        time.sleep(2)\n",
    "        driver.get(url+'/'+str(e))\n",
    "        time.sleep(2)\n",
    "        #x = driver.find_elements_by_xpath('/html/body/div[2]/div/div[1]/div/blockquote[1]/p')\n",
    "        x = driver.find_elements_by_tag_name('blockquote')\n",
    "        time.sleep(3)\n",
    "        for r, s in enumerate(x):\n",
    "            frases.append(s.text.split('\\n'))\n",
    "        if r >= len(x)-1:\n",
    "            driver.quit()\n",
    "    return frases\n",
    "            "
   ]
  },
  {
   "cell_type": "code",
   "execution_count": 2,
   "id": "f5d8bf04",
   "metadata": {},
   "outputs": [],
   "source": [
    "def scrp_wiki_autores():\n",
    "    url ='https://www.wikipedia.org/'\n",
    "    lst_wikipedia = []\n",
    "    for e in name_au: \n",
    "        driver = webdriver.Chrome(ChromeDriverManager().install())\n",
    "        time.sleep(2)\n",
    "        driver.get(url)\n",
    "        time.sleep(2)\n",
    "        driver.find_element_by_xpath('//*[@id=\"searchInput\"]').send_keys(e)\n",
    "        time.sleep(2)\n",
    "        driver.find_element_by_xpath('//*[@id=\"search-form\"]/fieldset/button').click()\n",
    "        time.sleep(2)\n",
    "        lst_wikipedia.append(driver.current_url)\n",
    "        time.sleep(2)\n",
    "        driver.quit()\n",
    "    return lst_wikipedia"
   ]
  },
  {
   "cell_type": "code",
   "execution_count": null,
   "id": "1a7a7048",
   "metadata": {},
   "outputs": [],
   "source": []
  }
 ],
 "metadata": {
  "kernelspec": {
   "display_name": "Python 3 (ipykernel)",
   "language": "python",
   "name": "python3"
  },
  "language_info": {
   "codemirror_mode": {
    "name": "ipython",
    "version": 3
   },
   "file_extension": ".py",
   "mimetype": "text/x-python",
   "name": "python",
   "nbconvert_exporter": "python",
   "pygments_lexer": "ipython3",
   "version": "3.9.7"
  }
 },
 "nbformat": 4,
 "nbformat_minor": 5
}
