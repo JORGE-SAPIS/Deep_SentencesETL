{
 "cells": [
  {
   "cell_type": "code",
   "execution_count": 13,
   "id": "04d01d8f",
   "metadata": {},
   "outputs": [],
   "source": [
    "import requests as req\n",
    "\n",
    "from bs4 import BeautifulSoup as bs\n",
    "\n",
    "import pandas as pd\n",
    "\n",
    "from selenium import webdriver\n",
    "from webdriver_manager.chrome import ChromeDriverManager\n",
    "import time\n",
    "\n",
    "from selenium.webdriver.chrome.options import Options\n",
    "\n",
    "\n"
   ]
  },
  {
   "cell_type": "code",
   "execution_count": 16,
   "id": "53a0d5b1",
   "metadata": {},
   "outputs": [],
   "source": [
    "# opciones del driver\n",
    "\n",
    "opciones=Options()\n",
    "\n",
    "# quita la bandera de ser robot\n",
    "opciones.add_experimental_option('excludeSwitches', ['enable-automation'])\n",
    "opciones.add_experimental_option('useAutomationExtension', False)\n",
    "\n",
    "\n",
    "\n",
    "opciones.add_argument('user-data-dir=selenium')    # mantiene las coockies"
   ]
  },
  {
   "cell_type": "code",
   "execution_count": 51,
   "id": "9e92cf1c",
   "metadata": {},
   "outputs": [
    {
     "name": "stdout",
     "output_type": "stream",
     "text": [
      "\n"
     ]
    },
    {
     "name": "stderr",
     "output_type": "stream",
     "text": [
      "[WDM] - ====== WebDriver manager ======\n",
      "[WDM] - Current google-chrome version is 103.0.5060\n",
      "[WDM] - Get LATEST chromedriver version for 103.0.5060 google-chrome\n",
      "[WDM] - Driver [C:\\Users\\jvaym\\.wdm\\drivers\\chromedriver\\win32\\103.0.5060.53\\chromedriver.exe] found in cache\n",
      "C:\\Users\\jvaym\\AppData\\Local\\Temp/ipykernel_60244/1532861533.py:4: DeprecationWarning: executable_path has been deprecated, please pass in a Service object\n",
      "  driver = webdriver.Chrome(ChromeDriverManager().install()) #Selenium\n",
      "C:\\Users\\jvaym\\AppData\\Local\\Temp/ipykernel_60244/1532861533.py:9: DeprecationWarning: find_elements_by_tag_name is deprecated. Please use find_elements(by=By.TAG_NAME, value=name) instead\n",
      "  x = driver.find_elements_by_tag_name('blockquote')\n"
     ]
    },
    {
     "name": "stdout",
     "output_type": "stream",
     "text": [
      "\n"
     ]
    },
    {
     "name": "stderr",
     "output_type": "stream",
     "text": [
      "[WDM] - ====== WebDriver manager ======\n",
      "[WDM] - Current google-chrome version is 103.0.5060\n",
      "[WDM] - Get LATEST chromedriver version for 103.0.5060 google-chrome\n",
      "[WDM] - Driver [C:\\Users\\jvaym\\.wdm\\drivers\\chromedriver\\win32\\103.0.5060.53\\chromedriver.exe] found in cache\n"
     ]
    },
    {
     "name": "stdout",
     "output_type": "stream",
     "text": [
      "\n"
     ]
    },
    {
     "name": "stderr",
     "output_type": "stream",
     "text": [
      "[WDM] - ====== WebDriver manager ======\n",
      "[WDM] - Current google-chrome version is 103.0.5060\n",
      "[WDM] - Get LATEST chromedriver version for 103.0.5060 google-chrome\n",
      "[WDM] - Driver [C:\\Users\\jvaym\\.wdm\\drivers\\chromedriver\\win32\\103.0.5060.53\\chromedriver.exe] found in cache\n"
     ]
    },
    {
     "name": "stdout",
     "output_type": "stream",
     "text": [
      "\n"
     ]
    },
    {
     "name": "stderr",
     "output_type": "stream",
     "text": [
      "[WDM] - ====== WebDriver manager ======\n",
      "[WDM] - Current google-chrome version is 103.0.5060\n",
      "[WDM] - Get LATEST chromedriver version for 103.0.5060 google-chrome\n",
      "[WDM] - Driver [C:\\Users\\jvaym\\.wdm\\drivers\\chromedriver\\win32\\103.0.5060.53\\chromedriver.exe] found in cache\n"
     ]
    },
    {
     "name": "stdout",
     "output_type": "stream",
     "text": [
      "\n"
     ]
    },
    {
     "name": "stderr",
     "output_type": "stream",
     "text": [
      "[WDM] - ====== WebDriver manager ======\n",
      "[WDM] - Current google-chrome version is 103.0.5060\n",
      "[WDM] - Get LATEST chromedriver version for 103.0.5060 google-chrome\n",
      "[WDM] - Driver [C:\\Users\\jvaym\\.wdm\\drivers\\chromedriver\\win32\\103.0.5060.53\\chromedriver.exe] found in cache\n"
     ]
    },
    {
     "name": "stdout",
     "output_type": "stream",
     "text": [
      "\n"
     ]
    },
    {
     "name": "stderr",
     "output_type": "stream",
     "text": [
      "[WDM] - ====== WebDriver manager ======\n",
      "[WDM] - Current google-chrome version is 103.0.5060\n",
      "[WDM] - Get LATEST chromedriver version for 103.0.5060 google-chrome\n",
      "[WDM] - Driver [C:\\Users\\jvaym\\.wdm\\drivers\\chromedriver\\win32\\103.0.5060.53\\chromedriver.exe] found in cache\n"
     ]
    },
    {
     "name": "stdout",
     "output_type": "stream",
     "text": [
      "\n"
     ]
    },
    {
     "name": "stderr",
     "output_type": "stream",
     "text": [
      "[WDM] - ====== WebDriver manager ======\n",
      "[WDM] - Current google-chrome version is 103.0.5060\n",
      "[WDM] - Get LATEST chromedriver version for 103.0.5060 google-chrome\n",
      "[WDM] - Driver [C:\\Users\\jvaym\\.wdm\\drivers\\chromedriver\\win32\\103.0.5060.53\\chromedriver.exe] found in cache\n"
     ]
    },
    {
     "name": "stdout",
     "output_type": "stream",
     "text": [
      "\n"
     ]
    },
    {
     "name": "stderr",
     "output_type": "stream",
     "text": [
      "[WDM] - ====== WebDriver manager ======\n",
      "[WDM] - Current google-chrome version is 103.0.5060\n",
      "[WDM] - Get LATEST chromedriver version for 103.0.5060 google-chrome\n",
      "[WDM] - Driver [C:\\Users\\jvaym\\.wdm\\drivers\\chromedriver\\win32\\103.0.5060.53\\chromedriver.exe] found in cache\n"
     ]
    },
    {
     "name": "stdout",
     "output_type": "stream",
     "text": [
      "\n"
     ]
    },
    {
     "name": "stderr",
     "output_type": "stream",
     "text": [
      "[WDM] - ====== WebDriver manager ======\n",
      "[WDM] - Current google-chrome version is 103.0.5060\n",
      "[WDM] - Get LATEST chromedriver version for 103.0.5060 google-chrome\n",
      "[WDM] - Driver [C:\\Users\\jvaym\\.wdm\\drivers\\chromedriver\\win32\\103.0.5060.53\\chromedriver.exe] found in cache\n"
     ]
    },
    {
     "name": "stdout",
     "output_type": "stream",
     "text": [
      "\n"
     ]
    },
    {
     "name": "stderr",
     "output_type": "stream",
     "text": [
      "[WDM] - ====== WebDriver manager ======\n",
      "[WDM] - Current google-chrome version is 103.0.5060\n",
      "[WDM] - Get LATEST chromedriver version for 103.0.5060 google-chrome\n",
      "[WDM] - Driver [C:\\Users\\jvaym\\.wdm\\drivers\\chromedriver\\win32\\103.0.5060.53\\chromedriver.exe] found in cache\n"
     ]
    },
    {
     "name": "stdout",
     "output_type": "stream",
     "text": [
      "\n"
     ]
    },
    {
     "name": "stderr",
     "output_type": "stream",
     "text": [
      "[WDM] - ====== WebDriver manager ======\n",
      "[WDM] - Current google-chrome version is 103.0.5060\n",
      "[WDM] - Get LATEST chromedriver version for 103.0.5060 google-chrome\n",
      "[WDM] - Driver [C:\\Users\\jvaym\\.wdm\\drivers\\chromedriver\\win32\\103.0.5060.53\\chromedriver.exe] found in cache\n"
     ]
    },
    {
     "name": "stdout",
     "output_type": "stream",
     "text": [
      "\n"
     ]
    },
    {
     "name": "stderr",
     "output_type": "stream",
     "text": [
      "[WDM] - ====== WebDriver manager ======\n",
      "[WDM] - Current google-chrome version is 103.0.5060\n",
      "[WDM] - Get LATEST chromedriver version for 103.0.5060 google-chrome\n",
      "[WDM] - Driver [C:\\Users\\jvaym\\.wdm\\drivers\\chromedriver\\win32\\103.0.5060.53\\chromedriver.exe] found in cache\n"
     ]
    },
    {
     "name": "stdout",
     "output_type": "stream",
     "text": [
      "\n"
     ]
    },
    {
     "name": "stderr",
     "output_type": "stream",
     "text": [
      "[WDM] - ====== WebDriver manager ======\n",
      "[WDM] - Current google-chrome version is 103.0.5060\n",
      "[WDM] - Get LATEST chromedriver version for 103.0.5060 google-chrome\n",
      "[WDM] - Driver [C:\\Users\\jvaym\\.wdm\\drivers\\chromedriver\\win32\\103.0.5060.53\\chromedriver.exe] found in cache\n"
     ]
    },
    {
     "name": "stdout",
     "output_type": "stream",
     "text": [
      "\n"
     ]
    },
    {
     "name": "stderr",
     "output_type": "stream",
     "text": [
      "[WDM] - ====== WebDriver manager ======\n",
      "[WDM] - Current google-chrome version is 103.0.5060\n",
      "[WDM] - Get LATEST chromedriver version for 103.0.5060 google-chrome\n",
      "[WDM] - Driver [C:\\Users\\jvaym\\.wdm\\drivers\\chromedriver\\win32\\103.0.5060.53\\chromedriver.exe] found in cache\n"
     ]
    },
    {
     "name": "stdout",
     "output_type": "stream",
     "text": [
      "\n"
     ]
    },
    {
     "name": "stderr",
     "output_type": "stream",
     "text": [
      "[WDM] - ====== WebDriver manager ======\n",
      "[WDM] - Current google-chrome version is 103.0.5060\n",
      "[WDM] - Get LATEST chromedriver version for 103.0.5060 google-chrome\n",
      "[WDM] - Driver [C:\\Users\\jvaym\\.wdm\\drivers\\chromedriver\\win32\\103.0.5060.53\\chromedriver.exe] found in cache\n"
     ]
    },
    {
     "name": "stdout",
     "output_type": "stream",
     "text": [
      "\n"
     ]
    },
    {
     "name": "stderr",
     "output_type": "stream",
     "text": [
      "[WDM] - ====== WebDriver manager ======\n",
      "[WDM] - Current google-chrome version is 103.0.5060\n",
      "[WDM] - Get LATEST chromedriver version for 103.0.5060 google-chrome\n",
      "[WDM] - Driver [C:\\Users\\jvaym\\.wdm\\drivers\\chromedriver\\win32\\103.0.5060.53\\chromedriver.exe] found in cache\n"
     ]
    },
    {
     "name": "stdout",
     "output_type": "stream",
     "text": [
      "\n"
     ]
    },
    {
     "name": "stderr",
     "output_type": "stream",
     "text": [
      "[WDM] - ====== WebDriver manager ======\n",
      "[WDM] - Current google-chrome version is 103.0.5060\n",
      "[WDM] - Get LATEST chromedriver version for 103.0.5060 google-chrome\n",
      "[WDM] - Driver [C:\\Users\\jvaym\\.wdm\\drivers\\chromedriver\\win32\\103.0.5060.53\\chromedriver.exe] found in cache\n"
     ]
    },
    {
     "name": "stdout",
     "output_type": "stream",
     "text": [
      "\n"
     ]
    },
    {
     "name": "stderr",
     "output_type": "stream",
     "text": [
      "[WDM] - ====== WebDriver manager ======\n",
      "[WDM] - Current google-chrome version is 103.0.5060\n",
      "[WDM] - Get LATEST chromedriver version for 103.0.5060 google-chrome\n",
      "[WDM] - Driver [C:\\Users\\jvaym\\.wdm\\drivers\\chromedriver\\win32\\103.0.5060.53\\chromedriver.exe] found in cache\n"
     ]
    },
    {
     "name": "stdout",
     "output_type": "stream",
     "text": [
      "\n"
     ]
    },
    {
     "name": "stderr",
     "output_type": "stream",
     "text": [
      "[WDM] - ====== WebDriver manager ======\n",
      "[WDM] - Current google-chrome version is 103.0.5060\n",
      "[WDM] - Get LATEST chromedriver version for 103.0.5060 google-chrome\n",
      "[WDM] - Driver [C:\\Users\\jvaym\\.wdm\\drivers\\chromedriver\\win32\\103.0.5060.53\\chromedriver.exe] found in cache\n"
     ]
    },
    {
     "name": "stdout",
     "output_type": "stream",
     "text": [
      "\n"
     ]
    },
    {
     "name": "stderr",
     "output_type": "stream",
     "text": [
      "[WDM] - ====== WebDriver manager ======\n",
      "[WDM] - Current google-chrome version is 103.0.5060\n",
      "[WDM] - Get LATEST chromedriver version for 103.0.5060 google-chrome\n",
      "[WDM] - Driver [C:\\Users\\jvaym\\.wdm\\drivers\\chromedriver\\win32\\103.0.5060.53\\chromedriver.exe] found in cache\n"
     ]
    },
    {
     "name": "stdout",
     "output_type": "stream",
     "text": [
      "\n"
     ]
    },
    {
     "name": "stderr",
     "output_type": "stream",
     "text": [
      "[WDM] - ====== WebDriver manager ======\n",
      "[WDM] - Current google-chrome version is 103.0.5060\n",
      "[WDM] - Get LATEST chromedriver version for 103.0.5060 google-chrome\n",
      "[WDM] - Driver [C:\\Users\\jvaym\\.wdm\\drivers\\chromedriver\\win32\\103.0.5060.53\\chromedriver.exe] found in cache\n"
     ]
    },
    {
     "name": "stdout",
     "output_type": "stream",
     "text": [
      "\n"
     ]
    },
    {
     "name": "stderr",
     "output_type": "stream",
     "text": [
      "[WDM] - ====== WebDriver manager ======\n",
      "[WDM] - Current google-chrome version is 103.0.5060\n",
      "[WDM] - Get LATEST chromedriver version for 103.0.5060 google-chrome\n",
      "[WDM] - Driver [C:\\Users\\jvaym\\.wdm\\drivers\\chromedriver\\win32\\103.0.5060.53\\chromedriver.exe] found in cache\n"
     ]
    },
    {
     "name": "stdout",
     "output_type": "stream",
     "text": [
      "\n"
     ]
    },
    {
     "name": "stderr",
     "output_type": "stream",
     "text": [
      "[WDM] - ====== WebDriver manager ======\n",
      "[WDM] - Current google-chrome version is 103.0.5060\n",
      "[WDM] - Get LATEST chromedriver version for 103.0.5060 google-chrome\n",
      "[WDM] - Driver [C:\\Users\\jvaym\\.wdm\\drivers\\chromedriver\\win32\\103.0.5060.53\\chromedriver.exe] found in cache\n"
     ]
    },
    {
     "name": "stdout",
     "output_type": "stream",
     "text": [
      "\n"
     ]
    },
    {
     "name": "stderr",
     "output_type": "stream",
     "text": [
      "[WDM] - ====== WebDriver manager ======\n",
      "[WDM] - Current google-chrome version is 103.0.5060\n",
      "[WDM] - Get LATEST chromedriver version for 103.0.5060 google-chrome\n",
      "[WDM] - Driver [C:\\Users\\jvaym\\.wdm\\drivers\\chromedriver\\win32\\103.0.5060.53\\chromedriver.exe] found in cache\n"
     ]
    },
    {
     "name": "stdout",
     "output_type": "stream",
     "text": [
      "\n"
     ]
    },
    {
     "name": "stderr",
     "output_type": "stream",
     "text": [
      "[WDM] - ====== WebDriver manager ======\n",
      "[WDM] - Current google-chrome version is 103.0.5060\n",
      "[WDM] - Get LATEST chromedriver version for 103.0.5060 google-chrome\n",
      "[WDM] - Driver [C:\\Users\\jvaym\\.wdm\\drivers\\chromedriver\\win32\\103.0.5060.53\\chromedriver.exe] found in cache\n"
     ]
    },
    {
     "name": "stdout",
     "output_type": "stream",
     "text": [
      "\n"
     ]
    },
    {
     "name": "stderr",
     "output_type": "stream",
     "text": [
      "[WDM] - ====== WebDriver manager ======\n",
      "[WDM] - Current google-chrome version is 103.0.5060\n",
      "[WDM] - Get LATEST chromedriver version for 103.0.5060 google-chrome\n",
      "[WDM] - Driver [C:\\Users\\jvaym\\.wdm\\drivers\\chromedriver\\win32\\103.0.5060.53\\chromedriver.exe] found in cache\n"
     ]
    },
    {
     "name": "stdout",
     "output_type": "stream",
     "text": [
      "\n"
     ]
    },
    {
     "name": "stderr",
     "output_type": "stream",
     "text": [
      "[WDM] - ====== WebDriver manager ======\n",
      "[WDM] - Current google-chrome version is 103.0.5060\n",
      "[WDM] - Get LATEST chromedriver version for 103.0.5060 google-chrome\n",
      "[WDM] - Driver [C:\\Users\\jvaym\\.wdm\\drivers\\chromedriver\\win32\\103.0.5060.53\\chromedriver.exe] found in cache\n"
     ]
    },
    {
     "name": "stdout",
     "output_type": "stream",
     "text": [
      "\n"
     ]
    },
    {
     "name": "stderr",
     "output_type": "stream",
     "text": [
      "[WDM] - ====== WebDriver manager ======\n",
      "[WDM] - Current google-chrome version is 103.0.5060\n",
      "[WDM] - Get LATEST chromedriver version for 103.0.5060 google-chrome\n",
      "[WDM] - Driver [C:\\Users\\jvaym\\.wdm\\drivers\\chromedriver\\win32\\103.0.5060.53\\chromedriver.exe] found in cache\n"
     ]
    },
    {
     "name": "stdout",
     "output_type": "stream",
     "text": [
      "\n"
     ]
    },
    {
     "name": "stderr",
     "output_type": "stream",
     "text": [
      "[WDM] - ====== WebDriver manager ======\n",
      "[WDM] - Current google-chrome version is 103.0.5060\n",
      "[WDM] - Get LATEST chromedriver version for 103.0.5060 google-chrome\n",
      "[WDM] - Driver [C:\\Users\\jvaym\\.wdm\\drivers\\chromedriver\\win32\\103.0.5060.53\\chromedriver.exe] found in cache\n"
     ]
    },
    {
     "name": "stdout",
     "output_type": "stream",
     "text": [
      "\n"
     ]
    },
    {
     "name": "stderr",
     "output_type": "stream",
     "text": [
      "[WDM] - ====== WebDriver manager ======\n",
      "[WDM] - Current google-chrome version is 103.0.5060\n",
      "[WDM] - Get LATEST chromedriver version for 103.0.5060 google-chrome\n",
      "[WDM] - Driver [C:\\Users\\jvaym\\.wdm\\drivers\\chromedriver\\win32\\103.0.5060.53\\chromedriver.exe] found in cache\n"
     ]
    },
    {
     "name": "stdout",
     "output_type": "stream",
     "text": [
      "\n"
     ]
    },
    {
     "name": "stderr",
     "output_type": "stream",
     "text": [
      "[WDM] - ====== WebDriver manager ======\n",
      "[WDM] - Current google-chrome version is 103.0.5060\n",
      "[WDM] - Get LATEST chromedriver version for 103.0.5060 google-chrome\n",
      "[WDM] - Driver [C:\\Users\\jvaym\\.wdm\\drivers\\chromedriver\\win32\\103.0.5060.53\\chromedriver.exe] found in cache\n"
     ]
    },
    {
     "name": "stdout",
     "output_type": "stream",
     "text": [
      "\n"
     ]
    },
    {
     "name": "stderr",
     "output_type": "stream",
     "text": [
      "[WDM] - ====== WebDriver manager ======\n",
      "[WDM] - Current google-chrome version is 103.0.5060\n",
      "[WDM] - Get LATEST chromedriver version for 103.0.5060 google-chrome\n",
      "[WDM] - Driver [C:\\Users\\jvaym\\.wdm\\drivers\\chromedriver\\win32\\103.0.5060.53\\chromedriver.exe] found in cache\n"
     ]
    },
    {
     "name": "stdout",
     "output_type": "stream",
     "text": [
      "\n"
     ]
    },
    {
     "name": "stderr",
     "output_type": "stream",
     "text": [
      "[WDM] - ====== WebDriver manager ======\n",
      "[WDM] - Current google-chrome version is 103.0.5060\n",
      "[WDM] - Get LATEST chromedriver version for 103.0.5060 google-chrome\n",
      "[WDM] - Driver [C:\\Users\\jvaym\\.wdm\\drivers\\chromedriver\\win32\\103.0.5060.53\\chromedriver.exe] found in cache\n"
     ]
    },
    {
     "name": "stdout",
     "output_type": "stream",
     "text": [
      "\n"
     ]
    },
    {
     "name": "stderr",
     "output_type": "stream",
     "text": [
      "[WDM] - ====== WebDriver manager ======\n",
      "[WDM] - Current google-chrome version is 103.0.5060\n",
      "[WDM] - Get LATEST chromedriver version for 103.0.5060 google-chrome\n",
      "[WDM] - Driver [C:\\Users\\jvaym\\.wdm\\drivers\\chromedriver\\win32\\103.0.5060.53\\chromedriver.exe] found in cache\n"
     ]
    },
    {
     "name": "stdout",
     "output_type": "stream",
     "text": [
      "\n"
     ]
    },
    {
     "name": "stderr",
     "output_type": "stream",
     "text": [
      "[WDM] - ====== WebDriver manager ======\n",
      "[WDM] - Current google-chrome version is 103.0.5060\n",
      "[WDM] - Get LATEST chromedriver version for 103.0.5060 google-chrome\n",
      "[WDM] - Driver [C:\\Users\\jvaym\\.wdm\\drivers\\chromedriver\\win32\\103.0.5060.53\\chromedriver.exe] found in cache\n"
     ]
    },
    {
     "name": "stdout",
     "output_type": "stream",
     "text": [
      "\n"
     ]
    },
    {
     "name": "stderr",
     "output_type": "stream",
     "text": [
      "[WDM] - ====== WebDriver manager ======\n",
      "[WDM] - Current google-chrome version is 103.0.5060\n",
      "[WDM] - Get LATEST chromedriver version for 103.0.5060 google-chrome\n",
      "[WDM] - Driver [C:\\Users\\jvaym\\.wdm\\drivers\\chromedriver\\win32\\103.0.5060.53\\chromedriver.exe] found in cache\n"
     ]
    },
    {
     "name": "stdout",
     "output_type": "stream",
     "text": [
      "\n"
     ]
    },
    {
     "name": "stderr",
     "output_type": "stream",
     "text": [
      "[WDM] - ====== WebDriver manager ======\n",
      "[WDM] - Current google-chrome version is 103.0.5060\n",
      "[WDM] - Get LATEST chromedriver version for 103.0.5060 google-chrome\n",
      "[WDM] - Driver [C:\\Users\\jvaym\\.wdm\\drivers\\chromedriver\\win32\\103.0.5060.53\\chromedriver.exe] found in cache\n"
     ]
    },
    {
     "name": "stdout",
     "output_type": "stream",
     "text": [
      "\n"
     ]
    },
    {
     "name": "stderr",
     "output_type": "stream",
     "text": [
      "[WDM] - ====== WebDriver manager ======\n",
      "[WDM] - Current google-chrome version is 103.0.5060\n",
      "[WDM] - Get LATEST chromedriver version for 103.0.5060 google-chrome\n",
      "[WDM] - Driver [C:\\Users\\jvaym\\.wdm\\drivers\\chromedriver\\win32\\103.0.5060.53\\chromedriver.exe] found in cache\n"
     ]
    },
    {
     "name": "stdout",
     "output_type": "stream",
     "text": [
      "\n"
     ]
    },
    {
     "name": "stderr",
     "output_type": "stream",
     "text": [
      "[WDM] - ====== WebDriver manager ======\n",
      "[WDM] - Current google-chrome version is 103.0.5060\n",
      "[WDM] - Get LATEST chromedriver version for 103.0.5060 google-chrome\n",
      "[WDM] - Driver [C:\\Users\\jvaym\\.wdm\\drivers\\chromedriver\\win32\\103.0.5060.53\\chromedriver.exe] found in cache\n"
     ]
    },
    {
     "name": "stdout",
     "output_type": "stream",
     "text": [
      "\n"
     ]
    },
    {
     "name": "stderr",
     "output_type": "stream",
     "text": [
      "[WDM] - ====== WebDriver manager ======\n",
      "[WDM] - Current google-chrome version is 103.0.5060\n",
      "[WDM] - Get LATEST chromedriver version for 103.0.5060 google-chrome\n",
      "[WDM] - Driver [C:\\Users\\jvaym\\.wdm\\drivers\\chromedriver\\win32\\103.0.5060.53\\chromedriver.exe] found in cache\n"
     ]
    },
    {
     "name": "stdout",
     "output_type": "stream",
     "text": [
      "\n"
     ]
    },
    {
     "name": "stderr",
     "output_type": "stream",
     "text": [
      "[WDM] - ====== WebDriver manager ======\n",
      "[WDM] - Current google-chrome version is 103.0.5060\n",
      "[WDM] - Get LATEST chromedriver version for 103.0.5060 google-chrome\n",
      "[WDM] - Driver [C:\\Users\\jvaym\\.wdm\\drivers\\chromedriver\\win32\\103.0.5060.53\\chromedriver.exe] found in cache\n"
     ]
    },
    {
     "name": "stdout",
     "output_type": "stream",
     "text": [
      "\n"
     ]
    },
    {
     "name": "stderr",
     "output_type": "stream",
     "text": [
      "[WDM] - ====== WebDriver manager ======\n",
      "[WDM] - Current google-chrome version is 103.0.5060\n",
      "[WDM] - Get LATEST chromedriver version for 103.0.5060 google-chrome\n",
      "[WDM] - Driver [C:\\Users\\jvaym\\.wdm\\drivers\\chromedriver\\win32\\103.0.5060.53\\chromedriver.exe] found in cache\n"
     ]
    },
    {
     "name": "stdout",
     "output_type": "stream",
     "text": [
      "\n"
     ]
    },
    {
     "name": "stderr",
     "output_type": "stream",
     "text": [
      "[WDM] - ====== WebDriver manager ======\n",
      "[WDM] - Current google-chrome version is 103.0.5060\n",
      "[WDM] - Get LATEST chromedriver version for 103.0.5060 google-chrome\n",
      "[WDM] - Driver [C:\\Users\\jvaym\\.wdm\\drivers\\chromedriver\\win32\\103.0.5060.53\\chromedriver.exe] found in cache\n"
     ]
    },
    {
     "name": "stdout",
     "output_type": "stream",
     "text": [
      "\n"
     ]
    },
    {
     "name": "stderr",
     "output_type": "stream",
     "text": [
      "[WDM] - ====== WebDriver manager ======\n",
      "[WDM] - Current google-chrome version is 103.0.5060\n",
      "[WDM] - Get LATEST chromedriver version for 103.0.5060 google-chrome\n",
      "[WDM] - Driver [C:\\Users\\jvaym\\.wdm\\drivers\\chromedriver\\win32\\103.0.5060.53\\chromedriver.exe] found in cache\n"
     ]
    },
    {
     "name": "stdout",
     "output_type": "stream",
     "text": [
      "\n"
     ]
    },
    {
     "name": "stderr",
     "output_type": "stream",
     "text": [
      "[WDM] - ====== WebDriver manager ======\n",
      "[WDM] - Current google-chrome version is 103.0.5060\n",
      "[WDM] - Get LATEST chromedriver version for 103.0.5060 google-chrome\n",
      "[WDM] - Driver [C:\\Users\\jvaym\\.wdm\\drivers\\chromedriver\\win32\\103.0.5060.53\\chromedriver.exe] found in cache\n"
     ]
    },
    {
     "name": "stdout",
     "output_type": "stream",
     "text": [
      "\n"
     ]
    },
    {
     "name": "stderr",
     "output_type": "stream",
     "text": [
      "[WDM] - ====== WebDriver manager ======\n",
      "[WDM] - Current google-chrome version is 103.0.5060\n",
      "[WDM] - Get LATEST chromedriver version for 103.0.5060 google-chrome\n",
      "[WDM] - Driver [C:\\Users\\jvaym\\.wdm\\drivers\\chromedriver\\win32\\103.0.5060.53\\chromedriver.exe] found in cache\n"
     ]
    },
    {
     "name": "stdout",
     "output_type": "stream",
     "text": [
      "\n"
     ]
    },
    {
     "name": "stderr",
     "output_type": "stream",
     "text": [
      "[WDM] - ====== WebDriver manager ======\n",
      "[WDM] - Current google-chrome version is 103.0.5060\n",
      "[WDM] - Get LATEST chromedriver version for 103.0.5060 google-chrome\n",
      "[WDM] - Driver [C:\\Users\\jvaym\\.wdm\\drivers\\chromedriver\\win32\\103.0.5060.53\\chromedriver.exe] found in cache\n"
     ]
    },
    {
     "name": "stdout",
     "output_type": "stream",
     "text": [
      "\n"
     ]
    },
    {
     "name": "stderr",
     "output_type": "stream",
     "text": [
      "[WDM] - ====== WebDriver manager ======\n",
      "[WDM] - Current google-chrome version is 103.0.5060\n",
      "[WDM] - Get LATEST chromedriver version for 103.0.5060 google-chrome\n",
      "[WDM] - Driver [C:\\Users\\jvaym\\.wdm\\drivers\\chromedriver\\win32\\103.0.5060.53\\chromedriver.exe] found in cache\n"
     ]
    },
    {
     "name": "stdout",
     "output_type": "stream",
     "text": [
      "\n"
     ]
    },
    {
     "name": "stderr",
     "output_type": "stream",
     "text": [
      "[WDM] - ====== WebDriver manager ======\n",
      "[WDM] - Current google-chrome version is 103.0.5060\n",
      "[WDM] - Get LATEST chromedriver version for 103.0.5060 google-chrome\n",
      "[WDM] - Driver [C:\\Users\\jvaym\\.wdm\\drivers\\chromedriver\\win32\\103.0.5060.53\\chromedriver.exe] found in cache\n"
     ]
    },
    {
     "name": "stdout",
     "output_type": "stream",
     "text": [
      "\n"
     ]
    },
    {
     "name": "stderr",
     "output_type": "stream",
     "text": [
      "[WDM] - ====== WebDriver manager ======\n",
      "[WDM] - Current google-chrome version is 103.0.5060\n",
      "[WDM] - Get LATEST chromedriver version for 103.0.5060 google-chrome\n",
      "[WDM] - Driver [C:\\Users\\jvaym\\.wdm\\drivers\\chromedriver\\win32\\103.0.5060.53\\chromedriver.exe] found in cache\n"
     ]
    },
    {
     "name": "stdout",
     "output_type": "stream",
     "text": [
      "\n"
     ]
    },
    {
     "name": "stderr",
     "output_type": "stream",
     "text": [
      "[WDM] - ====== WebDriver manager ======\n",
      "[WDM] - Current google-chrome version is 103.0.5060\n",
      "[WDM] - Get LATEST chromedriver version for 103.0.5060 google-chrome\n",
      "[WDM] - Driver [C:\\Users\\jvaym\\.wdm\\drivers\\chromedriver\\win32\\103.0.5060.53\\chromedriver.exe] found in cache\n"
     ]
    },
    {
     "name": "stdout",
     "output_type": "stream",
     "text": [
      "\n"
     ]
    },
    {
     "name": "stderr",
     "output_type": "stream",
     "text": [
      "[WDM] - ====== WebDriver manager ======\n",
      "[WDM] - Current google-chrome version is 103.0.5060\n",
      "[WDM] - Get LATEST chromedriver version for 103.0.5060 google-chrome\n",
      "[WDM] - Driver [C:\\Users\\jvaym\\.wdm\\drivers\\chromedriver\\win32\\103.0.5060.53\\chromedriver.exe] found in cache\n"
     ]
    },
    {
     "name": "stdout",
     "output_type": "stream",
     "text": [
      "\n"
     ]
    },
    {
     "name": "stderr",
     "output_type": "stream",
     "text": [
      "[WDM] - ====== WebDriver manager ======\n",
      "[WDM] - Current google-chrome version is 103.0.5060\n",
      "[WDM] - Get LATEST chromedriver version for 103.0.5060 google-chrome\n",
      "[WDM] - Driver [C:\\Users\\jvaym\\.wdm\\drivers\\chromedriver\\win32\\103.0.5060.53\\chromedriver.exe] found in cache\n"
     ]
    },
    {
     "name": "stdout",
     "output_type": "stream",
     "text": [
      "\n"
     ]
    },
    {
     "name": "stderr",
     "output_type": "stream",
     "text": [
      "[WDM] - ====== WebDriver manager ======\n",
      "[WDM] - Current google-chrome version is 103.0.5060\n",
      "[WDM] - Get LATEST chromedriver version for 103.0.5060 google-chrome\n",
      "[WDM] - Driver [C:\\Users\\jvaym\\.wdm\\drivers\\chromedriver\\win32\\103.0.5060.53\\chromedriver.exe] found in cache\n"
     ]
    },
    {
     "name": "stdout",
     "output_type": "stream",
     "text": [
      "\n"
     ]
    },
    {
     "name": "stderr",
     "output_type": "stream",
     "text": [
      "[WDM] - ====== WebDriver manager ======\n",
      "[WDM] - Current google-chrome version is 103.0.5060\n",
      "[WDM] - Get LATEST chromedriver version for 103.0.5060 google-chrome\n",
      "[WDM] - Driver [C:\\Users\\jvaym\\.wdm\\drivers\\chromedriver\\win32\\103.0.5060.53\\chromedriver.exe] found in cache\n"
     ]
    },
    {
     "name": "stdout",
     "output_type": "stream",
     "text": [
      "\n"
     ]
    },
    {
     "name": "stderr",
     "output_type": "stream",
     "text": [
      "[WDM] - ====== WebDriver manager ======\n",
      "[WDM] - Current google-chrome version is 103.0.5060\n",
      "[WDM] - Get LATEST chromedriver version for 103.0.5060 google-chrome\n",
      "[WDM] - Driver [C:\\Users\\jvaym\\.wdm\\drivers\\chromedriver\\win32\\103.0.5060.53\\chromedriver.exe] found in cache\n"
     ]
    },
    {
     "name": "stdout",
     "output_type": "stream",
     "text": [
      "\n"
     ]
    },
    {
     "name": "stderr",
     "output_type": "stream",
     "text": [
      "[WDM] - ====== WebDriver manager ======\n",
      "[WDM] - Current google-chrome version is 103.0.5060\n",
      "[WDM] - Get LATEST chromedriver version for 103.0.5060 google-chrome\n",
      "[WDM] - Driver [C:\\Users\\jvaym\\.wdm\\drivers\\chromedriver\\win32\\103.0.5060.53\\chromedriver.exe] found in cache\n"
     ]
    },
    {
     "name": "stdout",
     "output_type": "stream",
     "text": [
      "\n"
     ]
    },
    {
     "name": "stderr",
     "output_type": "stream",
     "text": [
      "[WDM] - ====== WebDriver manager ======\n",
      "[WDM] - Current google-chrome version is 103.0.5060\n",
      "[WDM] - Get LATEST chromedriver version for 103.0.5060 google-chrome\n",
      "[WDM] - Driver [C:\\Users\\jvaym\\.wdm\\drivers\\chromedriver\\win32\\103.0.5060.53\\chromedriver.exe] found in cache\n"
     ]
    },
    {
     "name": "stdout",
     "output_type": "stream",
     "text": [
      "\n"
     ]
    },
    {
     "name": "stderr",
     "output_type": "stream",
     "text": [
      "[WDM] - ====== WebDriver manager ======\n",
      "[WDM] - Current google-chrome version is 103.0.5060\n",
      "[WDM] - Get LATEST chromedriver version for 103.0.5060 google-chrome\n",
      "[WDM] - Driver [C:\\Users\\jvaym\\.wdm\\drivers\\chromedriver\\win32\\103.0.5060.53\\chromedriver.exe] found in cache\n"
     ]
    },
    {
     "name": "stdout",
     "output_type": "stream",
     "text": [
      "\n"
     ]
    },
    {
     "name": "stderr",
     "output_type": "stream",
     "text": [
      "[WDM] - ====== WebDriver manager ======\n",
      "[WDM] - Current google-chrome version is 103.0.5060\n",
      "[WDM] - Get LATEST chromedriver version for 103.0.5060 google-chrome\n",
      "[WDM] - Driver [C:\\Users\\jvaym\\.wdm\\drivers\\chromedriver\\win32\\103.0.5060.53\\chromedriver.exe] found in cache\n"
     ]
    },
    {
     "name": "stdout",
     "output_type": "stream",
     "text": [
      "\n"
     ]
    },
    {
     "name": "stderr",
     "output_type": "stream",
     "text": [
      "[WDM] - ====== WebDriver manager ======\n",
      "[WDM] - Current google-chrome version is 103.0.5060\n",
      "[WDM] - Get LATEST chromedriver version for 103.0.5060 google-chrome\n",
      "[WDM] - Driver [C:\\Users\\jvaym\\.wdm\\drivers\\chromedriver\\win32\\103.0.5060.53\\chromedriver.exe] found in cache\n"
     ]
    },
    {
     "name": "stdout",
     "output_type": "stream",
     "text": [
      "\n"
     ]
    },
    {
     "name": "stderr",
     "output_type": "stream",
     "text": [
      "[WDM] - ====== WebDriver manager ======\n",
      "[WDM] - Current google-chrome version is 103.0.5060\n",
      "[WDM] - Get LATEST chromedriver version for 103.0.5060 google-chrome\n",
      "[WDM] - Driver [C:\\Users\\jvaym\\.wdm\\drivers\\chromedriver\\win32\\103.0.5060.53\\chromedriver.exe] found in cache\n"
     ]
    },
    {
     "name": "stdout",
     "output_type": "stream",
     "text": [
      "\n"
     ]
    },
    {
     "name": "stderr",
     "output_type": "stream",
     "text": [
      "[WDM] - ====== WebDriver manager ======\n",
      "[WDM] - Current google-chrome version is 103.0.5060\n",
      "[WDM] - Get LATEST chromedriver version for 103.0.5060 google-chrome\n",
      "[WDM] - Driver [C:\\Users\\jvaym\\.wdm\\drivers\\chromedriver\\win32\\103.0.5060.53\\chromedriver.exe] found in cache\n"
     ]
    },
    {
     "name": "stdout",
     "output_type": "stream",
     "text": [
      "\n"
     ]
    },
    {
     "name": "stderr",
     "output_type": "stream",
     "text": [
      "[WDM] - ====== WebDriver manager ======\n",
      "[WDM] - Current google-chrome version is 103.0.5060\n",
      "[WDM] - Get LATEST chromedriver version for 103.0.5060 google-chrome\n",
      "[WDM] - Driver [C:\\Users\\jvaym\\.wdm\\drivers\\chromedriver\\win32\\103.0.5060.53\\chromedriver.exe] found in cache\n"
     ]
    },
    {
     "name": "stdout",
     "output_type": "stream",
     "text": [
      "\n"
     ]
    },
    {
     "name": "stderr",
     "output_type": "stream",
     "text": [
      "[WDM] - ====== WebDriver manager ======\n",
      "[WDM] - Current google-chrome version is 103.0.5060\n",
      "[WDM] - Get LATEST chromedriver version for 103.0.5060 google-chrome\n",
      "[WDM] - Driver [C:\\Users\\jvaym\\.wdm\\drivers\\chromedriver\\win32\\103.0.5060.53\\chromedriver.exe] found in cache\n"
     ]
    },
    {
     "name": "stdout",
     "output_type": "stream",
     "text": [
      "\n"
     ]
    },
    {
     "name": "stderr",
     "output_type": "stream",
     "text": [
      "[WDM] - ====== WebDriver manager ======\n",
      "[WDM] - Current google-chrome version is 103.0.5060\n",
      "[WDM] - Get LATEST chromedriver version for 103.0.5060 google-chrome\n",
      "[WDM] - Driver [C:\\Users\\jvaym\\.wdm\\drivers\\chromedriver\\win32\\103.0.5060.53\\chromedriver.exe] found in cache\n"
     ]
    },
    {
     "name": "stdout",
     "output_type": "stream",
     "text": [
      "\n"
     ]
    },
    {
     "name": "stderr",
     "output_type": "stream",
     "text": [
      "[WDM] - ====== WebDriver manager ======\n",
      "[WDM] - Current google-chrome version is 103.0.5060\n",
      "[WDM] - Get LATEST chromedriver version for 103.0.5060 google-chrome\n",
      "[WDM] - Driver [C:\\Users\\jvaym\\.wdm\\drivers\\chromedriver\\win32\\103.0.5060.53\\chromedriver.exe] found in cache\n"
     ]
    },
    {
     "name": "stdout",
     "output_type": "stream",
     "text": [
      "\n"
     ]
    },
    {
     "name": "stderr",
     "output_type": "stream",
     "text": [
      "[WDM] - ====== WebDriver manager ======\n",
      "[WDM] - Current google-chrome version is 103.0.5060\n",
      "[WDM] - Get LATEST chromedriver version for 103.0.5060 google-chrome\n",
      "[WDM] - Driver [C:\\Users\\jvaym\\.wdm\\drivers\\chromedriver\\win32\\103.0.5060.53\\chromedriver.exe] found in cache\n"
     ]
    },
    {
     "name": "stdout",
     "output_type": "stream",
     "text": [
      "\n"
     ]
    },
    {
     "name": "stderr",
     "output_type": "stream",
     "text": [
      "[WDM] - ====== WebDriver manager ======\n",
      "[WDM] - Current google-chrome version is 103.0.5060\n",
      "[WDM] - Get LATEST chromedriver version for 103.0.5060 google-chrome\n",
      "[WDM] - Driver [C:\\Users\\jvaym\\.wdm\\drivers\\chromedriver\\win32\\103.0.5060.53\\chromedriver.exe] found in cache\n"
     ]
    },
    {
     "name": "stdout",
     "output_type": "stream",
     "text": [
      "\n"
     ]
    },
    {
     "name": "stderr",
     "output_type": "stream",
     "text": [
      "[WDM] - ====== WebDriver manager ======\n",
      "[WDM] - Current google-chrome version is 103.0.5060\n",
      "[WDM] - Get LATEST chromedriver version for 103.0.5060 google-chrome\n",
      "[WDM] - Driver [C:\\Users\\jvaym\\.wdm\\drivers\\chromedriver\\win32\\103.0.5060.53\\chromedriver.exe] found in cache\n"
     ]
    },
    {
     "name": "stdout",
     "output_type": "stream",
     "text": [
      "\n"
     ]
    },
    {
     "name": "stderr",
     "output_type": "stream",
     "text": [
      "[WDM] - ====== WebDriver manager ======\n",
      "[WDM] - Current google-chrome version is 103.0.5060\n",
      "[WDM] - Get LATEST chromedriver version for 103.0.5060 google-chrome\n",
      "[WDM] - Driver [C:\\Users\\jvaym\\.wdm\\drivers\\chromedriver\\win32\\103.0.5060.53\\chromedriver.exe] found in cache\n"
     ]
    },
    {
     "name": "stdout",
     "output_type": "stream",
     "text": [
      "\n"
     ]
    },
    {
     "name": "stderr",
     "output_type": "stream",
     "text": [
      "[WDM] - ====== WebDriver manager ======\n",
      "[WDM] - Current google-chrome version is 103.0.5060\n",
      "[WDM] - Get LATEST chromedriver version for 103.0.5060 google-chrome\n",
      "[WDM] - Driver [C:\\Users\\jvaym\\.wdm\\drivers\\chromedriver\\win32\\103.0.5060.53\\chromedriver.exe] found in cache\n"
     ]
    },
    {
     "name": "stdout",
     "output_type": "stream",
     "text": [
      "\n"
     ]
    },
    {
     "name": "stderr",
     "output_type": "stream",
     "text": [
      "[WDM] - ====== WebDriver manager ======\n",
      "[WDM] - Current google-chrome version is 103.0.5060\n",
      "[WDM] - Get LATEST chromedriver version for 103.0.5060 google-chrome\n",
      "[WDM] - Driver [C:\\Users\\jvaym\\.wdm\\drivers\\chromedriver\\win32\\103.0.5060.53\\chromedriver.exe] found in cache\n"
     ]
    },
    {
     "name": "stdout",
     "output_type": "stream",
     "text": [
      "\n"
     ]
    },
    {
     "name": "stderr",
     "output_type": "stream",
     "text": [
      "[WDM] - ====== WebDriver manager ======\n",
      "[WDM] - Current google-chrome version is 103.0.5060\n",
      "[WDM] - Get LATEST chromedriver version for 103.0.5060 google-chrome\n",
      "[WDM] - Driver [C:\\Users\\jvaym\\.wdm\\drivers\\chromedriver\\win32\\103.0.5060.53\\chromedriver.exe] found in cache\n"
     ]
    },
    {
     "name": "stdout",
     "output_type": "stream",
     "text": [
      "\n"
     ]
    },
    {
     "name": "stderr",
     "output_type": "stream",
     "text": [
      "[WDM] - ====== WebDriver manager ======\n",
      "[WDM] - Current google-chrome version is 103.0.5060\n",
      "[WDM] - Get LATEST chromedriver version for 103.0.5060 google-chrome\n",
      "[WDM] - Driver [C:\\Users\\jvaym\\.wdm\\drivers\\chromedriver\\win32\\103.0.5060.53\\chromedriver.exe] found in cache\n"
     ]
    },
    {
     "name": "stdout",
     "output_type": "stream",
     "text": [
      "\n"
     ]
    },
    {
     "name": "stderr",
     "output_type": "stream",
     "text": [
      "[WDM] - ====== WebDriver manager ======\n",
      "[WDM] - Current google-chrome version is 103.0.5060\n",
      "[WDM] - Get LATEST chromedriver version for 103.0.5060 google-chrome\n",
      "[WDM] - Driver [C:\\Users\\jvaym\\.wdm\\drivers\\chromedriver\\win32\\103.0.5060.53\\chromedriver.exe] found in cache\n"
     ]
    },
    {
     "name": "stdout",
     "output_type": "stream",
     "text": [
      "\n"
     ]
    },
    {
     "name": "stderr",
     "output_type": "stream",
     "text": [
      "[WDM] - ====== WebDriver manager ======\n",
      "[WDM] - Current google-chrome version is 103.0.5060\n",
      "[WDM] - Get LATEST chromedriver version for 103.0.5060 google-chrome\n",
      "[WDM] - Driver [C:\\Users\\jvaym\\.wdm\\drivers\\chromedriver\\win32\\103.0.5060.53\\chromedriver.exe] found in cache\n"
     ]
    },
    {
     "name": "stdout",
     "output_type": "stream",
     "text": [
      "\n"
     ]
    },
    {
     "name": "stderr",
     "output_type": "stream",
     "text": [
      "[WDM] - ====== WebDriver manager ======\n",
      "[WDM] - Current google-chrome version is 103.0.5060\n",
      "[WDM] - Get LATEST chromedriver version for 103.0.5060 google-chrome\n",
      "[WDM] - Driver [C:\\Users\\jvaym\\.wdm\\drivers\\chromedriver\\win32\\103.0.5060.53\\chromedriver.exe] found in cache\n"
     ]
    },
    {
     "name": "stdout",
     "output_type": "stream",
     "text": [
      "\n"
     ]
    },
    {
     "name": "stderr",
     "output_type": "stream",
     "text": [
      "[WDM] - ====== WebDriver manager ======\n",
      "[WDM] - Current google-chrome version is 103.0.5060\n",
      "[WDM] - Get LATEST chromedriver version for 103.0.5060 google-chrome\n",
      "[WDM] - Driver [C:\\Users\\jvaym\\.wdm\\drivers\\chromedriver\\win32\\103.0.5060.53\\chromedriver.exe] found in cache\n"
     ]
    },
    {
     "name": "stdout",
     "output_type": "stream",
     "text": [
      "\n"
     ]
    },
    {
     "name": "stderr",
     "output_type": "stream",
     "text": [
      "[WDM] - ====== WebDriver manager ======\n",
      "[WDM] - Current google-chrome version is 103.0.5060\n",
      "[WDM] - Get LATEST chromedriver version for 103.0.5060 google-chrome\n",
      "[WDM] - Driver [C:\\Users\\jvaym\\.wdm\\drivers\\chromedriver\\win32\\103.0.5060.53\\chromedriver.exe] found in cache\n"
     ]
    },
    {
     "name": "stdout",
     "output_type": "stream",
     "text": [
      "\n"
     ]
    },
    {
     "name": "stderr",
     "output_type": "stream",
     "text": [
      "[WDM] - ====== WebDriver manager ======\n",
      "[WDM] - Current google-chrome version is 103.0.5060\n",
      "[WDM] - Get LATEST chromedriver version for 103.0.5060 google-chrome\n",
      "[WDM] - Driver [C:\\Users\\jvaym\\.wdm\\drivers\\chromedriver\\win32\\103.0.5060.53\\chromedriver.exe] found in cache\n"
     ]
    },
    {
     "name": "stdout",
     "output_type": "stream",
     "text": [
      "\n"
     ]
    },
    {
     "name": "stderr",
     "output_type": "stream",
     "text": [
      "[WDM] - ====== WebDriver manager ======\n",
      "[WDM] - Current google-chrome version is 103.0.5060\n",
      "[WDM] - Get LATEST chromedriver version for 103.0.5060 google-chrome\n",
      "[WDM] - Driver [C:\\Users\\jvaym\\.wdm\\drivers\\chromedriver\\win32\\103.0.5060.53\\chromedriver.exe] found in cache\n"
     ]
    },
    {
     "name": "stdout",
     "output_type": "stream",
     "text": [
      "\n"
     ]
    },
    {
     "name": "stderr",
     "output_type": "stream",
     "text": [
      "[WDM] - ====== WebDriver manager ======\n",
      "[WDM] - Current google-chrome version is 103.0.5060\n",
      "[WDM] - Get LATEST chromedriver version for 103.0.5060 google-chrome\n",
      "[WDM] - Driver [C:\\Users\\jvaym\\.wdm\\drivers\\chromedriver\\win32\\103.0.5060.53\\chromedriver.exe] found in cache\n"
     ]
    },
    {
     "name": "stdout",
     "output_type": "stream",
     "text": [
      "\n"
     ]
    },
    {
     "name": "stderr",
     "output_type": "stream",
     "text": [
      "[WDM] - ====== WebDriver manager ======\n",
      "[WDM] - Current google-chrome version is 103.0.5060\n",
      "[WDM] - Get LATEST chromedriver version for 103.0.5060 google-chrome\n",
      "[WDM] - Driver [C:\\Users\\jvaym\\.wdm\\drivers\\chromedriver\\win32\\103.0.5060.53\\chromedriver.exe] found in cache\n"
     ]
    },
    {
     "name": "stdout",
     "output_type": "stream",
     "text": [
      "\n"
     ]
    },
    {
     "name": "stderr",
     "output_type": "stream",
     "text": [
      "[WDM] - ====== WebDriver manager ======\n",
      "[WDM] - Current google-chrome version is 103.0.5060\n",
      "[WDM] - Get LATEST chromedriver version for 103.0.5060 google-chrome\n",
      "[WDM] - Driver [C:\\Users\\jvaym\\.wdm\\drivers\\chromedriver\\win32\\103.0.5060.53\\chromedriver.exe] found in cache\n"
     ]
    },
    {
     "name": "stdout",
     "output_type": "stream",
     "text": [
      "\n"
     ]
    },
    {
     "name": "stderr",
     "output_type": "stream",
     "text": [
      "[WDM] - ====== WebDriver manager ======\n",
      "[WDM] - Current google-chrome version is 103.0.5060\n",
      "[WDM] - Get LATEST chromedriver version for 103.0.5060 google-chrome\n",
      "[WDM] - Driver [C:\\Users\\jvaym\\.wdm\\drivers\\chromedriver\\win32\\103.0.5060.53\\chromedriver.exe] found in cache\n"
     ]
    },
    {
     "name": "stdout",
     "output_type": "stream",
     "text": [
      "\n"
     ]
    },
    {
     "name": "stderr",
     "output_type": "stream",
     "text": [
      "[WDM] - ====== WebDriver manager ======\n",
      "[WDM] - Current google-chrome version is 103.0.5060\n",
      "[WDM] - Get LATEST chromedriver version for 103.0.5060 google-chrome\n",
      "[WDM] - Driver [C:\\Users\\jvaym\\.wdm\\drivers\\chromedriver\\win32\\103.0.5060.53\\chromedriver.exe] found in cache\n"
     ]
    },
    {
     "name": "stdout",
     "output_type": "stream",
     "text": [
      "\n"
     ]
    },
    {
     "name": "stderr",
     "output_type": "stream",
     "text": [
      "[WDM] - ====== WebDriver manager ======\n",
      "[WDM] - Current google-chrome version is 103.0.5060\n",
      "[WDM] - Get LATEST chromedriver version for 103.0.5060 google-chrome\n",
      "[WDM] - Driver [C:\\Users\\jvaym\\.wdm\\drivers\\chromedriver\\win32\\103.0.5060.53\\chromedriver.exe] found in cache\n"
     ]
    },
    {
     "name": "stdout",
     "output_type": "stream",
     "text": [
      "\n"
     ]
    },
    {
     "name": "stderr",
     "output_type": "stream",
     "text": [
      "[WDM] - ====== WebDriver manager ======\n",
      "[WDM] - Current google-chrome version is 103.0.5060\n",
      "[WDM] - Get LATEST chromedriver version for 103.0.5060 google-chrome\n",
      "[WDM] - Driver [C:\\Users\\jvaym\\.wdm\\drivers\\chromedriver\\win32\\103.0.5060.53\\chromedriver.exe] found in cache\n"
     ]
    },
    {
     "name": "stdout",
     "output_type": "stream",
     "text": [
      "\n"
     ]
    },
    {
     "name": "stderr",
     "output_type": "stream",
     "text": [
      "[WDM] - ====== WebDriver manager ======\n",
      "[WDM] - Current google-chrome version is 103.0.5060\n",
      "[WDM] - Get LATEST chromedriver version for 103.0.5060 google-chrome\n",
      "[WDM] - Driver [C:\\Users\\jvaym\\.wdm\\drivers\\chromedriver\\win32\\103.0.5060.53\\chromedriver.exe] found in cache\n"
     ]
    },
    {
     "name": "stdout",
     "output_type": "stream",
     "text": [
      "\n"
     ]
    },
    {
     "name": "stderr",
     "output_type": "stream",
     "text": [
      "[WDM] - ====== WebDriver manager ======\n",
      "[WDM] - Current google-chrome version is 103.0.5060\n",
      "[WDM] - Get LATEST chromedriver version for 103.0.5060 google-chrome\n",
      "[WDM] - Driver [C:\\Users\\jvaym\\.wdm\\drivers\\chromedriver\\win32\\103.0.5060.53\\chromedriver.exe] found in cache\n"
     ]
    },
    {
     "name": "stdout",
     "output_type": "stream",
     "text": [
      "\n"
     ]
    },
    {
     "name": "stderr",
     "output_type": "stream",
     "text": [
      "[WDM] - ====== WebDriver manager ======\n",
      "[WDM] - Current google-chrome version is 103.0.5060\n",
      "[WDM] - Get LATEST chromedriver version for 103.0.5060 google-chrome\n",
      "[WDM] - Driver [C:\\Users\\jvaym\\.wdm\\drivers\\chromedriver\\win32\\103.0.5060.53\\chromedriver.exe] found in cache\n"
     ]
    },
    {
     "name": "stdout",
     "output_type": "stream",
     "text": [
      "\n"
     ]
    },
    {
     "name": "stderr",
     "output_type": "stream",
     "text": [
      "[WDM] - ====== WebDriver manager ======\n",
      "[WDM] - Current google-chrome version is 103.0.5060\n",
      "[WDM] - Get LATEST chromedriver version for 103.0.5060 google-chrome\n",
      "[WDM] - Driver [C:\\Users\\jvaym\\.wdm\\drivers\\chromedriver\\win32\\103.0.5060.53\\chromedriver.exe] found in cache\n"
     ]
    },
    {
     "name": "stdout",
     "output_type": "stream",
     "text": [
      "\n"
     ]
    },
    {
     "name": "stderr",
     "output_type": "stream",
     "text": [
      "[WDM] - ====== WebDriver manager ======\n",
      "[WDM] - Current google-chrome version is 103.0.5060\n",
      "[WDM] - Get LATEST chromedriver version for 103.0.5060 google-chrome\n",
      "[WDM] - Driver [C:\\Users\\jvaym\\.wdm\\drivers\\chromedriver\\win32\\103.0.5060.53\\chromedriver.exe] found in cache\n"
     ]
    },
    {
     "name": "stdout",
     "output_type": "stream",
     "text": [
      "\n"
     ]
    },
    {
     "name": "stderr",
     "output_type": "stream",
     "text": [
      "[WDM] - ====== WebDriver manager ======\n",
      "[WDM] - Current google-chrome version is 103.0.5060\n",
      "[WDM] - Get LATEST chromedriver version for 103.0.5060 google-chrome\n",
      "[WDM] - Driver [C:\\Users\\jvaym\\.wdm\\drivers\\chromedriver\\win32\\103.0.5060.53\\chromedriver.exe] found in cache\n"
     ]
    },
    {
     "name": "stdout",
     "output_type": "stream",
     "text": [
      "\n"
     ]
    },
    {
     "name": "stderr",
     "output_type": "stream",
     "text": [
      "[WDM] - ====== WebDriver manager ======\n",
      "[WDM] - Current google-chrome version is 103.0.5060\n",
      "[WDM] - Get LATEST chromedriver version for 103.0.5060 google-chrome\n",
      "[WDM] - Driver [C:\\Users\\jvaym\\.wdm\\drivers\\chromedriver\\win32\\103.0.5060.53\\chromedriver.exe] found in cache\n"
     ]
    },
    {
     "name": "stdout",
     "output_type": "stream",
     "text": [
      "\n"
     ]
    },
    {
     "name": "stderr",
     "output_type": "stream",
     "text": [
      "[WDM] - ====== WebDriver manager ======\n",
      "[WDM] - Current google-chrome version is 103.0.5060\n",
      "[WDM] - Get LATEST chromedriver version for 103.0.5060 google-chrome\n",
      "[WDM] - Driver [C:\\Users\\jvaym\\.wdm\\drivers\\chromedriver\\win32\\103.0.5060.53\\chromedriver.exe] found in cache\n"
     ]
    },
    {
     "name": "stdout",
     "output_type": "stream",
     "text": [
      "\n"
     ]
    },
    {
     "name": "stderr",
     "output_type": "stream",
     "text": [
      "[WDM] - ====== WebDriver manager ======\n",
      "[WDM] - Current google-chrome version is 103.0.5060\n",
      "[WDM] - Get LATEST chromedriver version for 103.0.5060 google-chrome\n",
      "[WDM] - Driver [C:\\Users\\jvaym\\.wdm\\drivers\\chromedriver\\win32\\103.0.5060.53\\chromedriver.exe] found in cache\n"
     ]
    },
    {
     "name": "stdout",
     "output_type": "stream",
     "text": [
      "\n"
     ]
    },
    {
     "name": "stderr",
     "output_type": "stream",
     "text": [
      "[WDM] - ====== WebDriver manager ======\n",
      "[WDM] - Current google-chrome version is 103.0.5060\n",
      "[WDM] - Get LATEST chromedriver version for 103.0.5060 google-chrome\n",
      "[WDM] - Driver [C:\\Users\\jvaym\\.wdm\\drivers\\chromedriver\\win32\\103.0.5060.53\\chromedriver.exe] found in cache\n"
     ]
    },
    {
     "name": "stdout",
     "output_type": "stream",
     "text": [
      "\n"
     ]
    },
    {
     "name": "stderr",
     "output_type": "stream",
     "text": [
      "[WDM] - ====== WebDriver manager ======\n",
      "[WDM] - Current google-chrome version is 103.0.5060\n",
      "[WDM] - Get LATEST chromedriver version for 103.0.5060 google-chrome\n",
      "[WDM] - Driver [C:\\Users\\jvaym\\.wdm\\drivers\\chromedriver\\win32\\103.0.5060.53\\chromedriver.exe] found in cache\n"
     ]
    },
    {
     "name": "stdout",
     "output_type": "stream",
     "text": [
      "\n"
     ]
    },
    {
     "name": "stderr",
     "output_type": "stream",
     "text": [
      "[WDM] - ====== WebDriver manager ======\n",
      "[WDM] - Current google-chrome version is 103.0.5060\n",
      "[WDM] - Get LATEST chromedriver version for 103.0.5060 google-chrome\n",
      "[WDM] - Driver [C:\\Users\\jvaym\\.wdm\\drivers\\chromedriver\\win32\\103.0.5060.53\\chromedriver.exe] found in cache\n"
     ]
    },
    {
     "name": "stdout",
     "output_type": "stream",
     "text": [
      "\n"
     ]
    },
    {
     "name": "stderr",
     "output_type": "stream",
     "text": [
      "[WDM] - ====== WebDriver manager ======\n",
      "[WDM] - Current google-chrome version is 103.0.5060\n",
      "[WDM] - Get LATEST chromedriver version for 103.0.5060 google-chrome\n",
      "[WDM] - Driver [C:\\Users\\jvaym\\.wdm\\drivers\\chromedriver\\win32\\103.0.5060.53\\chromedriver.exe] found in cache\n"
     ]
    },
    {
     "name": "stdout",
     "output_type": "stream",
     "text": [
      "\n"
     ]
    },
    {
     "name": "stderr",
     "output_type": "stream",
     "text": [
      "[WDM] - ====== WebDriver manager ======\n",
      "[WDM] - Current google-chrome version is 103.0.5060\n",
      "[WDM] - Get LATEST chromedriver version for 103.0.5060 google-chrome\n",
      "[WDM] - Driver [C:\\Users\\jvaym\\.wdm\\drivers\\chromedriver\\win32\\103.0.5060.53\\chromedriver.exe] found in cache\n"
     ]
    },
    {
     "name": "stdout",
     "output_type": "stream",
     "text": [
      "\n"
     ]
    },
    {
     "name": "stderr",
     "output_type": "stream",
     "text": [
      "[WDM] - ====== WebDriver manager ======\n",
      "[WDM] - Current google-chrome version is 103.0.5060\n",
      "[WDM] - Get LATEST chromedriver version for 103.0.5060 google-chrome\n",
      "[WDM] - Driver [C:\\Users\\jvaym\\.wdm\\drivers\\chromedriver\\win32\\103.0.5060.53\\chromedriver.exe] found in cache\n"
     ]
    },
    {
     "name": "stdout",
     "output_type": "stream",
     "text": [
      "\n"
     ]
    },
    {
     "name": "stderr",
     "output_type": "stream",
     "text": [
      "[WDM] - ====== WebDriver manager ======\n",
      "[WDM] - Current google-chrome version is 103.0.5060\n",
      "[WDM] - Get LATEST chromedriver version for 103.0.5060 google-chrome\n",
      "[WDM] - Driver [C:\\Users\\jvaym\\.wdm\\drivers\\chromedriver\\win32\\103.0.5060.53\\chromedriver.exe] found in cache\n"
     ]
    },
    {
     "name": "stdout",
     "output_type": "stream",
     "text": [
      "\n"
     ]
    },
    {
     "name": "stderr",
     "output_type": "stream",
     "text": [
      "[WDM] - ====== WebDriver manager ======\n",
      "[WDM] - Current google-chrome version is 103.0.5060\n",
      "[WDM] - Get LATEST chromedriver version for 103.0.5060 google-chrome\n",
      "[WDM] - Driver [C:\\Users\\jvaym\\.wdm\\drivers\\chromedriver\\win32\\103.0.5060.53\\chromedriver.exe] found in cache\n"
     ]
    },
    {
     "name": "stdout",
     "output_type": "stream",
     "text": [
      "\n"
     ]
    },
    {
     "name": "stderr",
     "output_type": "stream",
     "text": [
      "[WDM] - ====== WebDriver manager ======\n",
      "[WDM] - Current google-chrome version is 103.0.5060\n",
      "[WDM] - Get LATEST chromedriver version for 103.0.5060 google-chrome\n",
      "[WDM] - Driver [C:\\Users\\jvaym\\.wdm\\drivers\\chromedriver\\win32\\103.0.5060.53\\chromedriver.exe] found in cache\n"
     ]
    },
    {
     "name": "stdout",
     "output_type": "stream",
     "text": [
      "\n"
     ]
    },
    {
     "name": "stderr",
     "output_type": "stream",
     "text": [
      "[WDM] - ====== WebDriver manager ======\n",
      "[WDM] - Current google-chrome version is 103.0.5060\n",
      "[WDM] - Get LATEST chromedriver version for 103.0.5060 google-chrome\n",
      "[WDM] - Driver [C:\\Users\\jvaym\\.wdm\\drivers\\chromedriver\\win32\\103.0.5060.53\\chromedriver.exe] found in cache\n"
     ]
    },
    {
     "name": "stdout",
     "output_type": "stream",
     "text": [
      "\n"
     ]
    },
    {
     "name": "stderr",
     "output_type": "stream",
     "text": [
      "[WDM] - ====== WebDriver manager ======\n",
      "[WDM] - Current google-chrome version is 103.0.5060\n",
      "[WDM] - Get LATEST chromedriver version for 103.0.5060 google-chrome\n",
      "[WDM] - Driver [C:\\Users\\jvaym\\.wdm\\drivers\\chromedriver\\win32\\103.0.5060.53\\chromedriver.exe] found in cache\n"
     ]
    },
    {
     "name": "stdout",
     "output_type": "stream",
     "text": [
      "\n"
     ]
    },
    {
     "name": "stderr",
     "output_type": "stream",
     "text": [
      "[WDM] - ====== WebDriver manager ======\n",
      "[WDM] - Current google-chrome version is 103.0.5060\n",
      "[WDM] - Get LATEST chromedriver version for 103.0.5060 google-chrome\n",
      "[WDM] - Driver [C:\\Users\\jvaym\\.wdm\\drivers\\chromedriver\\win32\\103.0.5060.53\\chromedriver.exe] found in cache\n"
     ]
    },
    {
     "name": "stdout",
     "output_type": "stream",
     "text": [
      "\n"
     ]
    },
    {
     "name": "stderr",
     "output_type": "stream",
     "text": [
      "[WDM] - ====== WebDriver manager ======\n",
      "[WDM] - Current google-chrome version is 103.0.5060\n",
      "[WDM] - Get LATEST chromedriver version for 103.0.5060 google-chrome\n",
      "[WDM] - Driver [C:\\Users\\jvaym\\.wdm\\drivers\\chromedriver\\win32\\103.0.5060.53\\chromedriver.exe] found in cache\n"
     ]
    },
    {
     "name": "stdout",
     "output_type": "stream",
     "text": [
      "\n"
     ]
    },
    {
     "name": "stderr",
     "output_type": "stream",
     "text": [
      "[WDM] - ====== WebDriver manager ======\n",
      "[WDM] - Current google-chrome version is 103.0.5060\n",
      "[WDM] - Get LATEST chromedriver version for 103.0.5060 google-chrome\n",
      "[WDM] - Driver [C:\\Users\\jvaym\\.wdm\\drivers\\chromedriver\\win32\\103.0.5060.53\\chromedriver.exe] found in cache\n"
     ]
    },
    {
     "name": "stdout",
     "output_type": "stream",
     "text": [
      "\n"
     ]
    },
    {
     "name": "stderr",
     "output_type": "stream",
     "text": [
      "[WDM] - ====== WebDriver manager ======\n",
      "[WDM] - Current google-chrome version is 103.0.5060\n",
      "[WDM] - Get LATEST chromedriver version for 103.0.5060 google-chrome\n",
      "[WDM] - Driver [C:\\Users\\jvaym\\.wdm\\drivers\\chromedriver\\win32\\103.0.5060.53\\chromedriver.exe] found in cache\n"
     ]
    },
    {
     "name": "stdout",
     "output_type": "stream",
     "text": [
      "\n"
     ]
    },
    {
     "name": "stderr",
     "output_type": "stream",
     "text": [
      "[WDM] - ====== WebDriver manager ======\n",
      "[WDM] - Current google-chrome version is 103.0.5060\n",
      "[WDM] - Get LATEST chromedriver version for 103.0.5060 google-chrome\n",
      "[WDM] - Driver [C:\\Users\\jvaym\\.wdm\\drivers\\chromedriver\\win32\\103.0.5060.53\\chromedriver.exe] found in cache\n"
     ]
    },
    {
     "name": "stdout",
     "output_type": "stream",
     "text": [
      "\n"
     ]
    },
    {
     "name": "stderr",
     "output_type": "stream",
     "text": [
      "[WDM] - ====== WebDriver manager ======\n",
      "[WDM] - Current google-chrome version is 103.0.5060\n",
      "[WDM] - Get LATEST chromedriver version for 103.0.5060 google-chrome\n",
      "[WDM] - Driver [C:\\Users\\jvaym\\.wdm\\drivers\\chromedriver\\win32\\103.0.5060.53\\chromedriver.exe] found in cache\n"
     ]
    },
    {
     "name": "stdout",
     "output_type": "stream",
     "text": [
      "\n"
     ]
    },
    {
     "name": "stderr",
     "output_type": "stream",
     "text": [
      "[WDM] - ====== WebDriver manager ======\n",
      "[WDM] - Current google-chrome version is 103.0.5060\n",
      "[WDM] - Get LATEST chromedriver version for 103.0.5060 google-chrome\n",
      "[WDM] - Driver [C:\\Users\\jvaym\\.wdm\\drivers\\chromedriver\\win32\\103.0.5060.53\\chromedriver.exe] found in cache\n"
     ]
    },
    {
     "name": "stdout",
     "output_type": "stream",
     "text": [
      "\n"
     ]
    },
    {
     "name": "stderr",
     "output_type": "stream",
     "text": [
      "[WDM] - ====== WebDriver manager ======\n",
      "[WDM] - Current google-chrome version is 103.0.5060\n",
      "[WDM] - Get LATEST chromedriver version for 103.0.5060 google-chrome\n",
      "[WDM] - Driver [C:\\Users\\jvaym\\.wdm\\drivers\\chromedriver\\win32\\103.0.5060.53\\chromedriver.exe] found in cache\n"
     ]
    },
    {
     "name": "stdout",
     "output_type": "stream",
     "text": [
      "\n"
     ]
    },
    {
     "name": "stderr",
     "output_type": "stream",
     "text": [
      "[WDM] - ====== WebDriver manager ======\n",
      "[WDM] - Current google-chrome version is 103.0.5060\n",
      "[WDM] - Get LATEST chromedriver version for 103.0.5060 google-chrome\n",
      "[WDM] - Driver [C:\\Users\\jvaym\\.wdm\\drivers\\chromedriver\\win32\\103.0.5060.53\\chromedriver.exe] found in cache\n"
     ]
    },
    {
     "name": "stdout",
     "output_type": "stream",
     "text": [
      "\n"
     ]
    },
    {
     "name": "stderr",
     "output_type": "stream",
     "text": [
      "[WDM] - ====== WebDriver manager ======\n",
      "[WDM] - Current google-chrome version is 103.0.5060\n",
      "[WDM] - Get LATEST chromedriver version for 103.0.5060 google-chrome\n",
      "[WDM] - Driver [C:\\Users\\jvaym\\.wdm\\drivers\\chromedriver\\win32\\103.0.5060.53\\chromedriver.exe] found in cache\n"
     ]
    },
    {
     "name": "stdout",
     "output_type": "stream",
     "text": [
      "\n"
     ]
    },
    {
     "name": "stderr",
     "output_type": "stream",
     "text": [
      "[WDM] - ====== WebDriver manager ======\n",
      "[WDM] - Current google-chrome version is 103.0.5060\n",
      "[WDM] - Get LATEST chromedriver version for 103.0.5060 google-chrome\n",
      "[WDM] - Driver [C:\\Users\\jvaym\\.wdm\\drivers\\chromedriver\\win32\\103.0.5060.53\\chromedriver.exe] found in cache\n"
     ]
    },
    {
     "name": "stdout",
     "output_type": "stream",
     "text": [
      "\n"
     ]
    },
    {
     "name": "stderr",
     "output_type": "stream",
     "text": [
      "[WDM] - ====== WebDriver manager ======\n",
      "[WDM] - Current google-chrome version is 103.0.5060\n",
      "[WDM] - Get LATEST chromedriver version for 103.0.5060 google-chrome\n",
      "[WDM] - Driver [C:\\Users\\jvaym\\.wdm\\drivers\\chromedriver\\win32\\103.0.5060.53\\chromedriver.exe] found in cache\n"
     ]
    },
    {
     "name": "stdout",
     "output_type": "stream",
     "text": [
      "\n"
     ]
    },
    {
     "name": "stderr",
     "output_type": "stream",
     "text": [
      "[WDM] - ====== WebDriver manager ======\n",
      "[WDM] - Current google-chrome version is 103.0.5060\n",
      "[WDM] - Get LATEST chromedriver version for 103.0.5060 google-chrome\n",
      "[WDM] - Driver [C:\\Users\\jvaym\\.wdm\\drivers\\chromedriver\\win32\\103.0.5060.53\\chromedriver.exe] found in cache\n"
     ]
    },
    {
     "name": "stdout",
     "output_type": "stream",
     "text": [
      "\n"
     ]
    },
    {
     "name": "stderr",
     "output_type": "stream",
     "text": [
      "[WDM] - ====== WebDriver manager ======\n",
      "[WDM] - Current google-chrome version is 103.0.5060\n",
      "[WDM] - Get LATEST chromedriver version for 103.0.5060 google-chrome\n",
      "[WDM] - Driver [C:\\Users\\jvaym\\.wdm\\drivers\\chromedriver\\win32\\103.0.5060.53\\chromedriver.exe] found in cache\n"
     ]
    },
    {
     "name": "stdout",
     "output_type": "stream",
     "text": [
      "\n"
     ]
    },
    {
     "name": "stderr",
     "output_type": "stream",
     "text": [
      "[WDM] - ====== WebDriver manager ======\n",
      "[WDM] - Current google-chrome version is 103.0.5060\n",
      "[WDM] - Get LATEST chromedriver version for 103.0.5060 google-chrome\n",
      "[WDM] - Driver [C:\\Users\\jvaym\\.wdm\\drivers\\chromedriver\\win32\\103.0.5060.53\\chromedriver.exe] found in cache\n"
     ]
    },
    {
     "name": "stdout",
     "output_type": "stream",
     "text": [
      "\n"
     ]
    },
    {
     "name": "stderr",
     "output_type": "stream",
     "text": [
      "[WDM] - ====== WebDriver manager ======\n",
      "[WDM] - Current google-chrome version is 103.0.5060\n",
      "[WDM] - Get LATEST chromedriver version for 103.0.5060 google-chrome\n",
      "[WDM] - Driver [C:\\Users\\jvaym\\.wdm\\drivers\\chromedriver\\win32\\103.0.5060.53\\chromedriver.exe] found in cache\n"
     ]
    },
    {
     "name": "stdout",
     "output_type": "stream",
     "text": [
      "\n"
     ]
    },
    {
     "name": "stderr",
     "output_type": "stream",
     "text": [
      "[WDM] - ====== WebDriver manager ======\n",
      "[WDM] - Current google-chrome version is 103.0.5060\n",
      "[WDM] - Get LATEST chromedriver version for 103.0.5060 google-chrome\n",
      "[WDM] - Driver [C:\\Users\\jvaym\\.wdm\\drivers\\chromedriver\\win32\\103.0.5060.53\\chromedriver.exe] found in cache\n"
     ]
    },
    {
     "name": "stdout",
     "output_type": "stream",
     "text": [
      "\n"
     ]
    },
    {
     "name": "stderr",
     "output_type": "stream",
     "text": [
      "[WDM] - ====== WebDriver manager ======\n",
      "[WDM] - Current google-chrome version is 103.0.5060\n",
      "[WDM] - Get LATEST chromedriver version for 103.0.5060 google-chrome\n",
      "[WDM] - Driver [C:\\Users\\jvaym\\.wdm\\drivers\\chromedriver\\win32\\103.0.5060.53\\chromedriver.exe] found in cache\n"
     ]
    },
    {
     "name": "stdout",
     "output_type": "stream",
     "text": [
      "\n"
     ]
    },
    {
     "name": "stderr",
     "output_type": "stream",
     "text": [
      "[WDM] - ====== WebDriver manager ======\n",
      "[WDM] - Current google-chrome version is 103.0.5060\n",
      "[WDM] - Get LATEST chromedriver version for 103.0.5060 google-chrome\n",
      "[WDM] - Driver [C:\\Users\\jvaym\\.wdm\\drivers\\chromedriver\\win32\\103.0.5060.53\\chromedriver.exe] found in cache\n"
     ]
    },
    {
     "name": "stdout",
     "output_type": "stream",
     "text": [
      "\n"
     ]
    },
    {
     "name": "stderr",
     "output_type": "stream",
     "text": [
      "[WDM] - ====== WebDriver manager ======\n",
      "[WDM] - Current google-chrome version is 103.0.5060\n",
      "[WDM] - Get LATEST chromedriver version for 103.0.5060 google-chrome\n",
      "[WDM] - Driver [C:\\Users\\jvaym\\.wdm\\drivers\\chromedriver\\win32\\103.0.5060.53\\chromedriver.exe] found in cache\n"
     ]
    },
    {
     "name": "stdout",
     "output_type": "stream",
     "text": [
      "\n"
     ]
    },
    {
     "name": "stderr",
     "output_type": "stream",
     "text": [
      "[WDM] - ====== WebDriver manager ======\n",
      "[WDM] - Current google-chrome version is 103.0.5060\n",
      "[WDM] - Get LATEST chromedriver version for 103.0.5060 google-chrome\n",
      "[WDM] - Driver [C:\\Users\\jvaym\\.wdm\\drivers\\chromedriver\\win32\\103.0.5060.53\\chromedriver.exe] found in cache\n"
     ]
    },
    {
     "name": "stdout",
     "output_type": "stream",
     "text": [
      "\n"
     ]
    },
    {
     "name": "stderr",
     "output_type": "stream",
     "text": [
      "[WDM] - ====== WebDriver manager ======\n",
      "[WDM] - Current google-chrome version is 103.0.5060\n",
      "[WDM] - Get LATEST chromedriver version for 103.0.5060 google-chrome\n",
      "[WDM] - Driver [C:\\Users\\jvaym\\.wdm\\drivers\\chromedriver\\win32\\103.0.5060.53\\chromedriver.exe] found in cache\n"
     ]
    },
    {
     "name": "stdout",
     "output_type": "stream",
     "text": [
      "\n"
     ]
    },
    {
     "name": "stderr",
     "output_type": "stream",
     "text": [
      "[WDM] - ====== WebDriver manager ======\n",
      "[WDM] - Current google-chrome version is 103.0.5060\n",
      "[WDM] - Get LATEST chromedriver version for 103.0.5060 google-chrome\n",
      "[WDM] - Driver [C:\\Users\\jvaym\\.wdm\\drivers\\chromedriver\\win32\\103.0.5060.53\\chromedriver.exe] found in cache\n"
     ]
    },
    {
     "name": "stdout",
     "output_type": "stream",
     "text": [
      "\n"
     ]
    },
    {
     "name": "stderr",
     "output_type": "stream",
     "text": [
      "[WDM] - ====== WebDriver manager ======\n",
      "[WDM] - Current google-chrome version is 103.0.5060\n",
      "[WDM] - Get LATEST chromedriver version for 103.0.5060 google-chrome\n",
      "[WDM] - Driver [C:\\Users\\jvaym\\.wdm\\drivers\\chromedriver\\win32\\103.0.5060.53\\chromedriver.exe] found in cache\n"
     ]
    },
    {
     "name": "stdout",
     "output_type": "stream",
     "text": [
      "\n"
     ]
    },
    {
     "name": "stderr",
     "output_type": "stream",
     "text": [
      "[WDM] - ====== WebDriver manager ======\n",
      "[WDM] - Current google-chrome version is 103.0.5060\n",
      "[WDM] - Get LATEST chromedriver version for 103.0.5060 google-chrome\n",
      "[WDM] - Driver [C:\\Users\\jvaym\\.wdm\\drivers\\chromedriver\\win32\\103.0.5060.53\\chromedriver.exe] found in cache\n"
     ]
    },
    {
     "name": "stdout",
     "output_type": "stream",
     "text": [
      "\n"
     ]
    },
    {
     "name": "stderr",
     "output_type": "stream",
     "text": [
      "[WDM] - ====== WebDriver manager ======\n",
      "[WDM] - Current google-chrome version is 103.0.5060\n",
      "[WDM] - Get LATEST chromedriver version for 103.0.5060 google-chrome\n",
      "[WDM] - Driver [C:\\Users\\jvaym\\.wdm\\drivers\\chromedriver\\win32\\103.0.5060.53\\chromedriver.exe] found in cache\n"
     ]
    },
    {
     "name": "stdout",
     "output_type": "stream",
     "text": [
      "\n"
     ]
    },
    {
     "name": "stderr",
     "output_type": "stream",
     "text": [
      "[WDM] - ====== WebDriver manager ======\n",
      "[WDM] - Current google-chrome version is 103.0.5060\n",
      "[WDM] - Get LATEST chromedriver version for 103.0.5060 google-chrome\n",
      "[WDM] - Driver [C:\\Users\\jvaym\\.wdm\\drivers\\chromedriver\\win32\\103.0.5060.53\\chromedriver.exe] found in cache\n"
     ]
    },
    {
     "name": "stdout",
     "output_type": "stream",
     "text": [
      "\n"
     ]
    },
    {
     "name": "stderr",
     "output_type": "stream",
     "text": [
      "[WDM] - ====== WebDriver manager ======\n",
      "[WDM] - Current google-chrome version is 103.0.5060\n",
      "[WDM] - Get LATEST chromedriver version for 103.0.5060 google-chrome\n",
      "[WDM] - Driver [C:\\Users\\jvaym\\.wdm\\drivers\\chromedriver\\win32\\103.0.5060.53\\chromedriver.exe] found in cache\n"
     ]
    },
    {
     "name": "stdout",
     "output_type": "stream",
     "text": [
      "\n"
     ]
    },
    {
     "name": "stderr",
     "output_type": "stream",
     "text": [
      "[WDM] - ====== WebDriver manager ======\n",
      "[WDM] - Current google-chrome version is 103.0.5060\n",
      "[WDM] - Get LATEST chromedriver version for 103.0.5060 google-chrome\n",
      "[WDM] - Driver [C:\\Users\\jvaym\\.wdm\\drivers\\chromedriver\\win32\\103.0.5060.53\\chromedriver.exe] found in cache\n"
     ]
    },
    {
     "name": "stdout",
     "output_type": "stream",
     "text": [
      "\n"
     ]
    },
    {
     "name": "stderr",
     "output_type": "stream",
     "text": [
      "[WDM] - ====== WebDriver manager ======\n",
      "[WDM] - Current google-chrome version is 103.0.5060\n",
      "[WDM] - Get LATEST chromedriver version for 103.0.5060 google-chrome\n",
      "[WDM] - Driver [C:\\Users\\jvaym\\.wdm\\drivers\\chromedriver\\win32\\103.0.5060.53\\chromedriver.exe] found in cache\n"
     ]
    },
    {
     "name": "stdout",
     "output_type": "stream",
     "text": [
      "\n"
     ]
    },
    {
     "name": "stderr",
     "output_type": "stream",
     "text": [
      "[WDM] - ====== WebDriver manager ======\n",
      "[WDM] - Current google-chrome version is 103.0.5060\n",
      "[WDM] - Get LATEST chromedriver version for 103.0.5060 google-chrome\n",
      "[WDM] - Driver [C:\\Users\\jvaym\\.wdm\\drivers\\chromedriver\\win32\\103.0.5060.53\\chromedriver.exe] found in cache\n"
     ]
    },
    {
     "name": "stdout",
     "output_type": "stream",
     "text": [
      "\n"
     ]
    },
    {
     "name": "stderr",
     "output_type": "stream",
     "text": [
      "[WDM] - ====== WebDriver manager ======\n",
      "[WDM] - Current google-chrome version is 103.0.5060\n",
      "[WDM] - Get LATEST chromedriver version for 103.0.5060 google-chrome\n",
      "[WDM] - Driver [C:\\Users\\jvaym\\.wdm\\drivers\\chromedriver\\win32\\103.0.5060.53\\chromedriver.exe] found in cache\n"
     ]
    },
    {
     "name": "stdout",
     "output_type": "stream",
     "text": [
      "\n"
     ]
    },
    {
     "name": "stderr",
     "output_type": "stream",
     "text": [
      "[WDM] - ====== WebDriver manager ======\n",
      "[WDM] - Current google-chrome version is 103.0.5060\n",
      "[WDM] - Get LATEST chromedriver version for 103.0.5060 google-chrome\n",
      "[WDM] - Driver [C:\\Users\\jvaym\\.wdm\\drivers\\chromedriver\\win32\\103.0.5060.53\\chromedriver.exe] found in cache\n"
     ]
    },
    {
     "name": "stdout",
     "output_type": "stream",
     "text": [
      "\n"
     ]
    },
    {
     "name": "stderr",
     "output_type": "stream",
     "text": [
      "[WDM] - ====== WebDriver manager ======\n",
      "[WDM] - Current google-chrome version is 103.0.5060\n",
      "[WDM] - Get LATEST chromedriver version for 103.0.5060 google-chrome\n",
      "[WDM] - Driver [C:\\Users\\jvaym\\.wdm\\drivers\\chromedriver\\win32\\103.0.5060.53\\chromedriver.exe] found in cache\n"
     ]
    },
    {
     "name": "stdout",
     "output_type": "stream",
     "text": [
      "\n"
     ]
    },
    {
     "name": "stderr",
     "output_type": "stream",
     "text": [
      "[WDM] - ====== WebDriver manager ======\n",
      "[WDM] - Current google-chrome version is 103.0.5060\n",
      "[WDM] - Get LATEST chromedriver version for 103.0.5060 google-chrome\n",
      "[WDM] - Driver [C:\\Users\\jvaym\\.wdm\\drivers\\chromedriver\\win32\\103.0.5060.53\\chromedriver.exe] found in cache\n"
     ]
    },
    {
     "name": "stdout",
     "output_type": "stream",
     "text": [
      "\n"
     ]
    },
    {
     "name": "stderr",
     "output_type": "stream",
     "text": [
      "[WDM] - ====== WebDriver manager ======\n",
      "[WDM] - Current google-chrome version is 103.0.5060\n",
      "[WDM] - Get LATEST chromedriver version for 103.0.5060 google-chrome\n",
      "[WDM] - Driver [C:\\Users\\jvaym\\.wdm\\drivers\\chromedriver\\win32\\103.0.5060.53\\chromedriver.exe] found in cache\n"
     ]
    },
    {
     "name": "stdout",
     "output_type": "stream",
     "text": [
      "\n"
     ]
    },
    {
     "name": "stderr",
     "output_type": "stream",
     "text": [
      "[WDM] - ====== WebDriver manager ======\n",
      "[WDM] - Current google-chrome version is 103.0.5060\n",
      "[WDM] - Get LATEST chromedriver version for 103.0.5060 google-chrome\n",
      "[WDM] - Driver [C:\\Users\\jvaym\\.wdm\\drivers\\chromedriver\\win32\\103.0.5060.53\\chromedriver.exe] found in cache\n"
     ]
    },
    {
     "name": "stdout",
     "output_type": "stream",
     "text": [
      "\n"
     ]
    },
    {
     "name": "stderr",
     "output_type": "stream",
     "text": [
      "[WDM] - ====== WebDriver manager ======\n",
      "[WDM] - Current google-chrome version is 103.0.5060\n",
      "[WDM] - Get LATEST chromedriver version for 103.0.5060 google-chrome\n",
      "[WDM] - Driver [C:\\Users\\jvaym\\.wdm\\drivers\\chromedriver\\win32\\103.0.5060.53\\chromedriver.exe] found in cache\n"
     ]
    },
    {
     "name": "stdout",
     "output_type": "stream",
     "text": [
      "\n"
     ]
    },
    {
     "name": "stderr",
     "output_type": "stream",
     "text": [
      "[WDM] - ====== WebDriver manager ======\n",
      "[WDM] - Current google-chrome version is 103.0.5060\n",
      "[WDM] - Get LATEST chromedriver version for 103.0.5060 google-chrome\n",
      "[WDM] - Driver [C:\\Users\\jvaym\\.wdm\\drivers\\chromedriver\\win32\\103.0.5060.53\\chromedriver.exe] found in cache\n"
     ]
    },
    {
     "name": "stdout",
     "output_type": "stream",
     "text": [
      "\n"
     ]
    },
    {
     "name": "stderr",
     "output_type": "stream",
     "text": [
      "[WDM] - ====== WebDriver manager ======\n",
      "[WDM] - Current google-chrome version is 103.0.5060\n",
      "[WDM] - Get LATEST chromedriver version for 103.0.5060 google-chrome\n",
      "[WDM] - Driver [C:\\Users\\jvaym\\.wdm\\drivers\\chromedriver\\win32\\103.0.5060.53\\chromedriver.exe] found in cache\n"
     ]
    },
    {
     "name": "stdout",
     "output_type": "stream",
     "text": [
      "\n"
     ]
    },
    {
     "name": "stderr",
     "output_type": "stream",
     "text": [
      "[WDM] - ====== WebDriver manager ======\n",
      "[WDM] - Current google-chrome version is 103.0.5060\n",
      "[WDM] - Get LATEST chromedriver version for 103.0.5060 google-chrome\n",
      "[WDM] - Driver [C:\\Users\\jvaym\\.wdm\\drivers\\chromedriver\\win32\\103.0.5060.53\\chromedriver.exe] found in cache\n"
     ]
    },
    {
     "name": "stdout",
     "output_type": "stream",
     "text": [
      "\n"
     ]
    },
    {
     "name": "stderr",
     "output_type": "stream",
     "text": [
      "[WDM] - ====== WebDriver manager ======\n",
      "[WDM] - Current google-chrome version is 103.0.5060\n",
      "[WDM] - Get LATEST chromedriver version for 103.0.5060 google-chrome\n",
      "[WDM] - Driver [C:\\Users\\jvaym\\.wdm\\drivers\\chromedriver\\win32\\103.0.5060.53\\chromedriver.exe] found in cache\n"
     ]
    },
    {
     "name": "stdout",
     "output_type": "stream",
     "text": [
      "\n"
     ]
    },
    {
     "name": "stderr",
     "output_type": "stream",
     "text": [
      "[WDM] - ====== WebDriver manager ======\n",
      "[WDM] - Current google-chrome version is 103.0.5060\n",
      "[WDM] - Get LATEST chromedriver version for 103.0.5060 google-chrome\n",
      "[WDM] - Driver [C:\\Users\\jvaym\\.wdm\\drivers\\chromedriver\\win32\\103.0.5060.53\\chromedriver.exe] found in cache\n"
     ]
    },
    {
     "name": "stdout",
     "output_type": "stream",
     "text": [
      "\n"
     ]
    },
    {
     "name": "stderr",
     "output_type": "stream",
     "text": [
      "[WDM] - ====== WebDriver manager ======\n",
      "[WDM] - Current google-chrome version is 103.0.5060\n",
      "[WDM] - Get LATEST chromedriver version for 103.0.5060 google-chrome\n",
      "[WDM] - Driver [C:\\Users\\jvaym\\.wdm\\drivers\\chromedriver\\win32\\103.0.5060.53\\chromedriver.exe] found in cache\n"
     ]
    },
    {
     "name": "stdout",
     "output_type": "stream",
     "text": [
      "\n"
     ]
    },
    {
     "name": "stderr",
     "output_type": "stream",
     "text": [
      "[WDM] - ====== WebDriver manager ======\n",
      "[WDM] - Current google-chrome version is 103.0.5060\n",
      "[WDM] - Get LATEST chromedriver version for 103.0.5060 google-chrome\n",
      "[WDM] - Driver [C:\\Users\\jvaym\\.wdm\\drivers\\chromedriver\\win32\\103.0.5060.53\\chromedriver.exe] found in cache\n"
     ]
    },
    {
     "name": "stdout",
     "output_type": "stream",
     "text": [
      "\n"
     ]
    },
    {
     "name": "stderr",
     "output_type": "stream",
     "text": [
      "[WDM] - ====== WebDriver manager ======\n",
      "[WDM] - Current google-chrome version is 103.0.5060\n",
      "[WDM] - Get LATEST chromedriver version for 103.0.5060 google-chrome\n",
      "[WDM] - Driver [C:\\Users\\jvaym\\.wdm\\drivers\\chromedriver\\win32\\103.0.5060.53\\chromedriver.exe] found in cache\n"
     ]
    },
    {
     "name": "stdout",
     "output_type": "stream",
     "text": [
      "\n"
     ]
    },
    {
     "name": "stderr",
     "output_type": "stream",
     "text": [
      "[WDM] - ====== WebDriver manager ======\n",
      "[WDM] - Current google-chrome version is 103.0.5060\n",
      "[WDM] - Get LATEST chromedriver version for 103.0.5060 google-chrome\n",
      "[WDM] - Driver [C:\\Users\\jvaym\\.wdm\\drivers\\chromedriver\\win32\\103.0.5060.53\\chromedriver.exe] found in cache\n"
     ]
    },
    {
     "name": "stdout",
     "output_type": "stream",
     "text": [
      "\n"
     ]
    },
    {
     "name": "stderr",
     "output_type": "stream",
     "text": [
      "[WDM] - ====== WebDriver manager ======\n",
      "[WDM] - Current google-chrome version is 103.0.5060\n",
      "[WDM] - Get LATEST chromedriver version for 103.0.5060 google-chrome\n",
      "[WDM] - Driver [C:\\Users\\jvaym\\.wdm\\drivers\\chromedriver\\win32\\103.0.5060.53\\chromedriver.exe] found in cache\n"
     ]
    },
    {
     "name": "stdout",
     "output_type": "stream",
     "text": [
      "\n"
     ]
    },
    {
     "name": "stderr",
     "output_type": "stream",
     "text": [
      "[WDM] - ====== WebDriver manager ======\n",
      "[WDM] - Current google-chrome version is 103.0.5060\n",
      "[WDM] - Get LATEST chromedriver version for 103.0.5060 google-chrome\n",
      "[WDM] - Driver [C:\\Users\\jvaym\\.wdm\\drivers\\chromedriver\\win32\\103.0.5060.53\\chromedriver.exe] found in cache\n"
     ]
    },
    {
     "name": "stdout",
     "output_type": "stream",
     "text": [
      "\n"
     ]
    },
    {
     "name": "stderr",
     "output_type": "stream",
     "text": [
      "[WDM] - ====== WebDriver manager ======\n",
      "[WDM] - Current google-chrome version is 103.0.5060\n",
      "[WDM] - Get LATEST chromedriver version for 103.0.5060 google-chrome\n",
      "[WDM] - Driver [C:\\Users\\jvaym\\.wdm\\drivers\\chromedriver\\win32\\103.0.5060.53\\chromedriver.exe] found in cache\n"
     ]
    },
    {
     "name": "stdout",
     "output_type": "stream",
     "text": [
      "\n"
     ]
    },
    {
     "name": "stderr",
     "output_type": "stream",
     "text": [
      "[WDM] - ====== WebDriver manager ======\n",
      "[WDM] - Current google-chrome version is 103.0.5060\n",
      "[WDM] - Get LATEST chromedriver version for 103.0.5060 google-chrome\n",
      "[WDM] - Driver [C:\\Users\\jvaym\\.wdm\\drivers\\chromedriver\\win32\\103.0.5060.53\\chromedriver.exe] found in cache\n"
     ]
    },
    {
     "name": "stdout",
     "output_type": "stream",
     "text": [
      "\n"
     ]
    },
    {
     "name": "stderr",
     "output_type": "stream",
     "text": [
      "[WDM] - ====== WebDriver manager ======\n",
      "[WDM] - Current google-chrome version is 103.0.5060\n",
      "[WDM] - Get LATEST chromedriver version for 103.0.5060 google-chrome\n",
      "[WDM] - Driver [C:\\Users\\jvaym\\.wdm\\drivers\\chromedriver\\win32\\103.0.5060.53\\chromedriver.exe] found in cache\n"
     ]
    },
    {
     "name": "stdout",
     "output_type": "stream",
     "text": [
      "\n"
     ]
    },
    {
     "name": "stderr",
     "output_type": "stream",
     "text": [
      "[WDM] - ====== WebDriver manager ======\n",
      "[WDM] - Current google-chrome version is 103.0.5060\n",
      "[WDM] - Get LATEST chromedriver version for 103.0.5060 google-chrome\n",
      "[WDM] - Driver [C:\\Users\\jvaym\\.wdm\\drivers\\chromedriver\\win32\\103.0.5060.53\\chromedriver.exe] found in cache\n"
     ]
    },
    {
     "name": "stdout",
     "output_type": "stream",
     "text": [
      "\n"
     ]
    },
    {
     "name": "stderr",
     "output_type": "stream",
     "text": [
      "[WDM] - ====== WebDriver manager ======\n",
      "[WDM] - Current google-chrome version is 103.0.5060\n",
      "[WDM] - Get LATEST chromedriver version for 103.0.5060 google-chrome\n",
      "[WDM] - Driver [C:\\Users\\jvaym\\.wdm\\drivers\\chromedriver\\win32\\103.0.5060.53\\chromedriver.exe] found in cache\n"
     ]
    },
    {
     "name": "stdout",
     "output_type": "stream",
     "text": [
      "\n"
     ]
    },
    {
     "name": "stderr",
     "output_type": "stream",
     "text": [
      "[WDM] - ====== WebDriver manager ======\n",
      "[WDM] - Current google-chrome version is 103.0.5060\n",
      "[WDM] - Get LATEST chromedriver version for 103.0.5060 google-chrome\n",
      "[WDM] - Driver [C:\\Users\\jvaym\\.wdm\\drivers\\chromedriver\\win32\\103.0.5060.53\\chromedriver.exe] found in cache\n"
     ]
    },
    {
     "name": "stdout",
     "output_type": "stream",
     "text": [
      "\n"
     ]
    },
    {
     "name": "stderr",
     "output_type": "stream",
     "text": [
      "[WDM] - ====== WebDriver manager ======\n",
      "[WDM] - Current google-chrome version is 103.0.5060\n",
      "[WDM] - Get LATEST chromedriver version for 103.0.5060 google-chrome\n",
      "[WDM] - Driver [C:\\Users\\jvaym\\.wdm\\drivers\\chromedriver\\win32\\103.0.5060.53\\chromedriver.exe] found in cache\n"
     ]
    },
    {
     "name": "stdout",
     "output_type": "stream",
     "text": [
      "\n"
     ]
    },
    {
     "name": "stderr",
     "output_type": "stream",
     "text": [
      "[WDM] - ====== WebDriver manager ======\n",
      "[WDM] - Current google-chrome version is 103.0.5060\n",
      "[WDM] - Get LATEST chromedriver version for 103.0.5060 google-chrome\n",
      "[WDM] - Driver [C:\\Users\\jvaym\\.wdm\\drivers\\chromedriver\\win32\\103.0.5060.53\\chromedriver.exe] found in cache\n"
     ]
    },
    {
     "name": "stdout",
     "output_type": "stream",
     "text": [
      "\n"
     ]
    },
    {
     "name": "stderr",
     "output_type": "stream",
     "text": [
      "[WDM] - ====== WebDriver manager ======\n",
      "[WDM] - Current google-chrome version is 103.0.5060\n",
      "[WDM] - Get LATEST chromedriver version for 103.0.5060 google-chrome\n",
      "[WDM] - Driver [C:\\Users\\jvaym\\.wdm\\drivers\\chromedriver\\win32\\103.0.5060.53\\chromedriver.exe] found in cache\n"
     ]
    },
    {
     "name": "stdout",
     "output_type": "stream",
     "text": [
      "\n"
     ]
    },
    {
     "name": "stderr",
     "output_type": "stream",
     "text": [
      "[WDM] - ====== WebDriver manager ======\n",
      "[WDM] - Current google-chrome version is 103.0.5060\n",
      "[WDM] - Get LATEST chromedriver version for 103.0.5060 google-chrome\n",
      "[WDM] - Driver [C:\\Users\\jvaym\\.wdm\\drivers\\chromedriver\\win32\\103.0.5060.53\\chromedriver.exe] found in cache\n"
     ]
    },
    {
     "name": "stdout",
     "output_type": "stream",
     "text": [
      "\n"
     ]
    },
    {
     "name": "stderr",
     "output_type": "stream",
     "text": [
      "[WDM] - ====== WebDriver manager ======\n",
      "[WDM] - Current google-chrome version is 103.0.5060\n",
      "[WDM] - Get LATEST chromedriver version for 103.0.5060 google-chrome\n",
      "[WDM] - Driver [C:\\Users\\jvaym\\.wdm\\drivers\\chromedriver\\win32\\103.0.5060.53\\chromedriver.exe] found in cache\n"
     ]
    },
    {
     "name": "stdout",
     "output_type": "stream",
     "text": [
      "\n"
     ]
    },
    {
     "name": "stderr",
     "output_type": "stream",
     "text": [
      "[WDM] - ====== WebDriver manager ======\n",
      "[WDM] - Current google-chrome version is 103.0.5060\n",
      "[WDM] - Get LATEST chromedriver version for 103.0.5060 google-chrome\n",
      "[WDM] - Driver [C:\\Users\\jvaym\\.wdm\\drivers\\chromedriver\\win32\\103.0.5060.53\\chromedriver.exe] found in cache\n"
     ]
    },
    {
     "name": "stdout",
     "output_type": "stream",
     "text": [
      "\n"
     ]
    },
    {
     "name": "stderr",
     "output_type": "stream",
     "text": [
      "[WDM] - ====== WebDriver manager ======\n",
      "[WDM] - Current google-chrome version is 103.0.5060\n",
      "[WDM] - Get LATEST chromedriver version for 103.0.5060 google-chrome\n",
      "[WDM] - Driver [C:\\Users\\jvaym\\.wdm\\drivers\\chromedriver\\win32\\103.0.5060.53\\chromedriver.exe] found in cache\n"
     ]
    },
    {
     "name": "stdout",
     "output_type": "stream",
     "text": [
      "\n"
     ]
    },
    {
     "name": "stderr",
     "output_type": "stream",
     "text": [
      "[WDM] - ====== WebDriver manager ======\n",
      "[WDM] - Current google-chrome version is 103.0.5060\n",
      "[WDM] - Get LATEST chromedriver version for 103.0.5060 google-chrome\n",
      "[WDM] - Driver [C:\\Users\\jvaym\\.wdm\\drivers\\chromedriver\\win32\\103.0.5060.53\\chromedriver.exe] found in cache\n"
     ]
    },
    {
     "name": "stdout",
     "output_type": "stream",
     "text": [
      "\n"
     ]
    },
    {
     "name": "stderr",
     "output_type": "stream",
     "text": [
      "[WDM] - ====== WebDriver manager ======\n",
      "[WDM] - Current google-chrome version is 103.0.5060\n",
      "[WDM] - Get LATEST chromedriver version for 103.0.5060 google-chrome\n",
      "[WDM] - Driver [C:\\Users\\jvaym\\.wdm\\drivers\\chromedriver\\win32\\103.0.5060.53\\chromedriver.exe] found in cache\n"
     ]
    },
    {
     "name": "stdout",
     "output_type": "stream",
     "text": [
      "\n"
     ]
    },
    {
     "name": "stderr",
     "output_type": "stream",
     "text": [
      "[WDM] - ====== WebDriver manager ======\n",
      "[WDM] - Current google-chrome version is 103.0.5060\n",
      "[WDM] - Get LATEST chromedriver version for 103.0.5060 google-chrome\n",
      "[WDM] - Driver [C:\\Users\\jvaym\\.wdm\\drivers\\chromedriver\\win32\\103.0.5060.53\\chromedriver.exe] found in cache\n"
     ]
    },
    {
     "name": "stdout",
     "output_type": "stream",
     "text": [
      "\n"
     ]
    },
    {
     "name": "stderr",
     "output_type": "stream",
     "text": [
      "[WDM] - ====== WebDriver manager ======\n",
      "[WDM] - Current google-chrome version is 103.0.5060\n",
      "[WDM] - Get LATEST chromedriver version for 103.0.5060 google-chrome\n",
      "[WDM] - Driver [C:\\Users\\jvaym\\.wdm\\drivers\\chromedriver\\win32\\103.0.5060.53\\chromedriver.exe] found in cache\n"
     ]
    },
    {
     "name": "stdout",
     "output_type": "stream",
     "text": [
      "\n"
     ]
    },
    {
     "name": "stderr",
     "output_type": "stream",
     "text": [
      "[WDM] - ====== WebDriver manager ======\n",
      "[WDM] - Current google-chrome version is 103.0.5060\n",
      "[WDM] - Get LATEST chromedriver version for 103.0.5060 google-chrome\n",
      "[WDM] - Driver [C:\\Users\\jvaym\\.wdm\\drivers\\chromedriver\\win32\\103.0.5060.53\\chromedriver.exe] found in cache\n"
     ]
    },
    {
     "name": "stdout",
     "output_type": "stream",
     "text": [
      "\n"
     ]
    },
    {
     "name": "stderr",
     "output_type": "stream",
     "text": [
      "[WDM] - ====== WebDriver manager ======\n",
      "[WDM] - Current google-chrome version is 103.0.5060\n",
      "[WDM] - Get LATEST chromedriver version for 103.0.5060 google-chrome\n",
      "[WDM] - Driver [C:\\Users\\jvaym\\.wdm\\drivers\\chromedriver\\win32\\103.0.5060.53\\chromedriver.exe] found in cache\n"
     ]
    },
    {
     "name": "stdout",
     "output_type": "stream",
     "text": [
      "\n"
     ]
    },
    {
     "name": "stderr",
     "output_type": "stream",
     "text": [
      "[WDM] - ====== WebDriver manager ======\n",
      "[WDM] - Current google-chrome version is 103.0.5060\n",
      "[WDM] - Get LATEST chromedriver version for 103.0.5060 google-chrome\n",
      "[WDM] - Driver [C:\\Users\\jvaym\\.wdm\\drivers\\chromedriver\\win32\\103.0.5060.53\\chromedriver.exe] found in cache\n"
     ]
    },
    {
     "name": "stdout",
     "output_type": "stream",
     "text": [
      "\n"
     ]
    },
    {
     "name": "stderr",
     "output_type": "stream",
     "text": [
      "[WDM] - ====== WebDriver manager ======\n",
      "[WDM] - Current google-chrome version is 103.0.5060\n",
      "[WDM] - Get LATEST chromedriver version for 103.0.5060 google-chrome\n",
      "[WDM] - Driver [C:\\Users\\jvaym\\.wdm\\drivers\\chromedriver\\win32\\103.0.5060.53\\chromedriver.exe] found in cache\n"
     ]
    },
    {
     "name": "stdout",
     "output_type": "stream",
     "text": [
      "\n"
     ]
    },
    {
     "name": "stderr",
     "output_type": "stream",
     "text": [
      "[WDM] - ====== WebDriver manager ======\n",
      "[WDM] - Current google-chrome version is 103.0.5060\n",
      "[WDM] - Get LATEST chromedriver version for 103.0.5060 google-chrome\n",
      "[WDM] - Driver [C:\\Users\\jvaym\\.wdm\\drivers\\chromedriver\\win32\\103.0.5060.53\\chromedriver.exe] found in cache\n"
     ]
    },
    {
     "name": "stdout",
     "output_type": "stream",
     "text": [
      "\n"
     ]
    },
    {
     "name": "stderr",
     "output_type": "stream",
     "text": [
      "[WDM] - ====== WebDriver manager ======\n",
      "[WDM] - Current google-chrome version is 103.0.5060\n",
      "[WDM] - Get LATEST chromedriver version for 103.0.5060 google-chrome\n",
      "[WDM] - Driver [C:\\Users\\jvaym\\.wdm\\drivers\\chromedriver\\win32\\103.0.5060.53\\chromedriver.exe] found in cache\n"
     ]
    },
    {
     "name": "stdout",
     "output_type": "stream",
     "text": [
      "\n"
     ]
    },
    {
     "name": "stderr",
     "output_type": "stream",
     "text": [
      "[WDM] - ====== WebDriver manager ======\n",
      "[WDM] - Current google-chrome version is 103.0.5060\n",
      "[WDM] - Get LATEST chromedriver version for 103.0.5060 google-chrome\n",
      "[WDM] - Driver [C:\\Users\\jvaym\\.wdm\\drivers\\chromedriver\\win32\\103.0.5060.53\\chromedriver.exe] found in cache\n"
     ]
    },
    {
     "name": "stdout",
     "output_type": "stream",
     "text": [
      "\n"
     ]
    },
    {
     "name": "stderr",
     "output_type": "stream",
     "text": [
      "[WDM] - ====== WebDriver manager ======\n",
      "[WDM] - Current google-chrome version is 103.0.5060\n",
      "[WDM] - Get LATEST chromedriver version for 103.0.5060 google-chrome\n",
      "[WDM] - Driver [C:\\Users\\jvaym\\.wdm\\drivers\\chromedriver\\win32\\103.0.5060.53\\chromedriver.exe] found in cache\n"
     ]
    },
    {
     "name": "stdout",
     "output_type": "stream",
     "text": [
      "\n"
     ]
    },
    {
     "name": "stderr",
     "output_type": "stream",
     "text": [
      "[WDM] - ====== WebDriver manager ======\n",
      "[WDM] - Current google-chrome version is 103.0.5060\n",
      "[WDM] - Get LATEST chromedriver version for 103.0.5060 google-chrome\n",
      "[WDM] - Driver [C:\\Users\\jvaym\\.wdm\\drivers\\chromedriver\\win32\\103.0.5060.53\\chromedriver.exe] found in cache\n"
     ]
    },
    {
     "name": "stdout",
     "output_type": "stream",
     "text": [
      "\n"
     ]
    },
    {
     "name": "stderr",
     "output_type": "stream",
     "text": [
      "[WDM] - ====== WebDriver manager ======\n",
      "[WDM] - Current google-chrome version is 103.0.5060\n",
      "[WDM] - Get LATEST chromedriver version for 103.0.5060 google-chrome\n",
      "[WDM] - Driver [C:\\Users\\jvaym\\.wdm\\drivers\\chromedriver\\win32\\103.0.5060.53\\chromedriver.exe] found in cache\n"
     ]
    },
    {
     "name": "stdout",
     "output_type": "stream",
     "text": [
      "\n"
     ]
    },
    {
     "name": "stderr",
     "output_type": "stream",
     "text": [
      "[WDM] - ====== WebDriver manager ======\n",
      "[WDM] - Current google-chrome version is 103.0.5060\n",
      "[WDM] - Get LATEST chromedriver version for 103.0.5060 google-chrome\n",
      "[WDM] - Driver [C:\\Users\\jvaym\\.wdm\\drivers\\chromedriver\\win32\\103.0.5060.53\\chromedriver.exe] found in cache\n"
     ]
    },
    {
     "name": "stdout",
     "output_type": "stream",
     "text": [
      "\n"
     ]
    },
    {
     "name": "stderr",
     "output_type": "stream",
     "text": [
      "[WDM] - ====== WebDriver manager ======\n",
      "[WDM] - Current google-chrome version is 103.0.5060\n",
      "[WDM] - Get LATEST chromedriver version for 103.0.5060 google-chrome\n",
      "[WDM] - Driver [C:\\Users\\jvaym\\.wdm\\drivers\\chromedriver\\win32\\103.0.5060.53\\chromedriver.exe] found in cache\n"
     ]
    },
    {
     "name": "stdout",
     "output_type": "stream",
     "text": [
      "\n"
     ]
    },
    {
     "name": "stderr",
     "output_type": "stream",
     "text": [
      "[WDM] - ====== WebDriver manager ======\n",
      "[WDM] - Current google-chrome version is 103.0.5060\n",
      "[WDM] - Get LATEST chromedriver version for 103.0.5060 google-chrome\n",
      "[WDM] - Driver [C:\\Users\\jvaym\\.wdm\\drivers\\chromedriver\\win32\\103.0.5060.53\\chromedriver.exe] found in cache\n"
     ]
    },
    {
     "name": "stdout",
     "output_type": "stream",
     "text": [
      "\n"
     ]
    },
    {
     "name": "stderr",
     "output_type": "stream",
     "text": [
      "[WDM] - ====== WebDriver manager ======\n",
      "[WDM] - Current google-chrome version is 103.0.5060\n",
      "[WDM] - Get LATEST chromedriver version for 103.0.5060 google-chrome\n",
      "[WDM] - Driver [C:\\Users\\jvaym\\.wdm\\drivers\\chromedriver\\win32\\103.0.5060.53\\chromedriver.exe] found in cache\n"
     ]
    },
    {
     "name": "stdout",
     "output_type": "stream",
     "text": [
      "\n"
     ]
    },
    {
     "name": "stderr",
     "output_type": "stream",
     "text": [
      "[WDM] - ====== WebDriver manager ======\n",
      "[WDM] - Current google-chrome version is 103.0.5060\n",
      "[WDM] - Get LATEST chromedriver version for 103.0.5060 google-chrome\n",
      "[WDM] - Driver [C:\\Users\\jvaym\\.wdm\\drivers\\chromedriver\\win32\\103.0.5060.53\\chromedriver.exe] found in cache\n"
     ]
    },
    {
     "name": "stdout",
     "output_type": "stream",
     "text": [
      "\n"
     ]
    },
    {
     "name": "stderr",
     "output_type": "stream",
     "text": [
      "[WDM] - ====== WebDriver manager ======\n",
      "[WDM] - Current google-chrome version is 103.0.5060\n",
      "[WDM] - Get LATEST chromedriver version for 103.0.5060 google-chrome\n",
      "[WDM] - Driver [C:\\Users\\jvaym\\.wdm\\drivers\\chromedriver\\win32\\103.0.5060.53\\chromedriver.exe] found in cache\n"
     ]
    },
    {
     "name": "stdout",
     "output_type": "stream",
     "text": [
      "\n"
     ]
    },
    {
     "name": "stderr",
     "output_type": "stream",
     "text": [
      "[WDM] - ====== WebDriver manager ======\n",
      "[WDM] - Current google-chrome version is 103.0.5060\n",
      "[WDM] - Get LATEST chromedriver version for 103.0.5060 google-chrome\n",
      "[WDM] - Driver [C:\\Users\\jvaym\\.wdm\\drivers\\chromedriver\\win32\\103.0.5060.53\\chromedriver.exe] found in cache\n"
     ]
    },
    {
     "name": "stdout",
     "output_type": "stream",
     "text": [
      "\n"
     ]
    },
    {
     "name": "stderr",
     "output_type": "stream",
     "text": [
      "[WDM] - ====== WebDriver manager ======\n",
      "[WDM] - Current google-chrome version is 103.0.5060\n",
      "[WDM] - Get LATEST chromedriver version for 103.0.5060 google-chrome\n",
      "[WDM] - Driver [C:\\Users\\jvaym\\.wdm\\drivers\\chromedriver\\win32\\103.0.5060.53\\chromedriver.exe] found in cache\n"
     ]
    },
    {
     "name": "stdout",
     "output_type": "stream",
     "text": [
      "\n"
     ]
    },
    {
     "name": "stderr",
     "output_type": "stream",
     "text": [
      "[WDM] - ====== WebDriver manager ======\n",
      "[WDM] - Current google-chrome version is 103.0.5060\n",
      "[WDM] - Get LATEST chromedriver version for 103.0.5060 google-chrome\n",
      "[WDM] - Driver [C:\\Users\\jvaym\\.wdm\\drivers\\chromedriver\\win32\\103.0.5060.53\\chromedriver.exe] found in cache\n"
     ]
    },
    {
     "name": "stdout",
     "output_type": "stream",
     "text": [
      "\n"
     ]
    },
    {
     "name": "stderr",
     "output_type": "stream",
     "text": [
      "[WDM] - ====== WebDriver manager ======\n",
      "[WDM] - Current google-chrome version is 103.0.5060\n",
      "[WDM] - Get LATEST chromedriver version for 103.0.5060 google-chrome\n",
      "[WDM] - Driver [C:\\Users\\jvaym\\.wdm\\drivers\\chromedriver\\win32\\103.0.5060.53\\chromedriver.exe] found in cache\n"
     ]
    },
    {
     "name": "stdout",
     "output_type": "stream",
     "text": [
      "\n"
     ]
    },
    {
     "name": "stderr",
     "output_type": "stream",
     "text": [
      "[WDM] - ====== WebDriver manager ======\n",
      "[WDM] - Current google-chrome version is 103.0.5060\n",
      "[WDM] - Get LATEST chromedriver version for 103.0.5060 google-chrome\n",
      "[WDM] - Driver [C:\\Users\\jvaym\\.wdm\\drivers\\chromedriver\\win32\\103.0.5060.53\\chromedriver.exe] found in cache\n"
     ]
    },
    {
     "name": "stdout",
     "output_type": "stream",
     "text": [
      "\n"
     ]
    },
    {
     "name": "stderr",
     "output_type": "stream",
     "text": [
      "[WDM] - ====== WebDriver manager ======\n",
      "[WDM] - Current google-chrome version is 103.0.5060\n",
      "[WDM] - Get LATEST chromedriver version for 103.0.5060 google-chrome\n",
      "[WDM] - Driver [C:\\Users\\jvaym\\.wdm\\drivers\\chromedriver\\win32\\103.0.5060.53\\chromedriver.exe] found in cache\n"
     ]
    },
    {
     "name": "stdout",
     "output_type": "stream",
     "text": [
      "\n"
     ]
    },
    {
     "name": "stderr",
     "output_type": "stream",
     "text": [
      "[WDM] - ====== WebDriver manager ======\n",
      "[WDM] - Current google-chrome version is 103.0.5060\n",
      "[WDM] - Get LATEST chromedriver version for 103.0.5060 google-chrome\n",
      "[WDM] - Driver [C:\\Users\\jvaym\\.wdm\\drivers\\chromedriver\\win32\\103.0.5060.53\\chromedriver.exe] found in cache\n"
     ]
    },
    {
     "name": "stdout",
     "output_type": "stream",
     "text": [
      "\n"
     ]
    },
    {
     "name": "stderr",
     "output_type": "stream",
     "text": [
      "[WDM] - ====== WebDriver manager ======\n",
      "[WDM] - Current google-chrome version is 103.0.5060\n",
      "[WDM] - Get LATEST chromedriver version for 103.0.5060 google-chrome\n",
      "[WDM] - Driver [C:\\Users\\jvaym\\.wdm\\drivers\\chromedriver\\win32\\103.0.5060.53\\chromedriver.exe] found in cache\n"
     ]
    },
    {
     "name": "stdout",
     "output_type": "stream",
     "text": [
      "\n"
     ]
    },
    {
     "name": "stderr",
     "output_type": "stream",
     "text": [
      "[WDM] - ====== WebDriver manager ======\n",
      "[WDM] - Current google-chrome version is 103.0.5060\n",
      "[WDM] - Get LATEST chromedriver version for 103.0.5060 google-chrome\n",
      "[WDM] - Driver [C:\\Users\\jvaym\\.wdm\\drivers\\chromedriver\\win32\\103.0.5060.53\\chromedriver.exe] found in cache\n"
     ]
    },
    {
     "name": "stdout",
     "output_type": "stream",
     "text": [
      "\n"
     ]
    },
    {
     "name": "stderr",
     "output_type": "stream",
     "text": [
      "[WDM] - ====== WebDriver manager ======\n",
      "[WDM] - Current google-chrome version is 103.0.5060\n",
      "[WDM] - Get LATEST chromedriver version for 103.0.5060 google-chrome\n",
      "[WDM] - Driver [C:\\Users\\jvaym\\.wdm\\drivers\\chromedriver\\win32\\103.0.5060.53\\chromedriver.exe] found in cache\n"
     ]
    },
    {
     "name": "stdout",
     "output_type": "stream",
     "text": [
      "\n"
     ]
    },
    {
     "name": "stderr",
     "output_type": "stream",
     "text": [
      "[WDM] - ====== WebDriver manager ======\n",
      "[WDM] - Current google-chrome version is 103.0.5060\n",
      "[WDM] - Get LATEST chromedriver version for 103.0.5060 google-chrome\n",
      "[WDM] - Driver [C:\\Users\\jvaym\\.wdm\\drivers\\chromedriver\\win32\\103.0.5060.53\\chromedriver.exe] found in cache\n"
     ]
    },
    {
     "name": "stdout",
     "output_type": "stream",
     "text": [
      "\n"
     ]
    },
    {
     "name": "stderr",
     "output_type": "stream",
     "text": [
      "[WDM] - ====== WebDriver manager ======\n",
      "[WDM] - Current google-chrome version is 103.0.5060\n",
      "[WDM] - Get LATEST chromedriver version for 103.0.5060 google-chrome\n",
      "[WDM] - Driver [C:\\Users\\jvaym\\.wdm\\drivers\\chromedriver\\win32\\103.0.5060.53\\chromedriver.exe] found in cache\n"
     ]
    },
    {
     "name": "stdout",
     "output_type": "stream",
     "text": [
      "\n"
     ]
    },
    {
     "name": "stderr",
     "output_type": "stream",
     "text": [
      "[WDM] - ====== WebDriver manager ======\n",
      "[WDM] - Current google-chrome version is 103.0.5060\n",
      "[WDM] - Get LATEST chromedriver version for 103.0.5060 google-chrome\n",
      "[WDM] - Driver [C:\\Users\\jvaym\\.wdm\\drivers\\chromedriver\\win32\\103.0.5060.53\\chromedriver.exe] found in cache\n"
     ]
    },
    {
     "name": "stdout",
     "output_type": "stream",
     "text": [
      "\n"
     ]
    },
    {
     "name": "stderr",
     "output_type": "stream",
     "text": [
      "[WDM] - ====== WebDriver manager ======\n",
      "[WDM] - Current google-chrome version is 103.0.5060\n",
      "[WDM] - Get LATEST chromedriver version for 103.0.5060 google-chrome\n",
      "[WDM] - Driver [C:\\Users\\jvaym\\.wdm\\drivers\\chromedriver\\win32\\103.0.5060.53\\chromedriver.exe] found in cache\n"
     ]
    },
    {
     "name": "stdout",
     "output_type": "stream",
     "text": [
      "\n"
     ]
    },
    {
     "name": "stderr",
     "output_type": "stream",
     "text": [
      "[WDM] - ====== WebDriver manager ======\n",
      "[WDM] - Current google-chrome version is 103.0.5060\n",
      "[WDM] - Get LATEST chromedriver version for 103.0.5060 google-chrome\n",
      "[WDM] - Driver [C:\\Users\\jvaym\\.wdm\\drivers\\chromedriver\\win32\\103.0.5060.53\\chromedriver.exe] found in cache\n"
     ]
    },
    {
     "name": "stdout",
     "output_type": "stream",
     "text": [
      "\n"
     ]
    },
    {
     "name": "stderr",
     "output_type": "stream",
     "text": [
      "[WDM] - ====== WebDriver manager ======\n",
      "[WDM] - Current google-chrome version is 103.0.5060\n",
      "[WDM] - Get LATEST chromedriver version for 103.0.5060 google-chrome\n",
      "[WDM] - Driver [C:\\Users\\jvaym\\.wdm\\drivers\\chromedriver\\win32\\103.0.5060.53\\chromedriver.exe] found in cache\n"
     ]
    },
    {
     "name": "stdout",
     "output_type": "stream",
     "text": [
      "\n"
     ]
    },
    {
     "name": "stderr",
     "output_type": "stream",
     "text": [
      "[WDM] - ====== WebDriver manager ======\n",
      "[WDM] - Current google-chrome version is 103.0.5060\n",
      "[WDM] - Get LATEST chromedriver version for 103.0.5060 google-chrome\n",
      "[WDM] - Driver [C:\\Users\\jvaym\\.wdm\\drivers\\chromedriver\\win32\\103.0.5060.53\\chromedriver.exe] found in cache\n"
     ]
    },
    {
     "name": "stdout",
     "output_type": "stream",
     "text": [
      "\n"
     ]
    },
    {
     "name": "stderr",
     "output_type": "stream",
     "text": [
      "[WDM] - ====== WebDriver manager ======\n",
      "[WDM] - Current google-chrome version is 103.0.5060\n",
      "[WDM] - Get LATEST chromedriver version for 103.0.5060 google-chrome\n",
      "[WDM] - Driver [C:\\Users\\jvaym\\.wdm\\drivers\\chromedriver\\win32\\103.0.5060.53\\chromedriver.exe] found in cache\n"
     ]
    },
    {
     "name": "stdout",
     "output_type": "stream",
     "text": [
      "\n"
     ]
    },
    {
     "name": "stderr",
     "output_type": "stream",
     "text": [
      "[WDM] - ====== WebDriver manager ======\n",
      "[WDM] - Current google-chrome version is 103.0.5060\n",
      "[WDM] - Get LATEST chromedriver version for 103.0.5060 google-chrome\n",
      "[WDM] - Driver [C:\\Users\\jvaym\\.wdm\\drivers\\chromedriver\\win32\\103.0.5060.53\\chromedriver.exe] found in cache\n"
     ]
    },
    {
     "name": "stdout",
     "output_type": "stream",
     "text": [
      "\n"
     ]
    },
    {
     "name": "stderr",
     "output_type": "stream",
     "text": [
      "[WDM] - ====== WebDriver manager ======\n",
      "[WDM] - Current google-chrome version is 103.0.5060\n",
      "[WDM] - Get LATEST chromedriver version for 103.0.5060 google-chrome\n",
      "[WDM] - Driver [C:\\Users\\jvaym\\.wdm\\drivers\\chromedriver\\win32\\103.0.5060.53\\chromedriver.exe] found in cache\n"
     ]
    },
    {
     "name": "stdout",
     "output_type": "stream",
     "text": [
      "\n"
     ]
    },
    {
     "name": "stderr",
     "output_type": "stream",
     "text": [
      "[WDM] - ====== WebDriver manager ======\n",
      "[WDM] - Current google-chrome version is 103.0.5060\n",
      "[WDM] - Get LATEST chromedriver version for 103.0.5060 google-chrome\n",
      "[WDM] - Driver [C:\\Users\\jvaym\\.wdm\\drivers\\chromedriver\\win32\\103.0.5060.53\\chromedriver.exe] found in cache\n"
     ]
    },
    {
     "name": "stdout",
     "output_type": "stream",
     "text": [
      "\n"
     ]
    },
    {
     "name": "stderr",
     "output_type": "stream",
     "text": [
      "[WDM] - ====== WebDriver manager ======\n",
      "[WDM] - Current google-chrome version is 103.0.5060\n",
      "[WDM] - Get LATEST chromedriver version for 103.0.5060 google-chrome\n",
      "[WDM] - Driver [C:\\Users\\jvaym\\.wdm\\drivers\\chromedriver\\win32\\103.0.5060.53\\chromedriver.exe] found in cache\n"
     ]
    },
    {
     "name": "stdout",
     "output_type": "stream",
     "text": [
      "\n"
     ]
    },
    {
     "name": "stderr",
     "output_type": "stream",
     "text": [
      "[WDM] - ====== WebDriver manager ======\n",
      "[WDM] - Current google-chrome version is 103.0.5060\n",
      "[WDM] - Get LATEST chromedriver version for 103.0.5060 google-chrome\n",
      "[WDM] - Driver [C:\\Users\\jvaym\\.wdm\\drivers\\chromedriver\\win32\\103.0.5060.53\\chromedriver.exe] found in cache\n"
     ]
    },
    {
     "name": "stdout",
     "output_type": "stream",
     "text": [
      "\n"
     ]
    },
    {
     "name": "stderr",
     "output_type": "stream",
     "text": [
      "[WDM] - ====== WebDriver manager ======\n",
      "[WDM] - Current google-chrome version is 103.0.5060\n",
      "[WDM] - Get LATEST chromedriver version for 103.0.5060 google-chrome\n",
      "[WDM] - Driver [C:\\Users\\jvaym\\.wdm\\drivers\\chromedriver\\win32\\103.0.5060.53\\chromedriver.exe] found in cache\n"
     ]
    },
    {
     "name": "stdout",
     "output_type": "stream",
     "text": [
      "\n"
     ]
    },
    {
     "name": "stderr",
     "output_type": "stream",
     "text": [
      "[WDM] - ====== WebDriver manager ======\n",
      "[WDM] - Current google-chrome version is 103.0.5060\n",
      "[WDM] - Get LATEST chromedriver version for 103.0.5060 google-chrome\n",
      "[WDM] - Driver [C:\\Users\\jvaym\\.wdm\\drivers\\chromedriver\\win32\\103.0.5060.53\\chromedriver.exe] found in cache\n"
     ]
    },
    {
     "name": "stdout",
     "output_type": "stream",
     "text": [
      "\n"
     ]
    },
    {
     "name": "stderr",
     "output_type": "stream",
     "text": [
      "[WDM] - ====== WebDriver manager ======\n",
      "[WDM] - Current google-chrome version is 103.0.5060\n",
      "[WDM] - Get LATEST chromedriver version for 103.0.5060 google-chrome\n",
      "[WDM] - Driver [C:\\Users\\jvaym\\.wdm\\drivers\\chromedriver\\win32\\103.0.5060.53\\chromedriver.exe] found in cache\n"
     ]
    },
    {
     "name": "stdout",
     "output_type": "stream",
     "text": [
      "\n"
     ]
    },
    {
     "name": "stderr",
     "output_type": "stream",
     "text": [
      "[WDM] - ====== WebDriver manager ======\n",
      "[WDM] - Current google-chrome version is 103.0.5060\n",
      "[WDM] - Get LATEST chromedriver version for 103.0.5060 google-chrome\n",
      "[WDM] - Driver [C:\\Users\\jvaym\\.wdm\\drivers\\chromedriver\\win32\\103.0.5060.53\\chromedriver.exe] found in cache\n"
     ]
    },
    {
     "name": "stdout",
     "output_type": "stream",
     "text": [
      "\n"
     ]
    },
    {
     "name": "stderr",
     "output_type": "stream",
     "text": [
      "[WDM] - ====== WebDriver manager ======\n",
      "[WDM] - Current google-chrome version is 103.0.5060\n",
      "[WDM] - Get LATEST chromedriver version for 103.0.5060 google-chrome\n",
      "[WDM] - Driver [C:\\Users\\jvaym\\.wdm\\drivers\\chromedriver\\win32\\103.0.5060.53\\chromedriver.exe] found in cache\n"
     ]
    },
    {
     "name": "stdout",
     "output_type": "stream",
     "text": [
      "\n"
     ]
    },
    {
     "name": "stderr",
     "output_type": "stream",
     "text": [
      "[WDM] - ====== WebDriver manager ======\n",
      "[WDM] - Current google-chrome version is 103.0.5060\n",
      "[WDM] - Get LATEST chromedriver version for 103.0.5060 google-chrome\n",
      "[WDM] - Driver [C:\\Users\\jvaym\\.wdm\\drivers\\chromedriver\\win32\\103.0.5060.53\\chromedriver.exe] found in cache\n"
     ]
    },
    {
     "name": "stdout",
     "output_type": "stream",
     "text": [
      "\n"
     ]
    },
    {
     "name": "stderr",
     "output_type": "stream",
     "text": [
      "[WDM] - ====== WebDriver manager ======\n",
      "[WDM] - Current google-chrome version is 103.0.5060\n",
      "[WDM] - Get LATEST chromedriver version for 103.0.5060 google-chrome\n",
      "[WDM] - Driver [C:\\Users\\jvaym\\.wdm\\drivers\\chromedriver\\win32\\103.0.5060.53\\chromedriver.exe] found in cache\n"
     ]
    },
    {
     "name": "stdout",
     "output_type": "stream",
     "text": [
      "\n"
     ]
    },
    {
     "name": "stderr",
     "output_type": "stream",
     "text": [
      "[WDM] - ====== WebDriver manager ======\n",
      "[WDM] - Current google-chrome version is 103.0.5060\n",
      "[WDM] - Get LATEST chromedriver version for 103.0.5060 google-chrome\n",
      "[WDM] - Driver [C:\\Users\\jvaym\\.wdm\\drivers\\chromedriver\\win32\\103.0.5060.53\\chromedriver.exe] found in cache\n"
     ]
    },
    {
     "name": "stdout",
     "output_type": "stream",
     "text": [
      "\n"
     ]
    },
    {
     "name": "stderr",
     "output_type": "stream",
     "text": [
      "[WDM] - ====== WebDriver manager ======\n",
      "[WDM] - Current google-chrome version is 103.0.5060\n",
      "[WDM] - Get LATEST chromedriver version for 103.0.5060 google-chrome\n",
      "[WDM] - Driver [C:\\Users\\jvaym\\.wdm\\drivers\\chromedriver\\win32\\103.0.5060.53\\chromedriver.exe] found in cache\n"
     ]
    },
    {
     "name": "stdout",
     "output_type": "stream",
     "text": [
      "\n"
     ]
    },
    {
     "name": "stderr",
     "output_type": "stream",
     "text": [
      "[WDM] - ====== WebDriver manager ======\n",
      "[WDM] - Current google-chrome version is 103.0.5060\n",
      "[WDM] - Get LATEST chromedriver version for 103.0.5060 google-chrome\n",
      "[WDM] - Driver [C:\\Users\\jvaym\\.wdm\\drivers\\chromedriver\\win32\\103.0.5060.53\\chromedriver.exe] found in cache\n"
     ]
    },
    {
     "name": "stdout",
     "output_type": "stream",
     "text": [
      "\n"
     ]
    },
    {
     "name": "stderr",
     "output_type": "stream",
     "text": [
      "[WDM] - ====== WebDriver manager ======\n",
      "[WDM] - Current google-chrome version is 103.0.5060\n",
      "[WDM] - Get LATEST chromedriver version for 103.0.5060 google-chrome\n",
      "[WDM] - Driver [C:\\Users\\jvaym\\.wdm\\drivers\\chromedriver\\win32\\103.0.5060.53\\chromedriver.exe] found in cache\n"
     ]
    },
    {
     "name": "stdout",
     "output_type": "stream",
     "text": [
      "\n"
     ]
    },
    {
     "name": "stderr",
     "output_type": "stream",
     "text": [
      "[WDM] - ====== WebDriver manager ======\n",
      "[WDM] - Current google-chrome version is 103.0.5060\n",
      "[WDM] - Get LATEST chromedriver version for 103.0.5060 google-chrome\n",
      "[WDM] - Driver [C:\\Users\\jvaym\\.wdm\\drivers\\chromedriver\\win32\\103.0.5060.53\\chromedriver.exe] found in cache\n"
     ]
    },
    {
     "name": "stdout",
     "output_type": "stream",
     "text": [
      "\n"
     ]
    },
    {
     "name": "stderr",
     "output_type": "stream",
     "text": [
      "[WDM] - ====== WebDriver manager ======\n",
      "[WDM] - Current google-chrome version is 103.0.5060\n",
      "[WDM] - Get LATEST chromedriver version for 103.0.5060 google-chrome\n",
      "[WDM] - Driver [C:\\Users\\jvaym\\.wdm\\drivers\\chromedriver\\win32\\103.0.5060.53\\chromedriver.exe] found in cache\n"
     ]
    },
    {
     "name": "stdout",
     "output_type": "stream",
     "text": [
      "\n"
     ]
    },
    {
     "name": "stderr",
     "output_type": "stream",
     "text": [
      "[WDM] - ====== WebDriver manager ======\n",
      "[WDM] - Current google-chrome version is 103.0.5060\n",
      "[WDM] - Get LATEST chromedriver version for 103.0.5060 google-chrome\n",
      "[WDM] - Driver [C:\\Users\\jvaym\\.wdm\\drivers\\chromedriver\\win32\\103.0.5060.53\\chromedriver.exe] found in cache\n"
     ]
    },
    {
     "name": "stdout",
     "output_type": "stream",
     "text": [
      "\n"
     ]
    },
    {
     "name": "stderr",
     "output_type": "stream",
     "text": [
      "[WDM] - ====== WebDriver manager ======\n",
      "[WDM] - Current google-chrome version is 103.0.5060\n",
      "[WDM] - Get LATEST chromedriver version for 103.0.5060 google-chrome\n",
      "[WDM] - Driver [C:\\Users\\jvaym\\.wdm\\drivers\\chromedriver\\win32\\103.0.5060.53\\chromedriver.exe] found in cache\n"
     ]
    },
    {
     "name": "stdout",
     "output_type": "stream",
     "text": [
      "\n"
     ]
    },
    {
     "name": "stderr",
     "output_type": "stream",
     "text": [
      "[WDM] - ====== WebDriver manager ======\n",
      "[WDM] - Current google-chrome version is 103.0.5060\n",
      "[WDM] - Get LATEST chromedriver version for 103.0.5060 google-chrome\n",
      "[WDM] - Driver [C:\\Users\\jvaym\\.wdm\\drivers\\chromedriver\\win32\\103.0.5060.53\\chromedriver.exe] found in cache\n"
     ]
    },
    {
     "name": "stdout",
     "output_type": "stream",
     "text": [
      "\n"
     ]
    },
    {
     "name": "stderr",
     "output_type": "stream",
     "text": [
      "[WDM] - ====== WebDriver manager ======\n",
      "[WDM] - Current google-chrome version is 103.0.5060\n",
      "[WDM] - Get LATEST chromedriver version for 103.0.5060 google-chrome\n",
      "[WDM] - Driver [C:\\Users\\jvaym\\.wdm\\drivers\\chromedriver\\win32\\103.0.5060.53\\chromedriver.exe] found in cache\n"
     ]
    },
    {
     "name": "stdout",
     "output_type": "stream",
     "text": [
      "\n"
     ]
    },
    {
     "name": "stderr",
     "output_type": "stream",
     "text": [
      "[WDM] - ====== WebDriver manager ======\n",
      "[WDM] - Current google-chrome version is 103.0.5060\n",
      "[WDM] - Get LATEST chromedriver version for 103.0.5060 google-chrome\n",
      "[WDM] - Driver [C:\\Users\\jvaym\\.wdm\\drivers\\chromedriver\\win32\\103.0.5060.53\\chromedriver.exe] found in cache\n"
     ]
    },
    {
     "name": "stdout",
     "output_type": "stream",
     "text": [
      "\n"
     ]
    },
    {
     "name": "stderr",
     "output_type": "stream",
     "text": [
      "[WDM] - ====== WebDriver manager ======\n",
      "[WDM] - Current google-chrome version is 103.0.5060\n",
      "[WDM] - Get LATEST chromedriver version for 103.0.5060 google-chrome\n",
      "[WDM] - Driver [C:\\Users\\jvaym\\.wdm\\drivers\\chromedriver\\win32\\103.0.5060.53\\chromedriver.exe] found in cache\n"
     ]
    },
    {
     "name": "stdout",
     "output_type": "stream",
     "text": [
      "\n"
     ]
    },
    {
     "name": "stderr",
     "output_type": "stream",
     "text": [
      "[WDM] - ====== WebDriver manager ======\n",
      "[WDM] - Current google-chrome version is 103.0.5060\n",
      "[WDM] - Get LATEST chromedriver version for 103.0.5060 google-chrome\n",
      "[WDM] - Driver [C:\\Users\\jvaym\\.wdm\\drivers\\chromedriver\\win32\\103.0.5060.53\\chromedriver.exe] found in cache\n"
     ]
    },
    {
     "name": "stdout",
     "output_type": "stream",
     "text": [
      "\n"
     ]
    },
    {
     "name": "stderr",
     "output_type": "stream",
     "text": [
      "[WDM] - ====== WebDriver manager ======\n",
      "[WDM] - Current google-chrome version is 103.0.5060\n",
      "[WDM] - Get LATEST chromedriver version for 103.0.5060 google-chrome\n",
      "[WDM] - Driver [C:\\Users\\jvaym\\.wdm\\drivers\\chromedriver\\win32\\103.0.5060.53\\chromedriver.exe] found in cache\n"
     ]
    },
    {
     "name": "stdout",
     "output_type": "stream",
     "text": [
      "\n"
     ]
    },
    {
     "name": "stderr",
     "output_type": "stream",
     "text": [
      "[WDM] - ====== WebDriver manager ======\n",
      "[WDM] - Current google-chrome version is 103.0.5060\n",
      "[WDM] - Get LATEST chromedriver version for 103.0.5060 google-chrome\n",
      "[WDM] - Driver [C:\\Users\\jvaym\\.wdm\\drivers\\chromedriver\\win32\\103.0.5060.53\\chromedriver.exe] found in cache\n"
     ]
    },
    {
     "name": "stdout",
     "output_type": "stream",
     "text": [
      "\n"
     ]
    },
    {
     "name": "stderr",
     "output_type": "stream",
     "text": [
      "[WDM] - ====== WebDriver manager ======\n",
      "[WDM] - Current google-chrome version is 103.0.5060\n",
      "[WDM] - Get LATEST chromedriver version for 103.0.5060 google-chrome\n",
      "[WDM] - Driver [C:\\Users\\jvaym\\.wdm\\drivers\\chromedriver\\win32\\103.0.5060.53\\chromedriver.exe] found in cache\n"
     ]
    },
    {
     "name": "stdout",
     "output_type": "stream",
     "text": [
      "\n"
     ]
    },
    {
     "name": "stderr",
     "output_type": "stream",
     "text": [
      "[WDM] - ====== WebDriver manager ======\n",
      "[WDM] - Current google-chrome version is 103.0.5060\n",
      "[WDM] - Get LATEST chromedriver version for 103.0.5060 google-chrome\n",
      "[WDM] - Driver [C:\\Users\\jvaym\\.wdm\\drivers\\chromedriver\\win32\\103.0.5060.53\\chromedriver.exe] found in cache\n"
     ]
    },
    {
     "name": "stdout",
     "output_type": "stream",
     "text": [
      "\n"
     ]
    },
    {
     "name": "stderr",
     "output_type": "stream",
     "text": [
      "[WDM] - ====== WebDriver manager ======\n",
      "[WDM] - Current google-chrome version is 103.0.5060\n",
      "[WDM] - Get LATEST chromedriver version for 103.0.5060 google-chrome\n",
      "[WDM] - Driver [C:\\Users\\jvaym\\.wdm\\drivers\\chromedriver\\win32\\103.0.5060.53\\chromedriver.exe] found in cache\n"
     ]
    },
    {
     "name": "stdout",
     "output_type": "stream",
     "text": [
      "\n"
     ]
    },
    {
     "name": "stderr",
     "output_type": "stream",
     "text": [
      "[WDM] - ====== WebDriver manager ======\n",
      "[WDM] - Current google-chrome version is 103.0.5060\n",
      "[WDM] - Get LATEST chromedriver version for 103.0.5060 google-chrome\n",
      "[WDM] - Driver [C:\\Users\\jvaym\\.wdm\\drivers\\chromedriver\\win32\\103.0.5060.53\\chromedriver.exe] found in cache\n"
     ]
    },
    {
     "name": "stdout",
     "output_type": "stream",
     "text": [
      "\n"
     ]
    },
    {
     "name": "stderr",
     "output_type": "stream",
     "text": [
      "[WDM] - ====== WebDriver manager ======\n",
      "[WDM] - Current google-chrome version is 103.0.5060\n",
      "[WDM] - Get LATEST chromedriver version for 103.0.5060 google-chrome\n",
      "[WDM] - Driver [C:\\Users\\jvaym\\.wdm\\drivers\\chromedriver\\win32\\103.0.5060.53\\chromedriver.exe] found in cache\n"
     ]
    },
    {
     "name": "stdout",
     "output_type": "stream",
     "text": [
      "\n"
     ]
    },
    {
     "name": "stderr",
     "output_type": "stream",
     "text": [
      "[WDM] - ====== WebDriver manager ======\n",
      "[WDM] - Current google-chrome version is 103.0.5060\n",
      "[WDM] - Get LATEST chromedriver version for 103.0.5060 google-chrome\n",
      "[WDM] - Driver [C:\\Users\\jvaym\\.wdm\\drivers\\chromedriver\\win32\\103.0.5060.53\\chromedriver.exe] found in cache\n"
     ]
    },
    {
     "name": "stdout",
     "output_type": "stream",
     "text": [
      "\n"
     ]
    },
    {
     "name": "stderr",
     "output_type": "stream",
     "text": [
      "[WDM] - ====== WebDriver manager ======\n",
      "[WDM] - Current google-chrome version is 103.0.5060\n",
      "[WDM] - Get LATEST chromedriver version for 103.0.5060 google-chrome\n",
      "[WDM] - Driver [C:\\Users\\jvaym\\.wdm\\drivers\\chromedriver\\win32\\103.0.5060.53\\chromedriver.exe] found in cache\n"
     ]
    },
    {
     "name": "stdout",
     "output_type": "stream",
     "text": [
      "\n"
     ]
    },
    {
     "name": "stderr",
     "output_type": "stream",
     "text": [
      "[WDM] - ====== WebDriver manager ======\n",
      "[WDM] - Current google-chrome version is 103.0.5060\n",
      "[WDM] - Get LATEST chromedriver version for 103.0.5060 google-chrome\n",
      "[WDM] - Driver [C:\\Users\\jvaym\\.wdm\\drivers\\chromedriver\\win32\\103.0.5060.53\\chromedriver.exe] found in cache\n"
     ]
    },
    {
     "name": "stdout",
     "output_type": "stream",
     "text": [
      "\n"
     ]
    },
    {
     "name": "stderr",
     "output_type": "stream",
     "text": [
      "[WDM] - ====== WebDriver manager ======\n",
      "[WDM] - Current google-chrome version is 103.0.5060\n",
      "[WDM] - Get LATEST chromedriver version for 103.0.5060 google-chrome\n",
      "[WDM] - Driver [C:\\Users\\jvaym\\.wdm\\drivers\\chromedriver\\win32\\103.0.5060.53\\chromedriver.exe] found in cache\n"
     ]
    },
    {
     "name": "stdout",
     "output_type": "stream",
     "text": [
      "\n"
     ]
    },
    {
     "name": "stderr",
     "output_type": "stream",
     "text": [
      "[WDM] - ====== WebDriver manager ======\n",
      "[WDM] - Current google-chrome version is 103.0.5060\n",
      "[WDM] - Get LATEST chromedriver version for 103.0.5060 google-chrome\n",
      "[WDM] - Driver [C:\\Users\\jvaym\\.wdm\\drivers\\chromedriver\\win32\\103.0.5060.53\\chromedriver.exe] found in cache\n"
     ]
    },
    {
     "name": "stdout",
     "output_type": "stream",
     "text": [
      "\n"
     ]
    },
    {
     "name": "stderr",
     "output_type": "stream",
     "text": [
      "[WDM] - ====== WebDriver manager ======\n",
      "[WDM] - Current google-chrome version is 103.0.5060\n",
      "[WDM] - Get LATEST chromedriver version for 103.0.5060 google-chrome\n",
      "[WDM] - Driver [C:\\Users\\jvaym\\.wdm\\drivers\\chromedriver\\win32\\103.0.5060.53\\chromedriver.exe] found in cache\n"
     ]
    },
    {
     "name": "stdout",
     "output_type": "stream",
     "text": [
      "\n"
     ]
    },
    {
     "name": "stderr",
     "output_type": "stream",
     "text": [
      "[WDM] - ====== WebDriver manager ======\n",
      "[WDM] - Current google-chrome version is 103.0.5060\n",
      "[WDM] - Get LATEST chromedriver version for 103.0.5060 google-chrome\n",
      "[WDM] - Driver [C:\\Users\\jvaym\\.wdm\\drivers\\chromedriver\\win32\\103.0.5060.53\\chromedriver.exe] found in cache\n"
     ]
    },
    {
     "name": "stdout",
     "output_type": "stream",
     "text": [
      "\n"
     ]
    },
    {
     "name": "stderr",
     "output_type": "stream",
     "text": [
      "[WDM] - ====== WebDriver manager ======\n",
      "[WDM] - Current google-chrome version is 103.0.5060\n",
      "[WDM] - Get LATEST chromedriver version for 103.0.5060 google-chrome\n",
      "[WDM] - Driver [C:\\Users\\jvaym\\.wdm\\drivers\\chromedriver\\win32\\103.0.5060.53\\chromedriver.exe] found in cache\n"
     ]
    },
    {
     "name": "stdout",
     "output_type": "stream",
     "text": [
      "\n"
     ]
    },
    {
     "name": "stderr",
     "output_type": "stream",
     "text": [
      "[WDM] - ====== WebDriver manager ======\n",
      "[WDM] - Current google-chrome version is 103.0.5060\n",
      "[WDM] - Get LATEST chromedriver version for 103.0.5060 google-chrome\n",
      "[WDM] - Driver [C:\\Users\\jvaym\\.wdm\\drivers\\chromedriver\\win32\\103.0.5060.53\\chromedriver.exe] found in cache\n"
     ]
    },
    {
     "name": "stdout",
     "output_type": "stream",
     "text": [
      "\n"
     ]
    },
    {
     "name": "stderr",
     "output_type": "stream",
     "text": [
      "[WDM] - ====== WebDriver manager ======\n",
      "[WDM] - Current google-chrome version is 103.0.5060\n",
      "[WDM] - Get LATEST chromedriver version for 103.0.5060 google-chrome\n",
      "[WDM] - Driver [C:\\Users\\jvaym\\.wdm\\drivers\\chromedriver\\win32\\103.0.5060.53\\chromedriver.exe] found in cache\n"
     ]
    },
    {
     "name": "stdout",
     "output_type": "stream",
     "text": [
      "\n"
     ]
    },
    {
     "name": "stderr",
     "output_type": "stream",
     "text": [
      "[WDM] - ====== WebDriver manager ======\n",
      "[WDM] - Current google-chrome version is 103.0.5060\n",
      "[WDM] - Get LATEST chromedriver version for 103.0.5060 google-chrome\n",
      "[WDM] - Driver [C:\\Users\\jvaym\\.wdm\\drivers\\chromedriver\\win32\\103.0.5060.53\\chromedriver.exe] found in cache\n"
     ]
    },
    {
     "name": "stdout",
     "output_type": "stream",
     "text": [
      "\n"
     ]
    },
    {
     "name": "stderr",
     "output_type": "stream",
     "text": [
      "[WDM] - ====== WebDriver manager ======\n",
      "[WDM] - Current google-chrome version is 103.0.5060\n",
      "[WDM] - Get LATEST chromedriver version for 103.0.5060 google-chrome\n",
      "[WDM] - Driver [C:\\Users\\jvaym\\.wdm\\drivers\\chromedriver\\win32\\103.0.5060.53\\chromedriver.exe] found in cache\n"
     ]
    },
    {
     "name": "stdout",
     "output_type": "stream",
     "text": [
      "\n"
     ]
    },
    {
     "name": "stderr",
     "output_type": "stream",
     "text": [
      "[WDM] - ====== WebDriver manager ======\n",
      "[WDM] - Current google-chrome version is 103.0.5060\n",
      "[WDM] - Get LATEST chromedriver version for 103.0.5060 google-chrome\n",
      "[WDM] - Driver [C:\\Users\\jvaym\\.wdm\\drivers\\chromedriver\\win32\\103.0.5060.53\\chromedriver.exe] found in cache\n"
     ]
    },
    {
     "name": "stdout",
     "output_type": "stream",
     "text": [
      "\n"
     ]
    },
    {
     "name": "stderr",
     "output_type": "stream",
     "text": [
      "[WDM] - ====== WebDriver manager ======\n",
      "[WDM] - Current google-chrome version is 103.0.5060\n",
      "[WDM] - Get LATEST chromedriver version for 103.0.5060 google-chrome\n",
      "[WDM] - Driver [C:\\Users\\jvaym\\.wdm\\drivers\\chromedriver\\win32\\103.0.5060.53\\chromedriver.exe] found in cache\n"
     ]
    },
    {
     "name": "stdout",
     "output_type": "stream",
     "text": [
      "\n"
     ]
    },
    {
     "name": "stderr",
     "output_type": "stream",
     "text": [
      "[WDM] - ====== WebDriver manager ======\n",
      "[WDM] - Current google-chrome version is 103.0.5060\n",
      "[WDM] - Get LATEST chromedriver version for 103.0.5060 google-chrome\n",
      "[WDM] - Driver [C:\\Users\\jvaym\\.wdm\\drivers\\chromedriver\\win32\\103.0.5060.53\\chromedriver.exe] found in cache\n"
     ]
    },
    {
     "name": "stdout",
     "output_type": "stream",
     "text": [
      "\n"
     ]
    },
    {
     "name": "stderr",
     "output_type": "stream",
     "text": [
      "[WDM] - ====== WebDriver manager ======\n",
      "[WDM] - Current google-chrome version is 103.0.5060\n",
      "[WDM] - Get LATEST chromedriver version for 103.0.5060 google-chrome\n",
      "[WDM] - Driver [C:\\Users\\jvaym\\.wdm\\drivers\\chromedriver\\win32\\103.0.5060.53\\chromedriver.exe] found in cache\n"
     ]
    },
    {
     "name": "stdout",
     "output_type": "stream",
     "text": [
      "\n"
     ]
    },
    {
     "name": "stderr",
     "output_type": "stream",
     "text": [
      "[WDM] - ====== WebDriver manager ======\n",
      "[WDM] - Current google-chrome version is 103.0.5060\n",
      "[WDM] - Get LATEST chromedriver version for 103.0.5060 google-chrome\n",
      "[WDM] - Driver [C:\\Users\\jvaym\\.wdm\\drivers\\chromedriver\\win32\\103.0.5060.53\\chromedriver.exe] found in cache\n"
     ]
    },
    {
     "name": "stdout",
     "output_type": "stream",
     "text": [
      "\n"
     ]
    },
    {
     "name": "stderr",
     "output_type": "stream",
     "text": [
      "[WDM] - ====== WebDriver manager ======\n",
      "[WDM] - Current google-chrome version is 103.0.5060\n",
      "[WDM] - Get LATEST chromedriver version for 103.0.5060 google-chrome\n",
      "[WDM] - Driver [C:\\Users\\jvaym\\.wdm\\drivers\\chromedriver\\win32\\103.0.5060.53\\chromedriver.exe] found in cache\n"
     ]
    },
    {
     "name": "stdout",
     "output_type": "stream",
     "text": [
      "\n"
     ]
    },
    {
     "name": "stderr",
     "output_type": "stream",
     "text": [
      "[WDM] - ====== WebDriver manager ======\n",
      "[WDM] - Current google-chrome version is 103.0.5060\n",
      "[WDM] - Get LATEST chromedriver version for 103.0.5060 google-chrome\n",
      "[WDM] - Driver [C:\\Users\\jvaym\\.wdm\\drivers\\chromedriver\\win32\\103.0.5060.53\\chromedriver.exe] found in cache\n"
     ]
    },
    {
     "name": "stdout",
     "output_type": "stream",
     "text": [
      "\n"
     ]
    },
    {
     "name": "stderr",
     "output_type": "stream",
     "text": [
      "[WDM] - ====== WebDriver manager ======\n",
      "[WDM] - Current google-chrome version is 103.0.5060\n",
      "[WDM] - Get LATEST chromedriver version for 103.0.5060 google-chrome\n",
      "[WDM] - Driver [C:\\Users\\jvaym\\.wdm\\drivers\\chromedriver\\win32\\103.0.5060.53\\chromedriver.exe] found in cache\n"
     ]
    },
    {
     "name": "stdout",
     "output_type": "stream",
     "text": [
      "\n"
     ]
    },
    {
     "name": "stderr",
     "output_type": "stream",
     "text": [
      "[WDM] - ====== WebDriver manager ======\n",
      "[WDM] - Current google-chrome version is 103.0.5060\n",
      "[WDM] - Get LATEST chromedriver version for 103.0.5060 google-chrome\n",
      "[WDM] - Driver [C:\\Users\\jvaym\\.wdm\\drivers\\chromedriver\\win32\\103.0.5060.53\\chromedriver.exe] found in cache\n"
     ]
    },
    {
     "name": "stdout",
     "output_type": "stream",
     "text": [
      "\n"
     ]
    },
    {
     "name": "stderr",
     "output_type": "stream",
     "text": [
      "[WDM] - ====== WebDriver manager ======\n",
      "[WDM] - Current google-chrome version is 103.0.5060\n",
      "[WDM] - Get LATEST chromedriver version for 103.0.5060 google-chrome\n",
      "[WDM] - Driver [C:\\Users\\jvaym\\.wdm\\drivers\\chromedriver\\win32\\103.0.5060.53\\chromedriver.exe] found in cache\n"
     ]
    },
    {
     "name": "stdout",
     "output_type": "stream",
     "text": [
      "\n"
     ]
    },
    {
     "name": "stderr",
     "output_type": "stream",
     "text": [
      "[WDM] - ====== WebDriver manager ======\n",
      "[WDM] - Current google-chrome version is 103.0.5060\n",
      "[WDM] - Get LATEST chromedriver version for 103.0.5060 google-chrome\n",
      "[WDM] - Driver [C:\\Users\\jvaym\\.wdm\\drivers\\chromedriver\\win32\\103.0.5060.53\\chromedriver.exe] found in cache\n"
     ]
    },
    {
     "name": "stdout",
     "output_type": "stream",
     "text": [
      "\n"
     ]
    },
    {
     "name": "stderr",
     "output_type": "stream",
     "text": [
      "[WDM] - ====== WebDriver manager ======\n",
      "[WDM] - Current google-chrome version is 103.0.5060\n",
      "[WDM] - Get LATEST chromedriver version for 103.0.5060 google-chrome\n",
      "[WDM] - Driver [C:\\Users\\jvaym\\.wdm\\drivers\\chromedriver\\win32\\103.0.5060.53\\chromedriver.exe] found in cache\n"
     ]
    },
    {
     "name": "stdout",
     "output_type": "stream",
     "text": [
      "\n"
     ]
    },
    {
     "name": "stderr",
     "output_type": "stream",
     "text": [
      "[WDM] - ====== WebDriver manager ======\n",
      "[WDM] - Current google-chrome version is 103.0.5060\n",
      "[WDM] - Get LATEST chromedriver version for 103.0.5060 google-chrome\n",
      "[WDM] - Driver [C:\\Users\\jvaym\\.wdm\\drivers\\chromedriver\\win32\\103.0.5060.53\\chromedriver.exe] found in cache\n"
     ]
    },
    {
     "name": "stdout",
     "output_type": "stream",
     "text": [
      "\n"
     ]
    },
    {
     "name": "stderr",
     "output_type": "stream",
     "text": [
      "[WDM] - ====== WebDriver manager ======\n",
      "[WDM] - Current google-chrome version is 103.0.5060\n",
      "[WDM] - Get LATEST chromedriver version for 103.0.5060 google-chrome\n",
      "[WDM] - Driver [C:\\Users\\jvaym\\.wdm\\drivers\\chromedriver\\win32\\103.0.5060.53\\chromedriver.exe] found in cache\n"
     ]
    },
    {
     "name": "stdout",
     "output_type": "stream",
     "text": [
      "\n"
     ]
    },
    {
     "name": "stderr",
     "output_type": "stream",
     "text": [
      "[WDM] - ====== WebDriver manager ======\n",
      "[WDM] - Current google-chrome version is 103.0.5060\n",
      "[WDM] - Get LATEST chromedriver version for 103.0.5060 google-chrome\n",
      "[WDM] - Driver [C:\\Users\\jvaym\\.wdm\\drivers\\chromedriver\\win32\\103.0.5060.53\\chromedriver.exe] found in cache\n"
     ]
    },
    {
     "name": "stdout",
     "output_type": "stream",
     "text": [
      "\n"
     ]
    },
    {
     "name": "stderr",
     "output_type": "stream",
     "text": [
      "[WDM] - ====== WebDriver manager ======\n",
      "[WDM] - Current google-chrome version is 103.0.5060\n",
      "[WDM] - Get LATEST chromedriver version for 103.0.5060 google-chrome\n",
      "[WDM] - Driver [C:\\Users\\jvaym\\.wdm\\drivers\\chromedriver\\win32\\103.0.5060.53\\chromedriver.exe] found in cache\n"
     ]
    },
    {
     "name": "stdout",
     "output_type": "stream",
     "text": [
      "\n"
     ]
    },
    {
     "name": "stderr",
     "output_type": "stream",
     "text": [
      "[WDM] - ====== WebDriver manager ======\n",
      "[WDM] - Current google-chrome version is 103.0.5060\n",
      "[WDM] - Get LATEST chromedriver version for 103.0.5060 google-chrome\n",
      "[WDM] - Driver [C:\\Users\\jvaym\\.wdm\\drivers\\chromedriver\\win32\\103.0.5060.53\\chromedriver.exe] found in cache\n"
     ]
    },
    {
     "name": "stdout",
     "output_type": "stream",
     "text": [
      "\n"
     ]
    },
    {
     "name": "stderr",
     "output_type": "stream",
     "text": [
      "[WDM] - ====== WebDriver manager ======\n",
      "[WDM] - Current google-chrome version is 103.0.5060\n",
      "[WDM] - Get LATEST chromedriver version for 103.0.5060 google-chrome\n",
      "[WDM] - Driver [C:\\Users\\jvaym\\.wdm\\drivers\\chromedriver\\win32\\103.0.5060.53\\chromedriver.exe] found in cache\n"
     ]
    },
    {
     "name": "stdout",
     "output_type": "stream",
     "text": [
      "\n"
     ]
    },
    {
     "name": "stderr",
     "output_type": "stream",
     "text": [
      "[WDM] - ====== WebDriver manager ======\n",
      "[WDM] - Current google-chrome version is 103.0.5060\n",
      "[WDM] - Get LATEST chromedriver version for 103.0.5060 google-chrome\n",
      "[WDM] - Driver [C:\\Users\\jvaym\\.wdm\\drivers\\chromedriver\\win32\\103.0.5060.53\\chromedriver.exe] found in cache\n"
     ]
    },
    {
     "name": "stdout",
     "output_type": "stream",
     "text": [
      "\n"
     ]
    },
    {
     "name": "stderr",
     "output_type": "stream",
     "text": [
      "[WDM] - ====== WebDriver manager ======\n",
      "[WDM] - Current google-chrome version is 103.0.5060\n",
      "[WDM] - Get LATEST chromedriver version for 103.0.5060 google-chrome\n",
      "[WDM] - Driver [C:\\Users\\jvaym\\.wdm\\drivers\\chromedriver\\win32\\103.0.5060.53\\chromedriver.exe] found in cache\n"
     ]
    },
    {
     "name": "stdout",
     "output_type": "stream",
     "text": [
      "\n"
     ]
    },
    {
     "name": "stderr",
     "output_type": "stream",
     "text": [
      "[WDM] - ====== WebDriver manager ======\n",
      "[WDM] - Current google-chrome version is 103.0.5060\n",
      "[WDM] - Get LATEST chromedriver version for 103.0.5060 google-chrome\n",
      "[WDM] - Driver [C:\\Users\\jvaym\\.wdm\\drivers\\chromedriver\\win32\\103.0.5060.53\\chromedriver.exe] found in cache\n"
     ]
    },
    {
     "name": "stdout",
     "output_type": "stream",
     "text": [
      "\n"
     ]
    },
    {
     "name": "stderr",
     "output_type": "stream",
     "text": [
      "[WDM] - ====== WebDriver manager ======\n",
      "[WDM] - Current google-chrome version is 103.0.5060\n",
      "[WDM] - Get LATEST chromedriver version for 103.0.5060 google-chrome\n",
      "[WDM] - Driver [C:\\Users\\jvaym\\.wdm\\drivers\\chromedriver\\win32\\103.0.5060.53\\chromedriver.exe] found in cache\n"
     ]
    },
    {
     "name": "stdout",
     "output_type": "stream",
     "text": [
      "\n"
     ]
    },
    {
     "name": "stderr",
     "output_type": "stream",
     "text": [
      "[WDM] - ====== WebDriver manager ======\n",
      "[WDM] - Current google-chrome version is 103.0.5060\n",
      "[WDM] - Get LATEST chromedriver version for 103.0.5060 google-chrome\n",
      "[WDM] - Driver [C:\\Users\\jvaym\\.wdm\\drivers\\chromedriver\\win32\\103.0.5060.53\\chromedriver.exe] found in cache\n"
     ]
    },
    {
     "name": "stdout",
     "output_type": "stream",
     "text": [
      "\n"
     ]
    },
    {
     "name": "stderr",
     "output_type": "stream",
     "text": [
      "[WDM] - ====== WebDriver manager ======\n",
      "[WDM] - Current google-chrome version is 103.0.5060\n",
      "[WDM] - Get LATEST chromedriver version for 103.0.5060 google-chrome\n",
      "[WDM] - Driver [C:\\Users\\jvaym\\.wdm\\drivers\\chromedriver\\win32\\103.0.5060.53\\chromedriver.exe] found in cache\n"
     ]
    },
    {
     "name": "stdout",
     "output_type": "stream",
     "text": [
      "\n"
     ]
    },
    {
     "name": "stderr",
     "output_type": "stream",
     "text": [
      "[WDM] - ====== WebDriver manager ======\n",
      "[WDM] - Current google-chrome version is 103.0.5060\n",
      "[WDM] - Get LATEST chromedriver version for 103.0.5060 google-chrome\n",
      "[WDM] - Driver [C:\\Users\\jvaym\\.wdm\\drivers\\chromedriver\\win32\\103.0.5060.53\\chromedriver.exe] found in cache\n"
     ]
    },
    {
     "name": "stdout",
     "output_type": "stream",
     "text": [
      "\n"
     ]
    },
    {
     "name": "stderr",
     "output_type": "stream",
     "text": [
      "[WDM] - ====== WebDriver manager ======\n",
      "[WDM] - Current google-chrome version is 103.0.5060\n",
      "[WDM] - Get LATEST chromedriver version for 103.0.5060 google-chrome\n",
      "[WDM] - Driver [C:\\Users\\jvaym\\.wdm\\drivers\\chromedriver\\win32\\103.0.5060.53\\chromedriver.exe] found in cache\n"
     ]
    },
    {
     "name": "stdout",
     "output_type": "stream",
     "text": [
      "\n"
     ]
    },
    {
     "name": "stderr",
     "output_type": "stream",
     "text": [
      "[WDM] - ====== WebDriver manager ======\n",
      "[WDM] - Current google-chrome version is 103.0.5060\n",
      "[WDM] - Get LATEST chromedriver version for 103.0.5060 google-chrome\n",
      "[WDM] - Driver [C:\\Users\\jvaym\\.wdm\\drivers\\chromedriver\\win32\\103.0.5060.53\\chromedriver.exe] found in cache\n"
     ]
    },
    {
     "name": "stdout",
     "output_type": "stream",
     "text": [
      "\n"
     ]
    },
    {
     "name": "stderr",
     "output_type": "stream",
     "text": [
      "[WDM] - ====== WebDriver manager ======\n",
      "[WDM] - Current google-chrome version is 103.0.5060\n",
      "[WDM] - Get LATEST chromedriver version for 103.0.5060 google-chrome\n",
      "[WDM] - Driver [C:\\Users\\jvaym\\.wdm\\drivers\\chromedriver\\win32\\103.0.5060.53\\chromedriver.exe] found in cache\n"
     ]
    },
    {
     "name": "stdout",
     "output_type": "stream",
     "text": [
      "\n"
     ]
    },
    {
     "name": "stderr",
     "output_type": "stream",
     "text": [
      "[WDM] - ====== WebDriver manager ======\n",
      "[WDM] - Current google-chrome version is 103.0.5060\n",
      "[WDM] - Get LATEST chromedriver version for 103.0.5060 google-chrome\n",
      "[WDM] - Driver [C:\\Users\\jvaym\\.wdm\\drivers\\chromedriver\\win32\\103.0.5060.53\\chromedriver.exe] found in cache\n"
     ]
    },
    {
     "name": "stdout",
     "output_type": "stream",
     "text": [
      "\n"
     ]
    },
    {
     "name": "stderr",
     "output_type": "stream",
     "text": [
      "[WDM] - ====== WebDriver manager ======\n",
      "[WDM] - Current google-chrome version is 103.0.5060\n",
      "[WDM] - Get LATEST chromedriver version for 103.0.5060 google-chrome\n",
      "[WDM] - Driver [C:\\Users\\jvaym\\.wdm\\drivers\\chromedriver\\win32\\103.0.5060.53\\chromedriver.exe] found in cache\n"
     ]
    },
    {
     "name": "stdout",
     "output_type": "stream",
     "text": [
      "\n"
     ]
    },
    {
     "name": "stderr",
     "output_type": "stream",
     "text": [
      "[WDM] - ====== WebDriver manager ======\n",
      "[WDM] - Current google-chrome version is 103.0.5060\n",
      "[WDM] - Get LATEST chromedriver version for 103.0.5060 google-chrome\n",
      "[WDM] - Driver [C:\\Users\\jvaym\\.wdm\\drivers\\chromedriver\\win32\\103.0.5060.53\\chromedriver.exe] found in cache\n"
     ]
    },
    {
     "name": "stdout",
     "output_type": "stream",
     "text": [
      "\n"
     ]
    },
    {
     "name": "stderr",
     "output_type": "stream",
     "text": [
      "[WDM] - ====== WebDriver manager ======\n",
      "[WDM] - Current google-chrome version is 103.0.5060\n",
      "[WDM] - Get LATEST chromedriver version for 103.0.5060 google-chrome\n",
      "[WDM] - Driver [C:\\Users\\jvaym\\.wdm\\drivers\\chromedriver\\win32\\103.0.5060.53\\chromedriver.exe] found in cache\n"
     ]
    },
    {
     "name": "stdout",
     "output_type": "stream",
     "text": [
      "\n"
     ]
    },
    {
     "name": "stderr",
     "output_type": "stream",
     "text": [
      "[WDM] - ====== WebDriver manager ======\n",
      "[WDM] - Current google-chrome version is 103.0.5060\n",
      "[WDM] - Get LATEST chromedriver version for 103.0.5060 google-chrome\n",
      "[WDM] - Driver [C:\\Users\\jvaym\\.wdm\\drivers\\chromedriver\\win32\\103.0.5060.53\\chromedriver.exe] found in cache\n"
     ]
    },
    {
     "name": "stdout",
     "output_type": "stream",
     "text": [
      "\n"
     ]
    },
    {
     "name": "stderr",
     "output_type": "stream",
     "text": [
      "[WDM] - ====== WebDriver manager ======\n",
      "[WDM] - Current google-chrome version is 103.0.5060\n",
      "[WDM] - Get LATEST chromedriver version for 103.0.5060 google-chrome\n",
      "[WDM] - Driver [C:\\Users\\jvaym\\.wdm\\drivers\\chromedriver\\win32\\103.0.5060.53\\chromedriver.exe] found in cache\n"
     ]
    },
    {
     "name": "stdout",
     "output_type": "stream",
     "text": [
      "\n"
     ]
    },
    {
     "name": "stderr",
     "output_type": "stream",
     "text": [
      "[WDM] - ====== WebDriver manager ======\n",
      "[WDM] - Current google-chrome version is 103.0.5060\n",
      "[WDM] - Get LATEST chromedriver version for 103.0.5060 google-chrome\n",
      "[WDM] - Driver [C:\\Users\\jvaym\\.wdm\\drivers\\chromedriver\\win32\\103.0.5060.53\\chromedriver.exe] found in cache\n"
     ]
    },
    {
     "name": "stdout",
     "output_type": "stream",
     "text": [
      "\n"
     ]
    },
    {
     "name": "stderr",
     "output_type": "stream",
     "text": [
      "[WDM] - ====== WebDriver manager ======\n",
      "[WDM] - Current google-chrome version is 103.0.5060\n",
      "[WDM] - Get LATEST chromedriver version for 103.0.5060 google-chrome\n",
      "[WDM] - Driver [C:\\Users\\jvaym\\.wdm\\drivers\\chromedriver\\win32\\103.0.5060.53\\chromedriver.exe] found in cache\n"
     ]
    },
    {
     "name": "stdout",
     "output_type": "stream",
     "text": [
      "\n"
     ]
    },
    {
     "name": "stderr",
     "output_type": "stream",
     "text": [
      "[WDM] - ====== WebDriver manager ======\n",
      "[WDM] - Current google-chrome version is 103.0.5060\n",
      "[WDM] - Get LATEST chromedriver version for 103.0.5060 google-chrome\n",
      "[WDM] - Driver [C:\\Users\\jvaym\\.wdm\\drivers\\chromedriver\\win32\\103.0.5060.53\\chromedriver.exe] found in cache\n"
     ]
    },
    {
     "name": "stdout",
     "output_type": "stream",
     "text": [
      "\n"
     ]
    },
    {
     "name": "stderr",
     "output_type": "stream",
     "text": [
      "[WDM] - ====== WebDriver manager ======\n",
      "[WDM] - Current google-chrome version is 103.0.5060\n",
      "[WDM] - Get LATEST chromedriver version for 103.0.5060 google-chrome\n",
      "[WDM] - Driver [C:\\Users\\jvaym\\.wdm\\drivers\\chromedriver\\win32\\103.0.5060.53\\chromedriver.exe] found in cache\n"
     ]
    },
    {
     "name": "stdout",
     "output_type": "stream",
     "text": [
      "\n"
     ]
    },
    {
     "name": "stderr",
     "output_type": "stream",
     "text": [
      "[WDM] - ====== WebDriver manager ======\n",
      "[WDM] - Current google-chrome version is 103.0.5060\n",
      "[WDM] - Get LATEST chromedriver version for 103.0.5060 google-chrome\n",
      "[WDM] - Driver [C:\\Users\\jvaym\\.wdm\\drivers\\chromedriver\\win32\\103.0.5060.53\\chromedriver.exe] found in cache\n"
     ]
    },
    {
     "name": "stdout",
     "output_type": "stream",
     "text": [
      "\n"
     ]
    },
    {
     "name": "stderr",
     "output_type": "stream",
     "text": [
      "[WDM] - ====== WebDriver manager ======\n",
      "[WDM] - Current google-chrome version is 103.0.5060\n",
      "[WDM] - Get LATEST chromedriver version for 103.0.5060 google-chrome\n",
      "[WDM] - Driver [C:\\Users\\jvaym\\.wdm\\drivers\\chromedriver\\win32\\103.0.5060.53\\chromedriver.exe] found in cache\n"
     ]
    },
    {
     "name": "stdout",
     "output_type": "stream",
     "text": [
      "\n"
     ]
    },
    {
     "name": "stderr",
     "output_type": "stream",
     "text": [
      "[WDM] - ====== WebDriver manager ======\n",
      "[WDM] - Current google-chrome version is 103.0.5060\n",
      "[WDM] - Get LATEST chromedriver version for 103.0.5060 google-chrome\n",
      "[WDM] - Driver [C:\\Users\\jvaym\\.wdm\\drivers\\chromedriver\\win32\\103.0.5060.53\\chromedriver.exe] found in cache\n"
     ]
    },
    {
     "name": "stdout",
     "output_type": "stream",
     "text": [
      "\n"
     ]
    },
    {
     "name": "stderr",
     "output_type": "stream",
     "text": [
      "[WDM] - ====== WebDriver manager ======\n",
      "[WDM] - Current google-chrome version is 103.0.5060\n",
      "[WDM] - Get LATEST chromedriver version for 103.0.5060 google-chrome\n",
      "[WDM] - Driver [C:\\Users\\jvaym\\.wdm\\drivers\\chromedriver\\win32\\103.0.5060.53\\chromedriver.exe] found in cache\n"
     ]
    },
    {
     "name": "stdout",
     "output_type": "stream",
     "text": [
      "\n"
     ]
    },
    {
     "name": "stderr",
     "output_type": "stream",
     "text": [
      "[WDM] - ====== WebDriver manager ======\n",
      "[WDM] - Current google-chrome version is 103.0.5060\n",
      "[WDM] - Get LATEST chromedriver version for 103.0.5060 google-chrome\n",
      "[WDM] - Driver [C:\\Users\\jvaym\\.wdm\\drivers\\chromedriver\\win32\\103.0.5060.53\\chromedriver.exe] found in cache\n"
     ]
    },
    {
     "name": "stdout",
     "output_type": "stream",
     "text": [
      "\n"
     ]
    },
    {
     "name": "stderr",
     "output_type": "stream",
     "text": [
      "[WDM] - ====== WebDriver manager ======\n",
      "[WDM] - Current google-chrome version is 103.0.5060\n",
      "[WDM] - Get LATEST chromedriver version for 103.0.5060 google-chrome\n",
      "[WDM] - Driver [C:\\Users\\jvaym\\.wdm\\drivers\\chromedriver\\win32\\103.0.5060.53\\chromedriver.exe] found in cache\n"
     ]
    },
    {
     "name": "stdout",
     "output_type": "stream",
     "text": [
      "\n"
     ]
    },
    {
     "name": "stderr",
     "output_type": "stream",
     "text": [
      "[WDM] - ====== WebDriver manager ======\n",
      "[WDM] - Current google-chrome version is 103.0.5060\n",
      "[WDM] - Get LATEST chromedriver version for 103.0.5060 google-chrome\n",
      "[WDM] - Driver [C:\\Users\\jvaym\\.wdm\\drivers\\chromedriver\\win32\\103.0.5060.53\\chromedriver.exe] found in cache\n"
     ]
    },
    {
     "name": "stdout",
     "output_type": "stream",
     "text": [
      "\n"
     ]
    },
    {
     "name": "stderr",
     "output_type": "stream",
     "text": [
      "[WDM] - ====== WebDriver manager ======\n",
      "[WDM] - Current google-chrome version is 103.0.5060\n",
      "[WDM] - Get LATEST chromedriver version for 103.0.5060 google-chrome\n",
      "[WDM] - Driver [C:\\Users\\jvaym\\.wdm\\drivers\\chromedriver\\win32\\103.0.5060.53\\chromedriver.exe] found in cache\n"
     ]
    },
    {
     "name": "stdout",
     "output_type": "stream",
     "text": [
      "\n"
     ]
    },
    {
     "name": "stderr",
     "output_type": "stream",
     "text": [
      "[WDM] - ====== WebDriver manager ======\n",
      "[WDM] - Current google-chrome version is 103.0.5060\n",
      "[WDM] - Get LATEST chromedriver version for 103.0.5060 google-chrome\n",
      "[WDM] - Driver [C:\\Users\\jvaym\\.wdm\\drivers\\chromedriver\\win32\\103.0.5060.53\\chromedriver.exe] found in cache\n"
     ]
    },
    {
     "name": "stdout",
     "output_type": "stream",
     "text": [
      "\n"
     ]
    },
    {
     "name": "stderr",
     "output_type": "stream",
     "text": [
      "[WDM] - ====== WebDriver manager ======\n",
      "[WDM] - Current google-chrome version is 103.0.5060\n",
      "[WDM] - Get LATEST chromedriver version for 103.0.5060 google-chrome\n",
      "[WDM] - Driver [C:\\Users\\jvaym\\.wdm\\drivers\\chromedriver\\win32\\103.0.5060.53\\chromedriver.exe] found in cache\n"
     ]
    },
    {
     "name": "stdout",
     "output_type": "stream",
     "text": [
      "\n"
     ]
    },
    {
     "name": "stderr",
     "output_type": "stream",
     "text": [
      "[WDM] - ====== WebDriver manager ======\n",
      "[WDM] - Current google-chrome version is 103.0.5060\n",
      "[WDM] - Get LATEST chromedriver version for 103.0.5060 google-chrome\n",
      "[WDM] - Driver [C:\\Users\\jvaym\\.wdm\\drivers\\chromedriver\\win32\\103.0.5060.53\\chromedriver.exe] found in cache\n"
     ]
    },
    {
     "name": "stdout",
     "output_type": "stream",
     "text": [
      "\n"
     ]
    },
    {
     "name": "stderr",
     "output_type": "stream",
     "text": [
      "[WDM] - ====== WebDriver manager ======\n",
      "[WDM] - Current google-chrome version is 103.0.5060\n",
      "[WDM] - Get LATEST chromedriver version for 103.0.5060 google-chrome\n",
      "[WDM] - Driver [C:\\Users\\jvaym\\.wdm\\drivers\\chromedriver\\win32\\103.0.5060.53\\chromedriver.exe] found in cache\n"
     ]
    },
    {
     "name": "stdout",
     "output_type": "stream",
     "text": [
      "\n"
     ]
    },
    {
     "name": "stderr",
     "output_type": "stream",
     "text": [
      "[WDM] - ====== WebDriver manager ======\n",
      "[WDM] - Current google-chrome version is 103.0.5060\n",
      "[WDM] - Get LATEST chromedriver version for 103.0.5060 google-chrome\n",
      "[WDM] - Driver [C:\\Users\\jvaym\\.wdm\\drivers\\chromedriver\\win32\\103.0.5060.53\\chromedriver.exe] found in cache\n"
     ]
    },
    {
     "name": "stdout",
     "output_type": "stream",
     "text": [
      "\n"
     ]
    },
    {
     "name": "stderr",
     "output_type": "stream",
     "text": [
      "[WDM] - ====== WebDriver manager ======\n",
      "[WDM] - Current google-chrome version is 103.0.5060\n",
      "[WDM] - Get LATEST chromedriver version for 103.0.5060 google-chrome\n",
      "[WDM] - Driver [C:\\Users\\jvaym\\.wdm\\drivers\\chromedriver\\win32\\103.0.5060.53\\chromedriver.exe] found in cache\n"
     ]
    },
    {
     "name": "stdout",
     "output_type": "stream",
     "text": [
      "\n"
     ]
    },
    {
     "name": "stderr",
     "output_type": "stream",
     "text": [
      "[WDM] - ====== WebDriver manager ======\n",
      "[WDM] - Current google-chrome version is 103.0.5060\n",
      "[WDM] - Get LATEST chromedriver version for 103.0.5060 google-chrome\n",
      "[WDM] - Driver [C:\\Users\\jvaym\\.wdm\\drivers\\chromedriver\\win32\\103.0.5060.53\\chromedriver.exe] found in cache\n"
     ]
    },
    {
     "name": "stdout",
     "output_type": "stream",
     "text": [
      "\n"
     ]
    },
    {
     "name": "stderr",
     "output_type": "stream",
     "text": [
      "[WDM] - ====== WebDriver manager ======\n",
      "[WDM] - Current google-chrome version is 103.0.5060\n",
      "[WDM] - Get LATEST chromedriver version for 103.0.5060 google-chrome\n",
      "[WDM] - Driver [C:\\Users\\jvaym\\.wdm\\drivers\\chromedriver\\win32\\103.0.5060.53\\chromedriver.exe] found in cache\n"
     ]
    },
    {
     "name": "stdout",
     "output_type": "stream",
     "text": [
      "\n"
     ]
    },
    {
     "name": "stderr",
     "output_type": "stream",
     "text": [
      "[WDM] - ====== WebDriver manager ======\n",
      "[WDM] - Current google-chrome version is 103.0.5060\n",
      "[WDM] - Get LATEST chromedriver version for 103.0.5060 google-chrome\n",
      "[WDM] - Driver [C:\\Users\\jvaym\\.wdm\\drivers\\chromedriver\\win32\\103.0.5060.53\\chromedriver.exe] found in cache\n"
     ]
    },
    {
     "name": "stdout",
     "output_type": "stream",
     "text": [
      "\n"
     ]
    },
    {
     "name": "stderr",
     "output_type": "stream",
     "text": [
      "[WDM] - ====== WebDriver manager ======\n",
      "[WDM] - Current google-chrome version is 103.0.5060\n",
      "[WDM] - Get LATEST chromedriver version for 103.0.5060 google-chrome\n",
      "[WDM] - Driver [C:\\Users\\jvaym\\.wdm\\drivers\\chromedriver\\win32\\103.0.5060.53\\chromedriver.exe] found in cache\n"
     ]
    },
    {
     "name": "stdout",
     "output_type": "stream",
     "text": [
      "\n"
     ]
    },
    {
     "name": "stderr",
     "output_type": "stream",
     "text": [
      "[WDM] - ====== WebDriver manager ======\n",
      "[WDM] - Current google-chrome version is 103.0.5060\n",
      "[WDM] - Get LATEST chromedriver version for 103.0.5060 google-chrome\n",
      "[WDM] - Driver [C:\\Users\\jvaym\\.wdm\\drivers\\chromedriver\\win32\\103.0.5060.53\\chromedriver.exe] found in cache\n"
     ]
    },
    {
     "name": "stdout",
     "output_type": "stream",
     "text": [
      "\n"
     ]
    },
    {
     "name": "stderr",
     "output_type": "stream",
     "text": [
      "[WDM] - ====== WebDriver manager ======\n",
      "[WDM] - Current google-chrome version is 103.0.5060\n",
      "[WDM] - Get LATEST chromedriver version for 103.0.5060 google-chrome\n",
      "[WDM] - Driver [C:\\Users\\jvaym\\.wdm\\drivers\\chromedriver\\win32\\103.0.5060.53\\chromedriver.exe] found in cache\n"
     ]
    },
    {
     "name": "stdout",
     "output_type": "stream",
     "text": [
      "\n"
     ]
    },
    {
     "name": "stderr",
     "output_type": "stream",
     "text": [
      "[WDM] - ====== WebDriver manager ======\n",
      "[WDM] - Current google-chrome version is 103.0.5060\n",
      "[WDM] - Get LATEST chromedriver version for 103.0.5060 google-chrome\n",
      "[WDM] - Driver [C:\\Users\\jvaym\\.wdm\\drivers\\chromedriver\\win32\\103.0.5060.53\\chromedriver.exe] found in cache\n"
     ]
    },
    {
     "name": "stdout",
     "output_type": "stream",
     "text": [
      "\n"
     ]
    },
    {
     "name": "stderr",
     "output_type": "stream",
     "text": [
      "[WDM] - ====== WebDriver manager ======\n",
      "[WDM] - Current google-chrome version is 103.0.5060\n",
      "[WDM] - Get LATEST chromedriver version for 103.0.5060 google-chrome\n",
      "[WDM] - Driver [C:\\Users\\jvaym\\.wdm\\drivers\\chromedriver\\win32\\103.0.5060.53\\chromedriver.exe] found in cache\n"
     ]
    },
    {
     "name": "stdout",
     "output_type": "stream",
     "text": [
      "\n"
     ]
    },
    {
     "name": "stderr",
     "output_type": "stream",
     "text": [
      "[WDM] - ====== WebDriver manager ======\n",
      "[WDM] - Current google-chrome version is 103.0.5060\n",
      "[WDM] - Get LATEST chromedriver version for 103.0.5060 google-chrome\n",
      "[WDM] - Driver [C:\\Users\\jvaym\\.wdm\\drivers\\chromedriver\\win32\\103.0.5060.53\\chromedriver.exe] found in cache\n"
     ]
    },
    {
     "name": "stdout",
     "output_type": "stream",
     "text": [
      "\n"
     ]
    },
    {
     "name": "stderr",
     "output_type": "stream",
     "text": [
      "[WDM] - ====== WebDriver manager ======\n",
      "[WDM] - Current google-chrome version is 103.0.5060\n",
      "[WDM] - Get LATEST chromedriver version for 103.0.5060 google-chrome\n",
      "[WDM] - Driver [C:\\Users\\jvaym\\.wdm\\drivers\\chromedriver\\win32\\103.0.5060.53\\chromedriver.exe] found in cache\n"
     ]
    },
    {
     "name": "stdout",
     "output_type": "stream",
     "text": [
      "\n"
     ]
    },
    {
     "name": "stderr",
     "output_type": "stream",
     "text": [
      "[WDM] - ====== WebDriver manager ======\n",
      "[WDM] - Current google-chrome version is 103.0.5060\n",
      "[WDM] - Get LATEST chromedriver version for 103.0.5060 google-chrome\n",
      "[WDM] - Driver [C:\\Users\\jvaym\\.wdm\\drivers\\chromedriver\\win32\\103.0.5060.53\\chromedriver.exe] found in cache\n"
     ]
    },
    {
     "name": "stdout",
     "output_type": "stream",
     "text": [
      "\n"
     ]
    },
    {
     "name": "stderr",
     "output_type": "stream",
     "text": [
      "[WDM] - ====== WebDriver manager ======\n",
      "[WDM] - Current google-chrome version is 103.0.5060\n",
      "[WDM] - Get LATEST chromedriver version for 103.0.5060 google-chrome\n",
      "[WDM] - Driver [C:\\Users\\jvaym\\.wdm\\drivers\\chromedriver\\win32\\103.0.5060.53\\chromedriver.exe] found in cache\n"
     ]
    },
    {
     "name": "stdout",
     "output_type": "stream",
     "text": [
      "\n"
     ]
    },
    {
     "name": "stderr",
     "output_type": "stream",
     "text": [
      "[WDM] - ====== WebDriver manager ======\n",
      "[WDM] - Current google-chrome version is 103.0.5060\n",
      "[WDM] - Get LATEST chromedriver version for 103.0.5060 google-chrome\n",
      "[WDM] - Driver [C:\\Users\\jvaym\\.wdm\\drivers\\chromedriver\\win32\\103.0.5060.53\\chromedriver.exe] found in cache\n"
     ]
    },
    {
     "name": "stdout",
     "output_type": "stream",
     "text": [
      "\n"
     ]
    },
    {
     "name": "stderr",
     "output_type": "stream",
     "text": [
      "[WDM] - ====== WebDriver manager ======\n",
      "[WDM] - Current google-chrome version is 103.0.5060\n",
      "[WDM] - Get LATEST chromedriver version for 103.0.5060 google-chrome\n",
      "[WDM] - Driver [C:\\Users\\jvaym\\.wdm\\drivers\\chromedriver\\win32\\103.0.5060.53\\chromedriver.exe] found in cache\n"
     ]
    },
    {
     "name": "stdout",
     "output_type": "stream",
     "text": [
      "\n"
     ]
    },
    {
     "name": "stderr",
     "output_type": "stream",
     "text": [
      "[WDM] - ====== WebDriver manager ======\n",
      "[WDM] - Current google-chrome version is 103.0.5060\n",
      "[WDM] - Get LATEST chromedriver version for 103.0.5060 google-chrome\n",
      "[WDM] - Driver [C:\\Users\\jvaym\\.wdm\\drivers\\chromedriver\\win32\\103.0.5060.53\\chromedriver.exe] found in cache\n"
     ]
    },
    {
     "name": "stdout",
     "output_type": "stream",
     "text": [
      "\n"
     ]
    },
    {
     "name": "stderr",
     "output_type": "stream",
     "text": [
      "[WDM] - ====== WebDriver manager ======\n",
      "[WDM] - Current google-chrome version is 103.0.5060\n",
      "[WDM] - Get LATEST chromedriver version for 103.0.5060 google-chrome\n",
      "[WDM] - Driver [C:\\Users\\jvaym\\.wdm\\drivers\\chromedriver\\win32\\103.0.5060.53\\chromedriver.exe] found in cache\n"
     ]
    },
    {
     "name": "stdout",
     "output_type": "stream",
     "text": [
      "\n"
     ]
    },
    {
     "name": "stderr",
     "output_type": "stream",
     "text": [
      "[WDM] - ====== WebDriver manager ======\n",
      "[WDM] - Current google-chrome version is 103.0.5060\n",
      "[WDM] - Get LATEST chromedriver version for 103.0.5060 google-chrome\n",
      "[WDM] - Driver [C:\\Users\\jvaym\\.wdm\\drivers\\chromedriver\\win32\\103.0.5060.53\\chromedriver.exe] found in cache\n"
     ]
    },
    {
     "name": "stdout",
     "output_type": "stream",
     "text": [
      "\n"
     ]
    },
    {
     "name": "stderr",
     "output_type": "stream",
     "text": [
      "[WDM] - ====== WebDriver manager ======\n",
      "[WDM] - Current google-chrome version is 103.0.5060\n",
      "[WDM] - Get LATEST chromedriver version for 103.0.5060 google-chrome\n",
      "[WDM] - Driver [C:\\Users\\jvaym\\.wdm\\drivers\\chromedriver\\win32\\103.0.5060.53\\chromedriver.exe] found in cache\n"
     ]
    },
    {
     "name": "stdout",
     "output_type": "stream",
     "text": [
      "\n"
     ]
    },
    {
     "name": "stderr",
     "output_type": "stream",
     "text": [
      "[WDM] - ====== WebDriver manager ======\n",
      "[WDM] - Current google-chrome version is 103.0.5060\n",
      "[WDM] - Get LATEST chromedriver version for 103.0.5060 google-chrome\n",
      "[WDM] - Driver [C:\\Users\\jvaym\\.wdm\\drivers\\chromedriver\\win32\\103.0.5060.53\\chromedriver.exe] found in cache\n"
     ]
    },
    {
     "name": "stdout",
     "output_type": "stream",
     "text": [
      "\n"
     ]
    },
    {
     "name": "stderr",
     "output_type": "stream",
     "text": [
      "[WDM] - ====== WebDriver manager ======\n",
      "[WDM] - Current google-chrome version is 103.0.5060\n",
      "[WDM] - Get LATEST chromedriver version for 103.0.5060 google-chrome\n",
      "[WDM] - Driver [C:\\Users\\jvaym\\.wdm\\drivers\\chromedriver\\win32\\103.0.5060.53\\chromedriver.exe] found in cache\n"
     ]
    },
    {
     "name": "stdout",
     "output_type": "stream",
     "text": [
      "\n"
     ]
    },
    {
     "name": "stderr",
     "output_type": "stream",
     "text": [
      "[WDM] - ====== WebDriver manager ======\n",
      "[WDM] - Current google-chrome version is 103.0.5060\n",
      "[WDM] - Get LATEST chromedriver version for 103.0.5060 google-chrome\n",
      "[WDM] - Driver [C:\\Users\\jvaym\\.wdm\\drivers\\chromedriver\\win32\\103.0.5060.53\\chromedriver.exe] found in cache\n"
     ]
    },
    {
     "name": "stdout",
     "output_type": "stream",
     "text": [
      "\n"
     ]
    },
    {
     "name": "stderr",
     "output_type": "stream",
     "text": [
      "[WDM] - ====== WebDriver manager ======\n",
      "[WDM] - Current google-chrome version is 103.0.5060\n",
      "[WDM] - Get LATEST chromedriver version for 103.0.5060 google-chrome\n",
      "[WDM] - Driver [C:\\Users\\jvaym\\.wdm\\drivers\\chromedriver\\win32\\103.0.5060.53\\chromedriver.exe] found in cache\n"
     ]
    },
    {
     "name": "stdout",
     "output_type": "stream",
     "text": [
      "\n"
     ]
    },
    {
     "name": "stderr",
     "output_type": "stream",
     "text": [
      "[WDM] - ====== WebDriver manager ======\n",
      "[WDM] - Current google-chrome version is 103.0.5060\n",
      "[WDM] - Get LATEST chromedriver version for 103.0.5060 google-chrome\n",
      "[WDM] - Driver [C:\\Users\\jvaym\\.wdm\\drivers\\chromedriver\\win32\\103.0.5060.53\\chromedriver.exe] found in cache\n"
     ]
    },
    {
     "name": "stdout",
     "output_type": "stream",
     "text": [
      "\n"
     ]
    },
    {
     "name": "stderr",
     "output_type": "stream",
     "text": [
      "[WDM] - ====== WebDriver manager ======\n",
      "[WDM] - Current google-chrome version is 103.0.5060\n",
      "[WDM] - Get LATEST chromedriver version for 103.0.5060 google-chrome\n",
      "[WDM] - Driver [C:\\Users\\jvaym\\.wdm\\drivers\\chromedriver\\win32\\103.0.5060.53\\chromedriver.exe] found in cache\n"
     ]
    },
    {
     "name": "stdout",
     "output_type": "stream",
     "text": [
      "\n"
     ]
    },
    {
     "name": "stderr",
     "output_type": "stream",
     "text": [
      "[WDM] - ====== WebDriver manager ======\n",
      "[WDM] - Current google-chrome version is 103.0.5060\n",
      "[WDM] - Get LATEST chromedriver version for 103.0.5060 google-chrome\n",
      "[WDM] - Driver [C:\\Users\\jvaym\\.wdm\\drivers\\chromedriver\\win32\\103.0.5060.53\\chromedriver.exe] found in cache\n"
     ]
    },
    {
     "name": "stdout",
     "output_type": "stream",
     "text": [
      "\n"
     ]
    },
    {
     "name": "stderr",
     "output_type": "stream",
     "text": [
      "[WDM] - ====== WebDriver manager ======\n",
      "[WDM] - Current google-chrome version is 103.0.5060\n",
      "[WDM] - Get LATEST chromedriver version for 103.0.5060 google-chrome\n",
      "[WDM] - Driver [C:\\Users\\jvaym\\.wdm\\drivers\\chromedriver\\win32\\103.0.5060.53\\chromedriver.exe] found in cache\n"
     ]
    },
    {
     "name": "stdout",
     "output_type": "stream",
     "text": [
      "\n"
     ]
    },
    {
     "name": "stderr",
     "output_type": "stream",
     "text": [
      "[WDM] - ====== WebDriver manager ======\n",
      "[WDM] - Current google-chrome version is 103.0.5060\n",
      "[WDM] - Get LATEST chromedriver version for 103.0.5060 google-chrome\n",
      "[WDM] - Driver [C:\\Users\\jvaym\\.wdm\\drivers\\chromedriver\\win32\\103.0.5060.53\\chromedriver.exe] found in cache\n"
     ]
    },
    {
     "name": "stdout",
     "output_type": "stream",
     "text": [
      "\n"
     ]
    },
    {
     "name": "stderr",
     "output_type": "stream",
     "text": [
      "[WDM] - ====== WebDriver manager ======\n",
      "[WDM] - Current google-chrome version is 103.0.5060\n",
      "[WDM] - Get LATEST chromedriver version for 103.0.5060 google-chrome\n",
      "[WDM] - Driver [C:\\Users\\jvaym\\.wdm\\drivers\\chromedriver\\win32\\103.0.5060.53\\chromedriver.exe] found in cache\n"
     ]
    },
    {
     "name": "stdout",
     "output_type": "stream",
     "text": [
      "\n"
     ]
    },
    {
     "name": "stderr",
     "output_type": "stream",
     "text": [
      "[WDM] - ====== WebDriver manager ======\n",
      "[WDM] - Current google-chrome version is 103.0.5060\n",
      "[WDM] - Get LATEST chromedriver version for 103.0.5060 google-chrome\n",
      "[WDM] - Driver [C:\\Users\\jvaym\\.wdm\\drivers\\chromedriver\\win32\\103.0.5060.53\\chromedriver.exe] found in cache\n"
     ]
    },
    {
     "name": "stdout",
     "output_type": "stream",
     "text": [
      "\n"
     ]
    },
    {
     "name": "stderr",
     "output_type": "stream",
     "text": [
      "[WDM] - ====== WebDriver manager ======\n",
      "[WDM] - Current google-chrome version is 103.0.5060\n",
      "[WDM] - Get LATEST chromedriver version for 103.0.5060 google-chrome\n",
      "[WDM] - Driver [C:\\Users\\jvaym\\.wdm\\drivers\\chromedriver\\win32\\103.0.5060.53\\chromedriver.exe] found in cache\n"
     ]
    },
    {
     "name": "stdout",
     "output_type": "stream",
     "text": [
      "\n"
     ]
    },
    {
     "name": "stderr",
     "output_type": "stream",
     "text": [
      "[WDM] - ====== WebDriver manager ======\n",
      "[WDM] - Current google-chrome version is 103.0.5060\n",
      "[WDM] - Get LATEST chromedriver version for 103.0.5060 google-chrome\n",
      "[WDM] - Driver [C:\\Users\\jvaym\\.wdm\\drivers\\chromedriver\\win32\\103.0.5060.53\\chromedriver.exe] found in cache\n"
     ]
    },
    {
     "name": "stdout",
     "output_type": "stream",
     "text": [
      "\n"
     ]
    },
    {
     "name": "stderr",
     "output_type": "stream",
     "text": [
      "[WDM] - ====== WebDriver manager ======\n",
      "[WDM] - Current google-chrome version is 103.0.5060\n",
      "[WDM] - Get LATEST chromedriver version for 103.0.5060 google-chrome\n",
      "[WDM] - Driver [C:\\Users\\jvaym\\.wdm\\drivers\\chromedriver\\win32\\103.0.5060.53\\chromedriver.exe] found in cache\n"
     ]
    },
    {
     "name": "stdout",
     "output_type": "stream",
     "text": [
      "\n"
     ]
    },
    {
     "name": "stderr",
     "output_type": "stream",
     "text": [
      "[WDM] - ====== WebDriver manager ======\n",
      "[WDM] - Current google-chrome version is 103.0.5060\n",
      "[WDM] - Get LATEST chromedriver version for 103.0.5060 google-chrome\n",
      "[WDM] - Driver [C:\\Users\\jvaym\\.wdm\\drivers\\chromedriver\\win32\\103.0.5060.53\\chromedriver.exe] found in cache\n"
     ]
    },
    {
     "name": "stdout",
     "output_type": "stream",
     "text": [
      "\n"
     ]
    },
    {
     "name": "stderr",
     "output_type": "stream",
     "text": [
      "[WDM] - ====== WebDriver manager ======\n",
      "[WDM] - Current google-chrome version is 103.0.5060\n",
      "[WDM] - Get LATEST chromedriver version for 103.0.5060 google-chrome\n",
      "[WDM] - Driver [C:\\Users\\jvaym\\.wdm\\drivers\\chromedriver\\win32\\103.0.5060.53\\chromedriver.exe] found in cache\n"
     ]
    },
    {
     "name": "stdout",
     "output_type": "stream",
     "text": [
      "\n"
     ]
    },
    {
     "name": "stderr",
     "output_type": "stream",
     "text": [
      "[WDM] - ====== WebDriver manager ======\n",
      "[WDM] - Current google-chrome version is 103.0.5060\n",
      "[WDM] - Get LATEST chromedriver version for 103.0.5060 google-chrome\n",
      "[WDM] - Driver [C:\\Users\\jvaym\\.wdm\\drivers\\chromedriver\\win32\\103.0.5060.53\\chromedriver.exe] found in cache\n"
     ]
    },
    {
     "name": "stdout",
     "output_type": "stream",
     "text": [
      "\n"
     ]
    },
    {
     "name": "stderr",
     "output_type": "stream",
     "text": [
      "[WDM] - ====== WebDriver manager ======\n",
      "[WDM] - Current google-chrome version is 103.0.5060\n",
      "[WDM] - Get LATEST chromedriver version for 103.0.5060 google-chrome\n",
      "[WDM] - Driver [C:\\Users\\jvaym\\.wdm\\drivers\\chromedriver\\win32\\103.0.5060.53\\chromedriver.exe] found in cache\n"
     ]
    },
    {
     "name": "stdout",
     "output_type": "stream",
     "text": [
      "\n"
     ]
    },
    {
     "name": "stderr",
     "output_type": "stream",
     "text": [
      "[WDM] - ====== WebDriver manager ======\n",
      "[WDM] - Current google-chrome version is 103.0.5060\n",
      "[WDM] - Get LATEST chromedriver version for 103.0.5060 google-chrome\n",
      "[WDM] - Driver [C:\\Users\\jvaym\\.wdm\\drivers\\chromedriver\\win32\\103.0.5060.53\\chromedriver.exe] found in cache\n"
     ]
    },
    {
     "name": "stdout",
     "output_type": "stream",
     "text": [
      "\n"
     ]
    },
    {
     "name": "stderr",
     "output_type": "stream",
     "text": [
      "[WDM] - ====== WebDriver manager ======\n",
      "[WDM] - Current google-chrome version is 103.0.5060\n",
      "[WDM] - Get LATEST chromedriver version for 103.0.5060 google-chrome\n",
      "[WDM] - Driver [C:\\Users\\jvaym\\.wdm\\drivers\\chromedriver\\win32\\103.0.5060.53\\chromedriver.exe] found in cache\n"
     ]
    },
    {
     "name": "stdout",
     "output_type": "stream",
     "text": [
      "\n"
     ]
    },
    {
     "name": "stderr",
     "output_type": "stream",
     "text": [
      "[WDM] - ====== WebDriver manager ======\n",
      "[WDM] - Current google-chrome version is 103.0.5060\n",
      "[WDM] - Get LATEST chromedriver version for 103.0.5060 google-chrome\n",
      "[WDM] - Driver [C:\\Users\\jvaym\\.wdm\\drivers\\chromedriver\\win32\\103.0.5060.53\\chromedriver.exe] found in cache\n"
     ]
    },
    {
     "name": "stdout",
     "output_type": "stream",
     "text": [
      "\n"
     ]
    },
    {
     "name": "stderr",
     "output_type": "stream",
     "text": [
      "[WDM] - ====== WebDriver manager ======\n",
      "[WDM] - Current google-chrome version is 103.0.5060\n",
      "[WDM] - Get LATEST chromedriver version for 103.0.5060 google-chrome\n",
      "[WDM] - Driver [C:\\Users\\jvaym\\.wdm\\drivers\\chromedriver\\win32\\103.0.5060.53\\chromedriver.exe] found in cache\n"
     ]
    },
    {
     "name": "stdout",
     "output_type": "stream",
     "text": [
      "\n"
     ]
    },
    {
     "name": "stderr",
     "output_type": "stream",
     "text": [
      "[WDM] - ====== WebDriver manager ======\n",
      "[WDM] - Current google-chrome version is 103.0.5060\n",
      "[WDM] - Get LATEST chromedriver version for 103.0.5060 google-chrome\n",
      "[WDM] - Driver [C:\\Users\\jvaym\\.wdm\\drivers\\chromedriver\\win32\\103.0.5060.53\\chromedriver.exe] found in cache\n"
     ]
    },
    {
     "name": "stdout",
     "output_type": "stream",
     "text": [
      "\n"
     ]
    },
    {
     "name": "stderr",
     "output_type": "stream",
     "text": [
      "[WDM] - ====== WebDriver manager ======\n",
      "[WDM] - Current google-chrome version is 103.0.5060\n",
      "[WDM] - Get LATEST chromedriver version for 103.0.5060 google-chrome\n",
      "[WDM] - Driver [C:\\Users\\jvaym\\.wdm\\drivers\\chromedriver\\win32\\103.0.5060.53\\chromedriver.exe] found in cache\n"
     ]
    },
    {
     "name": "stdout",
     "output_type": "stream",
     "text": [
      "\n"
     ]
    },
    {
     "name": "stderr",
     "output_type": "stream",
     "text": [
      "[WDM] - ====== WebDriver manager ======\n",
      "[WDM] - Current google-chrome version is 103.0.5060\n",
      "[WDM] - Get LATEST chromedriver version for 103.0.5060 google-chrome\n",
      "[WDM] - Driver [C:\\Users\\jvaym\\.wdm\\drivers\\chromedriver\\win32\\103.0.5060.53\\chromedriver.exe] found in cache\n"
     ]
    },
    {
     "name": "stdout",
     "output_type": "stream",
     "text": [
      "\n"
     ]
    },
    {
     "name": "stderr",
     "output_type": "stream",
     "text": [
      "[WDM] - ====== WebDriver manager ======\n",
      "[WDM] - Current google-chrome version is 103.0.5060\n",
      "[WDM] - Get LATEST chromedriver version for 103.0.5060 google-chrome\n",
      "[WDM] - Driver [C:\\Users\\jvaym\\.wdm\\drivers\\chromedriver\\win32\\103.0.5060.53\\chromedriver.exe] found in cache\n"
     ]
    },
    {
     "name": "stdout",
     "output_type": "stream",
     "text": [
      "\n"
     ]
    },
    {
     "name": "stderr",
     "output_type": "stream",
     "text": [
      "[WDM] - ====== WebDriver manager ======\n",
      "[WDM] - Current google-chrome version is 103.0.5060\n",
      "[WDM] - Get LATEST chromedriver version for 103.0.5060 google-chrome\n",
      "[WDM] - Driver [C:\\Users\\jvaym\\.wdm\\drivers\\chromedriver\\win32\\103.0.5060.53\\chromedriver.exe] found in cache\n"
     ]
    },
    {
     "name": "stdout",
     "output_type": "stream",
     "text": [
      "\n"
     ]
    },
    {
     "name": "stderr",
     "output_type": "stream",
     "text": [
      "[WDM] - ====== WebDriver manager ======\n",
      "[WDM] - Current google-chrome version is 103.0.5060\n",
      "[WDM] - Get LATEST chromedriver version for 103.0.5060 google-chrome\n",
      "[WDM] - Driver [C:\\Users\\jvaym\\.wdm\\drivers\\chromedriver\\win32\\103.0.5060.53\\chromedriver.exe] found in cache\n"
     ]
    },
    {
     "name": "stdout",
     "output_type": "stream",
     "text": [
      "\n"
     ]
    },
    {
     "name": "stderr",
     "output_type": "stream",
     "text": [
      "[WDM] - ====== WebDriver manager ======\n",
      "[WDM] - Current google-chrome version is 103.0.5060\n",
      "[WDM] - Get LATEST chromedriver version for 103.0.5060 google-chrome\n",
      "[WDM] - Driver [C:\\Users\\jvaym\\.wdm\\drivers\\chromedriver\\win32\\103.0.5060.53\\chromedriver.exe] found in cache\n"
     ]
    },
    {
     "name": "stdout",
     "output_type": "stream",
     "text": [
      "\n"
     ]
    },
    {
     "name": "stderr",
     "output_type": "stream",
     "text": [
      "[WDM] - ====== WebDriver manager ======\n",
      "[WDM] - Current google-chrome version is 103.0.5060\n",
      "[WDM] - Get LATEST chromedriver version for 103.0.5060 google-chrome\n",
      "[WDM] - Driver [C:\\Users\\jvaym\\.wdm\\drivers\\chromedriver\\win32\\103.0.5060.53\\chromedriver.exe] found in cache\n"
     ]
    },
    {
     "name": "stdout",
     "output_type": "stream",
     "text": [
      "\n"
     ]
    },
    {
     "name": "stderr",
     "output_type": "stream",
     "text": [
      "[WDM] - ====== WebDriver manager ======\n",
      "[WDM] - Current google-chrome version is 103.0.5060\n",
      "[WDM] - Get LATEST chromedriver version for 103.0.5060 google-chrome\n",
      "[WDM] - Driver [C:\\Users\\jvaym\\.wdm\\drivers\\chromedriver\\win32\\103.0.5060.53\\chromedriver.exe] found in cache\n"
     ]
    },
    {
     "name": "stdout",
     "output_type": "stream",
     "text": [
      "\n"
     ]
    },
    {
     "name": "stderr",
     "output_type": "stream",
     "text": [
      "[WDM] - ====== WebDriver manager ======\n",
      "[WDM] - Current google-chrome version is 103.0.5060\n",
      "[WDM] - Get LATEST chromedriver version for 103.0.5060 google-chrome\n",
      "[WDM] - Driver [C:\\Users\\jvaym\\.wdm\\drivers\\chromedriver\\win32\\103.0.5060.53\\chromedriver.exe] found in cache\n"
     ]
    },
    {
     "name": "stdout",
     "output_type": "stream",
     "text": [
      "\n"
     ]
    },
    {
     "name": "stderr",
     "output_type": "stream",
     "text": [
      "[WDM] - ====== WebDriver manager ======\n",
      "[WDM] - Current google-chrome version is 103.0.5060\n",
      "[WDM] - Get LATEST chromedriver version for 103.0.5060 google-chrome\n",
      "[WDM] - Driver [C:\\Users\\jvaym\\.wdm\\drivers\\chromedriver\\win32\\103.0.5060.53\\chromedriver.exe] found in cache\n"
     ]
    },
    {
     "name": "stdout",
     "output_type": "stream",
     "text": [
      "\n"
     ]
    },
    {
     "name": "stderr",
     "output_type": "stream",
     "text": [
      "[WDM] - ====== WebDriver manager ======\n",
      "[WDM] - Current google-chrome version is 103.0.5060\n",
      "[WDM] - Get LATEST chromedriver version for 103.0.5060 google-chrome\n",
      "[WDM] - Driver [C:\\Users\\jvaym\\.wdm\\drivers\\chromedriver\\win32\\103.0.5060.53\\chromedriver.exe] found in cache\n"
     ]
    },
    {
     "name": "stdout",
     "output_type": "stream",
     "text": [
      "\n"
     ]
    },
    {
     "name": "stderr",
     "output_type": "stream",
     "text": [
      "[WDM] - ====== WebDriver manager ======\n",
      "[WDM] - Current google-chrome version is 103.0.5060\n",
      "[WDM] - Get LATEST chromedriver version for 103.0.5060 google-chrome\n",
      "[WDM] - Driver [C:\\Users\\jvaym\\.wdm\\drivers\\chromedriver\\win32\\103.0.5060.53\\chromedriver.exe] found in cache\n"
     ]
    },
    {
     "name": "stdout",
     "output_type": "stream",
     "text": [
      "\n"
     ]
    },
    {
     "name": "stderr",
     "output_type": "stream",
     "text": [
      "[WDM] - ====== WebDriver manager ======\n",
      "[WDM] - Current google-chrome version is 103.0.5060\n",
      "[WDM] - Get LATEST chromedriver version for 103.0.5060 google-chrome\n",
      "[WDM] - Driver [C:\\Users\\jvaym\\.wdm\\drivers\\chromedriver\\win32\\103.0.5060.53\\chromedriver.exe] found in cache\n"
     ]
    },
    {
     "name": "stdout",
     "output_type": "stream",
     "text": [
      "\n"
     ]
    },
    {
     "name": "stderr",
     "output_type": "stream",
     "text": [
      "[WDM] - ====== WebDriver manager ======\n",
      "[WDM] - Current google-chrome version is 103.0.5060\n",
      "[WDM] - Get LATEST chromedriver version for 103.0.5060 google-chrome\n",
      "[WDM] - Driver [C:\\Users\\jvaym\\.wdm\\drivers\\chromedriver\\win32\\103.0.5060.53\\chromedriver.exe] found in cache\n"
     ]
    },
    {
     "name": "stdout",
     "output_type": "stream",
     "text": [
      "\n"
     ]
    },
    {
     "name": "stderr",
     "output_type": "stream",
     "text": [
      "[WDM] - ====== WebDriver manager ======\n",
      "[WDM] - Current google-chrome version is 103.0.5060\n",
      "[WDM] - Get LATEST chromedriver version for 103.0.5060 google-chrome\n",
      "[WDM] - Driver [C:\\Users\\jvaym\\.wdm\\drivers\\chromedriver\\win32\\103.0.5060.53\\chromedriver.exe] found in cache\n"
     ]
    },
    {
     "name": "stdout",
     "output_type": "stream",
     "text": [
      "\n"
     ]
    },
    {
     "name": "stderr",
     "output_type": "stream",
     "text": [
      "[WDM] - ====== WebDriver manager ======\n",
      "[WDM] - Current google-chrome version is 103.0.5060\n",
      "[WDM] - Get LATEST chromedriver version for 103.0.5060 google-chrome\n",
      "[WDM] - Driver [C:\\Users\\jvaym\\.wdm\\drivers\\chromedriver\\win32\\103.0.5060.53\\chromedriver.exe] found in cache\n"
     ]
    },
    {
     "name": "stdout",
     "output_type": "stream",
     "text": [
      "\n"
     ]
    },
    {
     "name": "stderr",
     "output_type": "stream",
     "text": [
      "[WDM] - ====== WebDriver manager ======\n",
      "[WDM] - Current google-chrome version is 103.0.5060\n",
      "[WDM] - Get LATEST chromedriver version for 103.0.5060 google-chrome\n",
      "[WDM] - Driver [C:\\Users\\jvaym\\.wdm\\drivers\\chromedriver\\win32\\103.0.5060.53\\chromedriver.exe] found in cache\n"
     ]
    },
    {
     "name": "stdout",
     "output_type": "stream",
     "text": [
      "\n"
     ]
    },
    {
     "name": "stderr",
     "output_type": "stream",
     "text": [
      "[WDM] - ====== WebDriver manager ======\n",
      "[WDM] - Current google-chrome version is 103.0.5060\n",
      "[WDM] - Get LATEST chromedriver version for 103.0.5060 google-chrome\n",
      "[WDM] - Driver [C:\\Users\\jvaym\\.wdm\\drivers\\chromedriver\\win32\\103.0.5060.53\\chromedriver.exe] found in cache\n"
     ]
    },
    {
     "name": "stdout",
     "output_type": "stream",
     "text": [
      "\n"
     ]
    },
    {
     "name": "stderr",
     "output_type": "stream",
     "text": [
      "[WDM] - ====== WebDriver manager ======\n",
      "[WDM] - Current google-chrome version is 103.0.5060\n",
      "[WDM] - Get LATEST chromedriver version for 103.0.5060 google-chrome\n",
      "[WDM] - Driver [C:\\Users\\jvaym\\.wdm\\drivers\\chromedriver\\win32\\103.0.5060.53\\chromedriver.exe] found in cache\n"
     ]
    },
    {
     "name": "stdout",
     "output_type": "stream",
     "text": [
      "\n"
     ]
    },
    {
     "name": "stderr",
     "output_type": "stream",
     "text": [
      "[WDM] - ====== WebDriver manager ======\n",
      "[WDM] - Current google-chrome version is 103.0.5060\n",
      "[WDM] - Get LATEST chromedriver version for 103.0.5060 google-chrome\n",
      "[WDM] - Driver [C:\\Users\\jvaym\\.wdm\\drivers\\chromedriver\\win32\\103.0.5060.53\\chromedriver.exe] found in cache\n"
     ]
    },
    {
     "name": "stdout",
     "output_type": "stream",
     "text": [
      "\n"
     ]
    },
    {
     "name": "stderr",
     "output_type": "stream",
     "text": [
      "[WDM] - ====== WebDriver manager ======\n",
      "[WDM] - Current google-chrome version is 103.0.5060\n",
      "[WDM] - Get LATEST chromedriver version for 103.0.5060 google-chrome\n",
      "[WDM] - Driver [C:\\Users\\jvaym\\.wdm\\drivers\\chromedriver\\win32\\103.0.5060.53\\chromedriver.exe] found in cache\n"
     ]
    },
    {
     "name": "stdout",
     "output_type": "stream",
     "text": [
      "\n"
     ]
    },
    {
     "name": "stderr",
     "output_type": "stream",
     "text": [
      "[WDM] - ====== WebDriver manager ======\n",
      "[WDM] - Current google-chrome version is 103.0.5060\n",
      "[WDM] - Get LATEST chromedriver version for 103.0.5060 google-chrome\n",
      "[WDM] - Driver [C:\\Users\\jvaym\\.wdm\\drivers\\chromedriver\\win32\\103.0.5060.53\\chromedriver.exe] found in cache\n"
     ]
    },
    {
     "name": "stdout",
     "output_type": "stream",
     "text": [
      "\n"
     ]
    },
    {
     "name": "stderr",
     "output_type": "stream",
     "text": [
      "[WDM] - ====== WebDriver manager ======\n",
      "[WDM] - Current google-chrome version is 103.0.5060\n",
      "[WDM] - Get LATEST chromedriver version for 103.0.5060 google-chrome\n",
      "[WDM] - Driver [C:\\Users\\jvaym\\.wdm\\drivers\\chromedriver\\win32\\103.0.5060.53\\chromedriver.exe] found in cache\n"
     ]
    },
    {
     "name": "stdout",
     "output_type": "stream",
     "text": [
      "\n"
     ]
    },
    {
     "name": "stderr",
     "output_type": "stream",
     "text": [
      "[WDM] - ====== WebDriver manager ======\n",
      "[WDM] - Current google-chrome version is 103.0.5060\n",
      "[WDM] - Get LATEST chromedriver version for 103.0.5060 google-chrome\n",
      "[WDM] - Driver [C:\\Users\\jvaym\\.wdm\\drivers\\chromedriver\\win32\\103.0.5060.53\\chromedriver.exe] found in cache\n"
     ]
    },
    {
     "name": "stdout",
     "output_type": "stream",
     "text": [
      "\n"
     ]
    },
    {
     "name": "stderr",
     "output_type": "stream",
     "text": [
      "[WDM] - ====== WebDriver manager ======\n",
      "[WDM] - Current google-chrome version is 103.0.5060\n",
      "[WDM] - Get LATEST chromedriver version for 103.0.5060 google-chrome\n",
      "[WDM] - Driver [C:\\Users\\jvaym\\.wdm\\drivers\\chromedriver\\win32\\103.0.5060.53\\chromedriver.exe] found in cache\n"
     ]
    },
    {
     "name": "stdout",
     "output_type": "stream",
     "text": [
      "\n"
     ]
    },
    {
     "name": "stderr",
     "output_type": "stream",
     "text": [
      "[WDM] - ====== WebDriver manager ======\n",
      "[WDM] - Current google-chrome version is 103.0.5060\n",
      "[WDM] - Get LATEST chromedriver version for 103.0.5060 google-chrome\n",
      "[WDM] - Driver [C:\\Users\\jvaym\\.wdm\\drivers\\chromedriver\\win32\\103.0.5060.53\\chromedriver.exe] found in cache\n"
     ]
    },
    {
     "name": "stdout",
     "output_type": "stream",
     "text": [
      "\n"
     ]
    },
    {
     "name": "stderr",
     "output_type": "stream",
     "text": [
      "[WDM] - ====== WebDriver manager ======\n",
      "[WDM] - Current google-chrome version is 103.0.5060\n",
      "[WDM] - Get LATEST chromedriver version for 103.0.5060 google-chrome\n",
      "[WDM] - Driver [C:\\Users\\jvaym\\.wdm\\drivers\\chromedriver\\win32\\103.0.5060.53\\chromedriver.exe] found in cache\n"
     ]
    },
    {
     "name": "stdout",
     "output_type": "stream",
     "text": [
      "\n"
     ]
    },
    {
     "name": "stderr",
     "output_type": "stream",
     "text": [
      "[WDM] - ====== WebDriver manager ======\n",
      "[WDM] - Current google-chrome version is 103.0.5060\n",
      "[WDM] - Get LATEST chromedriver version for 103.0.5060 google-chrome\n",
      "[WDM] - Driver [C:\\Users\\jvaym\\.wdm\\drivers\\chromedriver\\win32\\103.0.5060.53\\chromedriver.exe] found in cache\n"
     ]
    },
    {
     "name": "stdout",
     "output_type": "stream",
     "text": [
      "\n"
     ]
    },
    {
     "name": "stderr",
     "output_type": "stream",
     "text": [
      "[WDM] - ====== WebDriver manager ======\n",
      "[WDM] - Current google-chrome version is 103.0.5060\n",
      "[WDM] - Get LATEST chromedriver version for 103.0.5060 google-chrome\n",
      "[WDM] - Driver [C:\\Users\\jvaym\\.wdm\\drivers\\chromedriver\\win32\\103.0.5060.53\\chromedriver.exe] found in cache\n"
     ]
    },
    {
     "name": "stdout",
     "output_type": "stream",
     "text": [
      "\n"
     ]
    },
    {
     "name": "stderr",
     "output_type": "stream",
     "text": [
      "[WDM] - ====== WebDriver manager ======\n",
      "[WDM] - Current google-chrome version is 103.0.5060\n",
      "[WDM] - Get LATEST chromedriver version for 103.0.5060 google-chrome\n",
      "[WDM] - Driver [C:\\Users\\jvaym\\.wdm\\drivers\\chromedriver\\win32\\103.0.5060.53\\chromedriver.exe] found in cache\n"
     ]
    },
    {
     "name": "stdout",
     "output_type": "stream",
     "text": [
      "\n"
     ]
    },
    {
     "name": "stderr",
     "output_type": "stream",
     "text": [
      "[WDM] - ====== WebDriver manager ======\n",
      "[WDM] - Current google-chrome version is 103.0.5060\n",
      "[WDM] - Get LATEST chromedriver version for 103.0.5060 google-chrome\n",
      "[WDM] - Driver [C:\\Users\\jvaym\\.wdm\\drivers\\chromedriver\\win32\\103.0.5060.53\\chromedriver.exe] found in cache\n"
     ]
    },
    {
     "name": "stdout",
     "output_type": "stream",
     "text": [
      "\n"
     ]
    },
    {
     "name": "stderr",
     "output_type": "stream",
     "text": [
      "[WDM] - ====== WebDriver manager ======\n",
      "[WDM] - Current google-chrome version is 103.0.5060\n",
      "[WDM] - Get LATEST chromedriver version for 103.0.5060 google-chrome\n",
      "[WDM] - Driver [C:\\Users\\jvaym\\.wdm\\drivers\\chromedriver\\win32\\103.0.5060.53\\chromedriver.exe] found in cache\n"
     ]
    },
    {
     "name": "stdout",
     "output_type": "stream",
     "text": [
      "\n"
     ]
    },
    {
     "name": "stderr",
     "output_type": "stream",
     "text": [
      "[WDM] - ====== WebDriver manager ======\n",
      "[WDM] - Current google-chrome version is 103.0.5060\n",
      "[WDM] - Get LATEST chromedriver version for 103.0.5060 google-chrome\n",
      "[WDM] - Driver [C:\\Users\\jvaym\\.wdm\\drivers\\chromedriver\\win32\\103.0.5060.53\\chromedriver.exe] found in cache\n"
     ]
    },
    {
     "name": "stdout",
     "output_type": "stream",
     "text": [
      "\n"
     ]
    },
    {
     "name": "stderr",
     "output_type": "stream",
     "text": [
      "[WDM] - ====== WebDriver manager ======\n",
      "[WDM] - Current google-chrome version is 103.0.5060\n",
      "[WDM] - Get LATEST chromedriver version for 103.0.5060 google-chrome\n",
      "[WDM] - Driver [C:\\Users\\jvaym\\.wdm\\drivers\\chromedriver\\win32\\103.0.5060.53\\chromedriver.exe] found in cache\n"
     ]
    },
    {
     "name": "stdout",
     "output_type": "stream",
     "text": [
      "\n"
     ]
    },
    {
     "name": "stderr",
     "output_type": "stream",
     "text": [
      "[WDM] - ====== WebDriver manager ======\n",
      "[WDM] - Current google-chrome version is 103.0.5060\n",
      "[WDM] - Get LATEST chromedriver version for 103.0.5060 google-chrome\n",
      "[WDM] - Driver [C:\\Users\\jvaym\\.wdm\\drivers\\chromedriver\\win32\\103.0.5060.53\\chromedriver.exe] found in cache\n"
     ]
    },
    {
     "name": "stdout",
     "output_type": "stream",
     "text": [
      "\n"
     ]
    },
    {
     "name": "stderr",
     "output_type": "stream",
     "text": [
      "[WDM] - ====== WebDriver manager ======\n",
      "[WDM] - Current google-chrome version is 103.0.5060\n",
      "[WDM] - Get LATEST chromedriver version for 103.0.5060 google-chrome\n",
      "[WDM] - Driver [C:\\Users\\jvaym\\.wdm\\drivers\\chromedriver\\win32\\103.0.5060.53\\chromedriver.exe] found in cache\n"
     ]
    },
    {
     "name": "stdout",
     "output_type": "stream",
     "text": [
      "\n"
     ]
    },
    {
     "name": "stderr",
     "output_type": "stream",
     "text": [
      "[WDM] - ====== WebDriver manager ======\n",
      "[WDM] - Current google-chrome version is 103.0.5060\n",
      "[WDM] - Get LATEST chromedriver version for 103.0.5060 google-chrome\n",
      "[WDM] - Driver [C:\\Users\\jvaym\\.wdm\\drivers\\chromedriver\\win32\\103.0.5060.53\\chromedriver.exe] found in cache\n"
     ]
    },
    {
     "name": "stdout",
     "output_type": "stream",
     "text": [
      "\n"
     ]
    },
    {
     "name": "stderr",
     "output_type": "stream",
     "text": [
      "[WDM] - ====== WebDriver manager ======\n",
      "[WDM] - Current google-chrome version is 103.0.5060\n",
      "[WDM] - Get LATEST chromedriver version for 103.0.5060 google-chrome\n",
      "[WDM] - Driver [C:\\Users\\jvaym\\.wdm\\drivers\\chromedriver\\win32\\103.0.5060.53\\chromedriver.exe] found in cache\n"
     ]
    },
    {
     "name": "stdout",
     "output_type": "stream",
     "text": [
      "\n"
     ]
    },
    {
     "name": "stderr",
     "output_type": "stream",
     "text": [
      "[WDM] - ====== WebDriver manager ======\n",
      "[WDM] - Current google-chrome version is 103.0.5060\n",
      "[WDM] - Get LATEST chromedriver version for 103.0.5060 google-chrome\n",
      "[WDM] - Driver [C:\\Users\\jvaym\\.wdm\\drivers\\chromedriver\\win32\\103.0.5060.53\\chromedriver.exe] found in cache\n"
     ]
    },
    {
     "name": "stdout",
     "output_type": "stream",
     "text": [
      "\n"
     ]
    },
    {
     "name": "stderr",
     "output_type": "stream",
     "text": [
      "[WDM] - ====== WebDriver manager ======\n",
      "[WDM] - Current google-chrome version is 103.0.5060\n",
      "[WDM] - Get LATEST chromedriver version for 103.0.5060 google-chrome\n",
      "[WDM] - Driver [C:\\Users\\jvaym\\.wdm\\drivers\\chromedriver\\win32\\103.0.5060.53\\chromedriver.exe] found in cache\n"
     ]
    },
    {
     "name": "stdout",
     "output_type": "stream",
     "text": [
      "\n"
     ]
    },
    {
     "name": "stderr",
     "output_type": "stream",
     "text": [
      "[WDM] - ====== WebDriver manager ======\n",
      "[WDM] - Current google-chrome version is 103.0.5060\n",
      "[WDM] - Get LATEST chromedriver version for 103.0.5060 google-chrome\n",
      "[WDM] - Driver [C:\\Users\\jvaym\\.wdm\\drivers\\chromedriver\\win32\\103.0.5060.53\\chromedriver.exe] found in cache\n"
     ]
    },
    {
     "name": "stdout",
     "output_type": "stream",
     "text": [
      "\n"
     ]
    },
    {
     "name": "stderr",
     "output_type": "stream",
     "text": [
      "[WDM] - ====== WebDriver manager ======\n",
      "[WDM] - Current google-chrome version is 103.0.5060\n",
      "[WDM] - Get LATEST chromedriver version for 103.0.5060 google-chrome\n",
      "[WDM] - Driver [C:\\Users\\jvaym\\.wdm\\drivers\\chromedriver\\win32\\103.0.5060.53\\chromedriver.exe] found in cache\n"
     ]
    },
    {
     "name": "stdout",
     "output_type": "stream",
     "text": [
      "\n"
     ]
    },
    {
     "name": "stderr",
     "output_type": "stream",
     "text": [
      "[WDM] - ====== WebDriver manager ======\n",
      "[WDM] - Current google-chrome version is 103.0.5060\n",
      "[WDM] - Get LATEST chromedriver version for 103.0.5060 google-chrome\n",
      "[WDM] - Driver [C:\\Users\\jvaym\\.wdm\\drivers\\chromedriver\\win32\\103.0.5060.53\\chromedriver.exe] found in cache\n"
     ]
    },
    {
     "name": "stdout",
     "output_type": "stream",
     "text": [
      "\n"
     ]
    },
    {
     "name": "stderr",
     "output_type": "stream",
     "text": [
      "[WDM] - ====== WebDriver manager ======\n",
      "[WDM] - Current google-chrome version is 103.0.5060\n",
      "[WDM] - Get LATEST chromedriver version for 103.0.5060 google-chrome\n",
      "[WDM] - Driver [C:\\Users\\jvaym\\.wdm\\drivers\\chromedriver\\win32\\103.0.5060.53\\chromedriver.exe] found in cache\n"
     ]
    },
    {
     "name": "stdout",
     "output_type": "stream",
     "text": [
      "\n"
     ]
    },
    {
     "name": "stderr",
     "output_type": "stream",
     "text": [
      "[WDM] - ====== WebDriver manager ======\n",
      "[WDM] - Current google-chrome version is 103.0.5060\n",
      "[WDM] - Get LATEST chromedriver version for 103.0.5060 google-chrome\n",
      "[WDM] - Driver [C:\\Users\\jvaym\\.wdm\\drivers\\chromedriver\\win32\\103.0.5060.53\\chromedriver.exe] found in cache\n"
     ]
    },
    {
     "name": "stdout",
     "output_type": "stream",
     "text": [
      "\n"
     ]
    },
    {
     "name": "stderr",
     "output_type": "stream",
     "text": [
      "[WDM] - ====== WebDriver manager ======\n",
      "[WDM] - Current google-chrome version is 103.0.5060\n",
      "[WDM] - Get LATEST chromedriver version for 103.0.5060 google-chrome\n",
      "[WDM] - Driver [C:\\Users\\jvaym\\.wdm\\drivers\\chromedriver\\win32\\103.0.5060.53\\chromedriver.exe] found in cache\n"
     ]
    },
    {
     "name": "stdout",
     "output_type": "stream",
     "text": [
      "\n"
     ]
    },
    {
     "name": "stderr",
     "output_type": "stream",
     "text": [
      "[WDM] - ====== WebDriver manager ======\n",
      "[WDM] - Current google-chrome version is 103.0.5060\n",
      "[WDM] - Get LATEST chromedriver version for 103.0.5060 google-chrome\n",
      "[WDM] - Driver [C:\\Users\\jvaym\\.wdm\\drivers\\chromedriver\\win32\\103.0.5060.53\\chromedriver.exe] found in cache\n"
     ]
    },
    {
     "name": "stdout",
     "output_type": "stream",
     "text": [
      "\n"
     ]
    },
    {
     "name": "stderr",
     "output_type": "stream",
     "text": [
      "[WDM] - ====== WebDriver manager ======\n",
      "[WDM] - Current google-chrome version is 103.0.5060\n",
      "[WDM] - Get LATEST chromedriver version for 103.0.5060 google-chrome\n",
      "[WDM] - Driver [C:\\Users\\jvaym\\.wdm\\drivers\\chromedriver\\win32\\103.0.5060.53\\chromedriver.exe] found in cache\n"
     ]
    },
    {
     "name": "stdout",
     "output_type": "stream",
     "text": [
      "\n"
     ]
    },
    {
     "name": "stderr",
     "output_type": "stream",
     "text": [
      "[WDM] - ====== WebDriver manager ======\n",
      "[WDM] - Current google-chrome version is 103.0.5060\n",
      "[WDM] - Get LATEST chromedriver version for 103.0.5060 google-chrome\n",
      "[WDM] - Driver [C:\\Users\\jvaym\\.wdm\\drivers\\chromedriver\\win32\\103.0.5060.53\\chromedriver.exe] found in cache\n"
     ]
    },
    {
     "name": "stdout",
     "output_type": "stream",
     "text": [
      "\n"
     ]
    },
    {
     "name": "stderr",
     "output_type": "stream",
     "text": [
      "[WDM] - ====== WebDriver manager ======\n",
      "[WDM] - Current google-chrome version is 103.0.5060\n",
      "[WDM] - Get LATEST chromedriver version for 103.0.5060 google-chrome\n",
      "[WDM] - Driver [C:\\Users\\jvaym\\.wdm\\drivers\\chromedriver\\win32\\103.0.5060.53\\chromedriver.exe] found in cache\n"
     ]
    },
    {
     "name": "stdout",
     "output_type": "stream",
     "text": [
      "\n"
     ]
    },
    {
     "name": "stderr",
     "output_type": "stream",
     "text": [
      "[WDM] - ====== WebDriver manager ======\n",
      "[WDM] - Current google-chrome version is 103.0.5060\n",
      "[WDM] - Get LATEST chromedriver version for 103.0.5060 google-chrome\n",
      "[WDM] - Driver [C:\\Users\\jvaym\\.wdm\\drivers\\chromedriver\\win32\\103.0.5060.53\\chromedriver.exe] found in cache\n"
     ]
    },
    {
     "name": "stdout",
     "output_type": "stream",
     "text": [
      "\n"
     ]
    },
    {
     "name": "stderr",
     "output_type": "stream",
     "text": [
      "[WDM] - ====== WebDriver manager ======\n",
      "[WDM] - Current google-chrome version is 103.0.5060\n",
      "[WDM] - Get LATEST chromedriver version for 103.0.5060 google-chrome\n",
      "[WDM] - Driver [C:\\Users\\jvaym\\.wdm\\drivers\\chromedriver\\win32\\103.0.5060.53\\chromedriver.exe] found in cache\n"
     ]
    },
    {
     "name": "stdout",
     "output_type": "stream",
     "text": [
      "\n"
     ]
    },
    {
     "name": "stderr",
     "output_type": "stream",
     "text": [
      "[WDM] - ====== WebDriver manager ======\n",
      "[WDM] - Current google-chrome version is 103.0.5060\n",
      "[WDM] - Get LATEST chromedriver version for 103.0.5060 google-chrome\n",
      "[WDM] - Driver [C:\\Users\\jvaym\\.wdm\\drivers\\chromedriver\\win32\\103.0.5060.53\\chromedriver.exe] found in cache\n"
     ]
    },
    {
     "name": "stdout",
     "output_type": "stream",
     "text": [
      "\n"
     ]
    },
    {
     "name": "stderr",
     "output_type": "stream",
     "text": [
      "[WDM] - ====== WebDriver manager ======\n",
      "[WDM] - Current google-chrome version is 103.0.5060\n",
      "[WDM] - Get LATEST chromedriver version for 103.0.5060 google-chrome\n",
      "[WDM] - Driver [C:\\Users\\jvaym\\.wdm\\drivers\\chromedriver\\win32\\103.0.5060.53\\chromedriver.exe] found in cache\n"
     ]
    },
    {
     "name": "stdout",
     "output_type": "stream",
     "text": [
      "\n"
     ]
    },
    {
     "name": "stderr",
     "output_type": "stream",
     "text": [
      "[WDM] - ====== WebDriver manager ======\n",
      "[WDM] - Current google-chrome version is 103.0.5060\n",
      "[WDM] - Get LATEST chromedriver version for 103.0.5060 google-chrome\n",
      "[WDM] - Driver [C:\\Users\\jvaym\\.wdm\\drivers\\chromedriver\\win32\\103.0.5060.53\\chromedriver.exe] found in cache\n"
     ]
    },
    {
     "name": "stdout",
     "output_type": "stream",
     "text": [
      "\n"
     ]
    },
    {
     "name": "stderr",
     "output_type": "stream",
     "text": [
      "[WDM] - ====== WebDriver manager ======\n",
      "[WDM] - Current google-chrome version is 103.0.5060\n",
      "[WDM] - Get LATEST chromedriver version for 103.0.5060 google-chrome\n",
      "[WDM] - Driver [C:\\Users\\jvaym\\.wdm\\drivers\\chromedriver\\win32\\103.0.5060.53\\chromedriver.exe] found in cache\n"
     ]
    },
    {
     "name": "stdout",
     "output_type": "stream",
     "text": [
      "\n"
     ]
    },
    {
     "name": "stderr",
     "output_type": "stream",
     "text": [
      "[WDM] - ====== WebDriver manager ======\n",
      "[WDM] - Current google-chrome version is 103.0.5060\n",
      "[WDM] - Get LATEST chromedriver version for 103.0.5060 google-chrome\n",
      "[WDM] - Driver [C:\\Users\\jvaym\\.wdm\\drivers\\chromedriver\\win32\\103.0.5060.53\\chromedriver.exe] found in cache\n"
     ]
    },
    {
     "name": "stdout",
     "output_type": "stream",
     "text": [
      "\n"
     ]
    },
    {
     "name": "stderr",
     "output_type": "stream",
     "text": [
      "[WDM] - ====== WebDriver manager ======\n",
      "[WDM] - Current google-chrome version is 103.0.5060\n",
      "[WDM] - Get LATEST chromedriver version for 103.0.5060 google-chrome\n",
      "[WDM] - Driver [C:\\Users\\jvaym\\.wdm\\drivers\\chromedriver\\win32\\103.0.5060.53\\chromedriver.exe] found in cache\n"
     ]
    },
    {
     "name": "stdout",
     "output_type": "stream",
     "text": [
      "\n"
     ]
    },
    {
     "name": "stderr",
     "output_type": "stream",
     "text": [
      "[WDM] - ====== WebDriver manager ======\n",
      "[WDM] - Current google-chrome version is 103.0.5060\n",
      "[WDM] - Get LATEST chromedriver version for 103.0.5060 google-chrome\n",
      "[WDM] - Driver [C:\\Users\\jvaym\\.wdm\\drivers\\chromedriver\\win32\\103.0.5060.53\\chromedriver.exe] found in cache\n"
     ]
    },
    {
     "name": "stdout",
     "output_type": "stream",
     "text": [
      "\n"
     ]
    },
    {
     "name": "stderr",
     "output_type": "stream",
     "text": [
      "[WDM] - ====== WebDriver manager ======\n",
      "[WDM] - Current google-chrome version is 103.0.5060\n",
      "[WDM] - Get LATEST chromedriver version for 103.0.5060 google-chrome\n",
      "[WDM] - Driver [C:\\Users\\jvaym\\.wdm\\drivers\\chromedriver\\win32\\103.0.5060.53\\chromedriver.exe] found in cache\n"
     ]
    },
    {
     "name": "stdout",
     "output_type": "stream",
     "text": [
      "\n"
     ]
    },
    {
     "name": "stderr",
     "output_type": "stream",
     "text": [
      "[WDM] - ====== WebDriver manager ======\n",
      "[WDM] - Current google-chrome version is 103.0.5060\n",
      "[WDM] - Get LATEST chromedriver version for 103.0.5060 google-chrome\n",
      "[WDM] - Driver [C:\\Users\\jvaym\\.wdm\\drivers\\chromedriver\\win32\\103.0.5060.53\\chromedriver.exe] found in cache\n"
     ]
    },
    {
     "name": "stdout",
     "output_type": "stream",
     "text": [
      "\n"
     ]
    },
    {
     "name": "stderr",
     "output_type": "stream",
     "text": [
      "[WDM] - ====== WebDriver manager ======\n",
      "[WDM] - Current google-chrome version is 103.0.5060\n",
      "[WDM] - Get LATEST chromedriver version for 103.0.5060 google-chrome\n",
      "[WDM] - Driver [C:\\Users\\jvaym\\.wdm\\drivers\\chromedriver\\win32\\103.0.5060.53\\chromedriver.exe] found in cache\n"
     ]
    },
    {
     "name": "stdout",
     "output_type": "stream",
     "text": [
      "\n"
     ]
    },
    {
     "name": "stderr",
     "output_type": "stream",
     "text": [
      "[WDM] - ====== WebDriver manager ======\n",
      "[WDM] - Current google-chrome version is 103.0.5060\n",
      "[WDM] - Get LATEST chromedriver version for 103.0.5060 google-chrome\n",
      "[WDM] - Driver [C:\\Users\\jvaym\\.wdm\\drivers\\chromedriver\\win32\\103.0.5060.53\\chromedriver.exe] found in cache\n"
     ]
    },
    {
     "name": "stdout",
     "output_type": "stream",
     "text": [
      "\n"
     ]
    },
    {
     "name": "stderr",
     "output_type": "stream",
     "text": [
      "[WDM] - ====== WebDriver manager ======\n",
      "[WDM] - Current google-chrome version is 103.0.5060\n",
      "[WDM] - Get LATEST chromedriver version for 103.0.5060 google-chrome\n",
      "[WDM] - Driver [C:\\Users\\jvaym\\.wdm\\drivers\\chromedriver\\win32\\103.0.5060.53\\chromedriver.exe] found in cache\n"
     ]
    },
    {
     "name": "stdout",
     "output_type": "stream",
     "text": [
      "\n"
     ]
    },
    {
     "name": "stderr",
     "output_type": "stream",
     "text": [
      "[WDM] - ====== WebDriver manager ======\n",
      "[WDM] - Current google-chrome version is 103.0.5060\n",
      "[WDM] - Get LATEST chromedriver version for 103.0.5060 google-chrome\n",
      "[WDM] - Driver [C:\\Users\\jvaym\\.wdm\\drivers\\chromedriver\\win32\\103.0.5060.53\\chromedriver.exe] found in cache\n"
     ]
    },
    {
     "name": "stdout",
     "output_type": "stream",
     "text": [
      "\n"
     ]
    },
    {
     "name": "stderr",
     "output_type": "stream",
     "text": [
      "[WDM] - ====== WebDriver manager ======\n",
      "[WDM] - Current google-chrome version is 103.0.5060\n",
      "[WDM] - Get LATEST chromedriver version for 103.0.5060 google-chrome\n",
      "[WDM] - Driver [C:\\Users\\jvaym\\.wdm\\drivers\\chromedriver\\win32\\103.0.5060.53\\chromedriver.exe] found in cache\n"
     ]
    },
    {
     "name": "stdout",
     "output_type": "stream",
     "text": [
      "\n"
     ]
    },
    {
     "name": "stderr",
     "output_type": "stream",
     "text": [
      "[WDM] - ====== WebDriver manager ======\n",
      "[WDM] - Current google-chrome version is 103.0.5060\n",
      "[WDM] - Get LATEST chromedriver version for 103.0.5060 google-chrome\n",
      "[WDM] - Driver [C:\\Users\\jvaym\\.wdm\\drivers\\chromedriver\\win32\\103.0.5060.53\\chromedriver.exe] found in cache\n"
     ]
    },
    {
     "name": "stdout",
     "output_type": "stream",
     "text": [
      "\n"
     ]
    },
    {
     "name": "stderr",
     "output_type": "stream",
     "text": [
      "[WDM] - ====== WebDriver manager ======\n",
      "[WDM] - Current google-chrome version is 103.0.5060\n",
      "[WDM] - Get LATEST chromedriver version for 103.0.5060 google-chrome\n",
      "[WDM] - Driver [C:\\Users\\jvaym\\.wdm\\drivers\\chromedriver\\win32\\103.0.5060.53\\chromedriver.exe] found in cache\n"
     ]
    },
    {
     "name": "stdout",
     "output_type": "stream",
     "text": [
      "\n"
     ]
    },
    {
     "name": "stderr",
     "output_type": "stream",
     "text": [
      "[WDM] - ====== WebDriver manager ======\n",
      "[WDM] - Current google-chrome version is 103.0.5060\n",
      "[WDM] - Get LATEST chromedriver version for 103.0.5060 google-chrome\n",
      "[WDM] - Driver [C:\\Users\\jvaym\\.wdm\\drivers\\chromedriver\\win32\\103.0.5060.53\\chromedriver.exe] found in cache\n"
     ]
    },
    {
     "name": "stdout",
     "output_type": "stream",
     "text": [
      "\n"
     ]
    },
    {
     "name": "stderr",
     "output_type": "stream",
     "text": [
      "[WDM] - ====== WebDriver manager ======\n",
      "[WDM] - Current google-chrome version is 103.0.5060\n",
      "[WDM] - Get LATEST chromedriver version for 103.0.5060 google-chrome\n",
      "[WDM] - Driver [C:\\Users\\jvaym\\.wdm\\drivers\\chromedriver\\win32\\103.0.5060.53\\chromedriver.exe] found in cache\n"
     ]
    },
    {
     "name": "stdout",
     "output_type": "stream",
     "text": [
      "\n"
     ]
    },
    {
     "name": "stderr",
     "output_type": "stream",
     "text": [
      "[WDM] - ====== WebDriver manager ======\n",
      "[WDM] - Current google-chrome version is 103.0.5060\n",
      "[WDM] - Get LATEST chromedriver version for 103.0.5060 google-chrome\n",
      "[WDM] - Driver [C:\\Users\\jvaym\\.wdm\\drivers\\chromedriver\\win32\\103.0.5060.53\\chromedriver.exe] found in cache\n"
     ]
    },
    {
     "name": "stdout",
     "output_type": "stream",
     "text": [
      "\n"
     ]
    },
    {
     "name": "stderr",
     "output_type": "stream",
     "text": [
      "[WDM] - ====== WebDriver manager ======\n",
      "[WDM] - Current google-chrome version is 103.0.5060\n",
      "[WDM] - Get LATEST chromedriver version for 103.0.5060 google-chrome\n",
      "[WDM] - Driver [C:\\Users\\jvaym\\.wdm\\drivers\\chromedriver\\win32\\103.0.5060.53\\chromedriver.exe] found in cache\n"
     ]
    },
    {
     "name": "stdout",
     "output_type": "stream",
     "text": [
      "\n"
     ]
    },
    {
     "name": "stderr",
     "output_type": "stream",
     "text": [
      "[WDM] - ====== WebDriver manager ======\n",
      "[WDM] - Current google-chrome version is 103.0.5060\n",
      "[WDM] - Get LATEST chromedriver version for 103.0.5060 google-chrome\n",
      "[WDM] - Driver [C:\\Users\\jvaym\\.wdm\\drivers\\chromedriver\\win32\\103.0.5060.53\\chromedriver.exe] found in cache\n"
     ]
    },
    {
     "name": "stdout",
     "output_type": "stream",
     "text": [
      "\n"
     ]
    },
    {
     "name": "stderr",
     "output_type": "stream",
     "text": [
      "[WDM] - ====== WebDriver manager ======\n",
      "[WDM] - Current google-chrome version is 103.0.5060\n",
      "[WDM] - Get LATEST chromedriver version for 103.0.5060 google-chrome\n",
      "[WDM] - Driver [C:\\Users\\jvaym\\.wdm\\drivers\\chromedriver\\win32\\103.0.5060.53\\chromedriver.exe] found in cache\n"
     ]
    },
    {
     "name": "stdout",
     "output_type": "stream",
     "text": [
      "\n"
     ]
    },
    {
     "name": "stderr",
     "output_type": "stream",
     "text": [
      "[WDM] - ====== WebDriver manager ======\n",
      "[WDM] - Current google-chrome version is 103.0.5060\n",
      "[WDM] - Get LATEST chromedriver version for 103.0.5060 google-chrome\n",
      "[WDM] - Driver [C:\\Users\\jvaym\\.wdm\\drivers\\chromedriver\\win32\\103.0.5060.53\\chromedriver.exe] found in cache\n"
     ]
    },
    {
     "name": "stdout",
     "output_type": "stream",
     "text": [
      "\n"
     ]
    },
    {
     "name": "stderr",
     "output_type": "stream",
     "text": [
      "[WDM] - ====== WebDriver manager ======\n",
      "[WDM] - Current google-chrome version is 103.0.5060\n",
      "[WDM] - Get LATEST chromedriver version for 103.0.5060 google-chrome\n",
      "[WDM] - Driver [C:\\Users\\jvaym\\.wdm\\drivers\\chromedriver\\win32\\103.0.5060.53\\chromedriver.exe] found in cache\n"
     ]
    },
    {
     "name": "stdout",
     "output_type": "stream",
     "text": [
      "\n"
     ]
    },
    {
     "name": "stderr",
     "output_type": "stream",
     "text": [
      "[WDM] - ====== WebDriver manager ======\n",
      "[WDM] - Current google-chrome version is 103.0.5060\n",
      "[WDM] - Get LATEST chromedriver version for 103.0.5060 google-chrome\n",
      "[WDM] - Driver [C:\\Users\\jvaym\\.wdm\\drivers\\chromedriver\\win32\\103.0.5060.53\\chromedriver.exe] found in cache\n"
     ]
    },
    {
     "name": "stdout",
     "output_type": "stream",
     "text": [
      "\n"
     ]
    },
    {
     "name": "stderr",
     "output_type": "stream",
     "text": [
      "[WDM] - ====== WebDriver manager ======\n",
      "[WDM] - Current google-chrome version is 103.0.5060\n",
      "[WDM] - Get LATEST chromedriver version for 103.0.5060 google-chrome\n",
      "[WDM] - Driver [C:\\Users\\jvaym\\.wdm\\drivers\\chromedriver\\win32\\103.0.5060.53\\chromedriver.exe] found in cache\n"
     ]
    },
    {
     "name": "stdout",
     "output_type": "stream",
     "text": [
      "\n"
     ]
    },
    {
     "name": "stderr",
     "output_type": "stream",
     "text": [
      "[WDM] - ====== WebDriver manager ======\n",
      "[WDM] - Current google-chrome version is 103.0.5060\n",
      "[WDM] - Get LATEST chromedriver version for 103.0.5060 google-chrome\n",
      "[WDM] - Driver [C:\\Users\\jvaym\\.wdm\\drivers\\chromedriver\\win32\\103.0.5060.53\\chromedriver.exe] found in cache\n"
     ]
    },
    {
     "name": "stdout",
     "output_type": "stream",
     "text": [
      "\n"
     ]
    },
    {
     "name": "stderr",
     "output_type": "stream",
     "text": [
      "[WDM] - ====== WebDriver manager ======\n",
      "[WDM] - Current google-chrome version is 103.0.5060\n",
      "[WDM] - Get LATEST chromedriver version for 103.0.5060 google-chrome\n",
      "[WDM] - Driver [C:\\Users\\jvaym\\.wdm\\drivers\\chromedriver\\win32\\103.0.5060.53\\chromedriver.exe] found in cache\n"
     ]
    },
    {
     "name": "stdout",
     "output_type": "stream",
     "text": [
      "\n"
     ]
    },
    {
     "name": "stderr",
     "output_type": "stream",
     "text": [
      "[WDM] - ====== WebDriver manager ======\n",
      "[WDM] - Current google-chrome version is 103.0.5060\n",
      "[WDM] - Get LATEST chromedriver version for 103.0.5060 google-chrome\n",
      "[WDM] - Driver [C:\\Users\\jvaym\\.wdm\\drivers\\chromedriver\\win32\\103.0.5060.53\\chromedriver.exe] found in cache\n"
     ]
    },
    {
     "name": "stdout",
     "output_type": "stream",
     "text": [
      "\n"
     ]
    },
    {
     "name": "stderr",
     "output_type": "stream",
     "text": [
      "[WDM] - ====== WebDriver manager ======\n",
      "[WDM] - Current google-chrome version is 103.0.5060\n",
      "[WDM] - Get LATEST chromedriver version for 103.0.5060 google-chrome\n",
      "[WDM] - Driver [C:\\Users\\jvaym\\.wdm\\drivers\\chromedriver\\win32\\103.0.5060.53\\chromedriver.exe] found in cache\n"
     ]
    },
    {
     "name": "stdout",
     "output_type": "stream",
     "text": [
      "\n"
     ]
    },
    {
     "name": "stderr",
     "output_type": "stream",
     "text": [
      "[WDM] - ====== WebDriver manager ======\n",
      "[WDM] - Current google-chrome version is 103.0.5060\n",
      "[WDM] - Get LATEST chromedriver version for 103.0.5060 google-chrome\n",
      "[WDM] - Driver [C:\\Users\\jvaym\\.wdm\\drivers\\chromedriver\\win32\\103.0.5060.53\\chromedriver.exe] found in cache\n"
     ]
    },
    {
     "name": "stdout",
     "output_type": "stream",
     "text": [
      "\n"
     ]
    },
    {
     "name": "stderr",
     "output_type": "stream",
     "text": [
      "[WDM] - ====== WebDriver manager ======\n",
      "[WDM] - Current google-chrome version is 103.0.5060\n",
      "[WDM] - Get LATEST chromedriver version for 103.0.5060 google-chrome\n",
      "[WDM] - Driver [C:\\Users\\jvaym\\.wdm\\drivers\\chromedriver\\win32\\103.0.5060.53\\chromedriver.exe] found in cache\n"
     ]
    },
    {
     "name": "stdout",
     "output_type": "stream",
     "text": [
      "\n"
     ]
    },
    {
     "name": "stderr",
     "output_type": "stream",
     "text": [
      "[WDM] - ====== WebDriver manager ======\n",
      "[WDM] - Current google-chrome version is 103.0.5060\n",
      "[WDM] - Get LATEST chromedriver version for 103.0.5060 google-chrome\n",
      "[WDM] - Driver [C:\\Users\\jvaym\\.wdm\\drivers\\chromedriver\\win32\\103.0.5060.53\\chromedriver.exe] found in cache\n"
     ]
    },
    {
     "name": "stdout",
     "output_type": "stream",
     "text": [
      "\n"
     ]
    },
    {
     "name": "stderr",
     "output_type": "stream",
     "text": [
      "[WDM] - ====== WebDriver manager ======\n",
      "[WDM] - Current google-chrome version is 103.0.5060\n",
      "[WDM] - Get LATEST chromedriver version for 103.0.5060 google-chrome\n",
      "[WDM] - Driver [C:\\Users\\jvaym\\.wdm\\drivers\\chromedriver\\win32\\103.0.5060.53\\chromedriver.exe] found in cache\n"
     ]
    }
   ],
   "source": [
    "url = 'https://proverbia.net/frases-cortas'\n",
    "frases = []\n",
    "for e in range(1, 433):\n",
    "    driver = webdriver.Chrome(ChromeDriverManager().install()) #Selenium\n",
    "    time.sleep(2)\n",
    "    driver.get(url+'/'+str(e))\n",
    "    time.sleep(2)\n",
    "    #x = driver.find_elements_by_xpath('/html/body/div[2]/div/div[1]/div/blockquote[1]/p')\n",
    "    x = driver.find_elements_by_tag_name('blockquote')\n",
    "    time.sleep(3)\n",
    "    for r, s in enumerate(x):\n",
    "        frases.append(s.text.split('\\n'))\n",
    "    if r >= len(x)-1:\n",
    "        driver.quit()\n",
    "    #y = driver.find_element_by_xpath('/html/body/div[2]/div/div[1]/nav/ul/li[8]/a').click()"
   ]
  },
  {
   "cell_type": "code",
   "execution_count": null,
   "id": "90a75bd1",
   "metadata": {},
   "outputs": [],
   "source": []
  },
  {
   "cell_type": "code",
   "execution_count": 52,
   "id": "2aaee868",
   "metadata": {},
   "outputs": [
    {
     "data": {
      "text/plain": [
       "[['Un amigo es uno que lo sabe todo de ti y a pesar de ello te quiere.',\n",
       "  'Elbert Hubbard (1856-1915) Ensayista estadounidense.',\n",
       "  'SENTIMIENTOS / AMISTAD'],\n",
       " ['Si sientes que todo perdió su sentido, siempre habrá un ¨te quiero¨, siempre habrá un amigo.',\n",
       "  'Emerson (1803-1882) Poeta y pensador estadounidense.',\n",
       "  'SENTIMIENTOS / AMISTAD / AMIGOS'],\n",
       " ['La amistad es más difícil y más rara que el amor. Por eso, hay que salvarla como sea.',\n",
       "  'Alberto Moravia (1907-1990) Alberto Pincherle. Escritor italiano.',\n",
       "  'SENTIMIENTOS / AMISTAD'],\n",
       " ['Ama hasta que te duela. Si te duele es buena señal.',\n",
       "  'Madre Teresa de Calcuta (1910-1997) Misionera de origen albanés naturalizada india',\n",
       "  'SENTIMIENTOS / AMOR / AMAR'],\n",
       " ['Un hermano puede no ser un amigo, pero un amigo será siempre un hermano.',\n",
       "  'Demetrio de Falero (350 AC-280 AC) Orador, filósofo y gobernante ateniense.',\n",
       "  'SENTIMIENTOS / AMISTAD'],\n",
       " ['Te amo para amarte y no para ser amado, puesto que nada me place tanto como verte a ti feliz.',\n",
       "  'George Sand (1804-1876) Escritora francesa.',\n",
       "  'SENTIMIENTOS / AMOR / AMAR'],\n",
       " ['En un beso, sabrás todo lo que he callado.',\n",
       "  'Pablo Neruda (1904-1973) Poeta chileno.',\n",
       "  'SENTIMIENTOS / AMOR / BESOS'],\n",
       " ['No olvides nunca que el primer beso no se da con la boca, sino con los ojos.',\n",
       "  'O. K. Bernhardt Escritor alemán.',\n",
       "  'SENTIMIENTOS / AMOR / BESOS'],\n",
       " ['Cuando mi voz calle con la muerte, mi corazón te seguirá hablando.',\n",
       "  'Rabindranath Tagore (1861-1941) Filósofo y escritor indio.',\n",
       "  'SENTIMIENTOS / AMOR / CORAZÓN'],\n",
       " ['La amistad es un alma que habita en dos cuerpos; un corazón que habita en dos almas.',\n",
       "  'Aristóteles (384 AC-322 AC) Filósofo griego.',\n",
       "  'SENTIMIENTOS / AMISTAD'],\n",
       " ['El amor es: el dolor de vivir lejos del ser amado.',\n",
       "  'Anónimo',\n",
       "  'SENTIMIENTOS / AMOR'],\n",
       " ['El que busca un amigo sin defectos se queda sin amigos.',\n",
       "  'Proverbio turco',\n",
       "  'SENTIMIENTOS / AMISTAD'],\n",
       " ['Uno está enamorado cuando se da cuenta de que otra persona es única.',\n",
       "  'Jorge Luis Borges (1899-1986) Escritor argentino.',\n",
       "  'SENTIMIENTOS / AMOR'],\n",
       " ['Por muy larga que sea la tormenta, el sol siempre vuelve a brillar entre las nubes.',\n",
       "  'Khalil Gibran (1883-1931) Ensayista, novelista y poeta libanés.',\n",
       "  'SENTIMIENTOS / ESPERANZA'],\n",
       " ['Por una mirada, un mundo;',\n",
       "  'por una sonrisa, un cielo;',\n",
       "  'por un beso... yo no sé',\n",
       "  'qué te diera por un beso.',\n",
       "  'Gustavo Adolfo Bécquer (1836-1870) Poeta español.',\n",
       "  'SENTIMIENTOS / AMOR / BESOS'],\n",
       " ['El verdadero amor es como los espíritus: todos hablan de ellos, pero pocos los han visto.',\n",
       "  'François de La Rochefoucauld (1613-1680) Escritor francés.',\n",
       "  'SENTIMIENTOS / AMOR'],\n",
       " ['Los verdaderos amigos se tienen que enfadar de vez en cuando.',\n",
       "  'Louis Pasteur (1822-1895) Químico y microbiólogo francés.',\n",
       "  'SENTIMIENTOS / AMISTAD / AMIGOS'],\n",
       " ['La posibilidad de realizar un sueño es lo que hace que la vida sea interesante.',\n",
       "  'Paulo Coelho (1947-?) Escritor brasileño.',\n",
       "  'PENSAMIENTO Y RAZÓN / SUEÑOS'],\n",
       " ['Amar no es solamente querer, es sobre todo comprender.',\n",
       "  'Françoise Sagan (1935-2004) Escritora francesa.',\n",
       "  'SENTIMIENTOS / AMOR / AMAR'],\n",
       " ['Lo pasado ha huido, lo que esperas está ausente, pero el presente es tuyo.',\n",
       "  'Proverbio árabe',\n",
       "  'TIEMPO / PRESENTE'],\n",
       " ['Lo bueno de los años es que curan heridas, lo malo de los besos es que crean adicción.',\n",
       "  'Joaquín Sabina (1949-?) Cantautor y poeta español.',\n",
       "  'SENTIMIENTOS / AMOR / BESOS'],\n",
       " ['Ni la ausencia ni el tiempo son nada cuando se ama.',\n",
       "  'Alfred de Musset (1810-1857) Poeta francés.',\n",
       "  'SENTIMIENTOS / AMOR / AMAR'],\n",
       " ['La verdadera amistad es como la fosforescencia, resplandece mejor cuando todo se ha oscurecido.',\n",
       "  'Rabindranath Tagore (1861-1941) Filósofo y escritor indio.',\n",
       "  'SENTIMIENTOS / AMISTAD'],\n",
       " ['Los amigos que tienes y cuya amistad ya has puesto a prueba / engánchalos a tu alma con ganchos de acero.',\n",
       "  'William Shakespeare (1564-1616) Escritor británico.',\n",
       "  'SENTIMIENTOS / AMISTAD'],\n",
       " ['La amistad duplica las alegrías y divide las angustias por la mitad.',\n",
       "  'Sir Francis Bacon (1561-1626) Filósofo y estadista británico.',\n",
       "  'SENTIMIENTOS / AMISTAD'],\n",
       " ['Cuando la vida te presente razones para llorar, demuéstrale que tienes mil y una razones para reír.',\n",
       "  'Anónimo',\n",
       "  'NATURALEZA / VIDA'],\n",
       " ['El que ha conocido sólo a su mujer y la ha amado, sabe más de mujeres que el que ha conocido mil.',\n",
       "  'Leon Tolstoi (1828-1910) Escritor ruso.',\n",
       "  'SENTIMIENTOS / AMOR / AMAR'],\n",
       " ['El más difícil no es el primer beso sino el último.',\n",
       "  'Paul Géraldy (1885-1983) Poeta y dramaturgo francés.',\n",
       "  'SENTIMIENTOS / AMOR / BESOS'],\n",
       " ['Lo que hoy siente tu corazón, mañana lo entenderá tu cabeza.',\n",
       "  'Anónimo',\n",
       "  'SENTIMIENTOS / AMOR / CORAZÓN'],\n",
       " ['Aprendemos a amar no cuando encontramos a la persona perfecta, sino cuando llegamos a ver de manera perfecta a una persona imperfecta.',\n",
       "  'Sam Keen (1931-?) Escritor, profesor y filósofo americano.',\n",
       "  'SENTIMIENTOS / AMOR / AMAR'],\n",
       " ['La señal de que no amamos a alguien es que no le damos todo lo mejor que hay en nosotros.',\n",
       "  'Paul Claudel (1868-1955) Escritor y diplomático francés.',\n",
       "  'SENTIMIENTOS / AMOR / AMAR'],\n",
       " ['Nunca desistas de un sueño. Sólo trata de ver las señales que te lleven a él.',\n",
       "  'Paulo Coelho (1947-?) Escritor brasileño.',\n",
       "  'PENSAMIENTO Y RAZÓN / SUEÑOS'],\n",
       " ['Amar no es mirarse el uno al otro; es mirar juntos en la misma dirección.',\n",
       "  'Antoine de Saint-Exupéry (1900-1944) Escritor francés.',\n",
       "  'SENTIMIENTOS / AMOR / AMAR'],\n",
       " ['El hombre y la mujer han nacido para amarse, pero no para vivir juntos. Los amantes célebres de la historia vivieron siempre separados.',\n",
       "  'Noel Clarasó (1899-1985) Escritor español.',\n",
       "  'SENTIMIENTOS / AMOR / AMANTES'],\n",
       " ['La dicha de la vida consiste en tener siempre algo que hacer, alguien a quien amar y alguna cosa que esperar.',\n",
       "  'Thomas Chalmers (1780-1847) Ministro presbiteriano, teólogo, escritor escocés.',\n",
       "  'SENTIMIENTOS / FELICIDAD'],\n",
       " ['Todos somos muy ignorantes. Lo que ocurre es que no todos ignoramos las mismas cosas.',\n",
       "  'Albert Einstein (1879-1955) Científico alemán nacionalizado estadounidense.',\n",
       "  'DEFECTOS / IGNORANCIA'],\n",
       " ['Amar es encontrar en la felicidad de otro tu propia felicidad.',\n",
       "  'Gottfried Leibniz (1646-1716) Filósofo, físico y matemático alemán.',\n",
       "  'SENTIMIENTOS / AMOR / AMAR'],\n",
       " ['Conocer el amor de los que amamos es el fuego que alimenta la vida.',\n",
       "  'Pablo Neruda (1904-1973) Poeta chileno.',\n",
       "  'SENTIMIENTOS / AMOR'],\n",
       " ['El verdadero amigo es aquel que a pesar de saber como eres te quiere.',\n",
       "  'Anónimo',\n",
       "  'SENTIMIENTOS / AMISTAD / AMIGOS'],\n",
       " ['Felicidad no es hacer lo que uno quiere sino querer lo que uno hace.',\n",
       "  'Jean Paul Sartre (1905-1980) Filósofo y escritor francés.',\n",
       "  'SENTIMIENTOS / FELICIDAD'],\n",
       " ['Las cartas de amor se escriben empezando sin saber lo que se va a decir, y se terminan sin saber lo que se ha dicho.',\n",
       "  'Jean Jacques Rousseau (1712-1778) Filósofo francés.',\n",
       "  'SENTIMIENTOS / AMOR / CARTAS DE AMOR'],\n",
       " ['La gente se arregla todos los días el cabello. ¿Por qué no el corazón?',\n",
       "  'Proverbio chino',\n",
       "  'SENTIMIENTOS / AMOR / CORAZÓN'],\n",
       " ['Quien habla mal de mí a mis espaldas mi culo contempla.',\n",
       "  'Winston Churchill (1874-1965) Político británico.',\n",
       "  'NATURALEZA / SER HUMANO / HABLAR / HABLAR MAL'],\n",
       " ['Si lo que vas a decir no es más bello que el silencio: no lo digas.',\n",
       "  'Proverbio árabe',\n",
       "  'NATURALEZA / SER HUMANO / HABLAR'],\n",
       " ['Un beso legal nunca vale tanto como un beso robado.',\n",
       "  'Guy de Maupassant (1850-1893) Escritor francés.',\n",
       "  'SENTIMIENTOS / AMOR / BESOS'],\n",
       " ['Es más fácil quedar bien como amante que como marido; porque es más fácil ser oportuno e ingenioso de vez en cuando que todos los días.',\n",
       "  'Honoré de Balzac (1799-1850) Escritor francés.',\n",
       "  'SENTIMIENTOS / AMOR / AMANTES'],\n",
       " ['La mayor declaración de amor es la que no se hace; el hombre que siente mucho, habla poco.',\n",
       "  'Platón (427 AC-347 AC) Filósofo griego.',\n",
       "  'SENTIMIENTOS / AMOR'],\n",
       " ['La primera vez que me engañes, será culpa tuya; la segunda vez, la culpa será mía.',\n",
       "  'Proverbio árabe',\n",
       "  'MISCELÁNEA / ENGAÑO'],\n",
       " ['Un libro abierto es un cerebro que habla; cerrado un amigo que espera; olvidado, un alma que perdona; destruido, un corazón que llora.',\n",
       "  'Proverbio hindú',\n",
       "  'ARTE / LITERATURA / LIBROS'],\n",
       " ['El alma que hablar puede con los ojos, también puede besar con la mirada.',\n",
       "  'Gustavo Adolfo Bécquer (1836-1870) Poeta español.',\n",
       "  'SENTIMIENTOS / AMOR / BESOS'],\n",
       " ['Amistad que acaba no había comenzado.',\n",
       "  'Publio Siro (Siglo I AC-?) Poeta dramático romano.',\n",
       "  'SENTIMIENTOS / AMISTAD'],\n",
       " ['El futuro tiene muchos nombres. Para los débiles es lo inalcanzable. Para los temerosos, lo desconocido. Para los valientes es la oportunidad.',\n",
       "  'Victor Hugo (1802-1885) Novelista francés.',\n",
       "  'TIEMPO / FUTURO'],\n",
       " ['La felicidad es interior, no exterior; por lo tanto, no depende de lo que tenemos, sino de lo que somos.',\n",
       "  'Henry Van Dyke (1852-1933) Escritor estadounidense.',\n",
       "  'SENTIMIENTOS / FELICIDAD'],\n",
       " ['El ignorante afirma, el sabio duda y reflexiona.',\n",
       "  'Aristóteles (384 AC-322 AC) Filósofo griego.',\n",
       "  'CUALIDADES / SABIDURÍA / SABIO'],\n",
       " ['Hay que escuchar a la cabeza, pero dejar hablar al corazón.',\n",
       "  'Marguerite Yourcenar (1903-1987) Escritora francesa.',\n",
       "  'SENTIMIENTOS / AMOR / CORAZÓN'],\n",
       " ['En el corazón de todos los inviernos vive una primavera palpitante, y detrás de cada noche, viene una aurora sonriente.',\n",
       "  'Khalil Gibran (1883-1931) Ensayista, novelista y poeta libanés.',\n",
       "  'SENTIMIENTOS / ESPERANZA'],\n",
       " ['Quien no comprende una mirada tampoco comprenderá una larga explicación.',\n",
       "  'Proverbio árabe',\n",
       "  'CUALIDADES / COMPRENSIÓN'],\n",
       " ['Cuando quieres realmente una cosa, todo el Universo conspira para ayudarte a conseguirla.',\n",
       "  'Paulo Coelho (1947-?) Escritor brasileño.',\n",
       "  'SENTIMIENTOS / QUERER'],\n",
       " ['La paciencia es un árbol de raíz amarga pero de frutos muy dulces.',\n",
       "  'Proverbio persa',\n",
       "  'CUALIDADES / PACIENCIA'],\n",
       " ['Puede uno amar sin ser feliz; puede uno ser feliz sin amar; pero amar y ser feliz es algo prodigioso.',\n",
       "  'Honoré de Balzac (1799-1850) Escritor francés.',\n",
       "  'SENTIMIENTOS / AMOR / AMAR'],\n",
       " ['Si te caes siete veces, levántate ocho.',\n",
       "  'Proverbio chino',\n",
       "  'CUALIDADES / PERSEVERANCIA'],\n",
       " ['Sólo una cosa vuelve un sueño imposible: el miedo a fracasar.',\n",
       "  'Paulo Coelho (1947-?) Escritor brasileño.',\n",
       "  'SENTIMIENTOS / MIEDO'],\n",
       " ['El que es celoso, no es nunca celoso por lo que ve; con lo que se imagina basta.',\n",
       "  'Jacinto Benavente (1866-1954) Dramaturgo español.',\n",
       "  'SENTIMIENTOS / CELOS'],\n",
       " ['Quien bien te quiere te hará llorar.', 'Refrán', 'SENTIMIENTOS / AMOR'],\n",
       " ['Al primer amor se le quiere más, a los otros se les quiere mejor.',\n",
       "  'Antoine de Saint-Exupéry (1900-1944) Escritor francés.',\n",
       "  'SENTIMIENTOS / AMOR / PRIMER AMOR'],\n",
       " ['Duda que sean fuego las estrellas, duda que el sol se mueva, duda que la verdad sea mentira, pero no dudes jamás de que te amo.',\n",
       "  'William Shakespeare (1564-1616) Escritor británico.',\n",
       "  'SENTIMIENTOS / AMOR'],\n",
       " ['Las grandes almas tienen voluntades; las débiles tan solo deseos.',\n",
       "  'Proverbio chino',\n",
       "  'CUALIDADES / GRANDEZA'],\n",
       " ['Ama como puedas, ama a quien puedas, ama todo lo que puedas. No te preocupes de la finalidad de tu amor.',\n",
       "  'Amado Nervo (1870-1919) Poeta, novelista y ensayista mexicano.',\n",
       "  'SENTIMIENTOS / AMOR / AMAR'],\n",
       " ['Cuando se habla de estar enamorado como un loco se exagera; en general, se está enamorado como un tonto.',\n",
       "  'Noel Clarasó (1899-1985) Escritor español.',\n",
       "  'SENTIMIENTOS / AMOR / ENAMORARSE'],\n",
       " ['No existe el amor, sino las pruebas de amor, y la prueba de amor a aquel que amamos es dejarlo vivir libremente.',\n",
       "  'Anónimo',\n",
       "  'SENTIMIENTOS / AMOR'],\n",
       " ['El verdadero amigo es aquél que está a tu lado cuando preferiría estar en otra parte.',\n",
       "  'Len Wein',\n",
       "  'SENTIMIENTOS / AMISTAD / AMIGOS'],\n",
       " ['Nunca consideres el estudio como una obligación, sino como una oportunidad para penetrar en el bello y maravilloso mundo del saber.',\n",
       "  'Albert Einstein (1879-1955) Científico alemán nacionalizado estadounidense.',\n",
       "  'SOCIEDAD / EDUCACIÓN / ESTUDIOS'],\n",
       " ['Siembra un acto y cosecharás un hábito. Siembra un hábito y cosecharás un carácter. Siembra un carácter y cosecharás un destino.',\n",
       "  'Charles Reade (1814-1884) Escritor inglés.',\n",
       "  'MISCELÁNEA / DESTINO'],\n",
       " ['El verdadero amor no es otra cosa que el deseo inevitable de ayudar al otro para que sea quien es.',\n",
       "  'Jorge Bucay (1949-?) Escritor y psicoterapeuta argentino.',\n",
       "  'SENTIMIENTOS / AMOR'],\n",
       " ['Amigos son aquellos extraños seres que nos preguntan como estamos y se esperan a oír la contestación.',\n",
       "  'Ed Cunningham',\n",
       "  'SENTIMIENTOS / AMISTAD / AMIGOS'],\n",
       " ['Si buscas resultados distintos, no hagas siempre lo mismo.',\n",
       "  'Albert Einstein (1879-1955) Científico alemán nacionalizado estadounidense.',\n",
       "  'MISCELÁNEA / RESULTADOS'],\n",
       " ['Lo malo del amigo es que nos dice las cosas desagradables a la cara; el enemigo las dice a nuestras espaldas y como no nos enteramos, nada ocurre.',\n",
       "  'Alfred de Musset (1810-1857) Poeta francés.',\n",
       "  'SENTIMIENTOS / AMISTAD / AMIGOS'],\n",
       " ['Los amigos son como la sangre, cuando se está herido acuden sin que se los llame.',\n",
       "  'Anónimo',\n",
       "  'SENTIMIENTOS / AMISTAD / AMIGOS'],\n",
       " ['La mujer perdona las infidelidades, pero no las olvida. El hombre olvida las infidelidades, pero no las perdona.',\n",
       "  'Severo Catalina (1832-1871) Periodista y escritor español.',\n",
       "  'SENTIMIENTOS / AMOR / INFIDELIDAD'],\n",
       " ['Un hombre de noble corazón irá muy lejos, guiado por la palabra gentil de una mujer.',\n",
       "  'Goethe (1749-1832) Poeta y dramaturgo alemán.',\n",
       "  'SENTIMIENTOS / AMOR / CORAZÓN'],\n",
       " ['Al final, lo que importa no son los años de vida, sino la vida de los años.',\n",
       "  'Abraham Lincoln (1808-1865) Político estadounidense.',\n",
       "  'NATURALEZA / VIDA'],\n",
       " ['La memoria del corazón elimina los malos recuerdos y magnifica los buenos, y gracias a ese artificio, logramos sobrellevar el pasado.',\n",
       "  'Gabriel García Márquez (1927-2014) Escritor colombiano.',\n",
       "  'TIEMPO / PASADO'],\n",
       " ['Un corazón es una riqueza que no se vende ni se compra, pero que se regala.',\n",
       "  'Gustave Flaubert (1821-1880) Escritor francés.',\n",
       "  'SENTIMIENTOS / AMOR / CORAZÓN'],\n",
       " ['No que me hayas mentido, que ya no pueda creerte, eso me aterra.',\n",
       "  'Friedrich Nietzsche (1844-1900) Filosofo alemán.',\n",
       "  'PENSAMIENTO Y RAZÓN / MENTIRAS'],\n",
       " ['El que no tiene celos no está enamorado.',\n",
       "  'San Agustín (354-430) Obispo y filósofo.',\n",
       "  'SENTIMIENTOS / CELOS'],\n",
       " ['Tómate tiempo en escoger un amigo, pero sé más lento aún en cambiarlo.',\n",
       "  'Benjamin Franklin (1706-1790) Estadista y científico estadounidense.',\n",
       "  'SENTIMIENTOS / AMISTAD / AMIGOS'],\n",
       " ['¿Qué cosa más grande que tener a alguien con quien te atrevas a hablar como contigo mismo?',\n",
       "  'Cicerón (106 AC-43 AC) Escritor, orador y político romano.',\n",
       "  'SENTIMIENTOS / AMISTAD'],\n",
       " ['No basta saber, se debe también aplicar. No es suficiente querer, se debe también hacer.',\n",
       "  'Goethe (1749-1832) Poeta y dramaturgo alemán.',\n",
       "  'CUALIDADES / SABIDURÍA'],\n",
       " ['La vida es muy peligrosa. No por las personas que hacen el mal, sino por las que se sientan a ver lo que pasa.',\n",
       "  'Albert Einstein (1879-1955) Científico alemán nacionalizado estadounidense.',\n",
       "  'NATURALEZA / VIDA'],\n",
       " ['La memoria es como el mal amigo; cuando más falta te hace, te falla.',\n",
       "  'Refrán',\n",
       "  'PENSAMIENTO Y RAZÓN / MEMORIA'],\n",
       " ['Exígete mucho a ti mismo y espera poco de los demás. Así te ahorrarás disgustos.',\n",
       "  'Confucio (551 AC-478 AC) Filósofo chino.',\n",
       "  'CUALIDADES / EXIGENCIA'],\n",
       " ['Hay dos cosas infinitas: el Universo y la estupidez humana. Y del Universo no estoy seguro.',\n",
       "  'Albert Einstein (1879-1955) Científico alemán nacionalizado estadounidense.',\n",
       "  'DEFECTOS / ESTUPIDEZ'],\n",
       " ['Amor, cuántos caminos hasta llegar a un beso, ¡qué soledad errante hasta tu compañía!',\n",
       "  'Pablo Neruda (1904-1973) Poeta chileno.',\n",
       "  'SENTIMIENTOS / SOLEDAD'],\n",
       " ['Antes de poner en duda el buen juicio de tu mujer, fíjate con quien se ha casado ella.',\n",
       "  'Proverbio egipcio',\n",
       "  'SOCIEDAD / MATRIMONIO'],\n",
       " ['Los hombres engañan más que las mujeres; las mujeres, mejor.',\n",
       "  'Joaquín Sabina (1949-?) Cantautor y poeta español.',\n",
       "  'SENTIMIENTOS / AMOR / INFIDELIDAD'],\n",
       " ['La verdad se corrompe tanto con la mentira como con el silencio.',\n",
       "  'Cicerón (106 AC-43 AC) Escritor, orador y político romano.',\n",
       "  'PENSAMIENTO Y RAZÓN / VERDAD'],\n",
       " ['Vivir no es sólo existir,',\n",
       "  'sino existir y crear,',\n",
       "  'saber gozar y sufrir',\n",
       "  'y no dormir sin soñar.',\n",
       "  'Descansar, es empezar a morir.',\n",
       "  'Gregorio Marañón (1887-1960) Médico y escritor español.',\n",
       "  'NATURALEZA / VIDA'],\n",
       " ['Besos que vienen riendo, luego llorando se van, y en ellos se va la vida, que nunca más volverá.',\n",
       "  'Miguel de Unamuno (1864-1936) Filósofo y escritor español.',\n",
       "  'SENTIMIENTOS / AMOR / BESOS'],\n",
       " ['En la vida no hay premios ni castigos, sino consecuencias.',\n",
       "  'Robert Green Ingersoll (1833-1899) Politico y orador norteamericano.',\n",
       "  'MISCELÁNEA / CONSECUENCIAS'],\n",
       " ['El verdadero secreto de la felicidad consiste en exigir mucho de sí mismo y muy poco de los otros.',\n",
       "  'Albert Guinon (1863-1923) Dramaturgo francés.',\n",
       "  'SENTIMIENTOS / FELICIDAD'],\n",
       " ['La vida es aquello que te va sucediendo mientras te empeñas en hacer otros planes.',\n",
       "  'John Lennon (1940-1980) Cantante y compositor británico.',\n",
       "  'NATURALEZA / VIDA'],\n",
       " ['No hay que confundir nunca el conocimiento con la sabiduría. El primero nos sirve para ganarnos la vida; la sabiduría nos ayuda a vivir.',\n",
       "  'Sorcha Carey (1943-?) Profesora de arte clásico inglés.',\n",
       "  'CUALIDADES / SABIDURÍA'],\n",
       " ['A veces podemos pasarnos años sin vivir en absoluto, y de pronto toda nuestra vida se concentra en un solo instante.',\n",
       "  'Oscar Wilde (1854-1900) Dramaturgo y novelista irlandés.',\n",
       "  'NATURALEZA / VIDA'],\n",
       " ['El mundo entero se aparta cuando ve pasar a un hombre que sabe adónde va.',\n",
       "  'Antoine de Saint-Exupéry (1900-1944) Escritor francés.',\n",
       "  'PENSAMIENTO Y RAZÓN / DECISIONES'],\n",
       " ['No existe nada más interesante que la conversación de dos amantes que permanecen callados.',\n",
       "  'Achile Tournier (1847-1906) Escritor francés',\n",
       "  'SENTIMIENTOS / AMOR / AMANTES'],\n",
       " ['Estar preparado es importante, saber esperar lo es aún más, pero aprovechar el momento adecuado es la clave de la vida.',\n",
       "  'Arthur Schnitzler (1862-1931) Dramaturgo austríaco.',\n",
       "  'NATURALEZA / VIDA'],\n",
       " ['Si no recuerdas la más ligera locura en que el amor te hizo caer, no has amado.',\n",
       "  'William Shakespeare (1564-1616) Escritor británico.',\n",
       "  'SENTIMIENTOS / AMOR / AMAR'],\n",
       " ['Las cadenas de la esclavitud solamente atan las manos: es la mente lo que hace al hombre libre o esclavo.',\n",
       "  'Franz Grillparzer (1791-1872) Dramaturgo austriaco.',\n",
       "  'SOCIEDAD / LIBERTAD'],\n",
       " ['Lo que sabemos es una gota de agua; lo que ignoramos es el océano.',\n",
       "  'Isaac Newton (1642-1727) Matemático y físico británico.',\n",
       "  'CUALIDADES / SABIDURÍA'],\n",
       " ['Es duro, es doloroso, no ser amado cuando se ama todavía, pero es bastante más duro ser todavía amado cuando ya no se ama.',\n",
       "  'Benjamin Constant (1767-1830) Escritor y político francés.',\n",
       "  'SENTIMIENTOS / AMOR / AMAR'],\n",
       " ['Comienza a manifestarse la madurez cuando sentimos que nuestra preocupación es mayor por los demás que por nosotros mismos.',\n",
       "  'Albert Einstein (1879-1955) Científico alemán nacionalizado estadounidense.',\n",
       "  'CUALIDADES / MADUREZ'],\n",
       " ['A veces sentimos que lo que hacemos es tan solo una gota en el mar, pero el mar sería menos si le faltara una gota.',\n",
       "  'Madre Teresa de Calcuta (1910-1997) Misionera de origen albanés naturalizada india',\n",
       "  'NATURALEZA / SER HUMANO / HACER'],\n",
       " ['Si supiera que el mundo se acaba mañana, yo, hoy todavía, plantaría un árbol.',\n",
       "  'Martin Luther King (1929-1968) Religioso estadounidense.',\n",
       "  'SENTIMIENTOS / ESPERANZA'],\n",
       " ['Los hombres que no perdonan a las mujeres sus pequeños defectos jamás disfrutarán de sus grandes virtudes.',\n",
       "  'Khalil Gibran (1883-1931) Ensayista, novelista y poeta libanés.',\n",
       "  'NATURALEZA / SER HUMANO / PERDONAR'],\n",
       " ['La decisión del primer beso es la más crucial en cualquier historia de amor, porque contiene dentro de sí la rendición.',\n",
       "  'Emil Ludwig (1881-1949) Escritor alemán.',\n",
       "  'SENTIMIENTOS / AMOR / BESOS'],\n",
       " ['No sabrás todo lo que valgo hasta que no pueda ser junto a ti todo lo que soy.',\n",
       "  'Gregorio Marañón (1887-1960) Médico y escritor español.',\n",
       "  'SENTIMIENTOS / AMOR'],\n",
       " ['Un hombre puede ser feliz con cualquier mujer mientras que no la ame.',\n",
       "  'Oscar Wilde (1854-1900) Dramaturgo y novelista irlandés.',\n",
       "  'SENTIMIENTOS / FELICIDAD'],\n",
       " ['Nuestra amistad no depende de cosas como el espacio y el tiempo.',\n",
       "  'Richard Bach (1936-?) Escritor y aviador estadounidense.',\n",
       "  'SENTIMIENTOS / AMISTAD'],\n",
       " ['Callando es como se aprende a oír; oyendo es como se aprende a hablar; y luego, hablando se aprende a callar.',\n",
       "  'Diógenes Laercio (S. III AC-?) Historiador griego.',\n",
       "  'CUALIDADES / DISCRECIÓN'],\n",
       " ['Ayuda a tus semejantes a levantar su carga, pero no te consideres obligado a llevársela.',\n",
       "  'Pitágoras de Samos (582 AC-497 AC) Filósofo y matemático griego.',\n",
       "  'MISCELÁNEA / AYUDAR'],\n",
       " ['Si no actúas como piensas, vas a terminar pensando como actúas.',\n",
       "  'Blaise Pascal (1623-1662) Científico, filósofo y escritor francés.',\n",
       "  'PENSAMIENTO Y RAZÓN / PENSAMIENTO / PENSAR'],\n",
       " ['El sabio no dice todo lo que piensa, pero siempre piensa todo lo que dice.',\n",
       "  'Aristóteles (384 AC-322 AC) Filósofo griego.',\n",
       "  'PENSAMIENTO Y RAZÓN / PENSAMIENTO / PENSAR'],\n",
       " ['¡Caer está permitido. Levantarse es obligatorio!.',\n",
       "  'Proverbio ruso',\n",
       "  'CUALIDADES / PERSEVERANCIA'],\n",
       " ['Mi felicidad consiste en que sé apreciar lo que tengo y no deseo con exceso lo que no tengo.',\n",
       "  'Leon Tolstoi (1828-1910) Escritor ruso.',\n",
       "  'SENTIMIENTOS / FELICIDAD'],\n",
       " ['Aprendí que no se puede dar marcha atrás, que la esencia de la vida es ir hacia adelante. La vida, en realidad, es una calle de sentido único.',\n",
       "  'Agatha Christie (1891-1976) Novelista inglesa.',\n",
       "  'NATURALEZA / VIDA'],\n",
       " ['La amistad no puede ir muy lejos cuando ni unos ni otros están dispuestos a perdonarse los pequeños defectos.',\n",
       "  'Jean de la Bruyere (1645-1696) Escritor francés.',\n",
       "  'SENTIMIENTOS / AMISTAD'],\n",
       " ['A un gran corazón, ninguna ingratitud lo cierra, ninguna indiferencia lo cansa.',\n",
       "  'Leon Tolstoi (1828-1910) Escritor ruso.',\n",
       "  'SENTIMIENTOS / AMOR / CORAZÓN'],\n",
       " ['La risa es el sol que ahuyenta el invierno del rostro humano.',\n",
       "  'Victor Hugo (1802-1885) Novelista francés.',\n",
       "  'SENTIMIENTOS / RISA'],\n",
       " ['La vida no se ha hecho para comprenderla, sino para vivirla.',\n",
       "  'George Santayana (1863-1952) Filósofo y escritor español.',\n",
       "  'NATURALEZA / VIDA'],\n",
       " ['Si lloras por haber perdido el sol, las lágrimas no te dejarán ver las estrellas.',\n",
       "  'Rabindranath Tagore (1861-1941) Filósofo y escritor indio.',\n",
       "  'MISCELÁNEA / LLORAR'],\n",
       " ['El primer beso es mágico, el segundo íntimo, el tercero rutinario.',\n",
       "  'Raymond Chandler (1888-1959) Escritor estadounidense de novela policiaca.',\n",
       "  'SENTIMIENTOS / AMOR / BESOS'],\n",
       " ['Las mujeres han sido hechas para ser amadas, no para ser comprendidas.',\n",
       "  'Oscar Wilde (1854-1900) Dramaturgo y novelista irlandés.',\n",
       "  'SOCIEDAD / MUJERES'],\n",
       " ['Es prudente no fiarse por entero de quienes nos han engañado una vez.',\n",
       "  'René Descartes (1596-1650) Filósofo y matemático francés.',\n",
       "  'CUALIDADES / PRUDENCIA'],\n",
       " ['Los besos son como pepitas de oro o de plata, halladas en tierra y sin un gran valor, pero preciosas porque revelan que cerca hay una mina.',\n",
       "  'George Villiers (1592-1628) Duque de Buckingham. Político inglés.',\n",
       "  'SENTIMIENTOS / AMOR / BESOS'],\n",
       " ['Cuando alguien desea algo debe saber que corre riesgos y por eso la vida vale la pena.',\n",
       "  'Paulo Coelho (1947-?) Escritor brasileño.',\n",
       "  'PENSAMIENTO Y RAZÓN / DESEO'],\n",
       " ['La suprema felicidad de la vida es saber que eres amado por ti mismo o, más exactamente, a pesar de ti mismo.',\n",
       "  'Victor Hugo (1802-1885) Novelista francés.',\n",
       "  'SENTIMIENTOS / FELICIDAD'],\n",
       " ['La felicidad es la certeza de no sentirse perdido.',\n",
       "  'Jorge Bucay (1949-?) Escritor y psicoterapeuta argentino.',\n",
       "  'SENTIMIENTOS / FELICIDAD'],\n",
       " ['Nos equivocamos a menudo en el amor, a menudo herido, a menudo infeliz, pero soy yo quien vivió, y no un ser ficticio, creado por mi orgullo.',\n",
       "  'George Sand (1804-1876) Escritora francesa.',\n",
       "  'SENTIMIENTOS / AMOR / DESENGAÑOS AMOROSOS'],\n",
       " ['No hay nostalgia peor que añorar lo que nunca jamás sucedió.',\n",
       "  'Joaquín Sabina (1949-?) Cantautor y poeta español.',\n",
       "  'SENTIMIENTOS / NOSTALGIA'],\n",
       " ['La peor de las prisiones sería un corazón cerrado y endurecido.',\n",
       "  'Juan Pablo II (1920-2005) Papa de la iglesia católica.',\n",
       "  'SENTIMIENTOS / AMOR / CORAZÓN'],\n",
       " ['Si ayudo a una sola persona a tener esperanza, no habré vivido en vano.',\n",
       "  'Martin Luther King (1929-1968) Religioso estadounidense.',\n",
       "  'SENTIMIENTOS / ESPERANZA'],\n",
       " ['Procuro ser siempre muy puntual, pues he observado que los defectos de una persona se reflejan muy vivamente en la memoria de quien la espera.',\n",
       "  'Nicolas Boileau (1636-1711) Poeta y crítico literario francés.',\n",
       "  'CUALIDADES / PUNTUALIDAD'],\n",
       " ['El corazón humano es un instrumento de muchas cuerdas; el perfecto conocedor de los hombres las sabe hacer vibrar todas, como un buen músico.',\n",
       "  'Charles Dickens (1812-1870) Escritor y novelista inglés.',\n",
       "  'SENTIMIENTOS / AMOR / CORAZÓN'],\n",
       " ['La política es el arte de buscar problemas, encontrarlos, hacer un diagnóstico falso y aplicar después los remedios equivocados.',\n",
       "  'Groucho Marx (1890-1977) Actor estadounidense.',\n",
       "  'SOCIEDAD / POLÍTICA'],\n",
       " ['Todos los problemas tienen la misma raíz: el miedo, que desaparece gracias al amor; pero el amor nos da miedo.',\n",
       "  'Anónimo',\n",
       "  'SENTIMIENTOS / AMOR'],\n",
       " ['Hay que ser infiel, pero nunca desleal.',\n",
       "  'Gabriel García Márquez (1927-2014) Escritor colombiano.',\n",
       "  'SENTIMIENTOS / AMOR / INFIDELIDAD'],\n",
       " ['Mira dos veces para ver lo justo. No mires más que una vez para ver lo bello.',\n",
       "  'Henry F. Amiel (1821-1881) Escritor suizo.',\n",
       "  'CUALIDADES / BELLEZA'],\n",
       " ['Dime y lo olvido, enséñame y lo recuerdo, involúcrame y lo aprendo.',\n",
       "  'Benjamin Franklin (1706-1790) Estadista y científico estadounidense.',\n",
       "  'SOCIEDAD / EDUCACIÓN / APRENDER'],\n",
       " ['Nuestra recompensa se encuentra en el esfuerzo y no en el resultado. Un esfuerzo total es una victoria completa.',\n",
       "  'Mahatma Gandhi (1869-1948) Político y pensador indio.',\n",
       "  'CUALIDADES / ESFUERZO'],\n",
       " ['Buscamos la felicidad, pero sin saber dónde, como los borrachos buscan su casa, sabiendo que tienen una.',\n",
       "  'Voltaire (1694-1778) Filósofo y escritor francés.',\n",
       "  'SENTIMIENTOS / FELICIDAD'],\n",
       " ['Si has construido castillos en el aire, tu trabajo no se pierde; ahora coloca las bases debajo de ellos.',\n",
       "  'Henry David Thoreau (1817-1862) Escritor, poeta y pensador.',\n",
       "  'PENSAMIENTO Y RAZÓN / SUEÑOS'],\n",
       " ['La soledad se admira y desea cuando no se sufre, pero la necesidad humana de compartir cosas es evidente.',\n",
       "  'Carmen Martín Gaite (1925-2000) Novelista española',\n",
       "  'SENTIMIENTOS / SOLEDAD'],\n",
       " ['El sabio puede sentarse en un hormiguero, pero sólo el necio se queda sentado en él.',\n",
       "  'Proverbio chino',\n",
       "  'CUALIDADES / SABIDURÍA'],\n",
       " ['El tiempo es el mejor autor: siempre encuentra un final perfecto.',\n",
       "  'Charles Chaplin (1889-1977) Actor y director británico.',\n",
       "  'TIEMPO'],\n",
       " ['El éxito consiste en obtener lo que se desea. La felicidad, en disfrutar lo que se obtiene.',\n",
       "  'Emerson (1803-1882) Poeta y pensador estadounidense.',\n",
       "  'MISCELÁNEA / ÉXITO'],\n",
       " ['Cada uno de los movimientos de todos los individuos se realizan por tres únicas razones: por honor, por dinero o por amor.',\n",
       "  'Napoleón I (1769-1821) Napoleón Bonaparte. Emperador francés.',\n",
       "  'MISCELÁNEA / ACCIÓN'],\n",
       " ['Yo no hablo de venganzas ni perdones, el olvido es la única venganza y el único perdón.',\n",
       "  'Jorge Luis Borges (1899-1986) Escritor argentino.',\n",
       "  'SENTIMIENTOS / VENGANZA'],\n",
       " ['Hay una fuerza motriz más poderosa que el vapor, la electricidad y la energía atómica: la voluntad.',\n",
       "  'Albert Einstein (1879-1955) Científico alemán nacionalizado estadounidense.',\n",
       "  'CUALIDADES / VOLUNTAD'],\n",
       " ['Cuando los que mandan pierden la vergüenza, los que obedecen pierden el respeto.',\n",
       "  'Cardenal de Retz (1613-1679) Político y memorialista francés.',\n",
       "  'CUALIDADES / REBELDÍA'],\n",
       " ['Así como una jornada bien empleada produce un dulce sueño, así una vida bien usada causa una dulce muerte.',\n",
       "  'Leonardo Da Vinci (1452-1519) Pintor, escultor e inventor italiano.',\n",
       "  'NATURALEZA / MUERTE'],\n",
       " ['El amigo leal se ríe con tus chistes, aunque no sean tan buenos, y se conduele de tus problemas aunque no sean tan graves.',\n",
       "  'Arnold H. Glasow',\n",
       "  'SENTIMIENTOS / AMISTAD'],\n",
       " ['El corazón es un niño: espera lo que desea.',\n",
       "  'Proverbio ruso',\n",
       "  'SENTIMIENTOS / AMOR / CORAZÓN'],\n",
       " ['Si la pasión, si la locura no pasaran alguna vez por las almas… ¿Qué valdría la vida?',\n",
       "  'Jacinto Benavente (1866-1954) Dramaturgo español.',\n",
       "  'SENTIMIENTOS / AMOR / PASIÓN'],\n",
       " ['Todos los cambios, aun los más ansiados, llevan consigo cierta melancolía.',\n",
       "  'Anatole France (1844-1924) Escritor francés.',\n",
       "  'MISCELÁNEA / CAMBIO'],\n",
       " ['Los grandes espíritus siempre han encontrado una violenta oposición de parte de mentes mediocres.',\n",
       "  'Albert Einstein (1879-1955) Científico alemán nacionalizado estadounidense.',\n",
       "  'MISCELÁNEA / OPOSICIÓN'],\n",
       " ['La gente joven está convencida de que posee la verdad. Desgraciadamente, cuando logran imponerla ya ni son jóvenes ni es verdad.',\n",
       "  'Jaume Perich (1941-1995) Humorista español.',\n",
       "  'TIEMPO / JUVENTUD'],\n",
       " ['Las pasiones son como los vientos, que son necesarios para dar movimiento a todo, aunque a menudo sean causa de huracanes.',\n",
       "  'Bernard Le Bouvier de Fontenelle (1657-1757) Escritor francés.',\n",
       "  'SENTIMIENTOS / AMOR / PASIÓN'],\n",
       " ['Uno no se enamoró nunca, y ése fue su infierno. Otro, sí, y ésa fue su condena.',\n",
       "  'Robert Burton (1577-1640) Escritor y clérigo inglés.',\n",
       "  'SENTIMIENTOS / AMOR / ENAMORARSE'],\n",
       " ['Tratar de olvidar a alguien es querer recordarlo para siempre.',\n",
       "  'Anónimo',\n",
       "  'MISCELÁNEA / OLVIDAR'],\n",
       " ['Encomiéndate a Dios de todo corazón, que muchas veces suele llover sus misericordias en el tiempo que están más secas las esperanzas.',\n",
       "  'Miguel de Cervantes (1547-1616) Escritor español.',\n",
       "  'SOCIEDAD / RELIGIÓN / DIOS'],\n",
       " ['Saber que se sabe lo que se sabe y que no se sabe lo que no se sabe; he aquí el verdadero saber.',\n",
       "  'Confucio (551 AC-478 AC) Filósofo chino.',\n",
       "  'CUALIDADES / SABIDURÍA'],\n",
       " ['Nunca amamos a nadie: amamos, sólo, la idea que tenemos de alguien. Lo que amamos es un concepto nuestro, es decir, a nosotros mismos.',\n",
       "  'Fernando Pessoa (1888-1935) Poeta portugués.',\n",
       "  'SENTIMIENTOS / AMOR / AMAR'],\n",
       " ['El día que la mierda tenga algún valor, los pobres nacerán sin culo.',\n",
       "  'Gabriel García Márquez (1927-2014) Escritor colombiano.',\n",
       "  'SOCIEDAD / DINERO / POBREZA'],\n",
       " ['Cuando la lucha de un hombre comienza dentro de sí, ese hombre vale algo.',\n",
       "  'Robert Browning (1812-1889) Poeta inglés.',\n",
       "  'MISCELÁNEA / LUCHAR'],\n",
       " ['La tontería es infinitamente más fascinante que la inteligencia. La inteligencia tiene sus limites, la tontería no.',\n",
       "  'Claude Chabrol (1930-2010) Director de cine francés.',\n",
       "  'MISCELÁNEA / TONTERÍA'],\n",
       " ['La mayor rémora de la vida es la espera del mañana y la pérdida del día de hoy.',\n",
       "  'Séneca (2 AC-65) Filósofo latino.',\n",
       "  'NATURALEZA / VIDA'],\n",
       " ['En el amor todo ha terminado cuando uno de los amantes piensa que sería posible una ruptura.',\n",
       "  'Paul Charles Bourget (1852-1935) Escritor francés.',\n",
       "  'SENTIMIENTOS / AMOR'],\n",
       " ['El secreto de la felicidad no es hacer siempre lo que se quiere sino querer siempre lo que se hace.',\n",
       "  'Leon Tolstoi (1828-1910) Escritor ruso.',\n",
       "  'SENTIMIENTOS / FELICIDAD'],\n",
       " ['El primer amor es una pequeña locura y una gran curiosidad.',\n",
       "  'George Bernard Shaw (1856-1950) Escritor irlandés.',\n",
       "  'SENTIMIENTOS / AMOR / PRIMER AMOR'],\n",
       " ['El amor, para que sea auténtico, debe costarnos.',\n",
       "  'Madre Teresa de Calcuta (1910-1997) Misionera de origen albanés naturalizada india',\n",
       "  'SENTIMIENTOS / AMOR'],\n",
       " ['La belleza no hace feliz al que la posee, sino a quien puede amarla y adorarla.',\n",
       "  'Hermann Hesse (1877-1962) Escritor suizo, de origen alemán.',\n",
       "  'CUALIDADES / BELLEZA'],\n",
       " ['Nadie se desembaraza de un hábito o de un vicio tirándolo de una vez por la ventana; hay que sacarlo por la escalera, peldaño a peldaño.',\n",
       "  'Mark Twain (1835-1910) Escritor y periodista estadounidense.',\n",
       "  'DEFECTOS / VICIOS'],\n",
       " ['Las batallas contra las mujeres son las únicas que se ganan huyendo.',\n",
       "  'Napoleón I (1769-1821) Napoleón Bonaparte. Emperador francés.',\n",
       "  'SOCIEDAD / MUJERES'],\n",
       " ['Entre un hombre y una mujer la amistad es tan sólo una pasarela que conduce al amor.',\n",
       "  'Jules Renard (1864-1910) Escritor y dramaturgo francés.',\n",
       "  'SENTIMIENTOS / AMISTAD'],\n",
       " ['El sabio no se sienta para lamentarse, sino que se pone alegremente a su tarea de reparar el daño hecho.',\n",
       "  'William Shakespeare (1564-1616) Escritor británico.',\n",
       "  'CUALIDADES / SABIDURÍA'],\n",
       " ['Si no está en tus manos cambiar una situación que te produce dolor, siempre podrás escoger la actitud con la que afrontes ese sufrimiento.',\n",
       "  'Viktor Frankl (1905-1997) Psiquiatra y psicoterapeuta austriaco.',\n",
       "  'SENTIMIENTOS / SUFRIMIENTO'],\n",
       " ['Los monos son demasiado buenos para que el hombre pueda descender de ellos.',\n",
       "  'Friedrich Nietzsche (1844-1900) Filosofo alemán.',\n",
       "  'CUALIDADES / BONDAD'],\n",
       " ['Si algo he aprendido en la vida es a no perder el tiempo intentando cambiar el modo de ser del prójimo.',\n",
       "  'Carmen Martín Gaite (1925-2000) Novelista española',\n",
       "  'MISCELÁNEA / CAMBIO'],\n",
       " ['El amor es una amistad con momentos eróticos.',\n",
       "  'Antonio Gala (1930-?) Dramaturgo, poeta y novelista español.',\n",
       "  'SENTIMIENTOS / AMOR'],\n",
       " ['Hay quien ha venido al mundo para enamorarse de una sola mujer y, consecuentemente, no es probable que tropiece con ella.',\n",
       "  'José Ortega y Gasset (1883-1955) Filósofo y ensayista español.',\n",
       "  'SENTIMIENTOS / AMOR / ENAMORARSE'],\n",
       " ['La magia del primer amor consiste en nuestra ignorancia de que pueda tener fin.',\n",
       "  'Benjamin Disraeli (1804-1881) Estadista ingles.',\n",
       "  'SENTIMIENTOS / AMOR / PRIMER AMOR'],\n",
       " ['Se puede tener, en lo más profundo del alma, un corazón cálido, y sin embargo, puede ser que nadie acuda a él.',\n",
       "  'Vincent Van Gogh (1853-1890) Pintor postimpresionista holandés.',\n",
       "  'SENTIMIENTOS / AMOR / CORAZÓN'],\n",
       " ['Ningún lugar en la vida es más triste que una cama vacía.',\n",
       "  'Gabriel García Márquez (1927-2014) Escritor colombiano.',\n",
       "  'SENTIMIENTOS / TRISTEZA'],\n",
       " ['La música es para el alma lo que la gimnasia para el cuerpo.',\n",
       "  'Platón (427 AC-347 AC) Filósofo griego.',\n",
       "  'ARTE / MÚSICA'],\n",
       " ['Toda dificultad eludida se convertirá más tarde en un fantasma que perturbará nuestro reposo.',\n",
       "  'Frédéric Chopin (1810-1849) Pianista y compositor polaco.',\n",
       "  'MISCELÁNEA / DIFICULTADES'],\n",
       " ['Vale más saber alguna cosa de todo, que saberlo todo de una sola cosa.',\n",
       "  'Blaise Pascal (1623-1662) Científico, filósofo y escritor francés.',\n",
       "  'CUALIDADES / SABIDURÍA / SABER'],\n",
       " ['El falso amigo es como la sombra que nos sigue mientras dura el sol.',\n",
       "  'Carlo Dossi (1849-1910) Escritor italiano.',\n",
       "  'SENTIMIENTOS / AMISTAD / AMIGOS'],\n",
       " ['He fallado una y otra vez en mi vida, por eso he conseguido el éxito.',\n",
       "  'Michael Jordan (1963-?) Deportista estadounidense.',\n",
       "  'MISCELÁNEA / ÉXITO'],\n",
       " ['Todos piensan en cambiar el mundo, pero nadie piensa en cambiarse a sí mismo.',\n",
       "  'Alexei Tolstoi (1882-1945) Novelista soviético.',\n",
       "  'MISCELÁNEA / CAMBIO'],\n",
       " ['Lo mejor que podemos hacer por otro no es sólo compartir con él nuestras riquezas, sino mostrarle las suyas.',\n",
       "  'Benjamin Disraeli (1804-1881) Estadista ingles.',\n",
       "  'SOCIEDAD / DINERO / RIQUEZA'],\n",
       " ['El amor consuela como el resplandor del sol después de la lluvia.',\n",
       "  'William Shakespeare (1564-1616) Escritor británico.',\n",
       "  'SENTIMIENTOS / AMOR'],\n",
       " ['Deben buscarse los amigos como los buenos libros. No está la felicidad en que sean muchos ni muy curiosos; sino pocos, buenos y bien conocidos.',\n",
       "  'Mateo Alemán (1547-1613) Novelista español.',\n",
       "  'SENTIMIENTOS / AMISTAD / AMIGOS'],\n",
       " ['El que busca la verdad corre el riesgo de encontrarla.',\n",
       "  'Manuel Vicent (1936-?) Escritor español.',\n",
       "  'PENSAMIENTO Y RAZÓN / VERDAD'],\n",
       " ['Lo menos frecuente en este mundo es vivir. La mayoría de la gente existe, eso es todo.',\n",
       "  'Oscar Wilde (1854-1900) Dramaturgo y novelista irlandés.',\n",
       "  'NATURALEZA / VIDA'],\n",
       " ['El odio no disminuye con el odio. El odio disminuye con el amor.',\n",
       "  'Buda (563 AC-486 AC) Fundador del budismo.',\n",
       "  'SENTIMIENTOS / ODIO'],\n",
       " ['¡Qué pequeñas son mis manos en relación con todo lo que la vida ha querido darme!',\n",
       "  'Ramón J. Sénder (1902-1982) Escritor español.',\n",
       "  'NATURALEZA / VIDA'],\n",
       " ['Es tan corto el amor y tan largo el olvido.',\n",
       "  'Pablo Neruda (1904-1973) Poeta chileno.',\n",
       "  'SENTIMIENTOS / AMOR'],\n",
       " ['El enamoramiento es un estado de miseria mental en que la vida de nuestra conciencia se estrecha, empobrece y paraliza.',\n",
       "  'José Ortega y Gasset (1883-1955) Filósofo y ensayista español.',\n",
       "  'SENTIMIENTOS / AMOR / ENAMORARSE'],\n",
       " ['¡Qué poco cuesta construir castillos en el aire y qué cara es su destrucción!',\n",
       "  'François Mauriac (1905-1970) Escritor francés.',\n",
       "  'PENSAMIENTO Y RAZÓN / SUEÑOS'],\n",
       " ['El futuro pertenece a quienes creen en la belleza de sus sueños.',\n",
       "  'Eleanor Roosevelt (1884-1962) Defensora de los derechos sociales, diplomática y',\n",
       "  'TIEMPO / FUTURO'],\n",
       " ['De aquel que opina que el dinero puede hacerlo todo, cabe sospechar con fundamento que será capaz de hacer cualquier cosa por dinero.',\n",
       "  'Benjamin Franklin (1706-1790) Estadista y científico estadounidense.',\n",
       "  'SOCIEDAD / DINERO'],\n",
       " ['La raíz de todas las pasiones es el amor. De él nace la tristeza, el gozo, la alegría y la desesperación.',\n",
       "  'Lope de Vega (1562-1635) Poeta, novelista y dramaturgo español.',\n",
       "  'SENTIMIENTOS / AMOR'],\n",
       " ['Desciende a las profundidades de ti mismo, y logra ver tu alma buena. La felicidad la hace solamente uno mismo con la buena conducta.',\n",
       "  'Sócrates (470 AC-399 AC) Filósofo griego.',\n",
       "  'SENTIMIENTOS / FELICIDAD'],\n",
       " ['Mucho amor germina en la casualidad; tened siempre dispuesto el anzuelo, y en el sitio que menos lo esperáis encontraréis pesca.',\n",
       "  'Ovidio (43 AC-17) Poeta latino.',\n",
       "  'SENTIMIENTOS / AMOR'],\n",
       " ['No hay nada como el amor de una mujer casada. Es una cosa de la que ningún marido tiene la menor idea.',\n",
       "  'Oscar Wilde (1854-1900) Dramaturgo y novelista irlandés.',\n",
       "  'SOCIEDAD / MUJERES'],\n",
       " ['Al principio todos los pensamientos pertenecen al amor. Después, todo el amor pertenece a los pensamientos.',\n",
       "  'Albert Einstein (1879-1955) Científico alemán nacionalizado estadounidense.',\n",
       "  'SENTIMIENTOS / AMOR'],\n",
       " ['La peor forma de extrañar a alguien es estar sentado a su lado y saber que nunca lo podrás tener.',\n",
       "  'Gabriel García Márquez (1927-2014) Escritor colombiano.',\n",
       "  'SENTIMIENTOS / AMOR'],\n",
       " ['Enfrentarse, siempre enfrentarse, es el modo de resolver el problema. ¡Enfrentarse a él!.',\n",
       "  'Joseph Conrad (1857-1924) Novelista británico de origen polaco.',\n",
       "  'MISCELÁNEA / PROBLEMAS'],\n",
       " ['Cada cosa tiene su belleza, pero no todos pueden verla.',\n",
       "  'Confucio (551 AC-478 AC) Filósofo chino.',\n",
       "  'CUALIDADES / BELLEZA'],\n",
       " ['Los cuarenta son la edad madura de la juventud; los cincuenta la juventud de la edad madura.',\n",
       "  'Victor Hugo (1802-1885) Novelista francés.',\n",
       "  'TIEMPO / JUVENTUD'],\n",
       " ['El éxito es aprender a ir de fracaso en fracaso sin desesperarse.',\n",
       "  'Winston Churchill (1874-1965) Político británico.',\n",
       "  'MISCELÁNEA / ÉXITO'],\n",
       " ['El amor es un misterio. Todo en él son fenómenos a cual más inéxplicable; todo en él es ilógico, todo en él es vaguedad y absurdo.',\n",
       "  'Gustavo Adolfo Bécquer (1836-1870) Poeta español.',\n",
       "  'SENTIMIENTOS / AMOR'],\n",
       " ['Debes tener siempre fría la cabeza, caliente el corazón y larga la mano.',\n",
       "  'Confucio (551 AC-478 AC) Filósofo chino.',\n",
       "  'SENTIMIENTOS / AMOR / CORAZÓN'],\n",
       " ['Un padre es un tesoro, un hermano es un consuelo: un amigo es ambos.',\n",
       "  'Benjamin Franklin (1706-1790) Estadista y científico estadounidense.',\n",
       "  'SENTIMIENTOS / AMISTAD'],\n",
       " ['El destino de los hombres está hecho de momentos felices, toda la vida los tiene, pero no de épocas felices.',\n",
       "  'Friedrich Nietzsche (1844-1900) Filosofo alemán.',\n",
       "  'SENTIMIENTOS / FELICIDAD'],\n",
       " ['Un amigo es una persona con la que se puede pensar en voz alta.',\n",
       "  'Emerson (1803-1882) Poeta y pensador estadounidense.',\n",
       "  'SENTIMIENTOS / AMISTAD'],\n",
       " ['El amigo ha de ser como el dinero, que antes de necesitarlo, se sabe el valor que tiene.',\n",
       "  'Sócrates (470 AC-399 AC) Filósofo griego.',\n",
       "  'SENTIMIENTOS / AMISTAD'],\n",
       " ['Cuando el hombre es celoso, molesta; cuando no lo es, irrita.',\n",
       "  'Refrán',\n",
       "  'SENTIMIENTOS / CELOS'],\n",
       " ['A cierta edad, un poco por amor propio, otro poco por picardía, las cosas que más deseamos son las que fingimos no desear.',\n",
       "  'Marcel Proust (1871-1922) Escritor francés.',\n",
       "  'PENSAMIENTO Y RAZÓN / DESEO'],\n",
       " ['El mejor servicio que podemos prestar a los afligidos no es quitarles la carga, sino infundirles la necesaria energía para sobrellevarla.',\n",
       "  'Phillips Brooks (1835-1893) Clérigo episcopal americano.',\n",
       "  'SENTIMIENTOS / AFLICCIÓN'],\n",
       " ['Cuando no se puede lograr lo que se quiere, mejor cambiar de actitud.',\n",
       "  'Terencio (195 AC-159 AC) Autor cómico latino.',\n",
       "  'MISCELÁNEA / CAMBIO'],\n",
       " ['La confianza, como el arte, nunca proviene de tener todas las respuestas, sino de estar abierto a todas la preguntas.',\n",
       "  'Earl Gray Stevens',\n",
       "  'SENTIMIENTOS / CONFIANZA'],\n",
       " ['La violencia es el miedo a los ideales de los demás.',\n",
       "  'Mahatma Gandhi (1869-1948) Político y pensador indio.',\n",
       "  'DEFECTOS / VIOLENCIA'],\n",
       " ['La vida es una serie de colisiones con el futuro; no es una suma de lo que hemos sido, sino de lo que anhelamos ser.',\n",
       "  'José Ortega y Gasset (1883-1955) Filósofo y ensayista español.',\n",
       "  'NATURALEZA / VIDA'],\n",
       " ['¿Qué locura o qué desatino me lleva a contar las ajenas faltas, teniendo tanto que decir de las mías?',\n",
       "  'Miguel de Cervantes (1547-1616) Escritor español.',\n",
       "  'DEFECTOS'],\n",
       " ['Amar a alguien es decirle: tú no morirás jamás.',\n",
       "  'Gabriel Marcel (1889-1973) Filósofo católico, dramaturgo y crítico francés.',\n",
       "  'SENTIMIENTOS / AMOR / AMAR'],\n",
       " ['La única ventaja de jugar con fuego es que aprende uno a no quemarse.',\n",
       "  'Oscar Wilde (1854-1900) Dramaturgo y novelista irlandés.',\n",
       "  'MISCELÁNEA / RIESGOS'],\n",
       " ['La vida es un negocio en el que no se obtiene una ganancia que no vaya acompañada de una pérdida.',\n",
       "  'Arturo Graf (1848-1913) Escritor y poeta italiano.',\n",
       "  'NATURALEZA / VIDA'],\n",
       " ['Hijo mío, la felicidad está hecha de pequeñas cosas: Un pequeño yate, una pequeña mansión, una pequeña fortuna…',\n",
       "  'Groucho Marx (1890-1977) Actor estadounidense.',\n",
       "  'SENTIMIENTOS / FELICIDAD'],\n",
       " ['Estaba furioso de no tener zapatos; entonces encontré a un hombre que no tenía píes, y me sentí contento de mi mismo.',\n",
       "  'Proverbio',\n",
       "  'MISCELÁNEA / SIN CLASIFICAR'],\n",
       " ['El amor nunca tiene razones, y la falta del amor tampoco. Todo son milagros.',\n",
       "  \"Eugene O'Neill (1888-1953) Dramaturgo estadounidense.\",\n",
       "  'SENTIMIENTOS / AMOR'],\n",
       " ['Los libros son, entre mis consejeros, los que más me agradan, porque ni el temor ni la esperanza les impiden decirme lo que debo hacer.',\n",
       "  'Alfonso V el Magnánimo (1394-1458) Rey de Aragón.',\n",
       "  'ARTE / LITERATURA / LIBROS'],\n",
       " ['El maestro que intenta enseñar sin inspirar en el alumno el deseo de aprender está tratando de forjar un hierro frío.',\n",
       "  'Horace Mann (1796-1859) Educador estadounidense.',\n",
       "  'SOCIEDAD / EDUCACIÓN'],\n",
       " ['¡Qué raro y maravilloso es ese fugaz instante en el que nos damos cuenta de que hemos descubierto un amigo!',\n",
       "  'William Rotsler (1926-1997) Escritor estadounidense.',\n",
       "  'SENTIMIENTOS / AMISTAD / AMIGOS'],\n",
       " ['Hay que unirse, no para estar juntos, sino para hacer algo juntos.',\n",
       "  'Juan Donoso Cortés (1809-1853) Ensayista español.',\n",
       "  'NATURALEZA / SER HUMANO / HACER'],\n",
       " ['No busques al amigo para matar las horas, sino búscale con horas para vivir.',\n",
       "  'Khalil Gibran (1883-1931) Ensayista, novelista y poeta libanés.',\n",
       "  'SENTIMIENTOS / AMISTAD / AMIGOS'],\n",
       " ['Alguien que ama no insulta ni maltrata.',\n",
       "  'Lucía Extebarria (1966-?) Escritora española.',\n",
       "  'SENTIMIENTOS / AMOR / AMAR'],\n",
       " ['No esperes que tu amigo venga a descubrirte su necesidad; ayúdale antes.',\n",
       "  'Juan Luis Vives (1492-1540) Humanista y filósofo español.',\n",
       "  'SENTIMIENTOS / AMISTAD'],\n",
       " ['Para que el que cree no es necesaria ninguna explicación: para el que no cree toda explicación sobra.',\n",
       "  'Franz Werfel (1890-1945) Novelista, poeta y dramaturgo austriaco.',\n",
       "  'NATURALEZA / SER HUMANO / CREER'],\n",
       " ['Apresúrate; no te fíes de las horas venideras. El que hoy no está dispuesto, menos lo estará mañana.',\n",
       "  'Ovidio (43 AC-17) Poeta latino.',\n",
       "  'NATURALEZA / SER HUMANO / HACER'],\n",
       " ['La confianza ha de darnos la paz. No basta la buena fe, es preciso mostrarla, porque los hombres siempre ven y pocas veces piensan.',\n",
       "  'Simón Bolívar (1783-1830) Militar y político de origen venezolano.',\n",
       "  'SENTIMIENTOS / CONFIANZA'],\n",
       " ['Para mi corazón basta tu pecho,',\n",
       "  'para tu libertad bastan mis alas.',\n",
       "  'Pablo Neruda (1904-1973) Poeta chileno.',\n",
       "  'SENTIMIENTOS / AMOR'],\n",
       " ['Todo nuestro descontento por aquello de lo que carecemos procede de nuestra falta de gratitud por lo que tenemos.',\n",
       "  'Daniel Defoe (1660-1731) Novelista y periodista inglés.',\n",
       "  'DEFECTOS / INGRATITUD'],\n",
       " ['El que está acostumbrado a viajar, sabe que siempre es necesario partir algún día.',\n",
       "  'Paulo Coelho (1947-?) Escritor brasileño.',\n",
       "  'SOCIEDAD / VIAJES / VIAJAR'],\n",
       " ['El dolor es inevitable pero el sufrimiento es opcional.',\n",
       "  'Buda (563 AC-486 AC) Fundador del budismo.',\n",
       "  'SENTIMIENTOS / DOLOR'],\n",
       " ['Si es bueno vivir, todavía es mejor soñar, y lo mejor de todo, despertar.',\n",
       "  'Antonio Machado (1875-1939) Poeta y prosista español.',\n",
       "  'PENSAMIENTO Y RAZÓN / SUEÑOS'],\n",
       " ['Importa mucho más lo que tú piensas de ti mismo que lo que los otros opinen de ti.',\n",
       "  'Séneca (2 AC-65) Filósofo latino.',\n",
       "  'PENSAMIENTO Y RAZÓN / OPINIÓN'],\n",
       " ['Sólo con quien te ama puedes mostrarte débil sin provocar una reacción de fuerza.',\n",
       "  'Theodor W. Adorno (1903-1969) Filósofo alemán',\n",
       "  'SENTIMIENTOS / AMOR / AMAR'],\n",
       " ['Duerme con el pensamiento de la muerte y levántate con el pensamiento de que la vida es corta.',\n",
       "  'Proverbio',\n",
       "  'NATURALEZA / MUERTE'],\n",
       " ['Un fanático es alguien que no puede cambiar de opinión y no quiere cambiar de tema.',\n",
       "  'Winston Churchill (1874-1965) Político británico.',\n",
       "  'MISCELÁNEA / FANATISMOS'],\n",
       " ['Los amigos son esa parte de la raza humana con la que uno puede ser humano.',\n",
       "  'George Santayana (1863-1952) Filósofo y escritor español.',\n",
       "  'SENTIMIENTOS / AMISTAD / AMIGOS'],\n",
       " ['La esperanza es el sueño del hombre despierto.',\n",
       "  'Aristóteles (384 AC-322 AC) Filósofo griego.',\n",
       "  'SENTIMIENTOS / ESPERANZA'],\n",
       " ['El que vive enamorado delira, a menudo se lamenta, siempre suspira, y no habla sino de morir.',\n",
       "  'Pietro Metastasio (1698-1782) Poeta italiano.',\n",
       "  'SENTIMIENTOS / AMOR / ENAMORARSE'],\n",
       " ['Un hombre enamorado está incompleto hasta que está casado; entonces está acabado.',\n",
       "  'Zsa Zsa Gabor (1917-2016) Actriz de origen húngaro',\n",
       "  'SENTIMIENTOS / AMOR / ENAMORARSE'],\n",
       " ['Esta sociedad nos da facilidades para hacer el amor, pero no para enamorarnos.',\n",
       "  'Antonio Gala (1930-?) Dramaturgo, poeta y novelista español.',\n",
       "  'SENTIMIENTOS / AMOR / ENAMORARSE'],\n",
       " ['Si las íntimas preocupaciones de cada cual se leyeran escritas sobre su frente, !cuántos que causan envidia nos moverían lástima!.',\n",
       "  'Pietro Metastasio (1698-1782) Poeta italiano.',\n",
       "  'MISCELÁNEA / PREOCUPACIONES'],\n",
       " ['A veces pienso que la prueba más fehaciente de que existe vida inteligente en el universo es que nadie ha intentado contactar con nosotros.',\n",
       "  'Bill Watterson (1958-?) Autor de comics.',\n",
       "  'MISCELÁNEA / UNIVERSO'],\n",
       " ['Si usted quiere saber lo que una mujer dice realmente, mírela, no la escuche.',\n",
       "  'Oscar Wilde (1854-1900) Dramaturgo y novelista irlandés.',\n",
       "  'SOCIEDAD / MUJERES'],\n",
       " ['El signo más evidente de que se ha encontrado la verdad es la paz interior.',\n",
       "  'Amado Nervo (1870-1919) Poeta, novelista y ensayista mexicano.',\n",
       "  'SENTIMIENTOS / PAZ INTERIOR'],\n",
       " ['Sólo se ama lo que no se posee totalmente.',\n",
       "  'Marcel Proust (1871-1922) Escritor francés.',\n",
       "  'SENTIMIENTOS / AMOR / AMAR'],\n",
       " ['Si no te quieren como tú quieres que te quieran, ¿de qué te sirve que te quieran?',\n",
       "  'Amado Nervo (1870-1919) Poeta, novelista y ensayista mexicano.',\n",
       "  'SENTIMIENTOS / AMOR'],\n",
       " ['Como todos los soñadores, confundí el desencanto con la verdad.',\n",
       "  'Jean Paul Sartre (1905-1980) Filósofo y escritor francés.',\n",
       "  'PENSAMIENTO Y RAZÓN / VERDAD'],\n",
       " ['Una de las alegrías de la amistad es saber en quien confiar.',\n",
       "  'Alessandro Manzoni (1785-1873) Poeta y escritor italiano.',\n",
       "  'SENTIMIENTOS / AMISTAD'],\n",
       " ['Para entender el corazón y la mente de una persona, no te fijes en lo que ha hecho no te fijes en lo que ha logrado sino en lo que aspira a hacer.',\n",
       "  'Khalil Gibran (1883-1931) Ensayista, novelista y poeta libanés.',\n",
       "  'CUALIDADES / COMPRENSIÓN'],\n",
       " ['Acá hay tres clases de gente: la que se mata trabajando, las que deberían trabajar y las que tendrían que matarse.',\n",
       "  'Mario Benedetti (1920-2009) Escritor y poeta uruguayo.',\n",
       "  'MISCELÁNEA / GENTE'],\n",
       " ['Los amigos se convierten con frecuencia en ladrones de nuestro tiempo.',\n",
       "  'Platón (427 AC-347 AC) Filósofo griego.',\n",
       "  'SENTIMIENTOS / AMISTAD'],\n",
       " ['El mundo está lleno de pequeñas alegrías: el arte consiste en saber distinguirlas.',\n",
       "  'Li Tai-Po (701-762) Poeta chino.',\n",
       "  'ARTE'],\n",
       " ['Con las pasiones uno no se aburre jamás; sin ellas, se idiotiza.',\n",
       "  'Stendhal (1783-1842) Escritor francés.',\n",
       "  'SENTIMIENTOS / AMOR / PASIÓN'],\n",
       " ['Como flores hermosas, con color, pero sin aroma, son las dulces palabras para el que no obra de acuerdo con ellas.',\n",
       "  'Buda (563 AC-486 AC) Fundador del budismo.',\n",
       "  'NATURALEZA / SER HUMANO / PALABRAS'],\n",
       " ['Si exagerásemos nuestras alegrías, como hacemos con nuestras penas, nuestros problemas perderían importancia.',\n",
       "  'Anatole France (1844-1924) Escritor francés.',\n",
       "  'SENTIMIENTOS / ALEGRÍA'],\n",
       " ['La belleza exterior no es más que el encanto de un instante. La apariencia del cuerpo no siempre es el reflejo del alma.',\n",
       "  'George Sand (1804-1876) Escritora francesa.',\n",
       "  'CUALIDADES / BELLEZA'],\n",
       " ['La amistad es un contrato por el cual nos obligamos a hacer pequeños favores a los demás para que los demás nos los hagan grandes.',\n",
       "  'Montesquieu (1689-1755) Escritor y político francés.',\n",
       "  'SENTIMIENTOS / AMISTAD'],\n",
       " ['Todo lo que se hace por amor, se hace más allá del bien y del mal.',\n",
       "  'Friedrich Nietzsche (1844-1900) Filosofo alemán.',\n",
       "  'SENTIMIENTOS / AMOR'],\n",
       " ['Nadie está libre de decir estupideces, lo malo es decirlas con énfasis.',\n",
       "  'Michel de Montaigne (1533-1592) Escritor y filósofo francés.',\n",
       "  'DEFECTOS / ESTUPIDEZ'],\n",
       " ['La senda de la virtud es muy estrecha y el camino del vicio, ancho y espacioso.',\n",
       "  'Miguel de Cervantes (1547-1616) Escritor español.',\n",
       "  'DEFECTOS / VICIOS'],\n",
       " ['Pienso que una vida dedicada a la música es una vida bellamente empleada, y es a eso a lo que he dedicado la mía.',\n",
       "  'Luciano Pavarotti (1935-2007) Tenor italiano.',\n",
       "  'ARTE / MÚSICA'],\n",
       " ['Es una locura amar, a menos de que se ame con locura.',\n",
       "  'Proverbio latino',\n",
       "  'SENTIMIENTOS / AMOR'],\n",
       " ['Todo es muy difícil antes de ser sencillo.',\n",
       "  'Thomas Fuller (1610-1661) Clérigo y escritor británico.',\n",
       "  'CUALIDADES / SENCILLEZ'],\n",
       " ['Un hombre con una idea nueva es un loco hasta que la idea triunfa.',\n",
       "  'Mark Twain (1835-1910) Escritor y periodista estadounidense.',\n",
       "  'PENSAMIENTO Y RAZÓN / IDEAS'],\n",
       " ['Tres clases hay de ignorancia: no saber lo que debiera saberse, saber mal lo que se sabe, y saber lo que no debiera saberse.',\n",
       "  'François de La Rochefoucauld (1613-1680) Escritor francés.',\n",
       "  'DEFECTOS / IGNORANCIA'],\n",
       " ['El delito de los que nos engañan no está en el engaño, sino en que ya no nos dejan soñar que no nos engañarán nunca.',\n",
       "  'Víctor Ruiz Iriarte (1912 -1982) Dramaturgo español.',\n",
       "  'MISCELÁNEA / ENGAÑO'],\n",
       " ['La sonrisa cuesta menos que la electricidad y da más luz.',\n",
       "  'Proverbio escocés',\n",
       "  'MISCELÁNEA / SONRISA'],\n",
       " ['Amor y deseo son dos cosas diferentes; que no todo lo que se ama se desea, ni todo lo que se desea se ama.',\n",
       "  'Miguel de Cervantes (1547-1616) Escritor español.',\n",
       "  'PENSAMIENTO Y RAZÓN / DESEO'],\n",
       " ['Vivimos en el mundo cuando amamos. Sólo una vida vivida para los demás merece la pena ser vivida.',\n",
       "  'Albert Einstein (1879-1955) Científico alemán nacionalizado estadounidense.',\n",
       "  'SENTIMIENTOS / AMOR / AMAR'],\n",
       " ['Ves cosas y dices,\"¿Por qué?\" Pero yo sueño cosas que nunca fueron y digo, \"¿Por qué no?\".',\n",
       "  'George Bernard Shaw (1856-1950) Escritor irlandés.',\n",
       "  'PENSAMIENTO Y RAZÓN / SUEÑOS'],\n",
       " ['Existen dos maneras de ser feliz en esta vida, una es hacerse el idiota y la otra serlo.',\n",
       "  'Sigmund Freud (1856-1939) Médico austriaco.',\n",
       "  'SENTIMIENTOS / FELICIDAD / FELIZ'],\n",
       " ['Los hombres y pueblos en decadencia viven acordándose de dónde vienen; los hombres geniales y pueblos fuertes sólo necesitan saber a dónde van.',\n",
       "  'José Ingenieros (1877-1925) Filósofo y psicólogo argentino.',\n",
       "  'TIEMPO / FUTURO'],\n",
       " ['La sabiduría consiste en saber cuál es el siguiente paso; la virtud, en llevarlo a cabo.',\n",
       "  'David Starr Jordan (1851-1931) Educador y ictiólogo estadounidense.',\n",
       "  'CUALIDADES / SABIDURÍA'],\n",
       " ['Todo lo que somos es el resultado de lo que hemos pensado; está fundado en nuestros pensamientos y está hecho de nuestros pensamientos.',\n",
       "  'Buda (563 AC-486 AC) Fundador del budismo.',\n",
       "  'PENSAMIENTO Y RAZÓN / PENSAMIENTO'],\n",
       " ['En la vida, lo más triste, no es ser del todo desgraciado, es que nos falte muy poco para ser felices y no podamos conseguirlo.',\n",
       "  'Jacinto Benavente (1866-1954) Dramaturgo español.',\n",
       "  'MISCELÁNEA / DESGRACIA'],\n",
       " ['Señor, las tristezas no se hicieron para las bestias, sino para los hombres; pero si los hombres las sienten demasiado, se vuelven bestias.',\n",
       "  'Miguel de Cervantes (1547-1616) Escritor español.',\n",
       "  'SENTIMIENTOS / TRISTEZA'],\n",
       " ['En tres tiempos se divide la vida: en presente, pasado y futuro. De éstos, el presente es brevísimo; el futuro, dudoso; el pasado, cierto.',\n",
       "  'Séneca (2 AC-65) Filósofo latino.',\n",
       "  'NATURALEZA / VIDA'],\n",
       " ['No me arrepiento en absoluto de haber corrido todos los riesgos por aquello que me importaba.',\n",
       "  'Arthur Miller (1915-2005) Dramaturgo estadounidense.',\n",
       "  'MISCELÁNEA / RIESGOS'],\n",
       " ['La lucha siempre merece la pena si el fin vale la pena y los medios son honestos.',\n",
       "  'Steven Brust (1955-?) Escritor estadounidense.',\n",
       "  'MISCELÁNEA / LUCHAR'],\n",
       " ['Huye de los elogios pero trata de merecerlos.',\n",
       "  'Fénelon (1651-1715) Escritor y teólogo francés.',\n",
       "  'MISCELÁNEA / ELOGIOS'],\n",
       " ['Si no tienes la libertad interior, ¿qué otra libertad esperas poder tener?',\n",
       "  'Arturo Graf (1848-1913) Escritor y poeta italiano.',\n",
       "  'SOCIEDAD / LIBERTAD'],\n",
       " ['La aventura podrá ser loca, pero el aventurero ha de ser cuerdo.',\n",
       "  'Gilbert Keith Chesterton (1874-1936) Escritor británico.',\n",
       "  'MISCELÁNEA / AVENTURA'],\n",
       " ['El amor es como el fuego; suelen ver antes el humo los que están fuera, que las llamas los que están dentro.',\n",
       "  'Jacinto Benavente (1866-1954) Dramaturgo español.',\n",
       "  'SENTIMIENTOS / AMOR'],\n",
       " ['Siempre imaginé que el Paraíso sería algún tipo de biblioteca.',\n",
       "  'Jorge Luis Borges (1899-1986) Escritor argentino.',\n",
       "  'ARTE / LITERATURA / BIBLIOTECAS'],\n",
       " ['Hay personas silenciosas que son mucho más interesantes que los mejores oradores.',\n",
       "  'Benjamin Disraeli (1804-1881) Estadista ingles.',\n",
       "  'MISCELÁNEA / SILENCIO'],\n",
       " ['El auténtico amigo es el que lo sabe todo sobre ti y sigue siendo tu amigo.',\n",
       "  'Kurt D. Cobain (1967-1994) Músico estadounidense',\n",
       "  'SENTIMIENTOS / AMISTAD / AMIGOS'],\n",
       " ['Aquel que tiene un porqué para vivir se puede enfrentar a todos los \"cómos\".',\n",
       "  'Friedrich Nietzsche (1844-1900) Filosofo alemán.',\n",
       "  'NATURALEZA / VIDA / VIVIR'],\n",
       " ['No hay que morir por el otro, sino vivir para disfrutar juntos.',\n",
       "  'Jorge Bucay (1949-?) Escritor y psicoterapeuta argentino.',\n",
       "  'SENTIMIENTOS / AMOR'],\n",
       " ['La razón puede advertirnos sobre lo que conviene evitar; sólo el corazón nos dice lo que es preciso hacer.',\n",
       "  'Joseph Joubert (1754-1824) Ensayista y moralista francés.',\n",
       "  'SENTIMIENTOS / AMOR / CORAZÓN'],\n",
       " ['El que no esté seguro de su memoria debe abstenerse de mentir.',\n",
       "  'Michel de Montaigne (1533-1592) Escritor y filósofo francés.',\n",
       "  'PENSAMIENTO Y RAZÓN / MEMORIA'],\n",
       " ['Confianza es el sentimiento de poder creer a una persona incluso cuando sabemos que mentiríamos en su lugar.',\n",
       "  'Henry-Louis Mencken (1880-1956) Periodista y escritor estadounidense.',\n",
       "  'SENTIMIENTOS / CONFIANZA'],\n",
       " ['La esperanza es el peor de los males, pues prolonga el tormento del hombre.',\n",
       "  'Friedrich Nietzsche (1844-1900) Filosofo alemán.',\n",
       "  'SENTIMIENTOS / ESPERANZA'],\n",
       " ['El más bello instante del amor, el único que verdaderamente nos embriaga, es este preludio: el beso.',\n",
       "  'Paul Géraldy (1885-1983) Poeta y dramaturgo francés.',\n",
       "  'SENTIMIENTOS / AMOR / BESOS'],\n",
       " ['Hay algo más importante que la lógica: es la imaginación.',\n",
       "  'Alfred Hitchcock (1899-1980) Director de cine británico.',\n",
       "  'PENSAMIENTO Y RAZÓN / IMAGINACIÓN'],\n",
       " ['No tratéis de guiar al que pretende elegir por sí su propio camino.',\n",
       "  'William Shakespeare (1564-1616) Escritor británico.',\n",
       "  'PENSAMIENTO Y RAZÓN / DECISIONES'],\n",
       " ['Las guerras seguirán mientras el color de la piel siga siendo más importante que el de los ojos.',\n",
       "  'Bob Marley (1945-1981) Músico jamaicano.',\n",
       "  'SOCIEDAD / GUERRA'],\n",
       " ['Los vicios vienen como pasajeros, nos visitan como huéspedes y se quedan como amos.',\n",
       "  'Confucio (551 AC-478 AC) Filósofo chino.',\n",
       "  'DEFECTOS / VICIOS'],\n",
       " ['No es verdad que el matrimonio sea indisoluble. Se disuelve fácilmente en el aburrimiento.',\n",
       "  'Chumy Chúmez (1927-2003) Humorista gráfico y escritor español.',\n",
       "  'SOCIEDAD / MATRIMONIO'],\n",
       " ['Lo que se deja expresar, debe ser dicho de forma clara; sobre lo que no se puede hablar, es mejor callar.',\n",
       "  'Ludwig Wittgenstein (1889-1951) Filósofo británico, de origen austríaco.',\n",
       "  'NATURALEZA / SER HUMANO / CALLAR'],\n",
       " ['El hombre nace libre, responsable y sin excusas.',\n",
       "  'Jean Paul Sartre (1905-1980) Filósofo y escritor francés.',\n",
       "  'SOCIEDAD / LIBERTAD'],\n",
       " ['Las mujeres necesitamos la belleza para que los hombres nos amen, y la estupidez para que nosotras amemos a los hombres.',\n",
       "  'Coco Chanel (1883-1971) Diseñadora de moda francesa.',\n",
       "  'SOCIEDAD / MUJERES'],\n",
       " ['Hay que juzgar los sentimientos por los actos, más que por las palabras.',\n",
       "  'George Sand (1804-1876) Escritora francesa.',\n",
       "  'SENTIMIENTOS'],\n",
       " ['No basta decir solamente la verdad, mas conviene mostrar la causa de la falsedad.',\n",
       "  'Aristóteles (384 AC-322 AC) Filósofo griego.',\n",
       "  'PENSAMIENTO Y RAZÓN / VERDAD'],\n",
       " ['No hay secretos para el éxito. Éste se alcanza preparándose, trabajando arduamente y aprendiendo del fracaso.',\n",
       "  'Colin Powell (1937-?) Militar y político estadounidense.',\n",
       "  'MISCELÁNEA / ÉXITO'],\n",
       " ['Lo bueno del cine es que durante dos horas los problemas son de otros.',\n",
       "  'Pedro Ruiz (1947-?) Humrista, escritor y presentador español.',\n",
       "  'ARTE / CINE'],\n",
       " ['Vale más actuar exponiéndose a arrepentirse de ello, que arrepentirse de no haber hecho nada.',\n",
       "  'Giovanni Boccaccio (1313-1375) Escritor italiano.',\n",
       "  'SENTIMIENTOS / ARREPENTIMIENTO'],\n",
       " ['Me interesa el futuro porque es el sitio donde voy a pasar el resto de mi vida.',\n",
       "  'Woody Allen (1935-?) Actor, director y escritor estadounidense.',\n",
       "  'TIEMPO / FUTURO'],\n",
       " ['Creer que un enemigo débil no puede dañarnos, es creer que una chispa no puede incendiar el bosque.',\n",
       "  'Muslih-Ud-Din Saadi (1184-1291) Poeta persa.',\n",
       "  'DEFECTOS / DEBILIDAD / DÉBIL'],\n",
       " ['El mundo es un rompecabezas cuyas piezas cada uno de nosotros arma de diferente manera.',\n",
       "  'David Viscott (1938-1996) Psiquiatra y escritor estadounidense.',\n",
       "  'MISCELÁNEA / MUNDO'],\n",
       " ['Pierde una hora por la mañana y la estarás buscando todo el día.',\n",
       "  'Richard Whately (1787-1863) Arzobispo anglicano y educador británico.',\n",
       "  'TIEMPO'],\n",
       " ['Si queréis formar juicio acerca de un hombre, observad quienes son sus amigos.',\n",
       "  'Fénelon (1651-1715) Escritor y teólogo francés.',\n",
       "  'SENTIMIENTOS / AMISTAD / AMIGOS'],\n",
       " ['He leído en alguna parte que para amarse hay que tener principios semejantes, con gustos opuestos.',\n",
       "  'George Sand (1804-1876) Escritora francesa.',\n",
       "  'SENTIMIENTOS / AMOR / AMAR'],\n",
       " ['Así es -suspiró el coronel-. La vida es la cosa mejor que se ha inventado.',\n",
       "  'Gabriel García Márquez (1927-2014) Escritor colombiano.',\n",
       "  'NATURALEZA / VIDA'],\n",
       " ['El amor es como el agua, si algo no lo agita, se echa a perder.',\n",
       "  'Arturo Graf (1848-1913) Escritor y poeta italiano.',\n",
       "  'SENTIMIENTOS / AMOR'],\n",
       " ['Las lágrimas derramadas son amargas, pero más amargas son las que no se derraman.',\n",
       "  'Proverbio irlandés',\n",
       "  'MISCELÁNEA / LLORAR'],\n",
       " ['La ciencia moderna aún no ha producido un medicamento tranquilizador tan eficaz como lo son unas pocas palabras bondadosas.',\n",
       "  'Sigmund Freud (1856-1939) Médico austriaco.',\n",
       "  'CUALIDADES / BONDAD'],\n",
       " ['Un optimista es el que cree que todo tiene arreglo. Un pesimista es el que piensa lo mismo, pero sabe que nadie va a intentarlo.',\n",
       "  'Jaume Perich (1941-1995) Humorista español.',\n",
       "  'CUALIDADES / OPTIMISMO'],\n",
       " ['¡Oh amor poderoso¡ Que a veces hace de una bestia un hombre, y otras, de un hombre una bestia.',\n",
       "  'William Shakespeare (1564-1616) Escritor británico.',\n",
       "  'SENTIMIENTOS / AMOR'],\n",
       " ['Si juzgamos el amor por la mayor parte de sus efectos, se parece más al odio que a la amistad.',\n",
       "  'François de La Rochefoucauld (1613-1680) Escritor francés.',\n",
       "  'SENTIMIENTOS / AMOR'],\n",
       " ['La belleza que atrae rara vez coincide con la belleza que enamora.',\n",
       "  'José Ortega y Gasset (1883-1955) Filósofo y ensayista español.',\n",
       "  'CUALIDADES / BELLEZA'],\n",
       " ['Cuando te inunde una enorme alegría, no prometas nada a nadie. Cuando te domine un gran enojo, no contestes ninguna carta.',\n",
       "  'Proverbio chino',\n",
       "  'CUALIDADES / MODERACIÓN'],\n",
       " ['Sólo es inmensamente rico aquel que sabe limitar sus deseos.',\n",
       "  'Voltaire (1694-1778) Filósofo y escritor francés.',\n",
       "  'PENSAMIENTO Y RAZÓN / DESEO'],\n",
       " ['Con buenas palabras se puede negociar, pero para engrandecerse se requieren buenas obras.',\n",
       "  'Lao-tsé (570 aC-490 aC) Filósofo chino.',\n",
       "  'NATURALEZA / SER HUMANO / PALABRAS'],\n",
       " ['Los hombres construimos demasiados muros y no suficientes puentes.',\n",
       "  'Isaac Newton (1642-1727) Matemático y físico británico.',\n",
       "  'SOCIEDAD / PAZ'],\n",
       " ['Ser original es en cierto modo estar poniendo de manifiesto la mediocridad de los demás.',\n",
       "  'Ernesto Sábato (1911-2011) Escritor argentino.',\n",
       "  'CUALIDADES / ORIGINALIDAD'],\n",
       " ['Como no tenemos nada más precioso que el tiempo, no hay mayor generosidad que perderlo sin tenerlo en cuenta.',\n",
       "  'Marcel Jouhandeau (1888-1979) Escritor francés.',\n",
       "  'TIEMPO'],\n",
       " ['La memoria es el único paraíso del que no podemos ser expulsados.',\n",
       "  'Jean Paul (1763-1825) Escritor y humorista alemán.',\n",
       "  'PENSAMIENTO Y RAZÓN / MEMORIA'],\n",
       " ['Se viaja no para buscar el destino sino para huir de donde se parte.',\n",
       "  'Miguel de Unamuno (1864-1936) Filósofo y escritor español.',\n",
       "  'SOCIEDAD / VIAJES / VIAJAR'],\n",
       " ['Las masas humanas más peligrosas son aquellas en cuyas venas ha sido inyectado el veneno del miedo.... del miedo al cambio.',\n",
       "  'Octavio Paz (1914-1998) Poeta y ensayista mexicano.',\n",
       "  'MISCELÁNEA / CAMBIO'],\n",
       " ['La fuerza del carácter con frecuencia no es más que debilidad de sentimientos.',\n",
       "  'Arthur Schnitzler (1862-1931) Dramaturgo austríaco.',\n",
       "  'CUALIDADES / CARÁCTER'],\n",
       " ['Considero más valiente al que conquista sus deseos que al que conquista a sus enemigos, ya que la victoria más dura es la victoria sobre uno mismo.',\n",
       "  'Aristóteles (384 AC-322 AC) Filósofo griego.',\n",
       "  'PENSAMIENTO Y RAZÓN / SUEÑOS'],\n",
       " ['Hay pasiones que la prudencia enciende y que no existirían sin el riesgo que provocan.',\n",
       "  \"Jules d'Aurevilly (1808-1889) Novelista y crítico francés.\",\n",
       "  'SENTIMIENTOS / AMOR / PASIÓN'],\n",
       " ['Todo está perdido cuando los malos sirven de ejemplo y los buenos de mofa.',\n",
       "  'Demócrito de Abdera (460 AC-370 AC) Filósofo griego.',\n",
       "  'MISCELÁNEA / EJEMPLOS'],\n",
       " ['Una cosa es saber y otra saber enseñar.',\n",
       "  'Cicerón (106 AC-43 AC) Escritor, orador y político romano.',\n",
       "  'CUALIDADES / SABIDURÍA'],\n",
       " ['Las fuerzas que se asocian para el bien no se suman, se multiplican.',\n",
       "  'Concepción Arenal (1820-1893) Escritora y socióloga española.',\n",
       "  'MISCELÁNEA / FUERZAS'],\n",
       " ['Si no tenemos paz dentro de nosotros, de nada sirve buscarla fuera.',\n",
       "  'François de La Rochefoucauld (1613-1680) Escritor francés.',\n",
       "  'SENTIMIENTOS / PAZ INTERIOR'],\n",
       " ['La primera virtud es frenar la lengua, y es casi un dios quien teniendo razón sabe callarse.',\n",
       "  'Catón de Útica (95 AC-46 AC) Político romano.',\n",
       "  'CUALIDADES / VIRTUD'],\n",
       " ['Si de veras llegásemos a poder comprender, ya no podríamos juzgar.',\n",
       "  'André Malraux (1901-1976) Novelista y político francés.',\n",
       "  'CUALIDADES / COMPRENSIÓN'],\n",
       " ['Las infidelidades se perdonan, pero no se olvidan jamás.',\n",
       "  'Madame de Sévigné (1626-1696) Escritora francesa.',\n",
       "  'SENTIMIENTOS / AMOR / INFIDELIDAD'],\n",
       " ['La mejor estructura no garantizará los resultados ni el rendimiento. Pero la estructura equivocada es una garantía de fracaso.',\n",
       "  'Peter Drucker (1909-2005) Escritor y consultor austriaco.',\n",
       "  'MISCELÁNEA / RESULTADOS'],\n",
       " ['El que no sabe gozar de la ventura cuando le viene, no debe quejarse si se pasa.',\n",
       "  'Miguel de Cervantes (1547-1616) Escritor español.',\n",
       "  'MISCELÁNEA / FORTUNA'],\n",
       " ['Algunas veces hay que decidirse entre una cosa a la que se está acostumbrado y otra que nos gustaría conocer.',\n",
       "  'Paulo Coelho (1947-?) Escritor brasileño.',\n",
       "  'PENSAMIENTO Y RAZÓN / DECISIONES'],\n",
       " ['Quien cambia felicidad por dinero',\n",
       "  'no podrá cambiar dinero por felicidad.',\n",
       "  'José Narosky (1930-?) Escritor argentino.',\n",
       "  'SOCIEDAD / DINERO'],\n",
       " ['Honraré la Navidad en mi corazón y procuraré conservarla durante todo el año.',\n",
       "  'Charles Dickens (1812-1870) Escritor y novelista inglés.',\n",
       "  'SOCIEDAD / NAVIDAD'],\n",
       " ['Poesía es la unión de dos palabras que uno nunca supuso que pudieran juntarse, y que forman algo así como un misterio.',\n",
       "  'Federico García Lorca (1898-1936) Poeta y dramaturgo español.',\n",
       "  'ARTE / LITERATURA / POESÍA'],\n",
       " ['Un amigo en la vida es mucho. Dos son demasiado. Tres son imposibles.',\n",
       "  'Henry Adams (1838-1918) Escritor y historiador estadounidense.',\n",
       "  'SENTIMIENTOS / AMISTAD'],\n",
       " ['Quien no buscó amigos en la alegría, en la desgracia no los pida.',\n",
       "  'Refrán',\n",
       "  'SENTIMIENTOS / AMISTAD / AMIGOS'],\n",
       " ['La probabilidad de hacer mal se encuentra cien veces al día; la de hacer bien una vez al año.',\n",
       "  'Refrán',\n",
       "  'DEFECTOS / MALDAD'],\n",
       " ['El amor es el poder iniciador de la vida; la pasión posibilita su permanencia.',\n",
       "  'Anónimo',\n",
       "  'SENTIMIENTOS / AMOR / PASIÓN'],\n",
       " ['No hay disfraz que pueda largo tiempo ocultar el amor donde lo hay, ni fingirlo donde no lo hay.',\n",
       "  'François de La Rochefoucauld (1613-1680) Escritor francés.',\n",
       "  'SENTIMIENTOS / AMOR'],\n",
       " ['Es difícil crear ideas y fácil crear palabras; de ahí el éxito de los filósofos.',\n",
       "  'André Maurois (1885-1967) Novelista y ensayista francés.',\n",
       "  'PENSAMIENTO Y RAZÓN / FILOSOFÍA / FILÓSOFO'],\n",
       " ['Más vale feo y bueno que guapo y perverso.',\n",
       "  'Refrán',\n",
       "  'MISCELÁNEA / SIN CLASIFICAR'],\n",
       " ['El fracaso es una gran oportunidad para empezar otra vez con más inteligencia.',\n",
       "  'Henry Ford (1863-1947) Industrial estadounidense.',\n",
       "  'MISCELÁNEA / FRACASO'],\n",
       " ['Sin música la vida sería un error.',\n",
       "  'Friedrich Nietzsche (1844-1900) Filosofo alemán.',\n",
       "  'ARTE / MÚSICA'],\n",
       " ['La experiencia no tiene valor ético alguno, es simplemente el nombre que damos a nuestros errores.',\n",
       "  'Oscar Wilde (1854-1900) Dramaturgo y novelista irlandés.',\n",
       "  'CUALIDADES / EXPERIENCIA'],\n",
       " ['Si tú me amaras y yo te amase, ¡cómo nos amaríamos!.',\n",
       "  'Paul Géraldy (1885-1983) Poeta y dramaturgo francés.',\n",
       "  'SENTIMIENTOS / AMOR / AMAR'],\n",
       " ['El futuro es algo que cada cual alcanza a un ritmo de sesenta minutos por hora, haga lo que haga y sea quien sea.',\n",
       "  'Clive Staples Lewis (1898-1963) Escritor británico.',\n",
       "  'TIEMPO / FUTURO'],\n",
       " ['Soportaría gustosa una docena más de desencantos amorosos, si ello me ayudara a perder un par de kilos.',\n",
       "  'Colette (1873-1954) Novelista francesa.',\n",
       "  'SENTIMIENTOS / AMOR / DESENGAÑOS AMOROSOS'],\n",
       " ['Si das con una buena mujer serás feliz; y si no te volverás filósofo, lo que siempre es útil para el hombre.',\n",
       "  'Pitigrilli (1893-1975) Escritor italiano.',\n",
       "  'PENSAMIENTO Y RAZÓN / FILOSOFÍA / FILÓSOFO'],\n",
       " ['Purifica tu corazón antes de permitir que el amor se asiente en él, ya que la miel más dulce se agria en un vaso sucio.',\n",
       "  'Pitágoras de Samos (582 AC-497 AC) Filósofo y matemático griego.',\n",
       "  'SENTIMIENTOS / AMOR / CORAZÓN'],\n",
       " ['Es mejor ser rey de tu silencio que esclavo de tus palabras.',\n",
       "  'William Shakespeare (1564-1616) Escritor británico.',\n",
       "  'MISCELÁNEA / SILENCIO'],\n",
       " ['En la amistad y en el amor se es más feliz con la ignorancia que con el saber.',\n",
       "  'William Shakespeare (1564-1616) Escritor británico.',\n",
       "  'DEFECTOS / IGNORANCIA'],\n",
       " ['Coged las rosas mientras podáis',\n",
       "  'veloz el tiempo vuela.',\n",
       "  'La misma flor que hoy admiráis,',\n",
       "  'mañana estará muerta...',\n",
       "  'Walt Whitman (1819-1892) Poeta estadounidense.',\n",
       "  'TIEMPO / PRESENTE'],\n",
       " ['¿Quieres ser rico? Pues no te afanes en aumentar tus bienes, sino en disminuir tu codicia.',\n",
       "  'Epicuro de Samos (341 AC-270 AC) Filósofo griego.',\n",
       "  'SOCIEDAD / DINERO / RIQUEZA'],\n",
       " ['En el amor no basta atacar, hay que tomar la plaza.',\n",
       "  'Ovidio (43 AC-17) Poeta latino.',\n",
       "  'SENTIMIENTOS / AMOR'],\n",
       " ['El sufrimiento depende no tanto de lo que se padece cuanto de nuestra imaginación, que aumenta nuestros males.',\n",
       "  'Fénelon (1651-1715) Escritor y teólogo francés.',\n",
       "  'SENTIMIENTOS / SUFRIMIENTO'],\n",
       " ['El niño que no juega no es niño, pero el hombre que no juega perdió para siempre al niño que vivía en él y que le hará mucha falta.',\n",
       "  'Pablo Neruda (1904-1973) Poeta chileno.',\n",
       "  'TIEMPO / INFANCIA'],\n",
       " ['La soledad es muy hermosa... cuando se tiene alguien a quien decírselo.',\n",
       "  'Gustavo Adolfo Bécquer (1836-1870) Poeta español.',\n",
       "  'SENTIMIENTOS / SOLEDAD'],\n",
       " ['Proclamo en voz alta la libertad de pensamiento y muera el que no piense como yo.',\n",
       "  'Voltaire (1694-1778) Filósofo y escritor francés.',\n",
       "  'SOCIEDAD / LIBERTAD'],\n",
       " ['Los que de corazón se quieren sólo con el corazón se hablan.',\n",
       "  'Francisco de Quevedo (1580-1645) Escritor español.',\n",
       "  'SENTIMIENTOS / AMOR / CORAZÓN'],\n",
       " ['Los jóvenes hoy en día son unos tiranos. Contradicen a sus padres, devoran su comida, y le faltan al respeto a sus maestros.',\n",
       "  'Sócrates (470 AC-399 AC) Filósofo griego.',\n",
       "  'TIEMPO / JUVENTUD'],\n",
       " ['El que dice una mentira no sabe qué tarea ha asumido, porque estará obligado a inventar veinte más para sostener la certeza de esta primera.',\n",
       "  'Alexander Pope (1688-1744) Poeta inglés.',\n",
       "  'PENSAMIENTO Y RAZÓN / MENTIRAS'],\n",
       " ['El destino no reina sin la complicidad secreta del instinto y de la voluntad.',\n",
       "  'Giovanni Papini (1881-1956) Escritor italiano.',\n",
       "  'MISCELÁNEA / DESTINO'],\n",
       " ['Pueden prohibirme seguir mi camino, pueden intentar forzar mi voluntad. Pero no pueden impedirme que, en el fondo de mi alma, elija a una o a otra.',\n",
       "  'Henrik Johan Ibsen (1828-1906) Dramaturgo noruego.',\n",
       "  'NATURALEZA / SER HUMANO / ELEGIR'],\n",
       " ['Inteligencia es lo que usas cuando no sabes qué hacer.',\n",
       "  'Jean Piaget (1896-1980) Filósofo y psicólogo suizo.',\n",
       "  'CUALIDADES / INTELIGENCIA'],\n",
       " ['Con mis maestros he aprendido mucho; con mis colegas, más; con mis alumnos todavía más.',\n",
       "  'Proverbio hindú',\n",
       "  'SOCIEDAD / EDUCACIÓN / APRENDER'],\n",
       " ['Hemos aprendido a volar como los pájaros, a nadar como los peces; pero no hemos aprendido el sencillo arte de vivir como hermanos.',\n",
       "  'Martin Luther King (1929-1968) Religioso estadounidense.',\n",
       "  'MISCELÁNEA / CONVIVENCIA'],\n",
       " ['De mis disparates de juventud lo que más pena me da no es el haberlos cometido, sino el no poder volver a cometerlos.',\n",
       "  'Pierre Benoit (1886-1962) Novelista francés.',\n",
       "  'TIEMPO / JUVENTUD'],\n",
       " ['La medida del amor es amar sin medida.',\n",
       "  'San Agustín (354-430) Obispo y filósofo.',\n",
       "  'SENTIMIENTOS / AMOR'],\n",
       " ['Es mejor viajar lleno de esperanza que llegar.',\n",
       "  'Proverbio japonés',\n",
       "  'SENTIMIENTOS / ESPERANZA'],\n",
       " ['La intención de no engañar nunca nos expone a ser engañados muchas veces.',\n",
       "  'François de La Rochefoucauld (1613-1680) Escritor francés.',\n",
       "  'MISCELÁNEA / ENGAÑO'],\n",
       " ['Todas las pasiones son buenas mientras uno es dueño de ellas, y todas son malas cuando nos esclavizan.',\n",
       "  'Jean Jacques Rousseau (1712-1778) Filósofo francés.',\n",
       "  'SENTIMIENTOS / AMOR / PASIÓN'],\n",
       " ['Para Adán, el paraíso era donde estaba Eva.',\n",
       "  'Mark Twain (1835-1910) Escritor y periodista estadounidense.',\n",
       "  'SENTIMIENTOS / AMOR'],\n",
       " ['Los seres humanos no nacen para siempre el día en que sus madres los alumbran, sino que la vida los obliga a parirse a sí mismos una y otra vez.',\n",
       "  'Gabriel García Márquez (1927-2014) Escritor colombiano.',\n",
       "  'NATURALEZA / SER HUMANO'],\n",
       " ['Lo que hace que los amantes no se aburran nunca de estar juntos es que se pasan el tiempo hablando siempre de sí mismos.',\n",
       "  'François de La Rochefoucauld (1613-1680) Escritor francés.',\n",
       "  'SENTIMIENTOS / AMOR / AMANTES'],\n",
       " ['La peor verdad sólo cuesta un gran disgusto. La mejor mentira cuesta muchos disgustos pequeños y al final, un disgusto grande.',\n",
       "  'Jacinto Benavente (1866-1954) Dramaturgo español.',\n",
       "  'PENSAMIENTO Y RAZÓN / VERDAD'],\n",
       " ['Algunas de las hazañas más grandes de la humanidad han sido obra de personas que no eran lo bastante listas para comprender que eran imposibles.',\n",
       "  'Doug Larson (1902-1981) Atleta británico.',\n",
       "  'MISCELÁNEA / IMPOSIBLES'],\n",
       " ['La desesperanza está fundada en lo que sabemos, que es nada, y la esperanza sobre lo que ignoramos, que es todo.',\n",
       "  'Maurice Maeterlinck (1862-1949) Escritor belga.',\n",
       "  'SENTIMIENTOS / ESPERANZA'],\n",
       " ['La vergüenza de confesar el primer error, hace cometer muchos otros.',\n",
       "  'Jean de La Fontaine (1621-1695) Escritor y poeta francés.',\n",
       "  'MISCELÁNEA / ERRAR'],\n",
       " ['Todo en amor es triste,',\n",
       "  'mas, triste y todo,',\n",
       "  'es lo mejor que existe.',\n",
       "  'Ramón de Campoamor (1817-1901) Poeta español.',\n",
       "  'SENTIMIENTOS / AMOR'],\n",
       " ['El que revela el secreto de otros pasa por traidor; el que revela el propio secreto pasa por imbécil.',\n",
       "  'Voltaire (1694-1778) Filósofo y escritor francés.',\n",
       "  'CUALIDADES / DISCRECIÓN'],\n",
       " ['Nunca es tarde para bien hacer; haz hoy lo que no hiciste ayer.',\n",
       "  'Refrán',\n",
       "  'TIEMPO / TARDANZA'],\n",
       " ['Para la cólera y el para el amor, todo lo que se aplaza se pierde.',\n",
       "  'Pierre Augustin de Beaumarchais (1732-1799) Poeta dramático francés.',\n",
       "  'SENTIMIENTOS / CÓLERA'],\n",
       " ['Es necesario tener tanta discreción para dar consejos como docilidad para recibirlos.',\n",
       "  'François de La Rochefoucauld (1613-1680) Escritor francés.',\n",
       "  'MISCELÁNEA / CONSEJO'],\n",
       " ['Las preguntas no son nunca indiscretas. Las respuestas, a veces sí.',\n",
       "  'Oscar Wilde (1854-1900) Dramaturgo y novelista irlandés.',\n",
       "  'MISCELÁNEA / PREGUNTAS'],\n",
       " ['Si la inspiración no viene a mí salgo a su encuentro, a la mitad del camino.',\n",
       "  'Sigmund Freud (1856-1939) Médico austriaco.',\n",
       "  'ARTE / INSPIRACIÓN'],\n",
       " ['Sólo hay dos palancas que muevan a los hombres: el miedo y el interés.',\n",
       "  'Napoleón I (1769-1821) Napoleón Bonaparte. Emperador francés.',\n",
       "  'MISCELÁNEA / ACCIÓN'],\n",
       " ['Para todo problema humano hay siempre una solución fácil, clara, plausible y equivocada.',\n",
       "  'Henry-Louis Mencken (1880-1956) Periodista y escritor estadounidense.',\n",
       "  'MISCELÁNEA / PROBLEMAS'],\n",
       " ['Convertid un árbol en leña y podrá arder para vosotros; pero ya no producirá flores ni frutos.',\n",
       "  'Rabindranath Tagore (1861-1941) Filósofo y escritor indio.',\n",
       "  'NATURALEZA'],\n",
       " ['Puede ser un héroe lo mismo el que triunfa que el que sucumbe, pero jamás el que abandona el combate.',\n",
       "  'Thomas Carlyle (1795-1881) Historiador, pensador y ensayista inglés.',\n",
       "  'MISCELÁNEA / TRIUNFAR'],\n",
       " ['La libertad es incompatible con el amor. Un amante es siempre un esclavo.',\n",
       "  'Germaine de Staël (1766-1817) Escritora e intelectual francesa.',\n",
       "  'SOCIEDAD / LIBERTAD'],\n",
       " ['El mal no es lo que entra en la boca del hombre, sino lo que sale de ella.',\n",
       "  'Jesucristo (4 AC-30) Fundador del cristianismo.',\n",
       "  'DEFECTOS / MALDAD'],\n",
       " ['Las lágrimas más amargas que se derramarán sobre nuestra tumba serán las de las palabras no dichas y las de las obras inacabadas.',\n",
       "  'Harriet Beecher Stowe (1811-1896) Filántropa y Escritora estadounidense.',\n",
       "  'SENTIMIENTOS / ARREPENTIMIENTO'],\n",
       " ['No podemos modelar a nuestros hijos según nuestros deseos, debemos estar con ellos y amarlos como Dios nos los ha entregado.',\n",
       "  'Goethe (1749-1832) Poeta y dramaturgo alemán.',\n",
       "  'SOCIEDAD / EDUCACIÓN'],\n",
       " ['No hay camino para la paz, la paz es el camino.',\n",
       "  'Mahatma Gandhi (1869-1948) Político y pensador indio.',\n",
       "  'SOCIEDAD / PAZ'],\n",
       " ['Elige una mujer de la cual puedas decir: Yo hubiera podido buscarla más bella pero no mejor.',\n",
       "  'Pitágoras de Samos (582 AC-497 AC) Filósofo y matemático griego.',\n",
       "  'SOCIEDAD / MUJERES'],\n",
       " ['El amor, como ciego que es, impide a los amantes ver las divertidas tonterías que cometen.',\n",
       "  'William Shakespeare (1564-1616) Escritor británico.',\n",
       "  'SENTIMIENTOS / AMOR'],\n",
       " ['El celoso ama más, pero el que no lo es ama mejor.',\n",
       "  'Molière (1622-1673) Comediografo francés.',\n",
       "  'SENTIMIENTOS / CELOS'],\n",
       " ['Sólo es capaz de realizar los sueños el que, cuando llega la hora, sabe estar despierto.',\n",
       "  'León Daudí (1905-1985) Escritor español.',\n",
       "  'PENSAMIENTO Y RAZÓN / SUEÑOS'],\n",
       " ['Si ya sabes lo que tienes que hacer y no lo haces entonces estás peor que antes.',\n",
       "  'Confucio (551 AC-478 AC) Filósofo chino.',\n",
       "  'NATURALEZA / SER HUMANO / HACER'],\n",
       " ['Quiero saberlo todo. Y siempre me encuentro como antes, triste como la vida y resignado como la sabiduría.',\n",
       "  'Giovanni Papini (1881-1956) Escritor italiano.',\n",
       "  'CUALIDADES / SABIDURÍA / SABER'],\n",
       " ['Quien es auténtico, asume la responsabilidad por ser lo que es y se reconoce libre de ser lo que es.',\n",
       "  'Jean Paul Sartre (1905-1980) Filósofo y escritor francés.',\n",
       "  'CUALIDADES / AUTENTICIDAD'],\n",
       " ['La palabra más soez y la carta más grosera son mejores, son más educadas que el silencio.',\n",
       "  'Friedrich Nietzsche (1844-1900) Filosofo alemán.',\n",
       "  'NATURALEZA / SER HUMANO / PALABRAS'],\n",
       " ['El sexo sin amor es una experiencia vacía. Pero como experiencia vacía es una de las mejores.',\n",
       "  'Woody Allen (1935-?) Actor, director y escritor estadounidense.',\n",
       "  'NATURALEZA / SER HUMANO / SEXO'],\n",
       " ['Amo a los perros porque nunca le hacen sentir a uno que los haya tratado mal.',\n",
       "  'Otto von Bismark (1815-1898) Político alemán.',\n",
       "  'NATURALEZA / ANIMALES / PERROS'],\n",
       " ['Dormía..., dormía y soñaba que la vida no era más que alegría. Me desperté y vi que la vida no era más que servir... y el servir era alegría.',\n",
       "  'Rabindranath Tagore (1861-1941) Filósofo y escritor indio.',\n",
       "  'NATURALEZA / VIDA'],\n",
       " ['Ofrecer amistad al que pide amor es como dar pan al que muere de sed.',\n",
       "  'Ovidio (43 AC-17) Poeta latino.',\n",
       "  'SENTIMIENTOS / AMISTAD'],\n",
       " ['La libertad de expresión es decir lo que la gente no quiere oír.',\n",
       "  'George Orwell (1903-1950) Escritor británico.',\n",
       "  'SOCIEDAD / LIBERTAD DE EXPRESIÓN'],\n",
       " ['El verdadero buscador crece y aprende, y descubre que siempre es el principal responsable de lo que sucede.',\n",
       "  'Jorge Bucay (1949-?) Escritor y psicoterapeuta argentino.',\n",
       "  'CUALIDADES / RESPONSABILIDAD'],\n",
       " ['Nadie necesita más unas vacaciones que el que acaba de tenerlas.',\n",
       "  'Elbert Hubbard (1856-1915) Ensayista estadounidense.',\n",
       "  'MISCELÁNEA / DESCANSO'],\n",
       " ['Lo mejor que podemos hacer en favor de quienes nos aman es seguir siendo felices.',\n",
       "  'Alain (1868-1951) Filósofo y ensayista francés.',\n",
       "  'SENTIMIENTOS / FELICIDAD'],\n",
       " ['El adulterio es justificable: el alma necesita pocas cosas; el cuerpo muchas.',\n",
       "  'George Herbert (1593-1633) Poeta religioso inglés.',\n",
       "  'SENTIMIENTOS / AMOR / INFIDELIDAD'],\n",
       " ['La envidia va tan flaca y amarilla porque muerde y no come.',\n",
       "  'Francisco de Quevedo (1580-1645) Escritor español.',\n",
       "  'SENTIMIENTOS / ENVIDIA'],\n",
       " ['Nada tan peligroso como una idea amplia en cerebros estrechos.',\n",
       "  'Hipólito Taine (1828-1893) Escritor francés.',\n",
       "  'PENSAMIENTO Y RAZÓN / IDEAS'],\n",
       " ['Cuando nuestros sueños se han cumplido es cuando comprendemos la riqueza de nuestra imaginación y la pobreza de la realidad.',\n",
       "  'Ninon de Lenclos (1620-1705) Cortesana francesa.',\n",
       "  'PENSAMIENTO Y RAZÓN / SUEÑOS'],\n",
       " ['Dime amigo: ¿La vida es triste o soy triste yo?',\n",
       "  'Amado Nervo (1870-1919) Poeta, novelista y ensayista mexicano.',\n",
       "  'SENTIMIENTOS / TRISTEZA'],\n",
       " ['Lo que con mucho trabajo se adquiere, más se ama.',\n",
       "  'Aristóteles (384 AC-322 AC) Filósofo griego.',\n",
       "  'SOCIEDAD / TRABAJO'],\n",
       " ['El hombre más rico del mundo no es el que conserva el primer duro que ganó, sino el que conserva el primer amigo que tuvo.',\n",
       "  'Marta Mason',\n",
       "  'SENTIMIENTOS / AMISTAD / AMIGOS'],\n",
       " ['Los sabios son los que buscan la sabiduría; los necios piensan ya haberla encontrado.',\n",
       "  'Napoleón I (1769-1821) Napoleón Bonaparte. Emperador francés.',\n",
       "  'CUALIDADES / SABIDURÍA'],\n",
       " ['Cuando se exagera un sentimiento, desaparece la capacidad de razonar.',\n",
       "  'Gustave Le Bon (1841-1931) Psicólogo francés.',\n",
       "  'SENTIMIENTOS'],\n",
       " ['El secreto de una buena vejez no es otra cosa que un pacto honrado con la soledad.',\n",
       "  'Gabriel García Márquez (1927-2014) Escritor colombiano.',\n",
       "  'TIEMPO / VEJEZ'],\n",
       " ['Nadie puede hacer el bien en un espacio de su vida, mientras hace daño en otro. La vida es un todo indivisible.',\n",
       "  'Mahatma Gandhi (1869-1948) Político y pensador indio.',\n",
       "  'CUALIDADES / BONDAD'],\n",
       " ['Intenta no volverte un hombre de éxito, sino volverte un hombre de valor.',\n",
       "  'Albert Einstein (1879-1955) Científico alemán nacionalizado estadounidense.',\n",
       "  'CUALIDADES / VALOR'],\n",
       " ['Mala cosa es tener un lobo cogido por las orejas, pues no sabes cómo soltarlo ni cómo continuar aguantándolo.',\n",
       "  'Terencio (195 AC-159 AC) Autor cómico latino.',\n",
       "  'PENSAMIENTO Y RAZÓN / DECISIONES'],\n",
       " ['No pido riquezas, ni esperanzas, ni amor, ni un amigo que me comprenda; todo lo que pido es el cielo sobre mí y un camino a mis pies.',\n",
       "  'Robert Louis Stevenson (1850-1894) Escritor británico.',\n",
       "  'SOCIEDAD / LIBERTAD'],\n",
       " ['A veces hay que estropear un poquito el cuadro para poder terminarlo.',\n",
       "  'Eugène Delacroix (1798-1863) Pintor francés.',\n",
       "  'ARTE / PINTURA'],\n",
       " ['Siempre se repite la misma historia: cada individuo no piensa más que en sí mismo.',\n",
       "  'Sófocles (495AC-406AC) Poeta trágico griego.',\n",
       "  'DEFECTOS / EGOÍSMO'],\n",
       " ['Los golpes de la adversidad son muy amargos, pero nunca son estériles.',\n",
       "  'Ernest Renan (1823-1892) Escritor francés.',\n",
       "  'MISCELÁNEA / ADVERSIDAD'],\n",
       " ['La razón no me ha enseñado nada. Todo lo que yo sé me ha sido dado por el corazón.',\n",
       "  'Leon Tolstoi (1828-1910) Escritor ruso.',\n",
       "  'PENSAMIENTO Y RAZÓN / RAZÓN'],\n",
       " ['La infancia tiene sus propias maneras de ver, pensar y sentir; nada hay más insensato que pretender sustituirlas por las nuestras.',\n",
       "  'Jean Jacques Rousseau (1712-1778) Filósofo francés.',\n",
       "  'TIEMPO / INFANCIA'],\n",
       " ['La felicidad es darse cuenta que nada es demasiado importante.',\n",
       "  'Antonio Gala (1930-?) Dramaturgo, poeta y novelista español.',\n",
       "  'SENTIMIENTOS / FELICIDAD'],\n",
       " ['La cólera es una ráfaga de viento que apaga la lámpara de la inteligencia.',\n",
       "  'Robert Green Ingersoll (1833-1899) Politico y orador norteamericano.',\n",
       "  'SENTIMIENTOS / CÓLERA'],\n",
       " ['Casi todo lo que realice será insignificante, pero es muy importante que lo haga.',\n",
       "  'Mahatma Gandhi (1869-1948) Político y pensador indio.',\n",
       "  'NATURALEZA / SER HUMANO / HACER'],\n",
       " ['Cuando debemos hacer una elección y no la hacemos, esto ya es una elección.',\n",
       "  'William James (1842-1910) Psicólogo y filósofo estadounidense.',\n",
       "  'NATURALEZA / SER HUMANO / ELEGIR'],\n",
       " ['Conocer las cosas que lo hacen a uno desgraciado, ya es una especie de felicidad.',\n",
       "  'François de La Rochefoucauld (1613-1680) Escritor francés.',\n",
       "  'MISCELÁNEA / DESGRACIA'],\n",
       " ['Con una mentira suele irse muy lejos, pero sin esperanzas de volver.',\n",
       "  'Proverbio judío',\n",
       "  'PENSAMIENTO Y RAZÓN / MENTIRAS'],\n",
       " ['El corazón tiene razones que la razón ignora.',\n",
       "  'Blaise Pascal (1623-1662) Científico, filósofo y escritor francés.',\n",
       "  'SENTIMIENTOS / AMOR / CORAZÓN'],\n",
       " ['No se es amigo de una mujer cuando se puede ser su amante.',\n",
       "  'Honoré de Balzac (1799-1850) Escritor francés.',\n",
       "  'SOCIEDAD / MUJERES'],\n",
       " ['Una de las ventajas de las buenas acciones es la de elevar el alma y disponerla a hacer otras mejores.',\n",
       "  'Jean Jacques Rousseau (1712-1778) Filósofo francés.',\n",
       "  'MISCELÁNEA / ACCIÓN'],\n",
       " ['El optimista cree en los demás y el pesimista sólo cree en sí mismo.',\n",
       "  'Gilbert Keith Chesterton (1874-1936) Escritor británico.',\n",
       "  'CUALIDADES / OPTIMISMO'],\n",
       " ['Si comienza uno con certezas, terminará con dudas; mas si se acepta empezar con dudas, llegará a terminar con certezas.',\n",
       "  'Sir Francis Bacon (1561-1626) Filósofo y estadista británico.',\n",
       "  'PENSAMIENTO Y RAZÓN / DUDA'],\n",
       " ['El primer paso de la ignorancia es presumir de saber.',\n",
       "  'Baltasar Gracián (1601-1658) Escritor español.',\n",
       "  'DEFECTOS / IGNORANCIA'],\n",
       " ['La amistad, si se alimenta solo de gratitud, equivale a una fotografía que con el tiempo se borra.',\n",
       "  'Isabel de Rumania (1843-1916) Escritora rumana.',\n",
       "  'SENTIMIENTOS / AMISTAD'],\n",
       " ['De lo que tengo miedo es de tu miedo.',\n",
       "  'William Shakespeare (1564-1616) Escritor británico.',\n",
       "  'SENTIMIENTOS / MIEDO'],\n",
       " ['La diferencia de la infidelidad en los dos sexos es tan real que una mujer apasionada puede perdonar una infidelidad, cosa imposible para un hombre.',\n",
       "  'Stendhal (1783-1842) Escritor francés.',\n",
       "  'SENTIMIENTOS / AMOR / INFIDELIDAD'],\n",
       " ['Saber y saberlo demostrar es valer dos veces.',\n",
       "  'Baltasar Gracián (1601-1658) Escritor español.',\n",
       "  'CUALIDADES / SABIDURÍA'],\n",
       " ['La concordia hace crecer las pequeñas cosas, la discordia arruina las grandes.',\n",
       "  'Salustio (83 AC-35 AC) Caius Sallustius Crispus. Historiador latino.',\n",
       "  'SENTIMIENTOS / CONCORDIA'],\n",
       " ['No pretendas que las cosas ocurran como tu quieres. Desea, más bien, que se produzcan tal como se producen, y serás feliz.',\n",
       "  'Epicteto de Frigia (55-135) Filósofo grecolatino.',\n",
       "  'PENSAMIENTO Y RAZÓN / DESEO'],\n",
       " ['Vivir para los demás no es solamente una ley de deber, sino también una ley de felicidad.',\n",
       "  'Auguste Comte (1798-1857) Filósofo francés.',\n",
       "  'SENTIMIENTOS / FELICIDAD'],\n",
       " ['Un hombre debe vivir cerca de sus superiores como cerca del fuego: ni tan cerca que se queme ni tan lejos que se hiele.',\n",
       "  'Diógenes de Sínope (412 AC-323 AC) Filósofo griego.',\n",
       "  'MISCELÁNEA / JERARQUÍA'],\n",
       " ['Sólo existen dos cosas importantes en la vida. La primera es el sexo y la segunda no me acuerdo.',\n",
       "  'Woody Allen (1935-?) Actor, director y escritor estadounidense.',\n",
       "  'NATURALEZA / SER HUMANO / SEXO'],\n",
       " ['No estimes el dinero en más ni en menos de lo que vale, porque es un buen siervo y un mal amo.',\n",
       "  'Alejandro Dumas (hijo) (1824-1895) Escritor francés.',\n",
       "  'SOCIEDAD / DINERO'],\n",
       " ['Nada en el mundo es más peligroso que la ignorancia sincera y la estupidez concienzuda.',\n",
       "  'Martin Luther King (1929-1968) Religioso estadounidense.',\n",
       "  'DEFECTOS / ESTUPIDEZ'],\n",
       " ['Es preciso saber lo que se quiere; cuando se quiere, hay que tener el valor de decirlo, y cuando se dice, es menester tener el coraje de realizarlo.',\n",
       "  'Georges Clemenceau (1841-1929) Político y periodista francés.',\n",
       "  'SENTIMIENTOS / QUERER'],\n",
       " ['Vivimos en una época peligrosa. El ser humano ha aprendido a dominar la naturaleza mucho antes de haber aprendido a dominarse a sí mismo.',\n",
       "  'Albert Schweitzer (1875-1965) Filósofo, médico y escritor alemán.',\n",
       "  'NATURALEZA'],\n",
       " ['Sólo cerrando las puertas detrás de uno se abren ventanas hacia el porvenir.',\n",
       "  'Françoise Sagan (1935-2004) Escritora francesa.',\n",
       "  'TIEMPO / FUTURO'],\n",
       " ['La desvalorización del mundo humano crece en razón directa de la valorización del mundo de las cosas.',\n",
       "  'Karl Marx (1818-1883) Filósofo y economista alemán.',\n",
       "  'CUALIDADES / VALOR'],\n",
       " ['La mitad del mundo tiene algo que decir, pero no puede; la otra mitad no tiene nada que decir, pero no calla.',\n",
       "  'Robert Frost (1874-1963) Poeta estadounidense.',\n",
       "  'NATURALEZA / SER HUMANO / CALLAR'],\n",
       " ['Ser independiente es cosa de una pequeña minoría, es el privilegio de los fuertes.',\n",
       "  'Friedrich Nietzsche (1844-1900) Filosofo alemán.',\n",
       "  'CUALIDADES / INDEPENDENCIA'],\n",
       " ['Si tuviésemos suficiente voluntad casi siempre tendríamos medios suficientes.',\n",
       "  'François de La Rochefoucauld (1613-1680) Escritor francés.',\n",
       "  'CUALIDADES / VOLUNTAD'],\n",
       " ['Lo que es digno de hacerse, es digno de que se haga bien.',\n",
       "  'Conde de Chesterfield (1694-1773) Político y escritor inglés.',\n",
       "  'NATURALEZA / SER HUMANO / HACER'],\n",
       " ['La muerte es algo que no debemos temer porque, mientras somos, la muerte no es y cuando la muerte es, nosotros no somos.',\n",
       "  'Antonio Machado (1875-1939) Poeta y prosista español.',\n",
       "  'NATURALEZA / MUERTE'],\n",
       " ['A veces estamos demasiado dispuestos a creer que el presente es el único estado posible de las cosas.',\n",
       "  'Marcel Proust (1871-1922) Escritor francés.',\n",
       "  'TIEMPO / PRESENTE'],\n",
       " ['Castiga a los que tienen envidia haciéndoles bien.',\n",
       "  'Proverbio árabe',\n",
       "  'SENTIMIENTOS / ENVIDIA'],\n",
       " ['La inteligencia consiste no sólo en el conocimiento, sino también en la destreza de aplicar los conocimientos en la práctica.',\n",
       "  'Aristóteles (384 AC-322 AC) Filósofo griego.',\n",
       "  'CUALIDADES / INTELIGENCIA'],\n",
       " ['Entre la vida y yo hay un cristal tenue. Por más claramente que vea y comprenda la vida, no puedo tocarla.',\n",
       "  'Fernando Pessoa (1888-1935) Poeta portugués.',\n",
       "  'NATURALEZA / VIDA'],\n",
       " ['El sabio puede cambiar de opinión. El necio, nunca.',\n",
       "  'Immanuel Kant (1724-1804) Filosofo alemán.',\n",
       "  'CUALIDADES / SABIDURÍA / SABIO'],\n",
       " ['Cuando mejor es uno, tanto más difícilmente llega a sospechar de la maldad de los otros.',\n",
       "  'Cicerón (106 AC-43 AC) Escritor, orador y político romano.',\n",
       "  'DEFECTOS / MALDAD'],\n",
       " ['El amor propio, al igual que el mecanismo de reproducción del genero humano, es necesario, nos causa placer y debemos ocultarlo.',\n",
       "  'Voltaire (1694-1778) Filósofo y escritor francés.',\n",
       "  'SENTIMIENTOS / AMOR / AMOR PROPIO'],\n",
       " ['Azar es una palabra vacía de sentido, nada puede existir sin causa.',\n",
       "  'Voltaire (1694-1778) Filósofo y escritor francés.',\n",
       "  'MISCELÁNEA / AZAR'],\n",
       " ['Sólo si me siento valioso por ser como soy, puedo aceptarme, puedo ser auténtico, puedo ser verdadero.',\n",
       "  'Jorge Bucay (1949-?) Escritor y psicoterapeuta argentino.',\n",
       "  'CUALIDADES / AUTOESTIMA'],\n",
       " ['El éxito no se logra sólo con cualidades especiales. Es sobre todo un trabajo de constancia, de método y de organización.',\n",
       "  'J.P. Sergent',\n",
       "  'MISCELÁNEA / ÉXITO'],\n",
       " ['¿Qué es un envidioso? Un ingrato que detesta la luz que le alumbra y le calienta.',\n",
       "  'Victor Hugo (1802-1885) Novelista francés.',\n",
       "  'SENTIMIENTOS / ENVIDIA'],\n",
       " ['Todo hombre paga su grandeza con muchas pequeñeces, su victoria con muchas derrotas, su riqueza con múltiples quiebras.',\n",
       "  'Giovanni Papini (1881-1956) Escritor italiano.',\n",
       "  'NATURALEZA / SER HUMANO'],\n",
       " ['Somos fácilmente engañados por aquellos a quienes amamos.',\n",
       "  'Molière (1622-1673) Comediografo francés.',\n",
       "  'MISCELÁNEA / ENGAÑO'],\n",
       " ['Si crees totalmente en ti mismo, no habrá nada que esté fuera de tus posibilidades.',\n",
       "  'Wayne W. Dyer (1940-2015) Escritor estadounidense.',\n",
       "  'CUALIDADES / CREER EN SÍ MISMO'],\n",
       " ['No nos atrevemos a muchas cosas porque son difíciles, pero son difíciles porque no nos atrevemos a hacerlas.',\n",
       "  'Séneca (2 AC-65) Filósofo latino.',\n",
       "  'CUALIDADES / ATREVIMIENTO'],\n",
       " ['La única manera de ser seguido es correr más deprisa que los demás.',\n",
       "  'Francis Picabia (1879-1953) Pintor francés.',\n",
       "  'SOCIEDAD / LÍDERES'],\n",
       " ['Hay quienes se consideran perfectos, pero es sólo porque exigen menos de sí mismos.',\n",
       "  'Hermann Hesse (1877-1962) Escritor suizo, de origen alemán.',\n",
       "  'CUALIDADES / PERFECCIÓN'],\n",
       " ['El destino del genio es ser un incomprendido, pero no todo incomprendido es un genio.',\n",
       "  'Emerson (1803-1882) Poeta y pensador estadounidense.',\n",
       "  'CUALIDADES / GENIO'],\n",
       " ['Cuando me preguntaron sobre algún arma capaz de contrarrestar el poder de la bomba atómica yo sugerí la mejor de todas: La paz.',\n",
       "  'Albert Einstein (1879-1955) Científico alemán nacionalizado estadounidense.',\n",
       "  'SOCIEDAD / PAZ'],\n",
       " ['Cuando un hombre estúpido hace algo que le avergüenza, siempre dice que cumple con su deber.',\n",
       "  'George Bernard Shaw (1856-1950) Escritor irlandés.',\n",
       "  'SENTIMIENTOS / VERGÜENZA'],\n",
       " ['Al deseo, acompañado de la idea de satisfacerse, se le denomina esperanza; despojado de tal idea, desesperación.',\n",
       "  'Thomas Hobbes (1588-1679) Filósofo y tratadista político inglés.',\n",
       "  'SENTIMIENTOS / ESPERANZA'],\n",
       " ['La esperanza y el temor son inseparables y no hay temor sin esperanza, ni esperanza sin temor.',\n",
       "  'François de La Rochefoucauld (1613-1680) Escritor francés.',\n",
       "  'SENTIMIENTOS / ESPERANZA'],\n",
       " ['El secreto del hombre interesante es que él mismo se interesa por todos.',\n",
       "  'Charles Péguy (1873-1914) Escritor francés.',\n",
       "  'MISCELÁNEA / INTERESES'],\n",
       " ['Para que nada nos separe que nada nos una.',\n",
       "  'Pablo Neruda (1904-1973) Poeta chileno.',\n",
       "  'CUALIDADES / UNIDAD'],\n",
       " ['¿Por qué, en general, se rehuye la soledad? Porque son muy pocos los que encuentran compañía consigo mismos.',\n",
       "  'Carlo Dossi (1849-1910) Escritor italiano.',\n",
       "  'SENTIMIENTOS / SOLEDAD'],\n",
       " ['A dónde irán los besos que guardamos, que no damos.',\n",
       "  'Víctor Manuel (1947-?) Cantautor español.',\n",
       "  'SENTIMIENTOS / AMOR / BESOS'],\n",
       " ['Hay situaciones en la vida en que la verdad y la sencillez forman la mejor pareja.',\n",
       "  'Jean de la Bruyere (1645-1696) Escritor francés.',\n",
       "  'CUALIDADES / SENCILLEZ'],\n",
       " ['A veces, unos puntos suspensivos a tiempo resultan más profundos que un verso archipensado.',\n",
       "  'Gabriel Celaya (1911-1991) Poeta español.',\n",
       "  'MISCELÁNEA / INSINUACIÓN'],\n",
       " ['Cuando fuiste martillo no tuviste clemencia, ahora que eres yunque, ten paciencia.',\n",
       "  'Refrán',\n",
       "  'CUALIDADES / PACIENCIA'],\n",
       " ['Uno debería estar siempre enamorado. Por eso jamás deberíamos casarnos.',\n",
       "  'Oscar Wilde (1854-1900) Dramaturgo y novelista irlandés.',\n",
       "  'SENTIMIENTOS / AMOR'],\n",
       " ['La humanidad se cansa pronto de todo, sobre todo de lo que más disfruta.',\n",
       "  'George Bernard Shaw (1856-1950) Escritor irlandés.',\n",
       "  'NATURALEZA / HUMANIDAD'],\n",
       " ['Los espíritus mediocres suelen condenar todo aquello que está fuera de su alcance.',\n",
       "  'François de La Rochefoucauld (1613-1680) Escritor francés.',\n",
       "  'DEFECTOS / MEDIOCRIDAD'],\n",
       " ['Los charlatanes son los hombres más discretos: hablan y hablan y no dicen nada.',\n",
       "  \"Alfred d' Houdetot (1799-1869) Escritor francés.\",\n",
       "  'CUALIDADES / DISCRECIÓN'],\n",
       " ['Tener fe significa no querer saber la verdad.',\n",
       "  'Friedrich Nietzsche (1844-1900) Filosofo alemán.',\n",
       "  'SENTIMIENTOS / FE'],\n",
       " ['El verdadero amor no se conoce por lo que exige, sino por lo que ofrece.',\n",
       "  'Jacinto Benavente (1866-1954) Dramaturgo español.',\n",
       "  'SENTIMIENTOS / AMOR'],\n",
       " ['¿Qué es la felicidad sino el desarrollo de nuestras facultades?',\n",
       "  'Germaine de Staël (1766-1817) Escritora e intelectual francesa.',\n",
       "  'SENTIMIENTOS / FELICIDAD'],\n",
       " ['Ama a quien no te ama, responde a quien no te llama, andarás carrera vana.',\n",
       "  'Refrán',\n",
       "  'SENTIMIENTOS / AMOR / AMAR'],\n",
       " ['Cínico: un hombre que sabe el precio de todo y el valor de nada.',\n",
       "  'Oscar Wilde (1854-1900) Dramaturgo y novelista irlandés.',\n",
       "  'DEFECTOS / CINISMO'],\n",
       " ['Si no quieres ser desgraciado trata a las catástrofes como a molestias, pero de ninguna manera a las molestias como a catástrofes.',\n",
       "  'André Maurois (1885-1967) Novelista y ensayista francés.',\n",
       "  'MISCELÁNEA / DESGRACIA'],\n",
       " ['Uno es dueño de lo que calla y esclavo de lo que habla.',\n",
       "  'Sigmund Freud (1856-1939) Médico austriaco.',\n",
       "  'NATURALEZA / SER HUMANO / HABLAR'],\n",
       " ['Dejemos a los envidiosos la tarea de proferir injurias y a los necios la de contestarlas.',\n",
       "  'Louis Emmanuel Dupaty (1775-1851) Dramaturgo francés.',\n",
       "  'MISCELÁNEA / INJURIA'],\n",
       " ['Por severo que sea un padre juzgando a su hijo, nunca es tan severo como un hijo juzgando a su padre.',\n",
       "  'Enrique Jardiel Poncela (1901-1952) Escritor español.',\n",
       "  'SOCIEDAD / FAMILIA / PADRES'],\n",
       " ['El amor hace pasar el tiempo; el tiempo hace pasar el amor',\n",
       "  'Proverbio italiano',\n",
       "  'TIEMPO'],\n",
       " ['Es menos malo agitarse en la duda que descansar en el error.',\n",
       "  'Alessandro Manzoni (1785-1873) Poeta y escritor italiano.',\n",
       "  'PENSAMIENTO Y RAZÓN / DUDA'],\n",
       " ['Una mentira es como una bola de nieve; cuanto más rueda, más grande se vuelve.',\n",
       "  'Martin Lutero (1483-1546) Reformador alemán.',\n",
       "  'PENSAMIENTO Y RAZÓN / MENTIRAS'],\n",
       " ['El hombre tiene mil planes para sí mismo. El azar, sólo uno para cada uno.',\n",
       "  'Mencio (372 a.C.-289 a.C.) Filósofo chino confuciano.',\n",
       "  'MISCELÁNEA / AZAR'],\n",
       " ['Si nuestros amigos nos hacen favores, pensamos que nos los deben a título de amigos, pero no pensamos que no nos deben su amistad.',\n",
       "  'Marqués de Vauvenargues (1715-1747) Moralista francés.',\n",
       "  'SENTIMIENTOS / AMISTAD / AMIGOS'],\n",
       " ['Las mujeres con pasado y los hombres con futuro son las personas más interesantes.',\n",
       "  'Chavela Vargas (1919-?) Cantante mexicana.',\n",
       "  'SOCIEDAD / MUJERES'],\n",
       " ['De nada sirve al hombre lamentarse de los tiempos en que vive. Lo único bueno que puede hacer es intentar mejorarlos.',\n",
       "  'Thomas Carlyle (1795-1881) Historiador, pensador y ensayista inglés.',\n",
       "  'MISCELÁNEA / MEJORAR'],\n",
       " ['El hombre encuentra a Dios detrás de cada puerta que la ciencia logra abrir.',\n",
       "  'Albert Einstein (1879-1955) Científico alemán nacionalizado estadounidense.',\n",
       "  'SOCIEDAD / RELIGIÓN / DIOS'],\n",
       " ['Las grandes pasiones son enfermedades incurables. Lo que podría curarlas las haría verdaderamente peligrosas.',\n",
       "  'Goethe (1749-1832) Poeta y dramaturgo alemán.',\n",
       "  'SENTIMIENTOS / AMOR / PASIÓN'],\n",
       " ['Ojo por ojo y todo el mundo acabará ciego.',\n",
       "  'Mahatma Gandhi (1869-1948) Político y pensador indio.',\n",
       "  'DEFECTOS / VIOLENCIA'],\n",
       " ['La libertad no tiene su valor en sí misma: hay que apreciarla por las cosas que con ella se consiguen.',\n",
       "  'Ramiro de Maeztu (1875-1936) Escritor español.',\n",
       "  'SOCIEDAD / LIBERTAD'],\n",
       " ['Creo que no es posible vivir sin ideal, ni religión ni sensación de porvenir. Los hospitales estarían llenos de locos.',\n",
       "  'Arthur Miller (1915-2005) Dramaturgo estadounidense.',\n",
       "  'SOCIEDAD / IDEALES'],\n",
       " ['La felicidad es una estación de parada en el camino entre lo demasiado y lo muy poco.',\n",
       "  'Channing Pollock (1880-1946) Dramaturgo estadounidense.',\n",
       "  'SENTIMIENTOS / FELICIDAD'],\n",
       " ['Nuestro ánimo se inclina a confiar en aquellos a quienes no conocemos por esta razón: porque todavía no nos han traicionado.',\n",
       "  'Samuel Johnson (1709-1784) Escritor inglés.',\n",
       "  'SENTIMIENTOS / CONFIANZA'],\n",
       " ['No anticipéis las tribulaciones ni temáis lo que seguramente no os puede suceder. Vivid siempre en un ambiente de optimismo.',\n",
       "  'Benjamin Franklin (1706-1790) Estadista y científico estadounidense.',\n",
       "  'CUALIDADES / OPTIMISMO'],\n",
       " ['Cuando hables, procura que tus palabras sean mejores que el silencio.',\n",
       "  'Proverbio hindú',\n",
       "  'MISCELÁNEA / SILENCIO'],\n",
       " ['Quien de verdad sabe de qué habla, no encuentra razones para levantar la voz.',\n",
       "  'Leonardo Da Vinci (1452-1519) Pintor, escultor e inventor italiano.',\n",
       "  'NATURALEZA / SER HUMANO / HABLAR'],\n",
       " ['No quiero pensar porque no quiero que el dolor del corazón se una al dolor del pensamiento.',\n",
       "  'Emilio Castelar (1832-1899) Político español.',\n",
       "  'SENTIMIENTOS / DOLOR'],\n",
       " ['Vivir sus deseos, agotarlos en la vida, es el destino de toda existencia.',\n",
       "  'Henry Miller (1891-1980) Escritor estadounidense.',\n",
       "  'PENSAMIENTO Y RAZÓN / DESEO'],\n",
       " ['Mientras que el corazón tiene deseo, la imaginación conserva ilusiones.',\n",
       "  'René de Chateaubriand (1768-1848) Diplomático y escritor francés.',\n",
       "  'SENTIMIENTOS / AMOR / CORAZÓN'],\n",
       " ['Los amores mueren de hastío, y el olvido los entierra.',\n",
       "  'Jean de la Bruyere (1645-1696) Escritor francés.',\n",
       "  'SENTIMIENTOS / AMOR / AMORES'],\n",
       " ['Cuando un amigo nos pide algo, la palabra \"mañana\" no existe.',\n",
       "  'George Herbert (1593-1633) Poeta religioso inglés.',\n",
       "  'SENTIMIENTOS / AMISTAD'],\n",
       " ['¿Sufre más aquél que espera siempre que aquél que nunca esperó a nadie?.',\n",
       "  'Pablo Neruda (1904-1973) Poeta chileno.',\n",
       "  'MISCELÁNEA / ESPERA'],\n",
       " ['Carecer de algunas de las cosas que uno desea es condición indispensable de la felicidad.',\n",
       "  'Bertrand Russell (1872-1970) Filósofo, matemático y escritor británico..',\n",
       "  'SENTIMIENTOS / FELICIDAD'],\n",
       " ['No te rías nunca de las lágrimas de un niño. Todos los dolores son iguales.',\n",
       "  'Charles Van Lerberghe (1861-1907) Poeta, escritor de cuentos y dramaturgo belga.',\n",
       "  'SENTIMIENTOS / DOLOR'],\n",
       " ['No puedo parar de trabajar. Tendré toda la eternidad para descansar.',\n",
       "  'Madre Teresa de Calcuta (1910-1997) Misionera de origen albanés naturalizada india',\n",
       "  'SOCIEDAD / TRABAJO'],\n",
       " ['La vida no es sino una continua sucesión de oportunidades para sobrevivir.',\n",
       "  'Gabriel García Márquez (1927-2014) Escritor colombiano.',\n",
       "  'NATURALEZA / VIDA'],\n",
       " ['El trabajo del pensamiento se parece a la perforación de un pozo: el agua es turbia al principio, mas luego se clarifica.',\n",
       "  'Proverbio chino',\n",
       "  'PENSAMIENTO Y RAZÓN / PENSAMIENTO'],\n",
       " ['No pidáis a Dios que os de una carga apta para vuestros hombros; pedidle unos hombros aptos para soportar vuestras cargas.',\n",
       "  'Phillips Brooks (1835-1893) Clérigo episcopal americano.',\n",
       "  'SOCIEDAD / RELIGIÓN / DIOS'],\n",
       " ['Lo más importante que aprendí a hacer después de los cuarenta años fue a decir no cuando es no.',\n",
       "  'Gabriel García Márquez (1927-2014) Escritor colombiano.',\n",
       "  'SOCIEDAD / EDUCACIÓN / APRENDER'],\n",
       " ['La libertad es un lujo que no todos pueden permitirse.',\n",
       "  'Otto von Bismark (1815-1898) Político alemán.',\n",
       "  'SOCIEDAD / LIBERTAD'],\n",
       " ['La esperanza hace que agite el naufrago sus brazos en medio de las aguas, aún cuando no vea tierra por ningún lado.',\n",
       "  'Ovidio (43 AC-17) Poeta latino.',\n",
       "  'SENTIMIENTOS / ESPERANZA'],\n",
       " ['Estos son malos tiempos. Los hijos han dejado de obedecer a sus padres y todo el mundo escribe libros.',\n",
       "  'Cicerón (106 AC-43 AC) Escritor, orador y político romano.',\n",
       "  'SOCIEDAD / FAMILIA / HIJOS'],\n",
       " ['El que puede prescindir del ser amado puede prescindir de todo.',\n",
       "  'André Maurois (1885-1967) Novelista y ensayista francés.',\n",
       "  'SENTIMIENTOS / AMOR / AMAR'],\n",
       " ['El matrimonio es una barca que lleva a dos personas por un mar tormentoso; si uno de los dos hace algún movimiento brusco, la barca se hunde.',\n",
       "  'Leon Tolstoi (1828-1910) Escritor ruso.',\n",
       "  'SOCIEDAD / MATRIMONIO'],\n",
       " ['El amor es una bellísima flor, pero hay que tener el coraje de ir a recogerla al borde de un precipicio.',\n",
       "  'Stendhal (1783-1842) Escritor francés.',\n",
       "  'SENTIMIENTOS / AMOR'],\n",
       " ['De vez en cuando di la verdad para que te crean cuando mientes.',\n",
       "  'Jules Renard (1864-1910) Escritor y dramaturgo francés.',\n",
       "  'PENSAMIENTO Y RAZÓN / MENTIRAS'],\n",
       " ['Algunas personas son amables sólo porque no se atreven a ser de otra forma.',\n",
       "  'William Faulkner (1897-1962) Escritor estadounidense.',\n",
       "  'CUALIDADES / AMABILIDAD'],\n",
       " ['Algunos creen que para ser amigos basta con querer, como si para estar sano bastara con desear la salud.',\n",
       "  'Aristóteles (384 AC-322 AC) Filósofo griego.',\n",
       "  'SENTIMIENTOS / AMISTAD / AMIGOS'],\n",
       " ['La puerta de la felicidad se abre hacia dentro, hay que retirarse un poco para abrirla: si uno la empuja, la cierra cada vez más.',\n",
       "  'Sören Aabye Kierkegaard (1813-1855) Literato y filósofo danés.',\n",
       "  'SENTIMIENTOS / FELICIDAD'],\n",
       " ['La verdad adelgaza y no quiebra, y siempre anda sobre la mentira como el aceite sobre el agua.',\n",
       "  'Miguel de Cervantes (1547-1616) Escritor español.',\n",
       "  'PENSAMIENTO Y RAZÓN / VERDAD'],\n",
       " ['Una máquina puede hacer el trabajo de 50 hombres corrientes. Pero no existe ninguna máquina que pueda hacer el trabajo de un hombre extraordinario.',\n",
       "  'Elbert Hubbard (1856-1915) Ensayista estadounidense.',\n",
       "  'SOCIEDAD / TRABAJO'],\n",
       " ['Hay alguien tan inteligente que aprende de la experiencia de los demás.',\n",
       "  'Voltaire (1694-1778) Filósofo y escritor francés.',\n",
       "  'SOCIEDAD / EDUCACIÓN / APRENDER'],\n",
       " ['Es un milagro que la curiosidad sobreviva a la educación reglada.',\n",
       "  'Albert Einstein (1879-1955) Científico alemán nacionalizado estadounidense.',\n",
       "  'MISCELÁNEA / CURIOSIDAD'],\n",
       " ['La primera tarea de la educación es agitar la vida, pero dejarla libre para que se desarrolle.',\n",
       "  'Maria Montessori (1870-1952) Educadora y médica italiana.',\n",
       "  'SOCIEDAD / EDUCACIÓN'],\n",
       " ['La vida consiste no en tener buenas cartas, sino en jugar bien las que uno tiene.',\n",
       "  'Josh Billings (1842-1914) Humorista estadounidense.',\n",
       "  'NATURALEZA / VIDA'],\n",
       " ['Mira si será malo el trabajo, que deben pagarte para que lo hagas.',\n",
       "  'Facundo Cabral (1937-2011) Cantautor argentino.',\n",
       "  'SOCIEDAD / TRABAJO'],\n",
       " ['El nombre de amigo es corriente, pero la fe en la amistad, rara.',\n",
       "  'Fedro (15 AC-50) Fabulista latino.',\n",
       "  'SENTIMIENTOS / AMISTAD'],\n",
       " ['Siempre que te pregunten si puedes hacer un trabajo, contesta que sí y ponte enseguida a aprender como se hace.',\n",
       "  'Franklin D. Roosevelt (1882-1945) Político estadounidense.',\n",
       "  'SOCIEDAD / TRABAJO'],\n",
       " ['La mejor manera de librarse de la tentación es caer en ella.',\n",
       "  'Oscar Wilde (1854-1900) Dramaturgo y novelista irlandés.',\n",
       "  'MISCELÁNEA / TENTACIÓN'],\n",
       " ['No hay razón para buscar el sufrimiento, pero si éste llega y trata de meterse en tu vida, no temas; míralo a la cara y con la frente bien levantada.',\n",
       "  'Friedrich Nietzsche (1844-1900) Filosofo alemán.',\n",
       "  'SENTIMIENTOS / SUFRIMIENTO'],\n",
       " ['Nuestro gran tormento en la vida proviene de que estamos solos y todos nuestros actos y esfuerzos tienden a huir de esa soledad.',\n",
       "  'Guy de Maupassant (1850-1893) Escritor francés.',\n",
       "  'SENTIMIENTOS / SOLEDAD'],\n",
       " ['Cuando odiamos a alguien, odiamos en su imagen algo que está dentro de nosotros.',\n",
       "  'Hermann Hesse (1877-1962) Escritor suizo, de origen alemán.',\n",
       "  'SENTIMIENTOS / ODIO'],\n",
       " ['Cuando quiero que un asunto no se resuelva lo encomiendo a un comité.',\n",
       "  'Napoleón I (1769-1821) Napoleón Bonaparte. Emperador francés.',\n",
       "  'MISCELÁNEA / COMITÉ'],\n",
       " ['Para el que no tiene nada, la política es una tentación comprensible, porque es una manera de vivir con bastante facilidad.',\n",
       "  'Miguel Delibes (1920-2010) Escritor español.',\n",
       "  'SOCIEDAD / POLÍTICA'],\n",
       " ['Un hombre que no se alimenta de sus sueños envejece pronto.',\n",
       "  'William Shakespeare (1564-1616) Escritor británico.',\n",
       "  'PENSAMIENTO Y RAZÓN / SUEÑOS'],\n",
       " ['Así como el ignorante está muerto antes de morir, el hombre de talento vive aun después de muerto.',\n",
       "  'Publio Siro (Siglo I AC-?) Poeta dramático romano.',\n",
       "  'CUALIDADES / TALENTO'],\n",
       " ['Una persona perezosa es un reloj sin agujas, siendo inútil tanto si anda como si está parado.',\n",
       "  'William Cowper (1731-1800) Poeta británico.',\n",
       "  'DEFECTOS / PEREZA'],\n",
       " ['Se alcanza el éxito convirtiendo cada paso en una meta y cada meta en un paso.',\n",
       "  'C.C. Cortéz',\n",
       "  'MISCELÁNEA / ÉXITO'],\n",
       " ['Ningún hombre es una isla, algo completo en sí mismo; todo hombre es un fragmento del continente, una parte de un conjunto.',\n",
       "  'John Donne (1572-1631) Poeta, prosista y clérigo inglés.',\n",
       "  'NATURALEZA / SER HUMANO'],\n",
       " ['Sucede a veces que se discute porque no se llega a comprender lo que pretende demostrar nuestro interlocutor.',\n",
       "  'Leon Tolstoi (1828-1910) Escritor ruso.',\n",
       "  'MISCELÁNEA / DISCUSIÓN'],\n",
       " ['Lo malo del amor es que muchos lo confunden con la gastritis y, cuando se han curado de la indisposición, se encuentran con que se han casado.',\n",
       "  'Groucho Marx (1890-1977) Actor estadounidense.',\n",
       "  'SENTIMIENTOS / AMOR'],\n",
       " ['He cometido el peor pecado que uno puede cometer. No he sido feliz.',\n",
       "  'Jorge Luis Borges (1899-1986) Escritor argentino.',\n",
       "  'SENTIMIENTOS / FELICIDAD / FELIZ'],\n",
       " ['El lenguaje de la verdad debe ser, sin duda alguna, simple y sin artificios.',\n",
       "  'Séneca (2 AC-65) Filósofo latino.',\n",
       "  'PENSAMIENTO Y RAZÓN / VERDAD'],\n",
       " ['Cuanto más siniestros son los deseos de un político, más pomposa, en general, se vuelve la nobleza de su lenguaje.',\n",
       "  'Aldous Huxley (1894-1963) Novelista, ensayista y poeta inglés.',\n",
       "  'SOCIEDAD / POLÍTICA'],\n",
       " ['¿Quieres dejar de pertenecer al número de los esclavos? Rompe tus cadenas y desecha de ti todo temor y todo despecho.',\n",
       "  'Epicteto de Frigia (55-135) Filósofo grecolatino.',\n",
       "  'MISCELÁNEA / ESCLAVOS'],\n",
       " ['Lo que distingue al hombre de los otros animales son las preocupaciones financieras.',\n",
       "  'Jules Renard (1864-1910) Escritor y dramaturgo francés.',\n",
       "  'SOCIEDAD / DINERO'],\n",
       " ['Es más fácil apoderarse del comandante en jefe de un ejército que despojar a un miserable de su libertad.',\n",
       "  'Confucio (551 AC-478 AC) Filósofo chino.',\n",
       "  'SOCIEDAD / LIBERTAD'],\n",
       " ['La alegría es la piedra filosofal que todo lo convierte en oro.',\n",
       "  'Benjamin Franklin (1706-1790) Estadista y científico estadounidense.',\n",
       "  'SENTIMIENTOS / ALEGRÍA'],\n",
       " ['Si los que hablan mal de mí supieran exactamente lo que yo pienso de ellos, hablarían peor.',\n",
       "  'Sacha Guitry (1885-1957) Director, actor y guionista francés.',\n",
       "  'NATURALEZA / SER HUMANO / HABLAR / HABLAR MAL'],\n",
       " ['La informalidad en atender una cita es un claro acto de deshonestidad. Igual puedes robar el dinero de una persona si robas su tiempo.',\n",
       "  'Horace Mann (1796-1859) Educador estadounidense.',\n",
       "  'CUALIDADES / PUNTUALIDAD'],\n",
       " ['Lo que más me inquieta es que en España todos se preguntan: ¿qué va a pasar? Casi nadie se pregunta: ¿qué vamos a hacer?',\n",
       "  'Julián Marías (1914-2005) Filósofo español.',\n",
       "  'SOCIEDAD'],\n",
       " ['Aunque viajemos por todo el mundo para encontrar la belleza, debemos llevarla con nosotros para poder encontrarla.',\n",
       "  'Emerson (1803-1882) Poeta y pensador estadounidense.',\n",
       "  'CUALIDADES / BELLEZA'],\n",
       " ['No deja de ser humillante para una persona de ingenio, saber que no hay tonto que no le pueda enseñar algo.',\n",
       "  'Jean Baptiste Say (1767-1832) Economista francés.',\n",
       "  'SOCIEDAD / EDUCACIÓN / ENSEÑAR'],\n",
       " ['La confidencia corrompe la amistad; el mucho contacto la consume; el respeto la conserva.',\n",
       "  'Cicerón (106 AC-43 AC) Escritor, orador y político romano.',\n",
       "  'SENTIMIENTOS / AMISTAD'],\n",
       " ['Aunque le arranques los pétalos, no quitarás su belleza a la flor.',\n",
       "  'Rabindranath Tagore (1861-1941) Filósofo y escritor indio.',\n",
       "  'CUALIDADES / BELLEZA'],\n",
       " ['Cuando apuntas con el dedo, recuerda que tres dedos te señalan a ti.',\n",
       "  'Proverbio inglés',\n",
       "  'MISCELÁNEA'],\n",
       " ['Una buena conversación debe agotar el tema, no a los interlocutores.',\n",
       "  'Winston Churchill (1874-1965) Político británico.',\n",
       "  'MISCELÁNEA / CONVERSACIONES'],\n",
       " ['Esta que llaman por ahí Fortuna es una mujer borracha y antojadiza, y sobre todo, ciega, y así no ve lo que hace, ni sabe a quien derriba.',\n",
       "  'Miguel de Cervantes (1547-1616) Escritor español.',\n",
       "  'MISCELÁNEA / FORTUNA'],\n",
       " ['Señor, quisiera saber quien fue el loco que inventó el beso.',\n",
       "  'Jonathan Swift (1667-1745) Político y escritor irlandés.',\n",
       "  'SENTIMIENTOS / AMOR / BESOS'],\n",
       " ['Pocos ven lo que somos, pero todos ven lo que aparentamos.',\n",
       "  'Nicolás Maquiavelo (1469-1527) Historiador, político y teórico italiano.',\n",
       "  'MISCELÁNEA / APARIENCIA'],\n",
       " ['Perdonando demasiado al que yerra se comete injusticia con el que no yerra.',\n",
       "  'Baldassare Castiglione (1478-1529) Diplomático y escritor italiano.',\n",
       "  'NATURALEZA / SER HUMANO / PERDONAR'],\n",
       " ['Los años enseñan muchas cosas que los días jamás llegan a conocer.',\n",
       "  'Emerson (1803-1882) Poeta y pensador estadounidense.',\n",
       "  'SOCIEDAD / EDUCACIÓN / ENSEÑAR'],\n",
       " ['La verdad es lo que es, y sigue siendo verdad aunque se piense al revés.',\n",
       "  'Antonio Machado (1875-1939) Poeta y prosista español.',\n",
       "  'PENSAMIENTO Y RAZÓN / VERDAD'],\n",
       " ['En las tinieblas la imaginación trabaja más activamente que en plena luz.',\n",
       "  'Immanuel Kant (1724-1804) Filosofo alemán.',\n",
       "  'PENSAMIENTO Y RAZÓN / IMAGINACIÓN'],\n",
       " ['El éxito consiste en vencer el temor al fracaso.',\n",
       "  'Charles Augustin Sainte-Beuve (1804-1869) Escritor y crítico literario francés.',\n",
       "  'MISCELÁNEA / ÉXITO'],\n",
       " ['Debemos buscar para nuestros males otra causa que no sea Dios.',\n",
       "  'Platón (427 AC-347 AC) Filósofo griego.',\n",
       "  'MISCELÁNEA / MALES'],\n",
       " ['Sólo los tontos tienen muchas amistades. El mayor número de amigos marca el grado máximo en el dinamómetro de la estupidez.',\n",
       "  'Pío Baroja (1872-1956) Escritor español.',\n",
       "  'SENTIMIENTOS / AMISTAD / AMIGOS'],\n",
       " ['Lo que hace indisoluble a las amistades y dobla su encanto, es un sentimiento que le falta al amor, la certeza.',\n",
       "  'Honoré de Balzac (1799-1850) Escritor francés.',\n",
       "  'SENTIMIENTOS / AMISTAD'],\n",
       " ['Cuando el agua te llega al cuello, no te preocupes si no es potable.',\n",
       "  'Stanislaw Lec (1909-1966) Escritor polaco de origen judío.',\n",
       "  'MISCELÁNEA / PROBLEMAS'],\n",
       " ['Cuando Dios te da un don, también te da un látigo, y el látigo es únicamente para autoflagelarse.',\n",
       "  'Truman Capote (1924-1984) Escritor estadounidense.',\n",
       "  'MISCELÁNEA / DON'],\n",
       " ['La envidia es causada por ver a otro gozar de lo que deseamos; los celos, por ver a otro poseer lo que quisiéramos poseer nosotros.',\n",
       "  'Diógenes Laercio (S. III AC-?) Historiador griego.',\n",
       "  'SENTIMIENTOS / ENVIDIA'],\n",
       " ['Vosotros, los europeos, tenéis los relojes, pero nosotros tenemos el tiempo.',\n",
       "  'Proverbio africano',\n",
       "  'TIEMPO'],\n",
       " ['Una ilusión eterna, o por lo menos que renace a menudo en el alma humana, está muy cerca de ser una realidad.',\n",
       "  'André Maurois (1885-1967) Novelista y ensayista francés.',\n",
       "  'PENSAMIENTO Y RAZÓN / ILUSIONES'],\n",
       " ['Los que se enamoran de la práctica sin la teoría son como los pilotos sin timón ni brújula, que nunca podrán saber a dónde van.',\n",
       "  'Leonardo Da Vinci (1452-1519) Pintor, escultor e inventor italiano.',\n",
       "  'MISCELÁNEA / PRÁCTICA'],\n",
       " ['Antes que te cases, mira lo que haces.',\n",
       "  'Refrán',\n",
       "  'SOCIEDAD / MATRIMONIO / BODA'],\n",
       " ['Poned atención: un corazón solitario no es un corazón.',\n",
       "  'Antonio Machado (1875-1939) Poeta y prosista español.',\n",
       "  'SENTIMIENTOS / SOLEDAD'],\n",
       " ['Piensa como piensan los sabios, mas habla como habla la gente sencilla.',\n",
       "  'Aristóteles (384 AC-322 AC) Filósofo griego.',\n",
       "  'PENSAMIENTO Y RAZÓN / PENSAMIENTO / PENSAR'],\n",
       " ['La envidia es una declaración de inferioridad.',\n",
       "  'Napoleón I (1769-1821) Napoleón Bonaparte. Emperador francés.',\n",
       "  'SENTIMIENTOS / ENVIDIA'],\n",
       " ['Si la juventud es un defecto, es un defecto del que nos curamos demasiado pronto.',\n",
       "  'James Russell Lowell (1819-1891) Poeta y escritor estadounidense.',\n",
       "  'TIEMPO / JUVENTUD'],\n",
       " ['Un buen amigo es aquel para el cual nuestra vida no tiene secretos y a pesar de todo nos aprecia.',\n",
       "  'León Daudí (1905-1985) Escritor español.',\n",
       "  'SENTIMIENTOS / AMISTAD / AMIGOS'],\n",
       " ['Algunos libros son probados, otros devorados, poquísimos masticados y digeridos.',\n",
       "  'Sir Francis Bacon (1561-1626) Filósofo y estadista británico.',\n",
       "  'ARTE / LITERATURA / LIBROS'],\n",
       " ['Sonríe aunque sólo sea una sonrisa triste, porque más triste que la sonrisa triste, es la tristeza de no saber sonreír.',\n",
       "  'Anónimo',\n",
       "  'MISCELÁNEA / SONRISA'],\n",
       " ['Solamente aquel que construye el futuro tiene derecho a juzgar el pasado.',\n",
       "  'Friedrich Nietzsche (1844-1900) Filosofo alemán.',\n",
       "  'TIEMPO / FUTURO'],\n",
       " ['La política es un acto de equilibrio entre la gente que quiere entrar y aquellos que no quieren salir.',\n",
       "  'Jacques Benigne Bossuet (1627-1704) Clérigo católico francés y escritor.',\n",
       "  'SOCIEDAD / POLÍTICA'],\n",
       " ['La mentira más común es aquella con la que un hombre se engaña a sí mismo. Engañar a los demás es un defecto relativamente vano.',\n",
       "  'Friedrich Nietzsche (1844-1900) Filosofo alemán.',\n",
       "  'MISCELÁNEA / ENGAÑO'],\n",
       " ['Fácilmente estará contento y sosegado el que, de verdad, tiene la conciencia limpia.',\n",
       "  'Thomas De Kempis (1380-1471) Teólogo alemán.',\n",
       "  'CUALIDADES / CONCIENCIA'],\n",
       " ['El que no sale nunca de su tierra está lleno de prejuicios.',\n",
       "  'Carlo Goldoni (1707-1793) Dramaturgo italiano.',\n",
       "  'SOCIEDAD / VIAJES / VIAJAR'],\n",
       " ['El hombre ha nacido libre y por doquiera se encuentra sujeto con cadenas.',\n",
       "  'Jean Jacques Rousseau (1712-1778) Filósofo francés.',\n",
       "  'SOCIEDAD / LIBERTAD'],\n",
       " ['¿De qué le sirve al hombre ganar el mundo si pierde su alma? Quien quiera conservar su alma, la perderá.',\n",
       "  'Blaise Pascal (1623-1662) Científico, filósofo y escritor francés.',\n",
       "  'PENSAMIENTO Y RAZÓN / ALMA'],\n",
       " ['Recorre a menudo la senda que lleva al huerto de tu amigo, no sea que la maleza te impida ver el camino.',\n",
       "  'Proverbio indio',\n",
       "  'SENTIMIENTOS / AMISTAD / AMIGOS'],\n",
       " ['Busca dentro de ti la solución de todos los problemas, hasta aquellos que creas más exteriores y materiales.',\n",
       "  'Amado Nervo (1870-1919) Poeta, novelista y ensayista mexicano.',\n",
       "  'MISCELÁNEA / PROBLEMAS'],\n",
       " ['El hábito es como un cable; nos vamos enredando en él cada día hasta que no nos podemos desatar.',\n",
       "  'Horace Mann (1796-1859) Educador estadounidense.',\n",
       "  'SOCIEDAD / COSTUMBRE'],\n",
       " ['Si se me diera la oportunidad de hacer un regalo a la siguiente generación, sería la capacidad de reírse cada cual de sí mismo.',\n",
       "  'Charles M. Schulz (1922-2000) Dibujante estadounidense.',\n",
       "  'TIEMPO / FUTURO'],\n",
       " ['Las palabras son como monedas, que una vale por muchas como muchas no valen por una.',\n",
       "  'Francisco de Quevedo (1580-1645) Escritor español.',\n",
       "  'NATURALEZA / SER HUMANO / PALABRAS'],\n",
       " ['Los bosques preceden a las civilizaciones, los desiertos las siguen.',\n",
       "  'René de Chateaubriand (1768-1848) Diplomático y escritor francés.',\n",
       "  'SOCIEDAD / CIVILIZACIÓN'],\n",
       " ['A quien Dios no le dio hijos, el diablo le dio sobrinos.',\n",
       "  'Refrán',\n",
       "  'SOCIEDAD / FAMILIA / HIJOS'],\n",
       " ['Puede haber amor sin celos, pero no sin temores.',\n",
       "  'Miguel de Cervantes (1547-1616) Escritor español.',\n",
       "  'SENTIMIENTOS / AMOR'],\n",
       " ['Vengándose, uno se iguala a su enemigo; perdonándolo, se muestra superior a él.',\n",
       "  'Sir Francis Bacon (1561-1626) Filósofo y estadista británico.',\n",
       "  'SENTIMIENTOS / VENGANZA'],\n",
       " ['Los placeres son como los alimentos: los más simples son aquellos que menos cansan.',\n",
       "  'Joseph Sanial-Dubay (1754-1817) Escritor francés.',\n",
       "  'MISCELÁNEA / PLACERES'],\n",
       " ['La verdadera sabiduría está en reconocer la propia ignorancia.',\n",
       "  'Sócrates (470 AC-399 AC) Filósofo griego.',\n",
       "  'CUALIDADES / SABIDURÍA'],\n",
       " ['En el amor, todas las cumbres son borrascosas.',\n",
       "  'Marqués de Sade (1740-1814) Escritor francés.',\n",
       "  'SENTIMIENTOS / AMOR'],\n",
       " ['A la mayoría de las personas prefiero darles la razón rápidamente antes que escucharlas.',\n",
       "  'Montesquieu (1689-1755) Escritor y político francés.',\n",
       "  'PENSAMIENTO Y RAZÓN / RAZÓN'],\n",
       " ['Un necio encuentra siempre otro necio aún mayor que le admira.',\n",
       "  'Nicolas Boileau (1636-1711) Poeta y crítico literario francés.',\n",
       "  'DEFECTOS / NECEDAD'],\n",
       " ['Pueblos libres, recordad esta máxima: Podemos adquirir la libertad, pero nunca se recupera una vez que se pierde.',\n",
       "  'Jean Jacques Rousseau (1712-1778) Filósofo francés.',\n",
       "  'SOCIEDAD / LIBERTAD'],\n",
       " ['Sepan que olvidar lo malo también es tener memoria.',\n",
       "  'José Hernández (1834-1886) Periodista y poeta argentino.',\n",
       "  'MISCELÁNEA / OLVIDAR'],\n",
       " ['A menudo el sepulcro encierra, sin saberlo, dos corazones en un mismo ataúd.',\n",
       "  'Alphonse de Lamartine (1790-1869) Historiador, político y poeta francés.',\n",
       "  'NATURALEZA / MUERTE'],\n",
       " ['Si se siembra la semilla con fe y se cuida con perseverancia, sólo será cuestión de tiempo recoger sus frutos.',\n",
       "  'Thomas Carlyle (1795-1881) Historiador, pensador y ensayista inglés.',\n",
       "  'CUALIDADES / PERSEVERANCIA'],\n",
       " ['No me arrepiento de nada. El que se arrepiente de lo que ha hecho es doblemente miserable.',\n",
       "  'Baruch Spinoza (1632-1677) Filósofo holandés, de origen juedoespañol.',\n",
       "  'SENTIMIENTOS / ARREPENTIMIENTO'],\n",
       " ['Daría todo lo que sé, por la mitad de lo que ignoro.',\n",
       "  'René Descartes (1596-1650) Filósofo y matemático francés.',\n",
       "  'CUALIDADES / SABIDURÍA'],\n",
       " ['Nunca es tarde para el arrepentimiento y la reparación.',\n",
       "  'Charles Dickens (1812-1870) Escritor y novelista inglés.',\n",
       "  'SENTIMIENTOS / ARREPENTIMIENTO'],\n",
       " ['La razón se compone de verdades que hay que decir y verdades que hay que callar.',\n",
       "  'Conde de Rivarol (1753-1801) Escritor francés.',\n",
       "  'PENSAMIENTO Y RAZÓN / RAZÓN'],\n",
       " ['La locura, a veces, no es otra cosa que la razón presentada bajo diferente forma.',\n",
       "  'Goethe (1749-1832) Poeta y dramaturgo alemán.',\n",
       "  'PENSAMIENTO Y RAZÓN / LOCURA'],\n",
       " ['La amistad sólo podía tener lugar a través del desarrollo del respeto mutuo y dentro de un espíritu de sinceridad.',\n",
       "  'Dalai Lama',\n",
       "  'SENTIMIENTOS / AMISTAD'],\n",
       " ['El poder tiende a corromper, el poder absoluto corrompe absolutamente.',\n",
       "  'Lord Acton (1834-1902) Historiador inglés.',\n",
       "  'SOCIEDAD / PODER'],\n",
       " ['Todas las personas tienen la disposición de trabajar creativamente. Lo que sucede es que la mayoría jamás lo nota.',\n",
       "  'Truman Capote (1924-1984) Escritor estadounidense.',\n",
       "  'SOCIEDAD / TRABAJO / TRABAJAR'],\n",
       " ['La diversión es como un seguro, cuanto más viejo eres más te cuesta.',\n",
       "  'Friedrich Schiller (1759-1805) Poeta y dramaturgo alemán',\n",
       "  'MISCELÁNEA / DIVERSIÓN'],\n",
       " ['Mientras el tímido reflexiona, el valiente va, triunfa y vuelve.',\n",
       "  'Proverbio griego',\n",
       "  'CUALIDADES / VALOR'],\n",
       " ['No hay sentimiento que valga; el amor es una ocupación como otra cualquiera.',\n",
       "  'Jacinto Benavente (1866-1954) Dramaturgo español.',\n",
       "  'SENTIMIENTOS / AMOR'],\n",
       " ['Realmente soy un soñador práctico; mis sueños no son bagatelas en el aire. Lo que yo quiero es convertir mis sueños en realidad.',\n",
       "  'Mahatma Gandhi (1869-1948) Político y pensador indio.',\n",
       "  'PENSAMIENTO Y RAZÓN / SUEÑOS'],\n",
       " ['Ningún camino de flores conduce a la gloria.',\n",
       "  'Jean de La Fontaine (1621-1695) Escritor y poeta francés.',\n",
       "  'MISCELÁNEA / GLORIA'],\n",
       " ['La mayor parte de aquellos que no quieren ser oprimidos, quieren ser opresores.',\n",
       "  'Napoleón I (1769-1821) Napoleón Bonaparte. Emperador francés.',\n",
       "  'MISCELÁNEA / OPRESIÓN'],\n",
       " ['Es preciso elevarse con las alas del entusiasmo. Si se razona, no se volará jamás.',\n",
       "  'Anatole France (1844-1924) Escritor francés.',\n",
       "  'MISCELÁNEA / ENTUSIASMO'],\n",
       " ['Encanto es lo que tienen algunos hasta que empiezan a creérselo.',\n",
       "  'Simone de Beauvoir (1908-1986) Novelista e intelectual francesa.',\n",
       "  'CUALIDADES / ENCANTO'],\n",
       " ['En el amor siempre hay algo de locura, mas en la locura siempre hay algo de razón.',\n",
       "  'Friedrich Nietzsche (1844-1900) Filosofo alemán.',\n",
       "  'PENSAMIENTO Y RAZÓN / LOCURA'],\n",
       " ['Da lo que tienes para que merezcas recibir lo que te falta.',\n",
       "  'San Agustín (354-430) Obispo y filósofo.',\n",
       "  'NATURALEZA / SER HUMANO / DAR'],\n",
       " ['Casi siempre que un matrimonio se lleva bien, es porque uno de los esposos manda y el otro obedece.',\n",
       "  'Gregorio Marañón (1887-1960) Médico y escritor español.',\n",
       "  'SOCIEDAD / MATRIMONIO'],\n",
       " ['Es fácil hablar claro cuando no va a decirse toda la verdad.',\n",
       "  'Rabindranath Tagore (1861-1941) Filósofo y escritor indio.',\n",
       "  'NATURALEZA / SER HUMANO / HABLAR'],\n",
       " ['Cuando Dios borra, es que va a escribir algo.',\n",
       "  'Jacques Benigne Bossuet (1627-1704) Clérigo católico francés y escritor.',\n",
       "  'SOCIEDAD / RELIGIÓN / DIOS'],\n",
       " ['Al final, no os preguntarán qué habéis sabido, sino qué habéis hecho.',\n",
       "  'Jean de Gerson (1363-1429) Predicador y teólogo francés.',\n",
       "  'CUALIDADES / SABIDURÍA / SABER'],\n",
       " ['Me desconcierta tanto pensar que Dios existe, como que no existe.',\n",
       "  'Gabriel García Márquez (1927-2014) Escritor colombiano.',\n",
       "  'SOCIEDAD / RELIGIÓN / DIOS / EXISTENCIA DE DIOS'],\n",
       " ['Para los que no tenemos creencias, la democracia es nuestra religión.',\n",
       "  'Paul Auster (1947-?) Novelista y poeta estadounidense.',\n",
       "  'SOCIEDAD / POLÍTICA / DEMOCRACIA'],\n",
       " ['Quien no quiere pensar es un fanático; quien no puede pensar, es un idiota; quien no osa pensar es un cobarde.',\n",
       "  'Sir Francis Bacon (1561-1626) Filósofo y estadista británico.',\n",
       "  'PENSAMIENTO Y RAZÓN / PENSAMIENTO / PENSAR'],\n",
       " ['Ningún hombre es feliz a menos que crea serlo.',\n",
       "  'Publio Siro (Siglo I AC-?) Poeta dramático romano.',\n",
       "  'SENTIMIENTOS / FELICIDAD'],\n",
       " ['Los mejores médicos del mundo son: el doctor dieta, el doctor reposo y el doctor alegría.',\n",
       "  'Jonathan Swift (1667-1745) Político y escritor irlandés.',\n",
       "  'SENTIMIENTOS / ALEGRÍA'],\n",
       " ['Tú verás que los males de los hombres son fruto de su elección; y que la fuente del bien la buscan lejos, cuando la llevan dentro de su corazón.',\n",
       "  'Pitágoras de Samos (582 AC-497 AC) Filósofo y matemático griego.',\n",
       "  'CUALIDADES / BONDAD'],\n",
       " ['Quien tiene paciencia, obtendrá lo que desea.',\n",
       "  'Benjamin Franklin (1706-1790) Estadista y científico estadounidense.',\n",
       "  'CUALIDADES / PACIENCIA'],\n",
       " ['Mi sueño es el de Picasso; tener mucho dinero para vivir tranquilo como los pobres.',\n",
       "  'Fernando Savater (1947-?) Filósofo español.',\n",
       "  'SOCIEDAD / DINERO'],\n",
       " ['La muerte es una vida vivida. La vida es una muerte que viene.',\n",
       "  'Jorge Luis Borges (1899-1986) Escritor argentino.',\n",
       "  'NATURALEZA / MUERTE'],\n",
       " ['El valiente tiene miedo del contrario; el cobarde, de su propio temor.',\n",
       "  'Francisco de Quevedo (1580-1645) Escritor español.',\n",
       "  'CUALIDADES / VALOR'],\n",
       " ['El mundo no está en peligro por las malas personas sino por aquellas que permiten la maldad.',\n",
       "  'Albert Einstein (1879-1955) Científico alemán nacionalizado estadounidense.',\n",
       "  'DEFECTOS / MALDAD'],\n",
       " ['El mal de la calumnia es semejante a la mancha de aceite: deja siempre huellas.',\n",
       "  'Napoleón I (1769-1821) Napoleón Bonaparte. Emperador francés.',\n",
       "  'MISCELÁNEA / CALUMNIA'],\n",
       " ['Todas las batallas en la vida sirven para enseñarnos algo, inclusive aquellas que perdemos.',\n",
       "  'Paulo Coelho (1947-?) Escritor brasileño.',\n",
       "  'MISCELÁNEA / BATALLA'],\n",
       " ['En una jerarquía, todo empleado tiende a ascender',\n",
       "  'hasta su nivel de incompetencia.',\n",
       "  'Laurence J. Peter (1919-1990) Profesor y escritor canadiense.',\n",
       "  'MISCELÁNEA / JERARQUÍA'],\n",
       " ['El dinero es como el estiércol: no es bueno a no ser que se esparza.',\n",
       "  'Sir Francis Bacon (1561-1626) Filósofo y estadista británico.',\n",
       "  'SOCIEDAD / DINERO'],\n",
       " ['Perdona siempre a tu enemigo. No hay nada que le enfurezca más.',\n",
       "  'Oscar Wilde (1854-1900) Dramaturgo y novelista irlandés.',\n",
       "  'NATURALEZA / SER HUMANO / PERDONAR'],\n",
       " ['Agradezco no ser una de las ruedas del poder, sino una de las criaturas que son aplastadas por ellas.',\n",
       "  'Rabindranath Tagore (1861-1941) Filósofo y escritor indio.',\n",
       "  'SOCIEDAD / PODER'],\n",
       " ['No mires nunca de donde vienes, sino a donde vas.',\n",
       "  'Pierre Augustin de Beaumarchais (1732-1799) Poeta dramático francés.',\n",
       "  'MISCELÁNEA / DESTINO'],\n",
       " ['Los hombres olvidan siempre que la felicidad humana es una disposición de la mente y no una condición de las circunstancias.',\n",
       "  'John Locke (1632-1704) Filósofo inglés.',\n",
       "  'SENTIMIENTOS / FELICIDAD'],\n",
       " ['Jamás ha habido un niño tan adorable que la madre no quiera poner a dormir.',\n",
       "  'Emerson (1803-1882) Poeta y pensador estadounidense.',\n",
       "  'TIEMPO / INFANCIA'],\n",
       " ['Ganamos justicia más rápidamente si hacemos justicia a la parte contraria.',\n",
       "  'Mahatma Gandhi (1869-1948) Político y pensador indio.',\n",
       "  'SOCIEDAD / LEYES / JUSTICIA'],\n",
       " ['La única manera en que un hombre debe comportarse con una mujer es: haciendo el amor con ella, si es bonita, o con otra, si es fea.',\n",
       "  'Oscar Wilde (1854-1900) Dramaturgo y novelista irlandés.',\n",
       "  'SOCIEDAD / MUJERES'],\n",
       " ['No dejes que se muera el sol sin que hayan muerto tus rencores.',\n",
       "  'Mahatma Gandhi (1869-1948) Político y pensador indio.',\n",
       "  'SENTIMIENTOS / ODIO'],\n",
       " ['Pocos hombres tienen la fuerza de carácter suficiente para alegrase del éxito de un amigo sin sentir cierta envidia.',\n",
       "  'Esquilo de Eleusis (525 AC-456 AC) Poeta trágico.',\n",
       "  'MISCELÁNEA / ÉXITO'],\n",
       " ['La paz comienza con una sonrisa.',\n",
       "  'Madre Teresa de Calcuta (1910-1997) Misionera de origen albanés naturalizada india',\n",
       "  'SOCIEDAD / PAZ'],\n",
       " ['El dinero no da la felicidad, ciertamente; pero tampoco es un serio obstáculo.',\n",
       "  'Josep Pla (1897-1981) Escritor español.',\n",
       "  'SOCIEDAD / DINERO'],\n",
       " ['Los políticos son siempre lo mismo. Prometen construir un puente aunque no haya río.',\n",
       "  'Nikita Jrushchov (1894-1971) Político ruso.',\n",
       "  'SOCIEDAD / POLÍTICA / POLÍTICOS'],\n",
       " ['\"Puedo perdonar, pero no olvidar\\'\\', es sólo otro forma de decir, \"No puedo perdonar.\\'\\'',\n",
       "  'Henry Ward Beecher (1813-1887) Religioso estadounidense.',\n",
       "  'NATURALEZA / SER HUMANO / PERDONAR'],\n",
       " ['El hombre es celoso si ama; la mujer también, aunque no ame.',\n",
       "  'Immanuel Kant (1724-1804) Filosofo alemán.',\n",
       "  'SENTIMIENTOS / CELOS'],\n",
       " ['Quienquiera que cultive la fantasía en el arte está un poco loco. Su problema estriba en hacer interesante esa locura.',\n",
       "  'François Truffaut (1932-1984) Director y actor francés.',\n",
       "  'ARTE'],\n",
       " ['Los amigos: una familia cuyos individuos se eligen a voluntad.',\n",
       "  'Alphonse Karr (1808-1890) Escritor francés.',\n",
       "  'SENTIMIENTOS / AMISTAD'],\n",
       " ['El que lee mucho y anda mucho, ve mucho y sabe mucho.',\n",
       "  'Miguel de Cervantes (1547-1616) Escritor español.',\n",
       "  'ARTE / LITERATURA / LECTURA'],\n",
       " ['De cualquier forma los celos son en realidad una consecuencia del amor: os guste o no, existen.',\n",
       "  'Robert Louis Stevenson (1850-1894) Escritor británico.',\n",
       "  'SENTIMIENTOS / CELOS'],\n",
       " ['A quienes me preguntan la razón de mis viajes les contesto que sé bien de qué huyo pero ignoro lo que busco.',\n",
       "  'Michel de Montaigne (1533-1592) Escritor y filósofo francés.',\n",
       "  'MISCELÁNEA / HUIR'],\n",
       " ['La utopía es el principio de todo progreso y el diseño de un futuro mejor.',\n",
       "  'Anatole France (1844-1924) Escritor francés.',\n",
       "  'MISCELÁNEA / UTOPÍA'],\n",
       " ['La principal ocupación de mi vida consiste en pasarla lo mejor posible.',\n",
       "  'Michel de Montaigne (1533-1592) Escritor y filósofo francés.',\n",
       "  'MISCELÁNEA / OCUPACIÓN'],\n",
       " ['La juventud no es un tiempo de la vida, es un estado del espíritu.',\n",
       "  'Mateo Alemán (1547-1613) Novelista español.',\n",
       "  'TIEMPO / JUVENTUD'],\n",
       " ['El primer beso no se da con la boca, sino con la mirada.',\n",
       "  'Tristan Bernard (1866-1947) Novelista y periodista francés.',\n",
       "  'SENTIMIENTOS / AMOR / BESOS'],\n",
       " ['Cuando no se ama demasiado no se ama lo suficiente.',\n",
       "  'Blaise Pascal (1623-1662) Científico, filósofo y escritor francés.',\n",
       "  'SENTIMIENTOS / AMOR / AMAR'],\n",
       " ['El 28 de diciembre nos recuerda lo que somos durante los otros 364 días del año.',\n",
       "  'Mark Twain (1835-1910) Escritor y periodista estadounidense.',\n",
       "  'CUALIDADES / INOCENCIA'],\n",
       " ['Todo les sale bien a las personas de cáracter dulce y alegre.',\n",
       "  'Voltaire (1694-1778) Filósofo y escritor francés.',\n",
       "  'SENTIMIENTOS / ALEGRÍA'],\n",
       " ['Quienes creen que el dinero lo hace todo, terminan haciendo todo por dinero.',\n",
       "  'Voltaire (1694-1778) Filósofo y escritor francés.',\n",
       "  'SOCIEDAD / DINERO'],\n",
       " ['La gratitud, como ciertas flores, no se da en la altura y mejor reverdece en la tierra buena de los humildes.',\n",
       "  'José Martí (1853-1895) Político y escritor cubano.',\n",
       "  'SENTIMIENTOS / GRATITUD'],\n",
       " ['Nos gusta llamar testarudez a la perseverancia ajena pero le reservamos el nombre de perseverancia a nuestra testarudez.',\n",
       "  'Alphonse Karr (1808-1890) Escritor francés.',\n",
       "  'CUALIDADES / PERSEVERANCIA'],\n",
       " ['La fuerza no puede jamás persuadir a los hombres; sólo logra hacerlos hipócritas.',\n",
       "  'Fénelon (1651-1715) Escritor y teólogo francés.',\n",
       "  'MISCELÁNEA / FUERZAS'],\n",
       " ['El talento, en buena medida, es una cuestión de insistencia.',\n",
       "  'Francisco Umbral (1935-2007) Escritor español.',\n",
       "  'CUALIDADES / TALENTO'],\n",
       " ['Admiramos las cosas por motivos, pero las amamos sin motivos.',\n",
       "  'Gilbert Keith Chesterton (1874-1936) Escritor británico.',\n",
       "  'SENTIMIENTOS / ADMIRACIÓN'],\n",
       " ['La verdadera amistad llega cuando el silencio entre dos parece ameno.',\n",
       "  'Erasmo de Rotterdam (1469-1536) Humanista neerlandés.',\n",
       "  'SENTIMIENTOS / AMISTAD'],\n",
       " ['La mayor sabiduría que existe es conocerse a uno mismo.',\n",
       "  'Galileo Galilei (1564-1642) Físico y astrónomo italiano.',\n",
       "  'CUALIDADES / SABIDURÍA'],\n",
       " ['La libertad no es simplemente un privilegio que se otorga; es un habito que ha de adquirirse.',\n",
       "  'David Lloyd George (1863-1945) Político británico.',\n",
       "  'SOCIEDAD / LIBERTAD'],\n",
       " ['Un hombre sin pasiones está tan cerca de la estupidez que sólo le falta abrir la boca para caer en ella.',\n",
       "  'Séneca (2 AC-65) Filósofo latino.',\n",
       "  'SENTIMIENTOS / AMOR / PASIÓN'],\n",
       " ['La mujer es un manjar digno de dioses, cuando no lo cocina el diablo.',\n",
       "  'William Shakespeare (1564-1616) Escritor británico.',\n",
       "  'SOCIEDAD / MUJERES'],\n",
       " ['El amor es fuerte como la muerte; los celos son crueles como la tumba.',\n",
       "  'Salomón (970 AC-931 AC) Rey de Israel',\n",
       "  'SENTIMIENTOS / CELOS'],\n",
       " ['Es extraña la ligereza con que los malvados creen que todo les saldrá bien.',\n",
       "  'Victor Hugo (1802-1885) Novelista francés.',\n",
       "  'DEFECTOS / MALDAD'],\n",
       " ['Si quieres que algo se haga, encárgaselo a una persona ocupada.',\n",
       "  'Proverbio chino',\n",
       "  'NATURALEZA / SER HUMANO / HACER'],\n",
       " ['Me atreveré a todo lo que pueda hacer un hombre. Quien se atreva a más es insensato.',\n",
       "  'William Shakespeare (1564-1616) Escritor británico.',\n",
       "  'CUALIDADES / ATREVIMIENTO'],\n",
       " ['Es mejor tener la boca cerrada y parecer estúpido que abrirla y disipar la duda.',\n",
       "  'Mark Twain (1835-1910) Escritor y periodista estadounidense.',\n",
       "  'NATURALEZA / SER HUMANO / CALLAR'],\n",
       " ['De lo sublime a lo ridículo no hay más que un paso.',\n",
       "  'Napoleón I (1769-1821) Napoleón Bonaparte. Emperador francés.',\n",
       "  'CUALIDADES / SUBLIME'],\n",
       " ['No es necesario creer en lo que dice un artista, sino en lo que hace.',\n",
       "  'David Hockney (1937-?) Pintor y dibujante inglés.',\n",
       "  'ARTE / ARTISTAS'],\n",
       " ['Una velada en que todos los presentes estén absolutamente de acuerdo es una velada perdida.',\n",
       "  'Albert Einstein (1879-1955) Científico alemán nacionalizado estadounidense.',\n",
       "  'MISCELÁNEA / CONSENSO'],\n",
       " ['La inteligencia y el sentido común se abren paso con pocos artificios.',\n",
       "  'Goethe (1749-1832) Poeta y dramaturgo alemán.',\n",
       "  'CUALIDADES / SENTIDO COMÚN'],\n",
       " ['Para un amante ya no hay amigos.',\n",
       "  'Stendhal (1783-1842) Escritor francés.',\n",
       "  'SENTIMIENTOS / AMOR / AMANTES'],\n",
       " ['No temas ni a la prisión, ni a la pobreza, ni a la muerte. Teme al miedo.',\n",
       "  'Giacomo Leopardi (1798-1837) Poeta y erudito italiano.',\n",
       "  'SENTIMIENTOS / MIEDO / TEMOR'],\n",
       " ['Cada día sabemos más y entendemos menos.',\n",
       "  'Albert Einstein (1879-1955) Científico alemán nacionalizado estadounidense.',\n",
       "  'CUALIDADES / SABIDURÍA / SABER'],\n",
       " ['No somos responsables de las emociones, pero sí de lo que hacemos con las emociones.',\n",
       "  'Jorge Bucay (1949-?) Escritor y psicoterapeuta argentino.',\n",
       "  'SENTIMIENTOS'],\n",
       " ['Duda siempre de ti mismo, hasta que los datos no dejen lugar a dudas.',\n",
       "  'Louis Pasteur (1822-1895) Químico y microbiólogo francés.',\n",
       "  'PENSAMIENTO Y RAZÓN / DUDA'],\n",
       " ['Cuando el hombre se mira mucho a sí mismo, llega a no saber cuál es su cara y cuál es su careta.',\n",
       "  'Pío Baroja (1872-1956) Escritor español.',\n",
       "  'DEFECTOS / EGOÍSMO'],\n",
       " ['Dos cosas contribuyen a avanzar: ir más deprisa que los otros o ir por el buen camino.',\n",
       "  'René Descartes (1596-1650) Filósofo y matemático francés.',\n",
       "  'SOCIEDAD / PROGRESO'],\n",
       " ['La recompensa del trabajo bien hecho es la oportunidad de hacer más trabajo bien hecho.',\n",
       "  'Jonas Edward Salk (1914-1995) Médico y epidemiólogo estadounidense.',\n",
       "  'SOCIEDAD / TRABAJO'],\n",
       " ['Es duro caer, pero es peor no haber intentado nunca subir.',\n",
       "  'Theodore Roosevelt (1858-1919) Político estadounidense.',\n",
       "  'CUALIDADES / PERSEVERANCIA'],\n",
       " ['El amor y la tos no pueden ocultarse',\n",
       "  'Proverbio italiano',\n",
       "  'SENTIMIENTOS / AMOR'],\n",
       " ['Que siempre por señales o razones se suelen descubrir las intenciones.',\n",
       "  'Alonso de Ercilla y Zúñiga (1533-1594) Escritor español.',\n",
       "  'MISCELÁNEA / INTENCIONES'],\n",
       " ['Todo lo que la tierra da y todo aquello que se llama felicidad sólo es un juguete de la suerte; lo que nosotros somos, eso sólo nos pertenece.',\n",
       "  'Johann Kaspar Lavater (1741-1801) Filósofo, poeta y teólogo suizo.',\n",
       "  'SENTIMIENTOS / FELICIDAD'],\n",
       " ['Los primeros cuarenta años de vida nos dan el texto; los treinta siguientes, el comentario.',\n",
       "  'Arthur Schopenhauer (1788-1860) Filósofo alemán.',\n",
       "  'TIEMPO / VEJEZ'],\n",
       " ['La pena uno puede soportarla solo, mas para estar alegre se necesitan dos.',\n",
       "  'Elbert Hubbard (1856-1915) Ensayista estadounidense.',\n",
       "  'SENTIMIENTOS / PENA'],\n",
       " ['Hay dos maneras de vivir su vida: una como si nada es un milagro, la otra es como si todo es un milagro.',\n",
       "  'Albert Einstein (1879-1955) Científico alemán nacionalizado estadounidense.',\n",
       "  'NATURALEZA / VIDA / VIVIR'],\n",
       " ['Hasta los sentimientos buenos, si se exaltan en demasía, son capaces de conducirnos a errores deplorables.',\n",
       "  'Jaime Luciano Balmes (1810-1848) Filósofo y sacerdote español.',\n",
       "  'SENTIMIENTOS'],\n",
       " ['Es cierto que el amor conserva la belleza y que la cara de las mujeres se nutre de caricias, lo mismo que las abejas se nutren de miel.',\n",
       "  'Anatole France (1844-1924) Escritor francés.',\n",
       "  'CUALIDADES / BELLEZA'],\n",
       " ['El ruido de un beso no es tan retumbante como el de un cañón, pero su eco dura mucho más.',\n",
       "  'Oliver Wendell Holmes (1809-1894) Poeta y médico estadounidense.',\n",
       "  'SENTIMIENTOS / AMOR / BESOS'],\n",
       " ['El hombre no ha sabido organizar un mundo para sí mismo y es un extraño en el mundo que él mismo ha creado.',\n",
       "  'Alexis Carrel (1873-1944) Biólogo y médico francés.',\n",
       "  'NATURALEZA / SER HUMANO'],\n",
       " ['Cuanto más se acerca uno a los grandes hombres, más cuenta se da de que son hombres.',\n",
       "  'Jean de la Bruyere (1645-1696) Escritor francés.',\n",
       "  'CUALIDADES / GRANDEZA'],\n",
       " ['Algo que se aprende en medio de las plagas: que hay en los hombres más cosas dignas de admiración que de desprecio.',\n",
       "  'Albert Camus (1913-1960) Escritor francés.',\n",
       "  'SENTIMIENTOS / ADMIRACIÓN'],\n",
       " ['Si esta es vuestra forma de amar, os ruego que me odiéis.',\n",
       "  'Molière (1622-1673) Comediografo francés.',\n",
       "  'SENTIMIENTOS / AMOR / AMAR'],\n",
       " ['La prueba suprema de virtud consiste en poseer un poder ilimitado sin abusar de él.',\n",
       "  'Thomas Macaulay (1800-1859) Historiador y político británico.',\n",
       "  'SOCIEDAD / PODER'],\n",
       " ['Las palabras están llenas de falsedad o de arte; la mirada es el lenguaje del corazón.',\n",
       "  'William Shakespeare (1564-1616) Escritor británico.',\n",
       "  'NATURALEZA / SER HUMANO / PALABRAS'],\n",
       " ['No vayas contra lo que es justo para conseguir el elogio de los demás.',\n",
       "  'Lao-tsé (570 aC-490 aC) Filósofo chino.',\n",
       "  'MISCELÁNEA / ELOGIOS'],\n",
       " ['Junta tu frente a la mía y enlaza tu mano, y haz juramentos que mañana ya habrás roto.',\n",
       "  'Paul Verlaine (1844-1895) Poeta francés.',\n",
       "  'SENTIMIENTOS / AMOR'],\n",
       " ['El amor es lo más parecido a una guerra, y es la única guerra en que es indiferente vencer o ser vencido, porque siempre se gana.',\n",
       "  'Jacinto Benavente (1866-1954) Dramaturgo español.',\n",
       "  'SENTIMIENTOS / AMOR'],\n",
       " ['El buen humor es un deber que tenemos para con el prójimo.',\n",
       "  'Wallace Stevens (1879-1955) Poeta estadounidense.',\n",
       "  'CUALIDADES / HUMOR'],\n",
       " ['No se tome la vida demasiado en serio; nunca saldrá usted vivo de ella.',\n",
       "  'Elbert Hubbard (1856-1915) Ensayista estadounidense.',\n",
       "  'NATURALEZA / VIDA'],\n",
       " ['Los amigos no son ni muchos ni pocos, sino los suficientes.',\n",
       "  'Hugo von Hofmannsthal (1874-1729) Escritor austríaco.',\n",
       "  'SENTIMIENTOS / AMISTAD / AMIGOS'],\n",
       " ['La música es el arte más directo, entra por el oído y va al corazón.',\n",
       "  'Magdalena Martínez (1963-?) Flautista española.',\n",
       "  'ARTE / MÚSICA'],\n",
       " ['El trabajo es el refugio de los que no tienen nada que hacer.',\n",
       "  'Oscar Wilde (1854-1900) Dramaturgo y novelista irlandés.',\n",
       "  'SOCIEDAD / TRABAJO'],\n",
       " ['La verdad es una antorcha que luce entre la niebla, sin disiparla.',\n",
       "  'Claude Adrien Helvétius (1715-1771) Filósofo francés.',\n",
       "  'PENSAMIENTO Y RAZÓN / VERDAD'],\n",
       " ['El destino es el que baraja las cartas, pero nosotros somos los que jugamos.',\n",
       "  'William Shakespeare (1564-1616) Escritor británico.',\n",
       "  'MISCELÁNEA / DESTINO'],\n",
       " ['Vivir sin filosofar es, propiamente, tener los ojos cerrados, sin tratar de abrirlos jamás.',\n",
       "  'René Descartes (1596-1650) Filósofo y matemático francés.',\n",
       "  'PENSAMIENTO Y RAZÓN / FILOSOFÍA'],\n",
       " ['Una mujer llega a la convicción de que es amada, más por lo que adivina, que por lo que le dicen.',\n",
       "  'Ninon de Lenclos (1620-1705) Cortesana francesa.',\n",
       "  'SENTIMIENTOS / AMOR / AMAR'],\n",
       " ['Una gran filosofía no es la que instala la verdad definitiva, es la que produce una inquietud.',\n",
       "  'Charles Péguy (1873-1914) Escritor francés.',\n",
       "  'PENSAMIENTO Y RAZÓN / FILOSOFÍA'],\n",
       " ['Saber es relativamente fácil. Querer y obrar de acuerdo a lo que uno quisiera, es siempre más duro.',\n",
       "  'Aldous Huxley (1894-1963) Novelista, ensayista y poeta inglés.',\n",
       "  'MISCELÁNEA / OBRAR'],\n",
       " ['Perseverar en el cumplimiento del deber y guardar silencio es la mejor respuesta a la calumnia.',\n",
       "  'George Washington (1732-1799) Primer presidente de los Estados Unidos.',\n",
       "  'MISCELÁNEA / CALUMNIA'],\n",
       " ['Para hacer que una lámpara esté siempre encendida, no debemos de dejar de ponerle aceite.',\n",
       "  'Madre Teresa de Calcuta (1910-1997) Misionera de origen albanés naturalizada india',\n",
       "  'CUALIDADES / CONSTANCIA'],\n",
       " ['No hay mayor dolor que recordar los tiempos felices desde la miseria.',\n",
       "  'Dante Alighieri (1265-1321) Escritor y filósofo italiano.',\n",
       "  'MISCELÁNEA / MISERABLE'],\n",
       " ['Los únicos goces puros y sin mezcla de tristeza que le han sido dados sobre la tierra al hombre, son los goces de familia.',\n",
       "  'Giuseppe Mazzini (1805-1872) Político italiano.',\n",
       "  'SOCIEDAD / FAMILIA'],\n",
       " ['Los niños comienzan por amar a los padres. Cuando ya han crecido, los juzgan, y, algunas veces, hasta los perdonan.',\n",
       "  'Oscar Wilde (1854-1900) Dramaturgo y novelista irlandés.',\n",
       "  'TIEMPO / INFANCIA'],\n",
       " ['La política es el arte de servirse de los hombres haciéndoles creer que se les sirve a ellos.',\n",
       "  'Louis Dumur (1863-1933) Escritor suizo.',\n",
       "  'SOCIEDAD / POLÍTICA'],\n",
       " ['El uso de las facultades que me concedió la naturaleza es el único placer que no depende de la ayuda de la opinión ajena.',\n",
       "  'Ugo Foscolo (1778-1827) Escritor y poeta italiano.',\n",
       "  'PENSAMIENTO Y RAZÓN / OPINIÓN'],\n",
       " ['El derecho y el deber son como las palmeras: no dan frutos si no crecen uno al lado del otro.',\n",
       "  'Félecité de Lamennais (1782-1854) Escritor religioso francés.',\n",
       "  'SOCIEDAD / DERECHOS'],\n",
       " ['Dos cosas me admiran: la inteligencia de las bestias y la bestialidad de los hombres.',\n",
       "  'Tristan Bernard (1866-1947) Novelista y periodista francés.',\n",
       "  'SENTIMIENTOS / ADMIRACIÓN'],\n",
       " ['Aunque estés solo, no debes decir ni hacer nada malo. Aprende a avergonzarte más ante ti que ante los demás.',\n",
       "  'Demócrito de Abdera (460 AC-370 AC) Filósofo griego.',\n",
       "  'DEFECTOS / MALDAD'],\n",
       " ['A veces en la vida hay que saber luchar no sólo sin miedo, sino también sin esperanza.',\n",
       "  'Alessandro Pertini (1896-1990) Político italiano.',\n",
       "  'MISCELÁNEA / LUCHAR'],\n",
       " ['A un alma se le mide por la amplitud de sus deseos, del mismo modo que se juzga de antemano una catedral por la altura de sus torres.',\n",
       "  'Gustave Flaubert (1821-1880) Escritor francés.',\n",
       "  'PENSAMIENTO Y RAZÓN / DESEO'],\n",
       " ['¡Qué pena que beber agua no sea un pecado! ¡Qué bien sabría entonces!',\n",
       "  'Giacomo Leopardi (1798-1837) Poeta y erudito italiano.',\n",
       "  'MISCELÁNEA / PECADO'],\n",
       " ['La amistad del hombre es con frecuencia un apoyo; la de la mujer es siempre un consuelo.',\n",
       "  'Jean Paul (1763-1825) Escritor y humorista alemán.',\n",
       "  'SENTIMIENTOS / AMISTAD'],\n",
       " ['Nuestra mayor gloria no está en no haber caído nunca, sino en levantarnos cada vez que caemos.',\n",
       "  'Oliver Goldsmith (1728-1774) Escritor británico.',\n",
       "  'CUALIDADES / PERSEVERANCIA'],\n",
       " ['Es un verdadero privilegio haber sobrellevado una vida difícil.',\n",
       "  'Indira Gandhi (1917-1984) Estadista y política hindú.',\n",
       "  'MISCELÁNEA / DIFICULTADES'],\n",
       " ['La función química del humor es ésta: cambiar el carácter de nuestros pensamientos.',\n",
       "  'Lin Yutang (1895-1976) Escritor y filólogo chino.',\n",
       "  'CUALIDADES / HUMOR'],\n",
       " ['Una vez se haya dicho todo, estaremos en condiciones de volver a decirlo todo, porque todo se habrá contradicho.',\n",
       "  'Aquiles Dalseme (1840-1913) Periodista francés.',\n",
       "  'NATURALEZA / SER HUMANO / DECIR'],\n",
       " ['El verdadero paraíso no esta en el cielo, sino en la boca de la mujer amada.',\n",
       "  'Théophile Gautier (1811-1872) Poeta, crítico y novelista francés.',\n",
       "  'SENTIMIENTOS / AMOR'],\n",
       " ['El hombre más feliz del mundo es aquel que sepa reconocer los méritos de los demás y pueda alegrarse del bien ajeno como si fuera propio.',\n",
       "  'Goethe (1749-1832) Poeta y dramaturgo alemán.',\n",
       "  'SENTIMIENTOS / FELICIDAD'],\n",
       " ['La multitud por sí sola nunca llega a nada si no tiene un líder que la guíe.',\n",
       "  'Hermann Keyserling (1880-1946) Filósofo y científico alemán.',\n",
       "  'SOCIEDAD / LÍDERES'],\n",
       " ['Las personas no son recordadas por el número de veces que fracasan, sino por el número de veces que tienen éxito.',\n",
       "  'Thomas Alva Edison (1847-1931) Físico e inventor estadounidense.',\n",
       "  'MISCELÁNEA / ÉXITO'],\n",
       " ['Las inteligencias poco capaces se interesan en lo extraordinario; las inteligencias poderosas en las cosas ordinarias.',\n",
       "  'Elbert Hubbard (1856-1915) Ensayista estadounidense.',\n",
       "  'CUALIDADES / INTELIGENCIA'],\n",
       " ['La confidencia descubre quién era o no digno de ella.',\n",
       "  'André Maurois (1885-1967) Novelista y ensayista francés.',\n",
       "  'MISCELÁNEA / SECRETO'],\n",
       " ['La confianza en sí mismo es el primer secreto del éxito.',\n",
       "  'Emerson (1803-1882) Poeta y pensador estadounidense.',\n",
       "  'SENTIMIENTOS / CONFIANZA'],\n",
       " ['La belleza es ese misterio hermoso que no descifran ni la psicología ni la retórica.',\n",
       "  'Jorge Luis Borges (1899-1986) Escritor argentino.',\n",
       "  'CUALIDADES / BELLEZA'],\n",
       " ['El que no ama siempre tiene razón: es lo único que tiene.',\n",
       "  'Antonio Gala (1930-?) Dramaturgo, poeta y novelista español.',\n",
       "  'SENTIMIENTOS / AMOR / AMAR'],\n",
       " ['Creo en la vida eterna en este mundo, hay momentos en que el tiempo se detiene de repente para dar lugar a la eternidad.',\n",
       "  'Fiodor Dostoievski (1821-1881) Novelista ruso.',\n",
       "  'TIEMPO / ETERNIDAD'],\n",
       " ['A las personas les interesa nuestro destino exterior; el interior, sólo a nuestro amigo.',\n",
       "  'Heinrich Wilhelm von Kleist (1777-1811) Dramaturgo alemán.',\n",
       "  'SENTIMIENTOS / AMISTAD / AMIGOS'],\n",
       " ['¿Es usted un demonio? Soy un hombre. Y por lo tanto tengo dentro de mí todos los demonios.',\n",
       "  'Gilbert Keith Chesterton (1874-1936) Escritor británico.',\n",
       "  'DEFECTOS / MALDAD'],\n",
       " ['Buscando el bien de nuestros semejantes, encontramos el nuestro.',\n",
       "  'Platón (427 AC-347 AC) Filósofo griego.',\n",
       "  'CUALIDADES / BONDAD'],\n",
       " ['Amar es lo contrario de utilizar.',\n",
       "  'Juan Pablo II (1920-2005) Papa de la iglesia católica.',\n",
       "  'SENTIMIENTOS / AMOR / AMAR'],\n",
       " ['El amor, a quien pintan ciego, es vidente y perspicaz porque el amante ve cosas que el indiferente no ve y por eso ama.',\n",
       "  'José Ortega y Gasset (1883-1955) Filósofo y ensayista español.',\n",
       "  'SENTIMIENTOS / AMOR'],\n",
       " ['Déjame sólo un poco de mí mismo para que pueda llamarte mi todo.',\n",
       "  'Rabindranath Tagore (1861-1941) Filósofo y escritor indio.',\n",
       "  'MISCELÁNEA / SIN CLASIFICAR'],\n",
       " ['No hay cosa que haga más daño a una nación como el que la gente astuta pase por inteligente.',\n",
       "  'Sir Francis Bacon (1561-1626) Filósofo y estadista británico.',\n",
       "  'CUALIDADES / INTELIGENCIA'],\n",
       " ['Ser honrado tal como anda el mundo, equivale a ser un hombre escogido entre diez mil.',\n",
       "  'William Shakespeare (1564-1616) Escritor británico.',\n",
       "  'CUALIDADES / HONRADEZ'],\n",
       " ['Desconfío de la incomunicabilidad; es la fuente de toda violencia.',\n",
       "  'Jean Paul Sartre (1905-1980) Filósofo y escritor francés.',\n",
       "  'DEFECTOS / VIOLENCIA'],\n",
       " ['El futuro nos tortura y el pasado nos encadena. He ahí por qué se nos escapa el presente.',\n",
       "  'Gustave Flaubert (1821-1880) Escritor francés.',\n",
       "  'TIEMPO / PRESENTE'],\n",
       " ['Al perro que tiene dinero se le llama señor perro.',\n",
       "  'Proverbio árabe',\n",
       "  'SOCIEDAD / DINERO'],\n",
       " ['Sólo se ve bien con el corazón; lo esencial es invisible para los ojos.',\n",
       "  'Antoine de Saint-Exupéry (1900-1944) Escritor francés.',\n",
       "  'SENTIMIENTOS / AMOR / CORAZÓN'],\n",
       " ['No sé yo que haya en el mundo palabras tan eficaces ni oradores tan elocuentes como las lágrimas.',\n",
       "  'Lope de Vega (1562-1635) Poeta, novelista y dramaturgo español.',\n",
       "  'MISCELÁNEA / LÁGRIMAS'],\n",
       " ['La sabiduría es un adorno en la prosperidad y un refugio en la adversidad.',\n",
       "  'Aristóteles (384 AC-322 AC) Filósofo griego.',\n",
       "  'CUALIDADES / SABIDURÍA'],\n",
       " ['Todos los cerebros del mundo son impotentes contra cualquier estupidez que esté de moda.',\n",
       "  'Jean de La Fontaine (1621-1695) Escritor y poeta francés.',\n",
       "  'DEFECTOS / ESTUPIDEZ'],\n",
       " ['Si en medio de las adversidades persevera el corazón con serenidad, con gozo y con paz, esto es amor.',\n",
       "  'Santa Teresa de Jesús (1515-1582) Escritora mística española.',\n",
       "  'SENTIMIENTOS / AMOR'],\n",
       " ['Los hombres creen gustosamente aquello que se acomoda a sus deseos.',\n",
       "  'Julio César (100 AC-44 AC) Emperador romano.',\n",
       "  'NATURALEZA / SER HUMANO / CREER'],\n",
       " ['Muy frecuentemente las lágrimas son la última sonrisa del amor.',\n",
       "  'Stendhal (1783-1842) Escritor francés.',\n",
       "  'MISCELÁNEA / LÁGRIMAS'],\n",
       " ['Lo que embellece al desierto es que en alguna parte esconde un pozo de agua.',\n",
       "  'Antoine de Saint-Exupéry (1900-1944) Escritor francés.',\n",
       "  'CUALIDADES / VIRTUD'],\n",
       " ['La política es el arte de obtener el dinero de los ricos y el voto de los pobres con el pretexto de proteger a los unos de los otros.',\n",
       "  'Anónimo',\n",
       "  'SOCIEDAD / POLÍTICA'],\n",
       " ['Es mejor haber amado y haber perdido que jamás haber amado.',\n",
       "  'Alfred Tennyson (1809-1892) Poeta inglés.',\n",
       "  'SENTIMIENTOS / AMOR / AMAR'],\n",
       " ['¿Me preguntas por qué compro arroz y flores? Compro arroz para vivir y flores para tener algo por lo que vivir.',\n",
       "  'Confucio (551 AC-478 AC) Filósofo chino.',\n",
       "  'NATURALEZA / VIDA / VIVIR'],\n",
       " ['Para que triunfe el mal, sólo es necesario que los buenos no hagan nada.',\n",
       "  'Edmund Burke (1729-1797) Político y escritor irlandés.',\n",
       "  'DEFECTOS / MALDAD'],\n",
       " ['Dar hasta que duela y cuando duela dar todavía más.',\n",
       "  'Madre Teresa de Calcuta (1910-1997) Misionera de origen albanés naturalizada india',\n",
       "  'NATURALEZA / SER HUMANO / DAR'],\n",
       " ['El hombre que ha empezado a vivir seriamente por dentro, empieza a vivir más sencillamente por fuera.',\n",
       "  'Ernest Hemingway (1899-1961) Escritor estadounidense.',\n",
       "  'NATURALEZA / VIDA / VIVIR'],\n",
       " ['No existe la libertad, sino la búsqueda de la libertad, y esa búsqueda es la que nos hace libres.',\n",
       "  'Carlos Fuentes (1929-2012) Periodista y escritor mexicano.',\n",
       "  'SOCIEDAD / LIBERTAD'],\n",
       " ['Exageráis la hipocresía de los hombres. La mayoría piensa demasiado poco para permitirse el lujo de poder pensar doble.',\n",
       "  'Marguerite Yourcenar (1903-1987) Escritora francesa.',\n",
       "  'DEFECTOS / HIPOCRESÍA'],\n",
       " ['Benevolencia no quiere decir tolerancia de lo ruin, o conformidad con lo inepto, sino voluntad de bien.',\n",
       "  'Antonio Machado (1875-1939) Poeta y prosista español.',\n",
       "  'CUALIDADES / BONDAD'],\n",
       " ['La música es el corazón de la vida. Por ella habla el amor; sin ella no hay bien posible y con ella todo es hermoso.',\n",
       "  'Franz Liszt (1811-1886) Pianista y compositor austriaco de origen húngaro.',\n",
       "  'ARTE / MÚSICA'],\n",
       " ['Acostumbramos a cometer nuestras peores debilidades y flaquezas a causa de la gente que más despreciamos.',\n",
       "  'Charles Dickens (1812-1870) Escritor y novelista inglés.',\n",
       "  'MISCELÁNEA / ERRORES'],\n",
       " ['La verdad se robustece con la investigación y la dilación; la falsedad, con el apresuramiento y la incertidumbre.',\n",
       "  'Tácito (55-115) Historiador romano.',\n",
       "  'PENSAMIENTO Y RAZÓN / VERDAD'],\n",
       " ['La esperanza, no obstante sus engaños, nos sirve al menos para llevarnos al fin de la existencia por un camino agradable.',\n",
       "  'François de La Rochefoucauld (1613-1680) Escritor francés.',\n",
       "  'SENTIMIENTOS / ESPERANZA'],\n",
       " ['Creo que el odio es un sentimiento que sólo puede existir en ausencia de toda inteligencia.',\n",
       "  'Tennessee Williams (1911-1983) Dramaturgo estadounidense.',\n",
       "  'SENTIMIENTOS / ODIO'],\n",
       " ['¡Triste época la nuestra! Es más fácil desintegrar un átomo que un prejuicio.',\n",
       "  'Albert Einstein (1879-1955) Científico alemán nacionalizado estadounidense.',\n",
       "  'SOCIEDAD / LEYES / JUSTICIA'],\n",
       " ['Un amigo fiel es un alma en dos cuerpos.',\n",
       "  'Aristóteles (384 AC-322 AC) Filósofo griego.',\n",
       "  'SENTIMIENTOS / AMISTAD'],\n",
       " ['Las amistades son como los matrimonios: de cada diez, uno se hace por amor.',\n",
       "  'Edmundo de Amicis (1846-1908) Escritor italiano.',\n",
       "  'SENTIMIENTOS / AMISTAD'],\n",
       " ['Yo no estoy de acuerdo con lo que usted dice, pero me pelearía para que usted pudiera decirlo.',\n",
       "  'Voltaire (1694-1778) Filósofo y escritor francés.',\n",
       "  'SOCIEDAD / LIBERTAD'],\n",
       " ['La verdad no está de parte de quién grite más.',\n",
       "  'Rabindranath Tagore (1861-1941) Filósofo y escritor indio.',\n",
       "  'PENSAMIENTO Y RAZÓN / VERDAD'],\n",
       " ['La amistad siempre es provechosa; el amor a veces hiere.',\n",
       "  'Séneca (2 AC-65) Filósofo latino.',\n",
       "  'SENTIMIENTOS / AMISTAD'],\n",
       " ['El que no quiera vivir sino entre justos, viva en el desierto.',\n",
       "  'Séneca (2 AC-65) Filósofo latino.',\n",
       "  'SOCIEDAD / LEYES / JUSTICIA'],\n",
       " ['Amor con amor se paga.', 'Refrán', 'SENTIMIENTOS / AMOR'],\n",
       " ['Cásate con un arqueólogo. Cuanto más vieja te hagas, más encantadora te encontrará',\n",
       "  'Agatha Christie (1891-1976) Novelista inglesa.',\n",
       "  'SOCIEDAD / MATRIMONIO'],\n",
       " ['La enfermedad del ignorante es ignorar su propia ignorancia.',\n",
       "  'Amos Bronson Alcott (1799-1888) Filósofo y profesor estadounidense.',\n",
       "  'DEFECTOS / IGNORANCIA'],\n",
       " ['Aquella teoría que no encuentre aplicación práctica en la vida, es una acrobacia del pensamiento.',\n",
       "  'Swami Vivekananda (1863-1902) Líder espiritual y reformador hindú.',\n",
       "  'MISCELÁNEA / TEORÍAS'],\n",
       " ['Cada vez que proveo una plaza vacante, creo cien descontentos y un ingrato.',\n",
       "  'Luis XV de Francia (1710-1774) Rey de Francia.',\n",
       "  'DEFECTOS / INGRATITUD'],\n",
       " ['La melancolía es la felicidad de estar triste.',\n",
       "  'Victor Hugo (1802-1885) Novelista francés.',\n",
       "  'SENTIMIENTOS / MELANCOLÍA'],\n",
       " ['El verdadero dolor es el que se sufre sin testigos.',\n",
       "  'Marco Valerio Marcial (40-104) Poeta latino.',\n",
       "  'SENTIMIENTOS / DOLOR'],\n",
       " ['En dos palabras puedo resumir cuanto he aprendido acerca de la vida: Sigue adelante.',\n",
       "  'Robert Frost (1874-1963) Poeta estadounidense.',\n",
       "  'NATURALEZA / VIDA'],\n",
       " ['Una persona aburrida es la que habla cuando deseas que te escuche.',\n",
       "  'Ambrose Bierce (1842-1914) Escritor estadounidense.',\n",
       "  'SENTIMIENTOS / ABURRIMIENTO'],\n",
       " ['Tenemos bastante religión para odiarnos unos a otros, pero no la bastante para amarnos.',\n",
       "  'Jonathan Swift (1667-1745) Político y escritor irlandés.',\n",
       "  'SOCIEDAD / RELIGIÓN'],\n",
       " ['Si precisas una mano, recuerda que yo tengo dos.',\n",
       "  'San Agustín (354-430) Obispo y filósofo.',\n",
       "  'MISCELÁNEA / AYUDAR'],\n",
       " ['Saber que no se sabe, eso es humildad. Pensar que uno sabe lo que no sabe, eso es enfermedad.',\n",
       "  'Lao-tsé (570 aC-490 aC) Filósofo chino.',\n",
       "  'CUALIDADES / SABIDURÍA / SABER'],\n",
       " ['Nadie puede ser sensato con el estómago vacío.',\n",
       "  'George Eliot (1819-1880) Seudónimo de Mary Anne Evans. Novelista británica.',\n",
       "  'CUALIDADES / SENSATEZ'],\n",
       " ['La victoria pertenece al más perseverante.',\n",
       "  'Napoleón I (1769-1821) Napoleón Bonaparte. Emperador francés.',\n",
       "  'CUALIDADES / PERSEVERANCIA'],\n",
       " ['La pasión para el hombre es un torrente; para la mujer, un abismo.',\n",
       "  'Concepción Arenal (1820-1893) Escritora y socióloga española.',\n",
       "  'SENTIMIENTOS / AMOR / PASIÓN'],\n",
       " ['El secreto de mi éxito está en pagar como si fuera pródigo y en vender como si estuviera en quiebra.',\n",
       "  'Henry Ford (1863-1947) Industrial estadounidense.',\n",
       "  'MISCELÁNEA / ÉXITO'],\n",
       " ['El colmo de la infelicidad es temer algo, cuando ya nada se espera.',\n",
       "  'Séneca (2 AC-65) Filósofo latino.',\n",
       "  'SENTIMIENTOS / MIEDO / TEMOR'],\n",
       " ['Donde mora la libertad, allí está mi patria.',\n",
       "  'Benjamin Franklin (1706-1790) Estadista y científico estadounidense.',\n",
       "  'SOCIEDAD / LIBERTAD'],\n",
       " ['Cuando se sugieren muchos remedios para un solo mal, quiere decir que no se puede curar.',\n",
       "  'Antón Chéjov (1860-1904) Dramaturgo y autor de relatos ruso.',\n",
       "  'MISCELÁNEA / MALES'],\n",
       " ['Una vez terminado el juego el rey y el peón vuelven a la misma caja.',\n",
       "  'Proverbio italiano',\n",
       "  'NATURALEZA / VIDA'],\n",
       " ['Cuando el amor desenfrenado entra en el corazón, va royendo todos los demás sentimientos; vive a expensas del honor, de la fe y de la palabra dada.',\n",
       "  'Alejandro Dumas (1802-1870) Escritor francés.',\n",
       "  'SENTIMIENTOS / AMOR'],\n",
       " ['Aunque el orgullo no es una virtud, es padre de muchas virtudes.',\n",
       "  'John Churton Collins (1848-1908) Crítico literario inglés.',\n",
       "  'SENTIMIENTOS / ORGULLO'],\n",
       " ['Alégrate de la vida porque ella te da la oportunidad de amar, de trabajar, de jugar y de mirar a las estrellas.',\n",
       "  'Henry Van Dyke (1852-1933) Escritor estadounidense.',\n",
       "  'NATURALEZA / VIDA'],\n",
       " ['No basta con hablar de paz. Uno debe creer en ella y trabajar para conseguirla.',\n",
       "  'Eleanor Roosevelt (1884-1962) Defensora de los derechos sociales, diplomática y',\n",
       "  'SOCIEDAD / PAZ'],\n",
       " ['El ánimo que piensa en lo que puede temer, empieza a temer en lo que puede pensar.',\n",
       "  'Francisco de Quevedo (1580-1645) Escritor español.',\n",
       "  'SENTIMIENTOS / MIEDO / TEMOR'],\n",
       " ['No andes, Sancho, desceñido y flojo, que el vestido descompuesto da indicios de ánimo desmalazado.',\n",
       "  'Miguel de Cervantes (1547-1616) Escritor español.',\n",
       "  'MISCELÁNEA / APARIENCIA'],\n",
       " ['La televisión será la base de la opinión pública. Ha creado un mundo esquizofrénico en el que entre el individuo y lo global no hay nada.',\n",
       "  'Alain Touraine (1925-?) Sociólogo francés.',\n",
       "  'SOCIEDAD / MEDIOS / TELEVISIÓN'],\n",
       " ['El amor tiene un poderoso hermano, el odio. Procura no ofender al primero, porque el otro puede matarte.',\n",
       "  'F. Heumer Escritor contemporáneo alemán.',\n",
       "  'SENTIMIENTOS / AMOR'],\n",
       " ['Amistades que son ciertas nadie las puede turbar.',\n",
       "  'Miguel de Cervantes (1547-1616) Escritor español.',\n",
       "  'SENTIMIENTOS / AMISTAD'],\n",
       " ['Que hablen de uno es espantoso. Pero hay algo peor: que no hablen.',\n",
       "  'Oscar Wilde (1854-1900) Dramaturgo y novelista irlandés.',\n",
       "  'NATURALEZA / SER HUMANO / HABLAR'],\n",
       " ['Muchas personas se pierden las pequeñas alegrías mientras aguardan la gran felicidad.',\n",
       "  'Pearl S. Buck (1892-1973) Novelista estadounidense.',\n",
       "  'SENTIMIENTOS / FELICIDAD'],\n",
       " ['La mujer llora antes del matrimonio, el hombre después.',\n",
       "  'Proverbio polaco',\n",
       "  'SOCIEDAD / MATRIMONIO'],\n",
       " ['Donde hay educación no hay distinción de clases.',\n",
       "  'Confucio (551 AC-478 AC) Filósofo chino.',\n",
       "  'SOCIEDAD / EDUCACIÓN'],\n",
       " ['La ingratitud proviene, tal vez, de la imposibilidad de pagar.',\n",
       "  'Honoré de Balzac (1799-1850) Escritor francés.',\n",
       "  'DEFECTOS / INGRATITUD'],\n",
       " ['Puedes engañar a todo el mundo algún tiempo. Puedes engañar a algunos todo el tiempo. Pero no puedes engañar a todo el mundo todo el tiempo.',\n",
       "  'Abraham Lincoln (1808-1865) Político estadounidense.',\n",
       "  'MISCELÁNEA / ENGAÑO'],\n",
       " ['Por muy poderosa que se vea el arma de la belleza, desgraciada la mujer que sólo a este recurso debe el triunfo alcanzado sobre un hombre.',\n",
       "  'Severo Catalina (1832-1871) Periodista y escritor español.',\n",
       "  'CUALIDADES / BELLEZA'],\n",
       " ['Los que están siempre de vuelta de todo son los que nunca han ido a ninguna parte.',\n",
       "  'Antonio Machado (1875-1939) Poeta y prosista español.',\n",
       "  'CUALIDADES / SABIDURÍA / SABER'],\n",
       " ['Lo que hace falta es someter a las circunstancias, no someterse a ellas.',\n",
       "  'Horacio (65 AC-8 AC) Poeta latino.',\n",
       "  'MISCELÁNEA / CIRCUNSTANCIAS'],\n",
       " ['La vida es tan corta y el oficio de vivir tan difícil, que cuando uno empieza a aprenderlo, ya hay que morirse.',\n",
       "  'Ernesto Sábato (1911-2011) Escritor argentino.',\n",
       "  'NATURALEZA / VIDA'],\n",
       " ['La única manera de hacer un amigo es serlo.',\n",
       "  'Emerson (1803-1882) Poeta y pensador estadounidense.',\n",
       "  'SENTIMIENTOS / AMISTAD / AMIGOS'],\n",
       " ['La llave que se usa constantemente reluce como plata: no usándola se llena de herrumbre. Lo mismo pasa con el entendimiento.',\n",
       "  'Benjamin Franklin (1706-1790) Estadista y científico estadounidense.',\n",
       "  'PENSAMIENTO Y RAZÓN / ENTENDIMIENTO'],\n",
       " ['Hemos de proceder de tal manera que no nos sonrojemos ante nosotros mismos.',\n",
       "  'Baltasar Gracián (1601-1658) Escritor español.',\n",
       "  'SENTIMIENTOS / VERGÜENZA'],\n",
       " ['Habla para que yo te conozca.',\n",
       "  'Sócrates (470 AC-399 AC) Filósofo griego.',\n",
       "  'NATURALEZA / SER HUMANO / HABLAR'],\n",
       " ['El hambre suele producir poemas inmortales. La abundancia, únicamente indigestiones y torpezas.',\n",
       "  'Hipólito Taine (1828-1893) Escritor francés.',\n",
       "  'MISCELÁNEA / HAMBRE'],\n",
       " ['El deseo nos fuerza a amar lo que nos hará sufrir.',\n",
       "  'Marcel Proust (1871-1922) Escritor francés.',\n",
       "  'PENSAMIENTO Y RAZÓN / DESEO'],\n",
       " ['El cuerpo humano es el carruaje; el yo, el hombre que lo conduce; el pensamiento son las riendas, y los sentimientos los caballos.',\n",
       "  'Platón (427 AC-347 AC) Filósofo griego.',\n",
       "  'NATURALEZA / SER HUMANO'],\n",
       " ['Cuanto más se ama a un amante, más cerca se está de odiarle.',\n",
       "  'François de La Rochefoucauld (1613-1680) Escritor francés.',\n",
       "  'SENTIMIENTOS / AMOR / AMAR'],\n",
       " ['Casarse está bien. No casarse está mejor.',\n",
       "  'San Agustín (354-430) Obispo y filósofo.',\n",
       "  'SOCIEDAD / MATRIMONIO'],\n",
       " ['En los momentos de crisis, sólo la imaginación es más importante que el conocimiento.',\n",
       "  'Albert Einstein (1879-1955) Científico alemán nacionalizado estadounidense.',\n",
       "  'PENSAMIENTO Y RAZÓN / IMAGINACIÓN'],\n",
       " ['La amistad es un acuerdo perfecto de los sentimientos de cosas humanas y divinas, unidas a la bondad y a una mutua ternura.',\n",
       "  'Cicerón (106 AC-43 AC) Escritor, orador y político romano.',\n",
       "  'SENTIMIENTOS / AMISTAD'],\n",
       " ['La pobreza no viene por la disminución de las riquezas, sino por la multiplicación de los deseos.',\n",
       "  'Platón (427 AC-347 AC) Filósofo griego.',\n",
       "  'SOCIEDAD / DINERO / POBREZA'],\n",
       " ['Un mundo nace cuando dos se besan.',\n",
       "  'Octavio Paz (1914-1998) Poeta y ensayista mexicano.',\n",
       "  'SENTIMIENTOS / AMOR / BESOS'],\n",
       " ['Hay dos maneras de difundir la luz... ser la lámpara que la emite, o el espejo que la refleja.',\n",
       "  'Lin Yutang (1895-1976) Escritor y filólogo chino.',\n",
       "  'CUALIDADES / SABIDURÍA'],\n",
       " ['No eres más porque te alaben, ni menos porque te critiquen; lo que eres delante de Dios, eso eres y nada más.',\n",
       "  'Thomas De Kempis (1380-1471) Teólogo alemán.',\n",
       "  'SOCIEDAD / RELIGIÓN / DIOS'],\n",
       " ['No camines delante de mí, puede que no te siga. No camines detrás de mí, puede que no te guíe. Camina junto a mí y sé mi amigo.',\n",
       "  'Albert Camus (1913-1960) Escritor francés.',\n",
       "  'MISCELÁNEA / CAMINAR'],\n",
       " ['Puedes decir si un hombre es sabio por sus preguntas.',\n",
       "  'Naguib Mahfuz (1911-2006) Novelista egipcio.',\n",
       "  'CUALIDADES / SABIDURÍA / SABIO'],\n",
       " ['El progreso y el desarrollo son imposibles si uno sigue haciendo las cosas tal como siempre las ha hecho.',\n",
       "  'Wayne W. Dyer (1940-2015) Escritor estadounidense.',\n",
       "  'SOCIEDAD / PROGRESO'],\n",
       " ['Más rápido se coge al mentiroso que al cojo.',\n",
       "  'Refrán',\n",
       "  'PENSAMIENTO Y RAZÓN / MENTIRAS'],\n",
       " ['He ofendido a Dios y a la humanidad porque mi trabajo no tuvo la calidad que debía haber tenido.',\n",
       "  'Leonardo Da Vinci (1452-1519) Pintor, escultor e inventor italiano.',\n",
       "  'CUALIDADES / CALIDAD'],\n",
       " ['Yo necesito compañeros, pero compañeros vivos; no muertos y cadáveres que tenga que llevar a cuestas por donde vaya.',\n",
       "  'Friedrich Nietzsche (1844-1900) Filosofo alemán.',\n",
       "  'MISCELÁNEA / COMPAÑÍA'],\n",
       " ['Un periódico consta siempre del mismo número de palabras, haya noticias o no las haya.',\n",
       "  'Henry Fielding (1707-1754) Novelista, autor teatral y jurista inglés.',\n",
       "  'SOCIEDAD / MEDIOS / PRENSA'],\n",
       " ['Tres podrían guardar un secreto si dos de ellos hubieran muerto.',\n",
       "  'Benjamin Franklin (1706-1790) Estadista y científico estadounidense.',\n",
       "  'MISCELÁNEA / SECRETO'],\n",
       " ['¡Los suspiros son aire y van al aire!',\n",
       "  '¡Las lágrimas son agua y van al mar!',\n",
       "  'Dime, mujer, cuando el amor se olvida',\n",
       "  '¿sabes tú adónde va?',\n",
       "  'Gustavo Adolfo Bécquer (1836-1870) Poeta español.',\n",
       "  'SENTIMIENTOS / AMOR'],\n",
       " ['Lo que sorprende, sorprende una vez, pero lo que es admirable lo es más cuanto más se admira.',\n",
       "  'Joseph Joubert (1754-1824) Ensayista y moralista francés.',\n",
       "  'SENTIMIENTOS / ADMIRACIÓN'],\n",
       " ['La muerte es una quimera: porque mientras yo existo, no existe la muerte; y cuando existe la muerte, ya no existo yo.',\n",
       "  'Epicuro de Samos (341 AC-270 AC) Filósofo griego.',\n",
       "  'NATURALEZA / MUERTE'],\n",
       " ['Haz lo necesario para lograr tu más ardiente deseo, y acabarás lográndolo.',\n",
       "  'Ludwig van Beethoven (1770-1827) Compositor y músico alemán.',\n",
       "  'CUALIDADES / ESFUERZO'],\n",
       " ['Hay que amar lo que es digno de ser amado y odiar lo que es odioso, mas hace falta buen criterio para distinguir entre lo uno y lo otro.',\n",
       "  'Robert Frost (1874-1963) Poeta estadounidense.',\n",
       "  'SENTIMIENTOS / AMOR / AMAR'],\n",
       " ['Envejecer es como escalar una gran montaña: mientras se sube las fuerzas disminuyen, pero la mirada es más libre, la vista más amplia y serena.',\n",
       "  'Ingmar Bergman (1918-2007) Cineasta sueco.',\n",
       "  'TIEMPO / VEJEZ'],\n",
       " ['El ruido de las carcajadas pasa. La fuerza de los razonamientos queda.',\n",
       "  'Concepción Arenal (1820-1893) Escritora y socióloga española.',\n",
       "  'PENSAMIENTO Y RAZÓN / RAZÓN'],\n",
       " ['El amor nace del recuerdo, vive de la inteligencia y muere por olvido.',\n",
       "  'Ramon Llull (1235-1315) Filósofo y escritor en lengua catalana.',\n",
       "  'SENTIMIENTOS / AMOR'],\n",
       " ['Cuando tiene que decidir el corazón es mejor que decida la cabeza.',\n",
       "  'Enrique Jardiel Poncela (1901-1952) Escritor español.',\n",
       "  'PENSAMIENTO Y RAZÓN / DECISIONES'],\n",
       " ['El único símbolo de superioridad que conozco es la bondad.',\n",
       "  'Ludwig van Beethoven (1770-1827) Compositor y músico alemán.',\n",
       "  'CUALIDADES / BONDAD'],\n",
       " ['Nunca se pierden los años que se quita una mujer, van a parar a cualquiera de sus amigas.',\n",
       "  'Proverbio chino',\n",
       "  'TIEMPO / EDAD'],\n",
       " ['Vieja madera para arder, viejo vino para beber, viejos amigos en quien confiar, y viejos autores para leer.',\n",
       "  'Sir Francis Bacon (1561-1626) Filósofo y estadista británico.',\n",
       "  'TIEMPO / VEJEZ'],\n",
       " ['Así corrompe el ocio al cuerpo humano, como se corrompen las aguas si están quedas.',\n",
       "  'Ovidio (43 AC-17) Poeta latino.',\n",
       "  'DEFECTOS / OCIOSIDAD'],\n",
       " ['No perdamos nada de nuestro tiempo; quizá los hubo más bellos, pero este es el nuestro.',\n",
       "  'Jean Paul Sartre (1905-1980) Filósofo y escritor francés.',\n",
       "  'TIEMPO'],\n",
       " ['Todas las teorías son legítimas y ninguna tiene importancia. Lo que importa es lo que se hace con ellas.',\n",
       "  'Jorge Luis Borges (1899-1986) Escritor argentino.',\n",
       "  'MISCELÁNEA / TEORÍAS'],\n",
       " ['El único propósito del castigo es la prevención del mal; nunca impulsará a nadie al bien.',\n",
       "  'Horace Mann (1796-1859) Educador estadounidense.',\n",
       "  'SOCIEDAD / CASTIGOS'],\n",
       " ['Pero si el pensamiento corrompe el lenguaje, el lenguaje también puede corromper el pensamiento.',\n",
       "  'George Orwell (1903-1950) Escritor británico.',\n",
       "  'NATURALEZA / SER HUMANO / LENGUAJE'],\n",
       " ['En materia de gobierno todo cambio es sospechoso, aunque sea para mejorar.',\n",
       "  'Sir Francis Bacon (1561-1626) Filósofo y estadista británico.',\n",
       "  'SOCIEDAD / GOBIERNO'],\n",
       " ['Salen errados nuestros cálculos siempre que entran en ellos el temor o la esperanza.',\n",
       "  'Molière (1622-1673) Comediografo francés.',\n",
       "  'SENTIMIENTOS / ESPERANZA'],\n",
       " ['Cualquier muchacho de escuela puede amar como un loco. Pero odiar, amigo mío, odiar es un arte.',\n",
       "  'Ogden Nash (1902-1971) Poeta y humorista estadounidense.',\n",
       "  'SENTIMIENTOS / ODIO'],\n",
       " ['¿Cuál es el primer deber del hombre? La respuesta es muy breve: ser uno mismo.',\n",
       "  'Henrik Johan Ibsen (1828-1906) Dramaturgo noruego.',\n",
       "  'SOCIEDAD / LIBERTAD'],\n",
       " ['Cuando la voz de un enemigo acusa, el silencio de un amigo condena.',\n",
       "  'Ana de Austria',\n",
       "  'SENTIMIENTOS / AMISTAD'],\n",
       " ['Componer no es difícil, lo complicado es dejar caer bajo la mesa las notas superfluas.',\n",
       "  'Johannes Brahms (1833-1897) Compositor alemán.',\n",
       "  'ARTE / MÚSICA'],\n",
       " ['Amigo es el que en la prosperidad acude al ser llamado y en la adversidad sin serlo.',\n",
       "  'Demetrio de Falero (350 AC-280 AC) Orador, filósofo y gobernante ateniense.',\n",
       "  'SENTIMIENTOS / AMISTAD'],\n",
       " ['Pensar es el trabajo más difícil que existe. Quizá esa sea la razón por la que haya tan pocas personas que lo practiquen.',\n",
       "  'Henry Ford (1863-1947) Industrial estadounidense.',\n",
       "  'PENSAMIENTO Y RAZÓN / PENSAMIENTO / PENSAR'],\n",
       " ['No hay árbol que el viento no haya sacudido.',\n",
       "  'Proverbio hindú',\n",
       "  'MISCELÁNEA / SIN CLASIFICAR'],\n",
       " ['En tu relación con cualquier persona, pierdes mucho si no te tomas el tiempo necesario para comprenderla.',\n",
       "  'Rob Goldston',\n",
       "  'CUALIDADES / COMPRENSIÓN'],\n",
       " ['Tengo tres perros peligrosos: la ingratitud, la soberbia y la envidia. Cuando muerden dejan una herida profunda.',\n",
       "  'Martin Lutero (1483-1546) Reformador alemán.',\n",
       "  'DEFECTOS'],\n",
       " ['Lo único capaz de consolar a un hombre por las estupideces que hace, es el orgullo que le proporciona hacerlas.',\n",
       "  'Oscar Wilde (1854-1900) Dramaturgo y novelista irlandés.',\n",
       "  'SENTIMIENTOS / ORGULLO'],\n",
       " ['Ayudadme a comprender lo que os digo y os lo explicaré mejor.',\n",
       "  'Antonio Machado (1875-1939) Poeta y prosista español.',\n",
       "  'CUALIDADES / COMPRENSIÓN'],\n",
       " ['Existe, en verdad, un magnetismo, o más bien una electricidad del amor, que se comunica por el solo contacto de las yemas de los dedos.',\n",
       "  'Ferdinand Galiani (1728-1787) Diplomático y economista italiano.',\n",
       "  'SENTIMIENTOS / AMOR'],\n",
       " ['Es amigo mío aquel que me socorre, no el que me compadece.',\n",
       "  'Thomas Fuller (1610-1661) Clérigo y escritor británico.',\n",
       "  'SENTIMIENTOS / AMISTAD / AMIGOS'],\n",
       " ['La suerte es una flecha lanzada que hace blanco en el que menos la espera.',\n",
       "  'Konrad Adenauer (1876-1967) Político alemán.',\n",
       "  'MISCELÁNEA / SUERTE'],\n",
       " ['Una experiencia nunca es un fracaso, pues siempre viene a demostrar algo.',\n",
       "  'Thomas Alva Edison (1847-1931) Físico e inventor estadounidense.',\n",
       "  'CUALIDADES / EXPERIENCIA'],\n",
       " ['Del escuchar procede la sabiduría, y del hablar el arrepentimiento.',\n",
       "  'Proverbio italiano',\n",
       "  'MISCELÁNEA / ESCUCHAR'],\n",
       " ['Muchas veces las palabras que tendríamos que haber dicho no se presentan ante nuestro espíritu hasta que ya es demasiado tarde.',\n",
       "  'André Gide (1859-1951) Escritor francés',\n",
       "  'NATURALEZA / SER HUMANO / PALABRAS'],\n",
       " ['Las almas ruines sólo se dejan conquistar con presentes.',\n",
       "  'Sócrates (470 AC-399 AC) Filósofo griego.',\n",
       "  'DEFECTOS / MALDAD'],\n",
       " ['La superstición en que fuimos educados conserva su poder sobre nosotros aun cuando lleguemos a no creer en ella.',\n",
       "  'Gotthold Ephraim Lessing (1729-1781) Dramaturgo, crítico literario y pensador alemán.',\n",
       "  'MISCELÁNEA / SUPERSTICIÓN'],\n",
       " ['La potencia intelectual de un hombre se mide por la dosis de humor que es capaz de utilizar.',\n",
       "  'Friedrich Nietzsche (1844-1900) Filosofo alemán.',\n",
       "  'CUALIDADES / HUMOR'],\n",
       " ['La mayoría de las personas son como alfileres: sus cabezas no son lo más importante.',\n",
       "  'Jonathan Swift (1667-1745) Político y escritor irlandés.',\n",
       "  'CUALIDADES / INTELIGENCIA'],\n",
       " ['En toda negociación, el hombre honrado está destinado a llevar la peor parte, mientras que la picardía y la mala fe se apuntan finalmente los tantos.',\n",
       "  'Mika Waltari (1908-1979) Escritor finlandés.',\n",
       "  'MISCELÁNEA / NEGOCIOS'],\n",
       " ['El ser capaz de llenar el ocio de una manera inteligente es el último resultado de la civilización.',\n",
       "  'Bertrand Russell (1872-1970) Filósofo, matemático y escritor británico..',\n",
       "  'DEFECTOS / OCIOSIDAD'],\n",
       " ['El que sabe no habla, el que habla no sabe.',\n",
       "  'Lao-tsé (570 aC-490 aC) Filósofo chino.',\n",
       "  'CUALIDADES / SABIDURÍA / SABER'],\n",
       " ['El colmo de la estupidez es aprender lo que luego hay que olvidar.',\n",
       "  'Erasmo de Rotterdam (1469-1536) Humanista neerlandés.',\n",
       "  'SOCIEDAD / EDUCACIÓN / APRENDER'],\n",
       " ['Debe ser muy grande el placer que proporciona el gobernar, puesto que son tantos los que aspiran a hacerlo.',\n",
       "  'Voltaire (1694-1778) Filósofo y escritor francés.',\n",
       "  'SOCIEDAD / GOBIERNO'],\n",
       " ['Con el puño cerrado no se puede intercambiar un apretón de manos.',\n",
       "  'Indira Gandhi (1917-1984) Estadista y política hindú.',\n",
       "  'CUALIDADES / ACTITUD'],\n",
       " ['Antes las distancias eran mayores porque el espacio se mide por el tiempo.',\n",
       "  'Jorge Luis Borges (1899-1986) Escritor argentino.',\n",
       "  'MISCELÁNEA / DISTANCIA'],\n",
       " ['Tu mejor maestro es tu último error.',\n",
       "  'Ralph Nader (1934-?) Activista y abogado estadounidense.',\n",
       "  'MISCELÁNEA / ERRAR'],\n",
       " ['La sociedad está bien ordenada cuando los ciudadanos obedecen a los magistrados, y los magistrados a las leyes.',\n",
       "  'Solón de Atenas (640 A.C.-558 A.C.) Legislador griego',\n",
       "  'SOCIEDAD'],\n",
       " ['Era inevitable: el olor de las almendras amargas le recordaba siempre el destino de los amores contrariados.',\n",
       "  'Gabriel García Márquez (1927-2014) Escritor colombiano.',\n",
       "  'SENTIMIENTOS / AMOR'],\n",
       " ['La libertad es, en la filosofía, la razón; en el arte, la inspiración; en la política, el derecho.',\n",
       "  'Victor Hugo (1802-1885) Novelista francés.',\n",
       "  'SOCIEDAD / LIBERTAD'],\n",
       " ['La desgracia de Don Quijote no fue su fantasía, sino Sancho Panza.',\n",
       "  'Franz Kafka (1883-1924) Escritor checoslovaco.',\n",
       "  'MISCELÁNEA / FANTASÍA'],\n",
       " ['Los amigos son como los taxis, cuando hay mal tiempo escasean.',\n",
       "  'Anónimo',\n",
       "  'SENTIMIENTOS / AMISTAD / AMIGOS'],\n",
       " ['Cuatro características corresponden al juez: Escuchar cortésmente, responder sabiamente, ponderar prudentemente y decidir imparcialmente.',\n",
       "  'Sócrates (470 AC-399 AC) Filósofo griego.',\n",
       "  'SOCIEDAD / LEYES / JUSTICIA'],\n",
       " ['Se puede confiar en las malas personas, no cambian jamás.',\n",
       "  'William Faulkner (1897-1962) Escritor estadounidense.',\n",
       "  'SENTIMIENTOS / CONFIANZA'],\n",
       " ['Vení a dormir conmigo:',\n",
       "  'no haremos el amor, él nos hará.',\n",
       "  'Julio Cortázar (1914-1984) Escritor argentino.',\n",
       "  'SENTIMIENTOS / AMOR'],\n",
       " ['Si tu intención es describir la verdad, hazlo con sencillez y la elegancia déjasela al sastre.',\n",
       "  'Albert Einstein (1879-1955) Científico alemán nacionalizado estadounidense.',\n",
       "  'PENSAMIENTO Y RAZÓN / VERDAD'],\n",
       " ['Si eres orgulloso conviene que ames la soledad; los orgullosos siempre se quedan solos.',\n",
       "  'Amado Nervo (1870-1919) Poeta, novelista y ensayista mexicano.',\n",
       "  'SENTIMIENTOS / ORGULLO / ORGULLOSOS'],\n",
       " ['Para enseñar a los demás, primero has de hacer tú algo muy duro: has de enderezarte a ti mismo.',\n",
       "  'Buda (563 AC-486 AC) Fundador del budismo.',\n",
       "  'SOCIEDAD / EDUCACIÓN / ENSEÑAR'],\n",
       " ['Nuestra envidia dura siempre más que la dicha de aquellos que envidiamos.',\n",
       "  'François de La Rochefoucauld (1613-1680) Escritor francés.',\n",
       "  'SENTIMIENTOS / ENVIDIA'],\n",
       " ['No le evitéis a vuestros hijos las dificultades de la vida, enseñadles más bien a superarlas.',\n",
       "  'Louis Pasteur (1822-1895) Químico y microbiólogo francés.',\n",
       "  'SOCIEDAD / FAMILIA / HIJOS'],\n",
       " ['Me apoderaré del destino agarrándolo por el cuello. No me dominará.',\n",
       "  'Ludwig van Beethoven (1770-1827) Compositor y músico alemán.',\n",
       "  'MISCELÁNEA / DESTINO'],\n",
       " ['Las ideas no son responsables de lo que los hombres hacen de ellas.',\n",
       "  'Werner Karl Heisenberg (1901-1976) Filósofo y físico alemán.',\n",
       "  'PENSAMIENTO Y RAZÓN / IDEAS'],\n",
       " ['La paciencia es la fortaleza del débil y la impaciencia, la debilidad del fuerte.',\n",
       "  'Immanuel Kant (1724-1804) Filosofo alemán.',\n",
       "  'CUALIDADES / PACIENCIA'],\n",
       " ['El hombre, en su orgullo, creó a Dios a su imagen y semejanza.',\n",
       "  'Friedrich Nietzsche (1844-1900) Filosofo alemán.',\n",
       "  'SOCIEDAD / RELIGIÓN / DIOS'],\n",
       " ['El amor jamás reclama; da siempre. El amor tolera, jamás se irrita, nunca se venga.',\n",
       "  'Indira Gandhi (1917-1984) Estadista y política hindú.',\n",
       "  'SENTIMIENTOS / AMOR'],\n",
       " ['Ama un solo día y el mundo habrá cambiado.',\n",
       "  'Robert Browning (1812-1889) Poeta inglés.',\n",
       "  'SENTIMIENTOS / AMOR / AMAR'],\n",
       " ['Sorprendernos por algo es el primer paso de la mente hacia el descubrimiento.',\n",
       "  'Louis Pasteur (1822-1895) Químico y microbiólogo francés.',\n",
       "  'MISCELÁNEA / DESCUBRIMIENTO'],\n",
       " ['Si quieres conocer a una persona, no le preguntes lo que piensa sino lo que ama.',\n",
       "  'San Agustín (354-430) Obispo y filósofo.',\n",
       "  'MISCELÁNEA / CONOCER'],\n",
       " ['Aunque todo lo demás falle, siempre podemos asegurarnos la inmortalidad cometiendo algún error espectacular.',\n",
       "  'John Kenneth Galbraith (1908-2006) Econonista estadounidense.',\n",
       "  'MISCELÁNEA / INMORTALIDAD'],\n",
       " ['El hombre que ha perdido la aptitud de borrar sus odios está viejo, irreparablemente.',\n",
       "  'José Ingenieros (1877-1925) Filósofo y psicólogo argentino.',\n",
       "  'SENTIMIENTOS / ODIO'],\n",
       " ['No hay beso que no sea principio de despedida; incluso el de llegada.',\n",
       "  'George Bernard Shaw (1856-1950) Escritor irlandés.',\n",
       "  'SENTIMIENTOS / AMOR / BESOS'],\n",
       " ['La ambición está más descontenta de lo que no tiene que satisfecha de lo que tiene.',\n",
       "  'Fénelon (1651-1715) Escritor y teólogo francés.',\n",
       "  'CUALIDADES / AMBICIÓN'],\n",
       " ['No se puede ser y no ser algo al mismo tiempo y bajo el mismo aspecto.',\n",
       "  'Aristóteles (384 AC-322 AC) Filósofo griego.',\n",
       "  'DEFECTOS / HIPOCRESÍA'],\n",
       " ['La Navidad agita una varita mágica sobre el mundo, y por eso, todo es más suave y más hermoso.',\n",
       "  'Norman Vincent Peale (1898-1993) Predicador cristiano y escritor.',\n",
       "  'SOCIEDAD / NAVIDAD'],\n",
       " ['Hacer el amor implica una conexión con el amor que no se da todo el tiempo, ni siquiera entre dos personas que se aman.',\n",
       "  'Jorge Bucay (1949-?) Escritor y psicoterapeuta argentino.',\n",
       "  'SENTIMIENTOS / AMOR'],\n",
       " ['La música puede dar nombre a lo innombrable y comunicar lo desconocido.',\n",
       "  'Leonard Bernstein (1918-1990) Compositor estadounidense.',\n",
       "  'ARTE / MÚSICA'],\n",
       " ['Aléjese de los palacios el que quiera ser justo. La virtud y el poder no se hermanan bien.',\n",
       "  'Lucano (39-65) Escritor latino.',\n",
       "  'SOCIEDAD / LEYES / JUSTICIA'],\n",
       " ['Los niños son el recurso más importante del mundo y la mejor esperanza para el futuro.',\n",
       "  'John Fitzgerald Kennedy (1917-1963) Político estadounidense.',\n",
       "  'TIEMPO / INFANCIA'],\n",
       " ['Renunciar a mi pasión es como desgarrar con mis uñas una parte viva de mi corazón.',\n",
       "  \"Gabriele d' Annunzio (1863-1938) Escritor italiano.\",\n",
       "  'SENTIMIENTOS / AMOR / PASIÓN'],\n",
       " ['Hay mucha gente que no cree en nada, pero que tiene miedo de todo.',\n",
       "  'Friedrich Hebbel (1813-1863) Poeta y dramaturgo alemán.',\n",
       "  'NATURALEZA / SER HUMANO / CREER'],\n",
       " ['Si queremos que todo siga como está, es necesario que todo cambie.',\n",
       "  'Giuseppe Tomasi di Lampedusa (1896-1957) Escritor italiano.',\n",
       "  'MISCELÁNEA / CAMBIO'],\n",
       " ...]"
      ]
     },
     "execution_count": 52,
     "metadata": {},
     "output_type": "execute_result"
    }
   ],
   "source": [
    "frases"
   ]
  },
  {
   "cell_type": "code",
   "execution_count": 53,
   "id": "0adaa977",
   "metadata": {},
   "outputs": [
    {
     "data": {
      "text/plain": [
       "10346"
      ]
     },
     "execution_count": 53,
     "metadata": {},
     "output_type": "execute_result"
    }
   ],
   "source": [
    "len(frases)"
   ]
  },
  {
   "cell_type": "code",
   "execution_count": 57,
   "id": "23659769",
   "metadata": {},
   "outputs": [],
   "source": [
    "df_frases = pd.DataFrame(frases, columns = ['Frase', 'Autor', 'Categoría', 'unknown', 'unknown', 'unknown', 'unknown', 'unknown'])"
   ]
  },
  {
   "cell_type": "code",
   "execution_count": 58,
   "id": "3645a6e5",
   "metadata": {},
   "outputs": [],
   "source": [
    "v1 = df_frases.to_csv(r'C:\\Users\\jvaym\\Desktop\\IRONHACK\\Semana4\\frases.csv', encoding='utf-8', index=False)"
   ]
  },
  {
   "cell_type": "code",
   "execution_count": 60,
   "id": "52744332",
   "metadata": {},
   "outputs": [
    {
     "data": {
      "text/plain": [
       "Frase            0\n",
       "Autor            0\n",
       "Categoría        2\n",
       "unknown      10227\n",
       "unknown      10287\n",
       "unknown      10316\n",
       "unknown      10338\n",
       "unknown      10345\n",
       "dtype: int64"
      ]
     },
     "execution_count": 60,
     "metadata": {},
     "output_type": "execute_result"
    }
   ],
   "source": [
    "df_frases.isna().sum()"
   ]
  },
  {
   "cell_type": "code",
   "execution_count": 70,
   "id": "838a194c",
   "metadata": {},
   "outputs": [
    {
     "ename": "TypeError",
     "evalue": "'Index' object is not callable",
     "output_type": "error",
     "traceback": [
      "\u001b[1;31m---------------------------------------------------------------------------\u001b[0m",
      "\u001b[1;31mTypeError\u001b[0m                                 Traceback (most recent call last)",
      "\u001b[1;32m~\\AppData\\Local\\Temp/ipykernel_60244/1663538712.py\u001b[0m in \u001b[0;36m<module>\u001b[1;34m\u001b[0m\n\u001b[1;32m----> 1\u001b[1;33m \u001b[0mdf_frases\u001b[0m\u001b[1;33m.\u001b[0m\u001b[0mdrop\u001b[0m\u001b[1;33m(\u001b[0m\u001b[0mdf_frases\u001b[0m\u001b[1;33m.\u001b[0m\u001b[0mcolumns\u001b[0m\u001b[1;33m(\u001b[0m\u001b[1;33m[\u001b[0m\u001b[1;36m3\u001b[0m\u001b[1;33m,\u001b[0m \u001b[1;36m4\u001b[0m\u001b[1;33m,\u001b[0m \u001b[1;36m5\u001b[0m\u001b[1;33m,\u001b[0m \u001b[1;36m6\u001b[0m\u001b[1;33m,\u001b[0m \u001b[1;36m7\u001b[0m\u001b[1;33m]\u001b[0m\u001b[1;33m)\u001b[0m\u001b[1;33m,\u001b[0m \u001b[0maxis\u001b[0m \u001b[1;33m=\u001b[0m \u001b[1;36m1\u001b[0m\u001b[1;33m)\u001b[0m\u001b[1;33m\u001b[0m\u001b[1;33m\u001b[0m\u001b[0m\n\u001b[0m",
      "\u001b[1;31mTypeError\u001b[0m: 'Index' object is not callable"
     ]
    }
   ],
   "source": [
    "df_frases.drop(df_frases.columns([3, 4, 5, 6, 7]), axis = 1, inplace = True)"
   ]
  },
  {
   "cell_type": "code",
   "execution_count": 72,
   "id": "b7750f56",
   "metadata": {},
   "outputs": [
    {
     "data": {
      "text/plain": [
       "'unknown'"
      ]
     },
     "execution_count": 72,
     "metadata": {},
     "output_type": "execute_result"
    }
   ],
   "source": [
    "df_frases.columns[3]"
   ]
  },
  {
   "cell_type": "code",
   "execution_count": 81,
   "id": "d5c79d8f",
   "metadata": {},
   "outputs": [],
   "source": [
    "for t, u in enumerate(df_frases.columns):\n",
    "    if t >= 3:\n",
    "        df_frases.drop(df_frases.columns[t], axis = 1, inplace = True)\n",
    "        \n",
    "    #df_frases.drop(df_frases.columns(), axis = 1)"
   ]
  },
  {
   "cell_type": "code",
   "execution_count": 82,
   "id": "10e47f50",
   "metadata": {},
   "outputs": [
    {
     "data": {
      "text/plain": [
       "(10346, 3)"
      ]
     },
     "execution_count": 82,
     "metadata": {},
     "output_type": "execute_result"
    }
   ],
   "source": [
    "df_frases.shape"
   ]
  },
  {
   "cell_type": "code",
   "execution_count": 83,
   "id": "6a909a36",
   "metadata": {},
   "outputs": [],
   "source": [
    "v2 = df_frases.to_csv(r'C:\\Users\\jvaym\\Desktop\\IRONHACK\\Semana4\\frases_v2.csv', encoding='utf-8', index=False)"
   ]
  },
  {
   "cell_type": "code",
   "execution_count": 95,
   "id": "98a36dcb",
   "metadata": {},
   "outputs": [],
   "source": [
    "df_frases['Categoría'].dropna( axis = 0, inplace = True)"
   ]
  },
  {
   "cell_type": "code",
   "execution_count": 97,
   "id": "fcd913da",
   "metadata": {},
   "outputs": [],
   "source": [
    "df_frases.dropna(inplace = True)"
   ]
  },
  {
   "cell_type": "code",
   "execution_count": 99,
   "id": "6e7d4126",
   "metadata": {},
   "outputs": [
    {
     "data": {
      "text/plain": [
       "(10344, 3)"
      ]
     },
     "execution_count": 99,
     "metadata": {},
     "output_type": "execute_result"
    }
   ],
   "source": [
    "df_frases.shape"
   ]
  },
  {
   "cell_type": "code",
   "execution_count": 106,
   "id": "9ea529d6",
   "metadata": {},
   "outputs": [],
   "source": [
    "for i, u in enumerate(df_frases['Categoría']):\n",
    "    if u != u.upper():\n",
    "        df_frases.drop(i,axis=0, inplace = True)\n",
    "        \n",
    "        "
   ]
  },
  {
   "cell_type": "code",
   "execution_count": 110,
   "id": "03ec0f30",
   "metadata": {},
   "outputs": [
    {
     "data": {
      "text/plain": [
       "(10225, 3)"
      ]
     },
     "execution_count": 110,
     "metadata": {},
     "output_type": "execute_result"
    }
   ],
   "source": [
    "df_frases.shape"
   ]
  },
  {
   "cell_type": "code",
   "execution_count": 105,
   "id": "1d648cee",
   "metadata": {},
   "outputs": [
    {
     "data": {
      "text/html": [
       "<div>\n",
       "<style scoped>\n",
       "    .dataframe tbody tr th:only-of-type {\n",
       "        vertical-align: middle;\n",
       "    }\n",
       "\n",
       "    .dataframe tbody tr th {\n",
       "        vertical-align: top;\n",
       "    }\n",
       "\n",
       "    .dataframe thead th {\n",
       "        text-align: right;\n",
       "    }\n",
       "</style>\n",
       "<table border=\"1\" class=\"dataframe\">\n",
       "  <thead>\n",
       "    <tr style=\"text-align: right;\">\n",
       "      <th></th>\n",
       "      <th>Frase</th>\n",
       "      <th>Autor</th>\n",
       "      <th>Categoría</th>\n",
       "    </tr>\n",
       "  </thead>\n",
       "  <tbody>\n",
       "    <tr>\n",
       "      <th>0</th>\n",
       "      <td>Un amigo es uno que lo sabe todo de ti y a pes...</td>\n",
       "      <td>Elbert Hubbard (1856-1915) Ensayista estadouni...</td>\n",
       "      <td>SENTIMIENTOS / AMISTAD</td>\n",
       "    </tr>\n",
       "    <tr>\n",
       "      <th>2</th>\n",
       "      <td>La amistad es más difícil y más rara que el am...</td>\n",
       "      <td>Alberto Moravia (1907-1990) Alberto Pincherle....</td>\n",
       "      <td>SENTIMIENTOS / AMISTAD</td>\n",
       "    </tr>\n",
       "    <tr>\n",
       "      <th>3</th>\n",
       "      <td>Ama hasta que te duela. Si te duele es buena s...</td>\n",
       "      <td>Madre Teresa de Calcuta (1910-1997) Misionera ...</td>\n",
       "      <td>SENTIMIENTOS / AMOR / AMAR</td>\n",
       "    </tr>\n",
       "    <tr>\n",
       "      <th>4</th>\n",
       "      <td>Un hermano puede no ser un amigo, pero un amig...</td>\n",
       "      <td>Demetrio de Falero (350 AC-280 AC) Orador, fil...</td>\n",
       "      <td>SENTIMIENTOS / AMISTAD</td>\n",
       "    </tr>\n",
       "    <tr>\n",
       "      <th>5</th>\n",
       "      <td>Te amo para amarte y no para ser amado, puesto...</td>\n",
       "      <td>George Sand (1804-1876) Escritora francesa.</td>\n",
       "      <td>SENTIMIENTOS / AMOR / AMAR</td>\n",
       "    </tr>\n",
       "    <tr>\n",
       "      <th>...</th>\n",
       "      <td>...</td>\n",
       "      <td>...</td>\n",
       "      <td>...</td>\n",
       "    </tr>\n",
       "    <tr>\n",
       "      <th>10341</th>\n",
       "      <td>No temas ser excéntrico en la opinión, pues to...</td>\n",
       "      <td>Bertrand Russell (1872-1970) Filósofo, matemát...</td>\n",
       "      <td>PENSAMIENTO Y RAZÓN / OPINIÓN</td>\n",
       "    </tr>\n",
       "    <tr>\n",
       "      <th>10342</th>\n",
       "      <td>La felicidad y la desdicha son, ante todo, cue...</td>\n",
       "      <td>Simone de Beauvoir (1908-1986) Novelista e int...</td>\n",
       "      <td>SENTIMIENTOS / FELICIDAD</td>\n",
       "    </tr>\n",
       "    <tr>\n",
       "      <th>10343</th>\n",
       "      <td>La felicidad no es un bien que puede atesorars...</td>\n",
       "      <td>Dame Daphne du Maurier (1907-1989) Novelista y...</td>\n",
       "      <td>SENTIMIENTOS / FELICIDAD</td>\n",
       "    </tr>\n",
       "    <tr>\n",
       "      <th>10344</th>\n",
       "      <td>Toda vida humana tiene algo único. Algo que un...</td>\n",
       "      <td>Sándor Márai (1900-1989) Escritor húngaro.</td>\n",
       "      <td>NATURALEZA / VIDA</td>\n",
       "    </tr>\n",
       "    <tr>\n",
       "      <th>10345</th>\n",
       "      <td>No es suficiente conocer la verdad, también es...</td>\n",
       "      <td>Simone de Beauvoir (1908-1986) Novelista e int...</td>\n",
       "      <td>PENSAMIENTO Y RAZÓN / VERDAD</td>\n",
       "    </tr>\n",
       "  </tbody>\n",
       "</table>\n",
       "<p>10343 rows × 3 columns</p>\n",
       "</div>"
      ],
      "text/plain": [
       "                                                   Frase  \\\n",
       "0      Un amigo es uno que lo sabe todo de ti y a pes...   \n",
       "2      La amistad es más difícil y más rara que el am...   \n",
       "3      Ama hasta que te duela. Si te duele es buena s...   \n",
       "4      Un hermano puede no ser un amigo, pero un amig...   \n",
       "5      Te amo para amarte y no para ser amado, puesto...   \n",
       "...                                                  ...   \n",
       "10341  No temas ser excéntrico en la opinión, pues to...   \n",
       "10342  La felicidad y la desdicha son, ante todo, cue...   \n",
       "10343  La felicidad no es un bien que puede atesorars...   \n",
       "10344  Toda vida humana tiene algo único. Algo que un...   \n",
       "10345  No es suficiente conocer la verdad, también es...   \n",
       "\n",
       "                                                   Autor  \\\n",
       "0      Elbert Hubbard (1856-1915) Ensayista estadouni...   \n",
       "2      Alberto Moravia (1907-1990) Alberto Pincherle....   \n",
       "3      Madre Teresa de Calcuta (1910-1997) Misionera ...   \n",
       "4      Demetrio de Falero (350 AC-280 AC) Orador, fil...   \n",
       "5            George Sand (1804-1876) Escritora francesa.   \n",
       "...                                                  ...   \n",
       "10341  Bertrand Russell (1872-1970) Filósofo, matemát...   \n",
       "10342  Simone de Beauvoir (1908-1986) Novelista e int...   \n",
       "10343  Dame Daphne du Maurier (1907-1989) Novelista y...   \n",
       "10344         Sándor Márai (1900-1989) Escritor húngaro.   \n",
       "10345  Simone de Beauvoir (1908-1986) Novelista e int...   \n",
       "\n",
       "                           Categoría  \n",
       "0             SENTIMIENTOS / AMISTAD  \n",
       "2             SENTIMIENTOS / AMISTAD  \n",
       "3         SENTIMIENTOS / AMOR / AMAR  \n",
       "4             SENTIMIENTOS / AMISTAD  \n",
       "5         SENTIMIENTOS / AMOR / AMAR  \n",
       "...                              ...  \n",
       "10341  PENSAMIENTO Y RAZÓN / OPINIÓN  \n",
       "10342       SENTIMIENTOS / FELICIDAD  \n",
       "10343       SENTIMIENTOS / FELICIDAD  \n",
       "10344              NATURALEZA / VIDA  \n",
       "10345   PENSAMIENTO Y RAZÓN / VERDAD  \n",
       "\n",
       "[10343 rows x 3 columns]"
      ]
     },
     "execution_count": 105,
     "metadata": {},
     "output_type": "execute_result"
    }
   ],
   "source": [
    "df_frases.drop(1,axis=0)"
   ]
  },
  {
   "cell_type": "code",
   "execution_count": 111,
   "id": "9359a9bf",
   "metadata": {},
   "outputs": [
    {
     "data": {
      "text/html": [
       "<div>\n",
       "<style scoped>\n",
       "    .dataframe tbody tr th:only-of-type {\n",
       "        vertical-align: middle;\n",
       "    }\n",
       "\n",
       "    .dataframe tbody tr th {\n",
       "        vertical-align: top;\n",
       "    }\n",
       "\n",
       "    .dataframe thead th {\n",
       "        text-align: right;\n",
       "    }\n",
       "</style>\n",
       "<table border=\"1\" class=\"dataframe\">\n",
       "  <thead>\n",
       "    <tr style=\"text-align: right;\">\n",
       "      <th></th>\n",
       "      <th>index</th>\n",
       "      <th>Frase</th>\n",
       "      <th>Autor</th>\n",
       "      <th>Categoría</th>\n",
       "    </tr>\n",
       "  </thead>\n",
       "  <tbody>\n",
       "    <tr>\n",
       "      <th>0</th>\n",
       "      <td>0</td>\n",
       "      <td>Un amigo es uno que lo sabe todo de ti y a pes...</td>\n",
       "      <td>Elbert Hubbard (1856-1915) Ensayista estadouni...</td>\n",
       "      <td>SENTIMIENTOS / AMISTAD</td>\n",
       "    </tr>\n",
       "    <tr>\n",
       "      <th>1</th>\n",
       "      <td>1</td>\n",
       "      <td>Si sientes que todo perdió su sentido, siempre...</td>\n",
       "      <td>Emerson (1803-1882) Poeta y pensador estadouni...</td>\n",
       "      <td>SENTIMIENTOS / AMISTAD / AMIGOS</td>\n",
       "    </tr>\n",
       "    <tr>\n",
       "      <th>2</th>\n",
       "      <td>2</td>\n",
       "      <td>La amistad es más difícil y más rara que el am...</td>\n",
       "      <td>Alberto Moravia (1907-1990) Alberto Pincherle....</td>\n",
       "      <td>SENTIMIENTOS / AMISTAD</td>\n",
       "    </tr>\n",
       "    <tr>\n",
       "      <th>3</th>\n",
       "      <td>3</td>\n",
       "      <td>Ama hasta que te duela. Si te duele es buena s...</td>\n",
       "      <td>Madre Teresa de Calcuta (1910-1997) Misionera ...</td>\n",
       "      <td>SENTIMIENTOS / AMOR / AMAR</td>\n",
       "    </tr>\n",
       "    <tr>\n",
       "      <th>4</th>\n",
       "      <td>4</td>\n",
       "      <td>Un hermano puede no ser un amigo, pero un amig...</td>\n",
       "      <td>Demetrio de Falero (350 AC-280 AC) Orador, fil...</td>\n",
       "      <td>SENTIMIENTOS / AMISTAD</td>\n",
       "    </tr>\n",
       "    <tr>\n",
       "      <th>...</th>\n",
       "      <td>...</td>\n",
       "      <td>...</td>\n",
       "      <td>...</td>\n",
       "      <td>...</td>\n",
       "    </tr>\n",
       "    <tr>\n",
       "      <th>10220</th>\n",
       "      <td>10341</td>\n",
       "      <td>No temas ser excéntrico en la opinión, pues to...</td>\n",
       "      <td>Bertrand Russell (1872-1970) Filósofo, matemát...</td>\n",
       "      <td>PENSAMIENTO Y RAZÓN / OPINIÓN</td>\n",
       "    </tr>\n",
       "    <tr>\n",
       "      <th>10221</th>\n",
       "      <td>10342</td>\n",
       "      <td>La felicidad y la desdicha son, ante todo, cue...</td>\n",
       "      <td>Simone de Beauvoir (1908-1986) Novelista e int...</td>\n",
       "      <td>SENTIMIENTOS / FELICIDAD</td>\n",
       "    </tr>\n",
       "    <tr>\n",
       "      <th>10222</th>\n",
       "      <td>10343</td>\n",
       "      <td>La felicidad no es un bien que puede atesorars...</td>\n",
       "      <td>Dame Daphne du Maurier (1907-1989) Novelista y...</td>\n",
       "      <td>SENTIMIENTOS / FELICIDAD</td>\n",
       "    </tr>\n",
       "    <tr>\n",
       "      <th>10223</th>\n",
       "      <td>10344</td>\n",
       "      <td>Toda vida humana tiene algo único. Algo que un...</td>\n",
       "      <td>Sándor Márai (1900-1989) Escritor húngaro.</td>\n",
       "      <td>NATURALEZA / VIDA</td>\n",
       "    </tr>\n",
       "    <tr>\n",
       "      <th>10224</th>\n",
       "      <td>10345</td>\n",
       "      <td>No es suficiente conocer la verdad, también es...</td>\n",
       "      <td>Simone de Beauvoir (1908-1986) Novelista e int...</td>\n",
       "      <td>PENSAMIENTO Y RAZÓN / VERDAD</td>\n",
       "    </tr>\n",
       "  </tbody>\n",
       "</table>\n",
       "<p>10225 rows × 4 columns</p>\n",
       "</div>"
      ],
      "text/plain": [
       "       index                                              Frase  \\\n",
       "0          0  Un amigo es uno que lo sabe todo de ti y a pes...   \n",
       "1          1  Si sientes que todo perdió su sentido, siempre...   \n",
       "2          2  La amistad es más difícil y más rara que el am...   \n",
       "3          3  Ama hasta que te duela. Si te duele es buena s...   \n",
       "4          4  Un hermano puede no ser un amigo, pero un amig...   \n",
       "...      ...                                                ...   \n",
       "10220  10341  No temas ser excéntrico en la opinión, pues to...   \n",
       "10221  10342  La felicidad y la desdicha son, ante todo, cue...   \n",
       "10222  10343  La felicidad no es un bien que puede atesorars...   \n",
       "10223  10344  Toda vida humana tiene algo único. Algo que un...   \n",
       "10224  10345  No es suficiente conocer la verdad, también es...   \n",
       "\n",
       "                                                   Autor  \\\n",
       "0      Elbert Hubbard (1856-1915) Ensayista estadouni...   \n",
       "1      Emerson (1803-1882) Poeta y pensador estadouni...   \n",
       "2      Alberto Moravia (1907-1990) Alberto Pincherle....   \n",
       "3      Madre Teresa de Calcuta (1910-1997) Misionera ...   \n",
       "4      Demetrio de Falero (350 AC-280 AC) Orador, fil...   \n",
       "...                                                  ...   \n",
       "10220  Bertrand Russell (1872-1970) Filósofo, matemát...   \n",
       "10221  Simone de Beauvoir (1908-1986) Novelista e int...   \n",
       "10222  Dame Daphne du Maurier (1907-1989) Novelista y...   \n",
       "10223         Sándor Márai (1900-1989) Escritor húngaro.   \n",
       "10224  Simone de Beauvoir (1908-1986) Novelista e int...   \n",
       "\n",
       "                             Categoría  \n",
       "0               SENTIMIENTOS / AMISTAD  \n",
       "1      SENTIMIENTOS / AMISTAD / AMIGOS  \n",
       "2               SENTIMIENTOS / AMISTAD  \n",
       "3           SENTIMIENTOS / AMOR / AMAR  \n",
       "4               SENTIMIENTOS / AMISTAD  \n",
       "...                                ...  \n",
       "10220    PENSAMIENTO Y RAZÓN / OPINIÓN  \n",
       "10221         SENTIMIENTOS / FELICIDAD  \n",
       "10222         SENTIMIENTOS / FELICIDAD  \n",
       "10223                NATURALEZA / VIDA  \n",
       "10224     PENSAMIENTO Y RAZÓN / VERDAD  \n",
       "\n",
       "[10225 rows x 4 columns]"
      ]
     },
     "execution_count": 111,
     "metadata": {},
     "output_type": "execute_result"
    }
   ],
   "source": [
    "df_frases.reset_index()"
   ]
  },
  {
   "cell_type": "code",
   "execution_count": 112,
   "id": "4519d07c",
   "metadata": {},
   "outputs": [],
   "source": [
    "v3 = df_frases.to_csv(r'C:\\Users\\jvaym\\Desktop\\IRONHACK\\Semana4\\frases_v3.csv', encoding='utf-8', index=False)"
   ]
  },
  {
   "cell_type": "code",
   "execution_count": 118,
   "id": "ca02ce2f",
   "metadata": {},
   "outputs": [],
   "source": [
    "new_columns = []\n",
    "for e in df_frases['Categoría']:\n",
    "    new_columns.append(e.split(' / '))"
   ]
  },
  {
   "cell_type": "code",
   "execution_count": 116,
   "id": "1a13305b",
   "metadata": {},
   "outputs": [
    {
     "data": {
      "text/plain": [
       "['SENTIMIENTOS', 'AMISTAD']"
      ]
     },
     "execution_count": 116,
     "metadata": {},
     "output_type": "execute_result"
    }
   ],
   "source": [
    "separador = ' / '\n",
    "df_frases['Categoría'][0].split(separador)"
   ]
  },
  {
   "cell_type": "code",
   "execution_count": 119,
   "id": "4d3ec64d",
   "metadata": {},
   "outputs": [
    {
     "data": {
      "text/plain": [
       "[['SENTIMIENTOS', 'AMISTAD'],\n",
       " ['SENTIMIENTOS', 'AMISTAD', 'AMIGOS'],\n",
       " ['SENTIMIENTOS', 'AMISTAD'],\n",
       " ['SENTIMIENTOS', 'AMOR', 'AMAR'],\n",
       " ['SENTIMIENTOS', 'AMISTAD'],\n",
       " ['SENTIMIENTOS', 'AMOR', 'AMAR'],\n",
       " ['SENTIMIENTOS', 'AMOR', 'BESOS'],\n",
       " ['SENTIMIENTOS', 'AMOR', 'BESOS'],\n",
       " ['SENTIMIENTOS', 'AMOR', 'CORAZÓN'],\n",
       " ['SENTIMIENTOS', 'AMISTAD'],\n",
       " ['SENTIMIENTOS', 'AMOR'],\n",
       " ['SENTIMIENTOS', 'AMISTAD'],\n",
       " ['SENTIMIENTOS', 'AMOR'],\n",
       " ['SENTIMIENTOS', 'ESPERANZA'],\n",
       " ['SENTIMIENTOS', 'AMOR'],\n",
       " ['SENTIMIENTOS', 'AMISTAD', 'AMIGOS'],\n",
       " ['PENSAMIENTO Y RAZÓN', 'SUEÑOS'],\n",
       " ['SENTIMIENTOS', 'AMOR', 'AMAR'],\n",
       " ['TIEMPO', 'PRESENTE'],\n",
       " ['SENTIMIENTOS', 'AMOR', 'BESOS'],\n",
       " ['SENTIMIENTOS', 'AMOR', 'AMAR'],\n",
       " ['SENTIMIENTOS', 'AMISTAD'],\n",
       " ['SENTIMIENTOS', 'AMISTAD'],\n",
       " ['SENTIMIENTOS', 'AMISTAD'],\n",
       " ['NATURALEZA', 'VIDA'],\n",
       " ['SENTIMIENTOS', 'AMOR', 'AMAR'],\n",
       " ['SENTIMIENTOS', 'AMOR', 'BESOS'],\n",
       " ['SENTIMIENTOS', 'AMOR', 'CORAZÓN'],\n",
       " ['SENTIMIENTOS', 'AMOR', 'AMAR'],\n",
       " ['SENTIMIENTOS', 'AMOR', 'AMAR'],\n",
       " ['PENSAMIENTO Y RAZÓN', 'SUEÑOS'],\n",
       " ['SENTIMIENTOS', 'AMOR', 'AMAR'],\n",
       " ['SENTIMIENTOS', 'AMOR', 'AMANTES'],\n",
       " ['SENTIMIENTOS', 'FELICIDAD'],\n",
       " ['DEFECTOS', 'IGNORANCIA'],\n",
       " ['SENTIMIENTOS', 'AMOR', 'AMAR'],\n",
       " ['SENTIMIENTOS', 'AMOR'],\n",
       " ['SENTIMIENTOS', 'AMISTAD', 'AMIGOS'],\n",
       " ['SENTIMIENTOS', 'FELICIDAD'],\n",
       " ['SENTIMIENTOS', 'AMOR', 'CARTAS DE AMOR'],\n",
       " ['SENTIMIENTOS', 'AMOR', 'CORAZÓN'],\n",
       " ['NATURALEZA', 'SER HUMANO', 'HABLAR', 'HABLAR MAL'],\n",
       " ['NATURALEZA', 'SER HUMANO', 'HABLAR'],\n",
       " ['SENTIMIENTOS', 'AMOR', 'BESOS'],\n",
       " ['SENTIMIENTOS', 'AMOR', 'AMANTES'],\n",
       " ['SENTIMIENTOS', 'AMOR'],\n",
       " ['MISCELÁNEA', 'ENGAÑO'],\n",
       " ['ARTE', 'LITERATURA', 'LIBROS'],\n",
       " ['SENTIMIENTOS', 'AMOR', 'BESOS'],\n",
       " ['SENTIMIENTOS', 'AMISTAD'],\n",
       " ['TIEMPO', 'FUTURO'],\n",
       " ['SENTIMIENTOS', 'FELICIDAD'],\n",
       " ['CUALIDADES', 'SABIDURÍA', 'SABIO'],\n",
       " ['SENTIMIENTOS', 'AMOR', 'CORAZÓN'],\n",
       " ['SENTIMIENTOS', 'ESPERANZA'],\n",
       " ['CUALIDADES', 'COMPRENSIÓN'],\n",
       " ['SENTIMIENTOS', 'QUERER'],\n",
       " ['CUALIDADES', 'PACIENCIA'],\n",
       " ['SENTIMIENTOS', 'AMOR', 'AMAR'],\n",
       " ['CUALIDADES', 'PERSEVERANCIA'],\n",
       " ['SENTIMIENTOS', 'MIEDO'],\n",
       " ['SENTIMIENTOS', 'CELOS'],\n",
       " ['SENTIMIENTOS', 'AMOR'],\n",
       " ['SENTIMIENTOS', 'AMOR', 'PRIMER AMOR'],\n",
       " ['SENTIMIENTOS', 'AMOR'],\n",
       " ['CUALIDADES', 'GRANDEZA'],\n",
       " ['SENTIMIENTOS', 'AMOR', 'AMAR'],\n",
       " ['SENTIMIENTOS', 'AMOR', 'ENAMORARSE'],\n",
       " ['SENTIMIENTOS', 'AMOR'],\n",
       " ['SENTIMIENTOS', 'AMISTAD', 'AMIGOS'],\n",
       " ['SOCIEDAD', 'EDUCACIÓN', 'ESTUDIOS'],\n",
       " ['MISCELÁNEA', 'DESTINO'],\n",
       " ['SENTIMIENTOS', 'AMOR'],\n",
       " ['SENTIMIENTOS', 'AMISTAD', 'AMIGOS'],\n",
       " ['MISCELÁNEA', 'RESULTADOS'],\n",
       " ['SENTIMIENTOS', 'AMISTAD', 'AMIGOS'],\n",
       " ['SENTIMIENTOS', 'AMISTAD', 'AMIGOS'],\n",
       " ['SENTIMIENTOS', 'AMOR', 'INFIDELIDAD'],\n",
       " ['SENTIMIENTOS', 'AMOR', 'CORAZÓN'],\n",
       " ['NATURALEZA', 'VIDA'],\n",
       " ['TIEMPO', 'PASADO'],\n",
       " ['SENTIMIENTOS', 'AMOR', 'CORAZÓN'],\n",
       " ['PENSAMIENTO Y RAZÓN', 'MENTIRAS'],\n",
       " ['SENTIMIENTOS', 'CELOS'],\n",
       " ['SENTIMIENTOS', 'AMISTAD', 'AMIGOS'],\n",
       " ['SENTIMIENTOS', 'AMISTAD'],\n",
       " ['CUALIDADES', 'SABIDURÍA'],\n",
       " ['NATURALEZA', 'VIDA'],\n",
       " ['PENSAMIENTO Y RAZÓN', 'MEMORIA'],\n",
       " ['CUALIDADES', 'EXIGENCIA'],\n",
       " ['DEFECTOS', 'ESTUPIDEZ'],\n",
       " ['SENTIMIENTOS', 'SOLEDAD'],\n",
       " ['SOCIEDAD', 'MATRIMONIO'],\n",
       " ['SENTIMIENTOS', 'AMOR', 'INFIDELIDAD'],\n",
       " ['PENSAMIENTO Y RAZÓN', 'VERDAD'],\n",
       " ['SENTIMIENTOS', 'AMOR', 'BESOS'],\n",
       " ['MISCELÁNEA', 'CONSECUENCIAS'],\n",
       " ['SENTIMIENTOS', 'FELICIDAD'],\n",
       " ['NATURALEZA', 'VIDA'],\n",
       " ['CUALIDADES', 'SABIDURÍA'],\n",
       " ['NATURALEZA', 'VIDA'],\n",
       " ['PENSAMIENTO Y RAZÓN', 'DECISIONES'],\n",
       " ['SENTIMIENTOS', 'AMOR', 'AMANTES'],\n",
       " ['NATURALEZA', 'VIDA'],\n",
       " ['SENTIMIENTOS', 'AMOR', 'AMAR'],\n",
       " ['SOCIEDAD', 'LIBERTAD'],\n",
       " ['CUALIDADES', 'SABIDURÍA'],\n",
       " ['SENTIMIENTOS', 'AMOR', 'AMAR'],\n",
       " ['CUALIDADES', 'MADUREZ'],\n",
       " ['NATURALEZA', 'SER HUMANO', 'HACER'],\n",
       " ['SENTIMIENTOS', 'ESPERANZA'],\n",
       " ['NATURALEZA', 'SER HUMANO', 'PERDONAR'],\n",
       " ['SENTIMIENTOS', 'AMOR', 'BESOS'],\n",
       " ['SENTIMIENTOS', 'AMOR'],\n",
       " ['SENTIMIENTOS', 'FELICIDAD'],\n",
       " ['SENTIMIENTOS', 'AMISTAD'],\n",
       " ['CUALIDADES', 'DISCRECIÓN'],\n",
       " ['MISCELÁNEA', 'AYUDAR'],\n",
       " ['PENSAMIENTO Y RAZÓN', 'PENSAMIENTO', 'PENSAR'],\n",
       " ['PENSAMIENTO Y RAZÓN', 'PENSAMIENTO', 'PENSAR'],\n",
       " ['CUALIDADES', 'PERSEVERANCIA'],\n",
       " ['SENTIMIENTOS', 'FELICIDAD'],\n",
       " ['NATURALEZA', 'VIDA'],\n",
       " ['SENTIMIENTOS', 'AMISTAD'],\n",
       " ['SENTIMIENTOS', 'AMOR', 'CORAZÓN'],\n",
       " ['SENTIMIENTOS', 'RISA'],\n",
       " ['NATURALEZA', 'VIDA'],\n",
       " ['MISCELÁNEA', 'LLORAR'],\n",
       " ['SENTIMIENTOS', 'AMOR', 'BESOS'],\n",
       " ['SOCIEDAD', 'MUJERES'],\n",
       " ['CUALIDADES', 'PRUDENCIA'],\n",
       " ['SENTIMIENTOS', 'AMOR', 'BESOS'],\n",
       " ['PENSAMIENTO Y RAZÓN', 'DESEO'],\n",
       " ['SENTIMIENTOS', 'FELICIDAD'],\n",
       " ['SENTIMIENTOS', 'FELICIDAD'],\n",
       " ['SENTIMIENTOS', 'AMOR', 'DESENGAÑOS AMOROSOS'],\n",
       " ['SENTIMIENTOS', 'NOSTALGIA'],\n",
       " ['SENTIMIENTOS', 'AMOR', 'CORAZÓN'],\n",
       " ['SENTIMIENTOS', 'ESPERANZA'],\n",
       " ['CUALIDADES', 'PUNTUALIDAD'],\n",
       " ['SENTIMIENTOS', 'AMOR', 'CORAZÓN'],\n",
       " ['SOCIEDAD', 'POLÍTICA'],\n",
       " ['SENTIMIENTOS', 'AMOR'],\n",
       " ['SENTIMIENTOS', 'AMOR', 'INFIDELIDAD'],\n",
       " ['CUALIDADES', 'BELLEZA'],\n",
       " ['SOCIEDAD', 'EDUCACIÓN', 'APRENDER'],\n",
       " ['CUALIDADES', 'ESFUERZO'],\n",
       " ['SENTIMIENTOS', 'FELICIDAD'],\n",
       " ['PENSAMIENTO Y RAZÓN', 'SUEÑOS'],\n",
       " ['SENTIMIENTOS', 'SOLEDAD'],\n",
       " ['CUALIDADES', 'SABIDURÍA'],\n",
       " ['TIEMPO'],\n",
       " ['MISCELÁNEA', 'ÉXITO'],\n",
       " ['MISCELÁNEA', 'ACCIÓN'],\n",
       " ['SENTIMIENTOS', 'VENGANZA'],\n",
       " ['CUALIDADES', 'VOLUNTAD'],\n",
       " ['CUALIDADES', 'REBELDÍA'],\n",
       " ['NATURALEZA', 'MUERTE'],\n",
       " ['SENTIMIENTOS', 'AMISTAD'],\n",
       " ['SENTIMIENTOS', 'AMOR', 'CORAZÓN'],\n",
       " ['SENTIMIENTOS', 'AMOR', 'PASIÓN'],\n",
       " ['MISCELÁNEA', 'CAMBIO'],\n",
       " ['MISCELÁNEA', 'OPOSICIÓN'],\n",
       " ['TIEMPO', 'JUVENTUD'],\n",
       " ['SENTIMIENTOS', 'AMOR', 'PASIÓN'],\n",
       " ['SENTIMIENTOS', 'AMOR', 'ENAMORARSE'],\n",
       " ['MISCELÁNEA', 'OLVIDAR'],\n",
       " ['SOCIEDAD', 'RELIGIÓN', 'DIOS'],\n",
       " ['CUALIDADES', 'SABIDURÍA'],\n",
       " ['SENTIMIENTOS', 'AMOR', 'AMAR'],\n",
       " ['SOCIEDAD', 'DINERO', 'POBREZA'],\n",
       " ['MISCELÁNEA', 'LUCHAR'],\n",
       " ['MISCELÁNEA', 'TONTERÍA'],\n",
       " ['NATURALEZA', 'VIDA'],\n",
       " ['SENTIMIENTOS', 'AMOR'],\n",
       " ['SENTIMIENTOS', 'FELICIDAD'],\n",
       " ['SENTIMIENTOS', 'AMOR', 'PRIMER AMOR'],\n",
       " ['SENTIMIENTOS', 'AMOR'],\n",
       " ['CUALIDADES', 'BELLEZA'],\n",
       " ['DEFECTOS', 'VICIOS'],\n",
       " ['SOCIEDAD', 'MUJERES'],\n",
       " ['SENTIMIENTOS', 'AMISTAD'],\n",
       " ['CUALIDADES', 'SABIDURÍA'],\n",
       " ['SENTIMIENTOS', 'SUFRIMIENTO'],\n",
       " ['CUALIDADES', 'BONDAD'],\n",
       " ['MISCELÁNEA', 'CAMBIO'],\n",
       " ['SENTIMIENTOS', 'AMOR'],\n",
       " ['SENTIMIENTOS', 'AMOR', 'ENAMORARSE'],\n",
       " ['SENTIMIENTOS', 'AMOR', 'PRIMER AMOR'],\n",
       " ['SENTIMIENTOS', 'AMOR', 'CORAZÓN'],\n",
       " ['SENTIMIENTOS', 'TRISTEZA'],\n",
       " ['ARTE', 'MÚSICA'],\n",
       " ['MISCELÁNEA', 'DIFICULTADES'],\n",
       " ['CUALIDADES', 'SABIDURÍA', 'SABER'],\n",
       " ['SENTIMIENTOS', 'AMISTAD', 'AMIGOS'],\n",
       " ['MISCELÁNEA', 'ÉXITO'],\n",
       " ['MISCELÁNEA', 'CAMBIO'],\n",
       " ['SOCIEDAD', 'DINERO', 'RIQUEZA'],\n",
       " ['SENTIMIENTOS', 'AMOR'],\n",
       " ['SENTIMIENTOS', 'AMISTAD', 'AMIGOS'],\n",
       " ['PENSAMIENTO Y RAZÓN', 'VERDAD'],\n",
       " ['NATURALEZA', 'VIDA'],\n",
       " ['SENTIMIENTOS', 'ODIO'],\n",
       " ['NATURALEZA', 'VIDA'],\n",
       " ['SENTIMIENTOS', 'AMOR'],\n",
       " ['SENTIMIENTOS', 'AMOR', 'ENAMORARSE'],\n",
       " ['PENSAMIENTO Y RAZÓN', 'SUEÑOS'],\n",
       " ['TIEMPO', 'FUTURO'],\n",
       " ['SOCIEDAD', 'DINERO'],\n",
       " ['SENTIMIENTOS', 'AMOR'],\n",
       " ['SENTIMIENTOS', 'FELICIDAD'],\n",
       " ['SENTIMIENTOS', 'AMOR'],\n",
       " ['SOCIEDAD', 'MUJERES'],\n",
       " ['SENTIMIENTOS', 'AMOR'],\n",
       " ['SENTIMIENTOS', 'AMOR'],\n",
       " ['MISCELÁNEA', 'PROBLEMAS'],\n",
       " ['CUALIDADES', 'BELLEZA'],\n",
       " ['TIEMPO', 'JUVENTUD'],\n",
       " ['MISCELÁNEA', 'ÉXITO'],\n",
       " ['SENTIMIENTOS', 'AMOR'],\n",
       " ['SENTIMIENTOS', 'AMOR', 'CORAZÓN'],\n",
       " ['SENTIMIENTOS', 'AMISTAD'],\n",
       " ['SENTIMIENTOS', 'FELICIDAD'],\n",
       " ['SENTIMIENTOS', 'AMISTAD'],\n",
       " ['SENTIMIENTOS', 'AMISTAD'],\n",
       " ['SENTIMIENTOS', 'CELOS'],\n",
       " ['PENSAMIENTO Y RAZÓN', 'DESEO'],\n",
       " ['SENTIMIENTOS', 'AFLICCIÓN'],\n",
       " ['MISCELÁNEA', 'CAMBIO'],\n",
       " ['SENTIMIENTOS', 'CONFIANZA'],\n",
       " ['DEFECTOS', 'VIOLENCIA'],\n",
       " ['NATURALEZA', 'VIDA'],\n",
       " ['DEFECTOS'],\n",
       " ['SENTIMIENTOS', 'AMOR', 'AMAR'],\n",
       " ['MISCELÁNEA', 'RIESGOS'],\n",
       " ['NATURALEZA', 'VIDA'],\n",
       " ['SENTIMIENTOS', 'FELICIDAD'],\n",
       " ['MISCELÁNEA', 'SIN CLASIFICAR'],\n",
       " ['SENTIMIENTOS', 'AMOR'],\n",
       " ['ARTE', 'LITERATURA', 'LIBROS'],\n",
       " ['SOCIEDAD', 'EDUCACIÓN'],\n",
       " ['SENTIMIENTOS', 'AMISTAD', 'AMIGOS'],\n",
       " ['NATURALEZA', 'SER HUMANO', 'HACER'],\n",
       " ['SENTIMIENTOS', 'AMISTAD', 'AMIGOS'],\n",
       " ['SENTIMIENTOS', 'AMOR', 'AMAR'],\n",
       " ['SENTIMIENTOS', 'AMISTAD'],\n",
       " ['NATURALEZA', 'SER HUMANO', 'CREER'],\n",
       " ['NATURALEZA', 'SER HUMANO', 'HACER'],\n",
       " ['SENTIMIENTOS', 'CONFIANZA'],\n",
       " ['DEFECTOS', 'INGRATITUD'],\n",
       " ['SOCIEDAD', 'VIAJES', 'VIAJAR'],\n",
       " ['SENTIMIENTOS', 'DOLOR'],\n",
       " ['PENSAMIENTO Y RAZÓN', 'SUEÑOS'],\n",
       " ['PENSAMIENTO Y RAZÓN', 'OPINIÓN'],\n",
       " ['SENTIMIENTOS', 'AMOR', 'AMAR'],\n",
       " ['NATURALEZA', 'MUERTE'],\n",
       " ['MISCELÁNEA', 'FANATISMOS'],\n",
       " ['SENTIMIENTOS', 'AMISTAD', 'AMIGOS'],\n",
       " ['SENTIMIENTOS', 'ESPERANZA'],\n",
       " ['SENTIMIENTOS', 'AMOR', 'ENAMORARSE'],\n",
       " ['SENTIMIENTOS', 'AMOR', 'ENAMORARSE'],\n",
       " ['SENTIMIENTOS', 'AMOR', 'ENAMORARSE'],\n",
       " ['MISCELÁNEA', 'PREOCUPACIONES'],\n",
       " ['MISCELÁNEA', 'UNIVERSO'],\n",
       " ['SOCIEDAD', 'MUJERES'],\n",
       " ['SENTIMIENTOS', 'PAZ INTERIOR'],\n",
       " ['SENTIMIENTOS', 'AMOR', 'AMAR'],\n",
       " ['SENTIMIENTOS', 'AMOR'],\n",
       " ['PENSAMIENTO Y RAZÓN', 'VERDAD'],\n",
       " ['SENTIMIENTOS', 'AMISTAD'],\n",
       " ['CUALIDADES', 'COMPRENSIÓN'],\n",
       " ['MISCELÁNEA', 'GENTE'],\n",
       " ['SENTIMIENTOS', 'AMISTAD'],\n",
       " ['ARTE'],\n",
       " ['SENTIMIENTOS', 'AMOR', 'PASIÓN'],\n",
       " ['NATURALEZA', 'SER HUMANO', 'PALABRAS'],\n",
       " ['SENTIMIENTOS', 'ALEGRÍA'],\n",
       " ['CUALIDADES', 'BELLEZA'],\n",
       " ['SENTIMIENTOS', 'AMISTAD'],\n",
       " ['SENTIMIENTOS', 'AMOR'],\n",
       " ['DEFECTOS', 'ESTUPIDEZ'],\n",
       " ['DEFECTOS', 'VICIOS'],\n",
       " ['ARTE', 'MÚSICA'],\n",
       " ['SENTIMIENTOS', 'AMOR'],\n",
       " ['CUALIDADES', 'SENCILLEZ'],\n",
       " ['PENSAMIENTO Y RAZÓN', 'IDEAS'],\n",
       " ['DEFECTOS', 'IGNORANCIA'],\n",
       " ['MISCELÁNEA', 'ENGAÑO'],\n",
       " ['MISCELÁNEA', 'SONRISA'],\n",
       " ['PENSAMIENTO Y RAZÓN', 'DESEO'],\n",
       " ['SENTIMIENTOS', 'AMOR', 'AMAR'],\n",
       " ['PENSAMIENTO Y RAZÓN', 'SUEÑOS'],\n",
       " ['SENTIMIENTOS', 'FELICIDAD', 'FELIZ'],\n",
       " ['TIEMPO', 'FUTURO'],\n",
       " ['CUALIDADES', 'SABIDURÍA'],\n",
       " ['PENSAMIENTO Y RAZÓN', 'PENSAMIENTO'],\n",
       " ['MISCELÁNEA', 'DESGRACIA'],\n",
       " ['SENTIMIENTOS', 'TRISTEZA'],\n",
       " ['NATURALEZA', 'VIDA'],\n",
       " ['MISCELÁNEA', 'RIESGOS'],\n",
       " ['MISCELÁNEA', 'LUCHAR'],\n",
       " ['MISCELÁNEA', 'ELOGIOS'],\n",
       " ['SOCIEDAD', 'LIBERTAD'],\n",
       " ['MISCELÁNEA', 'AVENTURA'],\n",
       " ['SENTIMIENTOS', 'AMOR'],\n",
       " ['ARTE', 'LITERATURA', 'BIBLIOTECAS'],\n",
       " ['MISCELÁNEA', 'SILENCIO'],\n",
       " ['SENTIMIENTOS', 'AMISTAD', 'AMIGOS'],\n",
       " ['NATURALEZA', 'VIDA', 'VIVIR'],\n",
       " ['SENTIMIENTOS', 'AMOR'],\n",
       " ['SENTIMIENTOS', 'AMOR', 'CORAZÓN'],\n",
       " ['PENSAMIENTO Y RAZÓN', 'MEMORIA'],\n",
       " ['SENTIMIENTOS', 'CONFIANZA'],\n",
       " ['SENTIMIENTOS', 'ESPERANZA'],\n",
       " ['SENTIMIENTOS', 'AMOR', 'BESOS'],\n",
       " ['PENSAMIENTO Y RAZÓN', 'IMAGINACIÓN'],\n",
       " ['PENSAMIENTO Y RAZÓN', 'DECISIONES'],\n",
       " ['SOCIEDAD', 'GUERRA'],\n",
       " ['DEFECTOS', 'VICIOS'],\n",
       " ['SOCIEDAD', 'MATRIMONIO'],\n",
       " ['NATURALEZA', 'SER HUMANO', 'CALLAR'],\n",
       " ['SOCIEDAD', 'LIBERTAD'],\n",
       " ['SOCIEDAD', 'MUJERES'],\n",
       " ['SENTIMIENTOS'],\n",
       " ['PENSAMIENTO Y RAZÓN', 'VERDAD'],\n",
       " ['MISCELÁNEA', 'ÉXITO'],\n",
       " ['ARTE', 'CINE'],\n",
       " ['SENTIMIENTOS', 'ARREPENTIMIENTO'],\n",
       " ['TIEMPO', 'FUTURO'],\n",
       " ['DEFECTOS', 'DEBILIDAD', 'DÉBIL'],\n",
       " ['MISCELÁNEA', 'MUNDO'],\n",
       " ['TIEMPO'],\n",
       " ['SENTIMIENTOS', 'AMISTAD', 'AMIGOS'],\n",
       " ['SENTIMIENTOS', 'AMOR', 'AMAR'],\n",
       " ['NATURALEZA', 'VIDA'],\n",
       " ['SENTIMIENTOS', 'AMOR'],\n",
       " ['MISCELÁNEA', 'LLORAR'],\n",
       " ['CUALIDADES', 'BONDAD'],\n",
       " ['CUALIDADES', 'OPTIMISMO'],\n",
       " ['SENTIMIENTOS', 'AMOR'],\n",
       " ['SENTIMIENTOS', 'AMOR'],\n",
       " ['CUALIDADES', 'BELLEZA'],\n",
       " ['CUALIDADES', 'MODERACIÓN'],\n",
       " ['PENSAMIENTO Y RAZÓN', 'DESEO'],\n",
       " ['NATURALEZA', 'SER HUMANO', 'PALABRAS'],\n",
       " ['SOCIEDAD', 'PAZ'],\n",
       " ['CUALIDADES', 'ORIGINALIDAD'],\n",
       " ['TIEMPO'],\n",
       " ['PENSAMIENTO Y RAZÓN', 'MEMORIA'],\n",
       " ['SOCIEDAD', 'VIAJES', 'VIAJAR'],\n",
       " ['MISCELÁNEA', 'CAMBIO'],\n",
       " ['CUALIDADES', 'CARÁCTER'],\n",
       " ['PENSAMIENTO Y RAZÓN', 'SUEÑOS'],\n",
       " ['SENTIMIENTOS', 'AMOR', 'PASIÓN'],\n",
       " ['MISCELÁNEA', 'EJEMPLOS'],\n",
       " ['CUALIDADES', 'SABIDURÍA'],\n",
       " ['MISCELÁNEA', 'FUERZAS'],\n",
       " ['SENTIMIENTOS', 'PAZ INTERIOR'],\n",
       " ['CUALIDADES', 'VIRTUD'],\n",
       " ['CUALIDADES', 'COMPRENSIÓN'],\n",
       " ['SENTIMIENTOS', 'AMOR', 'INFIDELIDAD'],\n",
       " ['MISCELÁNEA', 'RESULTADOS'],\n",
       " ['MISCELÁNEA', 'FORTUNA'],\n",
       " ['PENSAMIENTO Y RAZÓN', 'DECISIONES'],\n",
       " ['SOCIEDAD', 'NAVIDAD'],\n",
       " ['ARTE', 'LITERATURA', 'POESÍA'],\n",
       " ['SENTIMIENTOS', 'AMISTAD'],\n",
       " ['SENTIMIENTOS', 'AMISTAD', 'AMIGOS'],\n",
       " ['DEFECTOS', 'MALDAD'],\n",
       " ['SENTIMIENTOS', 'AMOR', 'PASIÓN'],\n",
       " ['SENTIMIENTOS', 'AMOR'],\n",
       " ['PENSAMIENTO Y RAZÓN', 'FILOSOFÍA', 'FILÓSOFO'],\n",
       " ['MISCELÁNEA', 'SIN CLASIFICAR'],\n",
       " ['MISCELÁNEA', 'FRACASO'],\n",
       " ['ARTE', 'MÚSICA'],\n",
       " ['CUALIDADES', 'EXPERIENCIA'],\n",
       " ['SENTIMIENTOS', 'AMOR', 'AMAR'],\n",
       " ['TIEMPO', 'FUTURO'],\n",
       " ['SENTIMIENTOS', 'AMOR', 'DESENGAÑOS AMOROSOS'],\n",
       " ['PENSAMIENTO Y RAZÓN', 'FILOSOFÍA', 'FILÓSOFO'],\n",
       " ['SENTIMIENTOS', 'AMOR', 'CORAZÓN'],\n",
       " ['MISCELÁNEA', 'SILENCIO'],\n",
       " ['DEFECTOS', 'IGNORANCIA'],\n",
       " ['SOCIEDAD', 'DINERO', 'RIQUEZA'],\n",
       " ['SENTIMIENTOS', 'AMOR'],\n",
       " ['SENTIMIENTOS', 'SUFRIMIENTO'],\n",
       " ['TIEMPO', 'INFANCIA'],\n",
       " ['SENTIMIENTOS', 'SOLEDAD'],\n",
       " ['SOCIEDAD', 'LIBERTAD'],\n",
       " ['SENTIMIENTOS', 'AMOR', 'CORAZÓN'],\n",
       " ['TIEMPO', 'JUVENTUD'],\n",
       " ['PENSAMIENTO Y RAZÓN', 'MENTIRAS'],\n",
       " ['MISCELÁNEA', 'DESTINO'],\n",
       " ['NATURALEZA', 'SER HUMANO', 'ELEGIR'],\n",
       " ['CUALIDADES', 'INTELIGENCIA'],\n",
       " ['SOCIEDAD', 'EDUCACIÓN', 'APRENDER'],\n",
       " ['MISCELÁNEA', 'CONVIVENCIA'],\n",
       " ['TIEMPO', 'JUVENTUD'],\n",
       " ['SENTIMIENTOS', 'AMOR'],\n",
       " ['SENTIMIENTOS', 'ESPERANZA'],\n",
       " ['MISCELÁNEA', 'ENGAÑO'],\n",
       " ['SENTIMIENTOS', 'AMOR', 'PASIÓN'],\n",
       " ['SENTIMIENTOS', 'AMOR'],\n",
       " ['NATURALEZA', 'SER HUMANO'],\n",
       " ['SENTIMIENTOS', 'AMOR', 'AMANTES'],\n",
       " ['PENSAMIENTO Y RAZÓN', 'VERDAD'],\n",
       " ['MISCELÁNEA', 'IMPOSIBLES'],\n",
       " ['SENTIMIENTOS', 'ESPERANZA'],\n",
       " ['MISCELÁNEA', 'ERRAR'],\n",
       " ['CUALIDADES', 'DISCRECIÓN'],\n",
       " ['TIEMPO', 'TARDANZA'],\n",
       " ['SENTIMIENTOS', 'CÓLERA'],\n",
       " ['MISCELÁNEA', 'CONSEJO'],\n",
       " ['MISCELÁNEA', 'PREGUNTAS'],\n",
       " ['ARTE', 'INSPIRACIÓN'],\n",
       " ['MISCELÁNEA', 'ACCIÓN'],\n",
       " ['MISCELÁNEA', 'PROBLEMAS'],\n",
       " ['NATURALEZA'],\n",
       " ['MISCELÁNEA', 'TRIUNFAR'],\n",
       " ['SOCIEDAD', 'LIBERTAD'],\n",
       " ['DEFECTOS', 'MALDAD'],\n",
       " ['SENTIMIENTOS', 'ARREPENTIMIENTO'],\n",
       " ['SOCIEDAD', 'EDUCACIÓN'],\n",
       " ['SOCIEDAD', 'PAZ'],\n",
       " ['SOCIEDAD', 'MUJERES'],\n",
       " ['SENTIMIENTOS', 'AMOR'],\n",
       " ['SENTIMIENTOS', 'CELOS'],\n",
       " ['PENSAMIENTO Y RAZÓN', 'SUEÑOS'],\n",
       " ['NATURALEZA', 'SER HUMANO', 'HACER'],\n",
       " ['CUALIDADES', 'SABIDURÍA', 'SABER'],\n",
       " ['CUALIDADES', 'AUTENTICIDAD'],\n",
       " ['NATURALEZA', 'SER HUMANO', 'PALABRAS'],\n",
       " ['NATURALEZA', 'SER HUMANO', 'SEXO'],\n",
       " ['NATURALEZA', 'ANIMALES', 'PERROS'],\n",
       " ['NATURALEZA', 'VIDA'],\n",
       " ['SENTIMIENTOS', 'AMISTAD'],\n",
       " ['SOCIEDAD', 'LIBERTAD DE EXPRESIÓN'],\n",
       " ['CUALIDADES', 'RESPONSABILIDAD'],\n",
       " ['MISCELÁNEA', 'DESCANSO'],\n",
       " ['SENTIMIENTOS', 'FELICIDAD'],\n",
       " ['SENTIMIENTOS', 'AMOR', 'INFIDELIDAD'],\n",
       " ['SENTIMIENTOS', 'ENVIDIA'],\n",
       " ['PENSAMIENTO Y RAZÓN', 'IDEAS'],\n",
       " ['PENSAMIENTO Y RAZÓN', 'SUEÑOS'],\n",
       " ['SENTIMIENTOS', 'TRISTEZA'],\n",
       " ['SOCIEDAD', 'TRABAJO'],\n",
       " ['SENTIMIENTOS', 'AMISTAD', 'AMIGOS'],\n",
       " ['CUALIDADES', 'SABIDURÍA'],\n",
       " ['SENTIMIENTOS'],\n",
       " ['TIEMPO', 'VEJEZ'],\n",
       " ['CUALIDADES', 'BONDAD'],\n",
       " ['CUALIDADES', 'VALOR'],\n",
       " ['PENSAMIENTO Y RAZÓN', 'DECISIONES'],\n",
       " ['SOCIEDAD', 'LIBERTAD'],\n",
       " ['ARTE', 'PINTURA'],\n",
       " ['DEFECTOS', 'EGOÍSMO'],\n",
       " ['MISCELÁNEA', 'ADVERSIDAD'],\n",
       " ['PENSAMIENTO Y RAZÓN', 'RAZÓN'],\n",
       " ['TIEMPO', 'INFANCIA'],\n",
       " ['SENTIMIENTOS', 'FELICIDAD'],\n",
       " ['SENTIMIENTOS', 'CÓLERA'],\n",
       " ['NATURALEZA', 'SER HUMANO', 'HACER'],\n",
       " ['NATURALEZA', 'SER HUMANO', 'ELEGIR'],\n",
       " ['MISCELÁNEA', 'DESGRACIA'],\n",
       " ['PENSAMIENTO Y RAZÓN', 'MENTIRAS'],\n",
       " ['SENTIMIENTOS', 'AMOR', 'CORAZÓN'],\n",
       " ['SOCIEDAD', 'MUJERES'],\n",
       " ['MISCELÁNEA', 'ACCIÓN'],\n",
       " ['CUALIDADES', 'OPTIMISMO'],\n",
       " ['PENSAMIENTO Y RAZÓN', 'DUDA'],\n",
       " ['DEFECTOS', 'IGNORANCIA'],\n",
       " ['SENTIMIENTOS', 'AMISTAD'],\n",
       " ['SENTIMIENTOS', 'MIEDO'],\n",
       " ['SENTIMIENTOS', 'AMOR', 'INFIDELIDAD'],\n",
       " ['CUALIDADES', 'SABIDURÍA'],\n",
       " ['SENTIMIENTOS', 'CONCORDIA'],\n",
       " ['PENSAMIENTO Y RAZÓN', 'DESEO'],\n",
       " ['SENTIMIENTOS', 'FELICIDAD'],\n",
       " ['MISCELÁNEA', 'JERARQUÍA'],\n",
       " ['NATURALEZA', 'SER HUMANO', 'SEXO'],\n",
       " ['SOCIEDAD', 'DINERO'],\n",
       " ['DEFECTOS', 'ESTUPIDEZ'],\n",
       " ['SENTIMIENTOS', 'QUERER'],\n",
       " ['NATURALEZA'],\n",
       " ['TIEMPO', 'FUTURO'],\n",
       " ['CUALIDADES', 'VALOR'],\n",
       " ['NATURALEZA', 'SER HUMANO', 'CALLAR'],\n",
       " ['CUALIDADES', 'INDEPENDENCIA'],\n",
       " ['CUALIDADES', 'VOLUNTAD'],\n",
       " ['NATURALEZA', 'SER HUMANO', 'HACER'],\n",
       " ['NATURALEZA', 'MUERTE'],\n",
       " ['TIEMPO', 'PRESENTE'],\n",
       " ['SENTIMIENTOS', 'ENVIDIA'],\n",
       " ['CUALIDADES', 'INTELIGENCIA'],\n",
       " ['NATURALEZA', 'VIDA'],\n",
       " ['CUALIDADES', 'SABIDURÍA', 'SABIO'],\n",
       " ['DEFECTOS', 'MALDAD'],\n",
       " ['SENTIMIENTOS', 'AMOR', 'AMOR PROPIO'],\n",
       " ['MISCELÁNEA', 'AZAR'],\n",
       " ['CUALIDADES', 'AUTOESTIMA'],\n",
       " ['MISCELÁNEA', 'ÉXITO'],\n",
       " ['SENTIMIENTOS', 'ENVIDIA'],\n",
       " ['NATURALEZA', 'SER HUMANO'],\n",
       " ['MISCELÁNEA', 'ENGAÑO'],\n",
       " ['CUALIDADES', 'CREER EN SÍ MISMO'],\n",
       " ['CUALIDADES', 'ATREVIMIENTO'],\n",
       " ['SOCIEDAD', 'LÍDERES'],\n",
       " ['CUALIDADES', 'PERFECCIÓN'],\n",
       " ['CUALIDADES', 'GENIO'],\n",
       " ['SOCIEDAD', 'PAZ'],\n",
       " ['SENTIMIENTOS', 'VERGÜENZA'],\n",
       " ['SENTIMIENTOS', 'ESPERANZA'],\n",
       " ['SENTIMIENTOS', 'ESPERANZA'],\n",
       " ['MISCELÁNEA', 'INTERESES'],\n",
       " ['CUALIDADES', 'UNIDAD'],\n",
       " ['SENTIMIENTOS', 'SOLEDAD'],\n",
       " ['SENTIMIENTOS', 'AMOR', 'BESOS'],\n",
       " ['CUALIDADES', 'SENCILLEZ'],\n",
       " ['MISCELÁNEA', 'INSINUACIÓN'],\n",
       " ['CUALIDADES', 'PACIENCIA'],\n",
       " ['SENTIMIENTOS', 'AMOR'],\n",
       " ['NATURALEZA', 'HUMANIDAD'],\n",
       " ['DEFECTOS', 'MEDIOCRIDAD'],\n",
       " ['CUALIDADES', 'DISCRECIÓN'],\n",
       " ['SENTIMIENTOS', 'FE'],\n",
       " ['SENTIMIENTOS', 'AMOR'],\n",
       " ['SENTIMIENTOS', 'FELICIDAD'],\n",
       " ['SENTIMIENTOS', 'AMOR', 'AMAR'],\n",
       " ['DEFECTOS', 'CINISMO'],\n",
       " ['MISCELÁNEA', 'DESGRACIA'],\n",
       " ['NATURALEZA', 'SER HUMANO', 'HABLAR'],\n",
       " ['MISCELÁNEA', 'INJURIA'],\n",
       " ['SOCIEDAD', 'FAMILIA', 'PADRES'],\n",
       " ['TIEMPO'],\n",
       " ['PENSAMIENTO Y RAZÓN', 'DUDA'],\n",
       " ['PENSAMIENTO Y RAZÓN', 'MENTIRAS'],\n",
       " ['MISCELÁNEA', 'AZAR'],\n",
       " ['SENTIMIENTOS', 'AMISTAD', 'AMIGOS'],\n",
       " ['SOCIEDAD', 'MUJERES'],\n",
       " ['MISCELÁNEA', 'MEJORAR'],\n",
       " ['SOCIEDAD', 'RELIGIÓN', 'DIOS'],\n",
       " ['SENTIMIENTOS', 'AMOR', 'PASIÓN'],\n",
       " ['DEFECTOS', 'VIOLENCIA'],\n",
       " ['SOCIEDAD', 'LIBERTAD'],\n",
       " ['SOCIEDAD', 'IDEALES'],\n",
       " ['SENTIMIENTOS', 'FELICIDAD'],\n",
       " ['SENTIMIENTOS', 'CONFIANZA'],\n",
       " ['CUALIDADES', 'OPTIMISMO'],\n",
       " ['MISCELÁNEA', 'SILENCIO'],\n",
       " ['NATURALEZA', 'SER HUMANO', 'HABLAR'],\n",
       " ['SENTIMIENTOS', 'DOLOR'],\n",
       " ['PENSAMIENTO Y RAZÓN', 'DESEO'],\n",
       " ['SENTIMIENTOS', 'AMOR', 'CORAZÓN'],\n",
       " ['SENTIMIENTOS', 'AMOR', 'AMORES'],\n",
       " ['SENTIMIENTOS', 'AMISTAD'],\n",
       " ['MISCELÁNEA', 'ESPERA'],\n",
       " ['SENTIMIENTOS', 'FELICIDAD'],\n",
       " ['SENTIMIENTOS', 'DOLOR'],\n",
       " ['SOCIEDAD', 'TRABAJO'],\n",
       " ['NATURALEZA', 'VIDA'],\n",
       " ['PENSAMIENTO Y RAZÓN', 'PENSAMIENTO'],\n",
       " ['SOCIEDAD', 'RELIGIÓN', 'DIOS'],\n",
       " ['SOCIEDAD', 'EDUCACIÓN', 'APRENDER'],\n",
       " ['SOCIEDAD', 'LIBERTAD'],\n",
       " ['SENTIMIENTOS', 'ESPERANZA'],\n",
       " ['SOCIEDAD', 'FAMILIA', 'HIJOS'],\n",
       " ['SENTIMIENTOS', 'AMOR', 'AMAR'],\n",
       " ['SOCIEDAD', 'MATRIMONIO'],\n",
       " ['SENTIMIENTOS', 'AMOR'],\n",
       " ['PENSAMIENTO Y RAZÓN', 'MENTIRAS'],\n",
       " ['CUALIDADES', 'AMABILIDAD'],\n",
       " ['SENTIMIENTOS', 'AMISTAD', 'AMIGOS'],\n",
       " ['SENTIMIENTOS', 'FELICIDAD'],\n",
       " ['PENSAMIENTO Y RAZÓN', 'VERDAD'],\n",
       " ['SOCIEDAD', 'TRABAJO'],\n",
       " ['SOCIEDAD', 'EDUCACIÓN', 'APRENDER'],\n",
       " ['MISCELÁNEA', 'CURIOSIDAD'],\n",
       " ['SOCIEDAD', 'EDUCACIÓN'],\n",
       " ['NATURALEZA', 'VIDA'],\n",
       " ['SOCIEDAD', 'TRABAJO'],\n",
       " ['SENTIMIENTOS', 'AMISTAD'],\n",
       " ['SOCIEDAD', 'TRABAJO'],\n",
       " ['MISCELÁNEA', 'TENTACIÓN'],\n",
       " ['SENTIMIENTOS', 'SUFRIMIENTO'],\n",
       " ['SENTIMIENTOS', 'SOLEDAD'],\n",
       " ['SENTIMIENTOS', 'ODIO'],\n",
       " ['MISCELÁNEA', 'COMITÉ'],\n",
       " ['SOCIEDAD', 'POLÍTICA'],\n",
       " ['PENSAMIENTO Y RAZÓN', 'SUEÑOS'],\n",
       " ['CUALIDADES', 'TALENTO'],\n",
       " ['DEFECTOS', 'PEREZA'],\n",
       " ['MISCELÁNEA', 'ÉXITO'],\n",
       " ['NATURALEZA', 'SER HUMANO'],\n",
       " ['MISCELÁNEA', 'DISCUSIÓN'],\n",
       " ['SENTIMIENTOS', 'AMOR'],\n",
       " ['SENTIMIENTOS', 'FELICIDAD', 'FELIZ'],\n",
       " ['PENSAMIENTO Y RAZÓN', 'VERDAD'],\n",
       " ['SOCIEDAD', 'POLÍTICA'],\n",
       " ['MISCELÁNEA', 'ESCLAVOS'],\n",
       " ['SOCIEDAD', 'DINERO'],\n",
       " ['SOCIEDAD', 'LIBERTAD'],\n",
       " ['SENTIMIENTOS', 'ALEGRÍA'],\n",
       " ['NATURALEZA', 'SER HUMANO', 'HABLAR', 'HABLAR MAL'],\n",
       " ['CUALIDADES', 'PUNTUALIDAD'],\n",
       " ['SOCIEDAD'],\n",
       " ['CUALIDADES', 'BELLEZA'],\n",
       " ['SOCIEDAD', 'EDUCACIÓN', 'ENSEÑAR'],\n",
       " ['SENTIMIENTOS', 'AMISTAD'],\n",
       " ['CUALIDADES', 'BELLEZA'],\n",
       " ['MISCELÁNEA'],\n",
       " ['MISCELÁNEA', 'CONVERSACIONES'],\n",
       " ['MISCELÁNEA', 'FORTUNA'],\n",
       " ['SENTIMIENTOS', 'AMOR', 'BESOS'],\n",
       " ['MISCELÁNEA', 'APARIENCIA'],\n",
       " ['NATURALEZA', 'SER HUMANO', 'PERDONAR'],\n",
       " ['SOCIEDAD', 'EDUCACIÓN', 'ENSEÑAR'],\n",
       " ['PENSAMIENTO Y RAZÓN', 'VERDAD'],\n",
       " ['PENSAMIENTO Y RAZÓN', 'IMAGINACIÓN'],\n",
       " ['MISCELÁNEA', 'ÉXITO'],\n",
       " ['MISCELÁNEA', 'MALES'],\n",
       " ['SENTIMIENTOS', 'AMISTAD', 'AMIGOS'],\n",
       " ['SENTIMIENTOS', 'AMISTAD'],\n",
       " ['MISCELÁNEA', 'PROBLEMAS'],\n",
       " ['MISCELÁNEA', 'DON'],\n",
       " ['SENTIMIENTOS', 'ENVIDIA'],\n",
       " ['TIEMPO'],\n",
       " ['PENSAMIENTO Y RAZÓN', 'ILUSIONES'],\n",
       " ['MISCELÁNEA', 'PRÁCTICA'],\n",
       " ['SOCIEDAD', 'MATRIMONIO', 'BODA'],\n",
       " ['SENTIMIENTOS', 'SOLEDAD'],\n",
       " ['PENSAMIENTO Y RAZÓN', 'PENSAMIENTO', 'PENSAR'],\n",
       " ['SENTIMIENTOS', 'ENVIDIA'],\n",
       " ['TIEMPO', 'JUVENTUD'],\n",
       " ['SENTIMIENTOS', 'AMISTAD', 'AMIGOS'],\n",
       " ['ARTE', 'LITERATURA', 'LIBROS'],\n",
       " ['MISCELÁNEA', 'SONRISA'],\n",
       " ['TIEMPO', 'FUTURO'],\n",
       " ['SOCIEDAD', 'POLÍTICA'],\n",
       " ['MISCELÁNEA', 'ENGAÑO'],\n",
       " ['CUALIDADES', 'CONCIENCIA'],\n",
       " ['SOCIEDAD', 'VIAJES', 'VIAJAR'],\n",
       " ['SOCIEDAD', 'LIBERTAD'],\n",
       " ['PENSAMIENTO Y RAZÓN', 'ALMA'],\n",
       " ['SENTIMIENTOS', 'AMISTAD', 'AMIGOS'],\n",
       " ['MISCELÁNEA', 'PROBLEMAS'],\n",
       " ['SOCIEDAD', 'COSTUMBRE'],\n",
       " ['TIEMPO', 'FUTURO'],\n",
       " ['NATURALEZA', 'SER HUMANO', 'PALABRAS'],\n",
       " ['SOCIEDAD', 'CIVILIZACIÓN'],\n",
       " ['SOCIEDAD', 'FAMILIA', 'HIJOS'],\n",
       " ['SENTIMIENTOS', 'AMOR'],\n",
       " ['SENTIMIENTOS', 'VENGANZA'],\n",
       " ['MISCELÁNEA', 'PLACERES'],\n",
       " ['CUALIDADES', 'SABIDURÍA'],\n",
       " ['SENTIMIENTOS', 'AMOR'],\n",
       " ['PENSAMIENTO Y RAZÓN', 'RAZÓN'],\n",
       " ['DEFECTOS', 'NECEDAD'],\n",
       " ['SOCIEDAD', 'LIBERTAD'],\n",
       " ['MISCELÁNEA', 'OLVIDAR'],\n",
       " ['NATURALEZA', 'MUERTE'],\n",
       " ['CUALIDADES', 'PERSEVERANCIA'],\n",
       " ['SENTIMIENTOS', 'ARREPENTIMIENTO'],\n",
       " ['CUALIDADES', 'SABIDURÍA'],\n",
       " ['SENTIMIENTOS', 'ARREPENTIMIENTO'],\n",
       " ['PENSAMIENTO Y RAZÓN', 'RAZÓN'],\n",
       " ['PENSAMIENTO Y RAZÓN', 'LOCURA'],\n",
       " ['SENTIMIENTOS', 'AMISTAD'],\n",
       " ['SOCIEDAD', 'PODER'],\n",
       " ['SOCIEDAD', 'TRABAJO', 'TRABAJAR'],\n",
       " ['MISCELÁNEA', 'DIVERSIÓN'],\n",
       " ['CUALIDADES', 'VALOR'],\n",
       " ['SENTIMIENTOS', 'AMOR'],\n",
       " ['PENSAMIENTO Y RAZÓN', 'SUEÑOS'],\n",
       " ['MISCELÁNEA', 'GLORIA'],\n",
       " ['MISCELÁNEA', 'OPRESIÓN'],\n",
       " ['MISCELÁNEA', 'ENTUSIASMO'],\n",
       " ['CUALIDADES', 'ENCANTO'],\n",
       " ['PENSAMIENTO Y RAZÓN', 'LOCURA'],\n",
       " ['NATURALEZA', 'SER HUMANO', 'DAR'],\n",
       " ['SOCIEDAD', 'MATRIMONIO'],\n",
       " ['NATURALEZA', 'SER HUMANO', 'HABLAR'],\n",
       " ['SOCIEDAD', 'RELIGIÓN', 'DIOS'],\n",
       " ['CUALIDADES', 'SABIDURÍA', 'SABER'],\n",
       " ['SOCIEDAD', 'RELIGIÓN', 'DIOS', 'EXISTENCIA DE DIOS'],\n",
       " ['SOCIEDAD', 'POLÍTICA', 'DEMOCRACIA'],\n",
       " ['PENSAMIENTO Y RAZÓN', 'PENSAMIENTO', 'PENSAR'],\n",
       " ['SENTIMIENTOS', 'FELICIDAD'],\n",
       " ['SENTIMIENTOS', 'ALEGRÍA'],\n",
       " ['CUALIDADES', 'BONDAD'],\n",
       " ['CUALIDADES', 'PACIENCIA'],\n",
       " ['SOCIEDAD', 'DINERO'],\n",
       " ['NATURALEZA', 'MUERTE'],\n",
       " ['CUALIDADES', 'VALOR'],\n",
       " ['DEFECTOS', 'MALDAD'],\n",
       " ['MISCELÁNEA', 'CALUMNIA'],\n",
       " ['MISCELÁNEA', 'BATALLA'],\n",
       " ['SOCIEDAD', 'DINERO'],\n",
       " ['NATURALEZA', 'SER HUMANO', 'PERDONAR'],\n",
       " ['SOCIEDAD', 'PODER'],\n",
       " ['MISCELÁNEA', 'DESTINO'],\n",
       " ['SENTIMIENTOS', 'FELICIDAD'],\n",
       " ['TIEMPO', 'INFANCIA'],\n",
       " ['SOCIEDAD', 'LEYES', 'JUSTICIA'],\n",
       " ['SOCIEDAD', 'MUJERES'],\n",
       " ['SENTIMIENTOS', 'ODIO'],\n",
       " ['MISCELÁNEA', 'ÉXITO'],\n",
       " ['SOCIEDAD', 'PAZ'],\n",
       " ['SOCIEDAD', 'DINERO'],\n",
       " ['SOCIEDAD', 'POLÍTICA', 'POLÍTICOS'],\n",
       " ['NATURALEZA', 'SER HUMANO', 'PERDONAR'],\n",
       " ['SENTIMIENTOS', 'CELOS'],\n",
       " ['ARTE'],\n",
       " ['SENTIMIENTOS', 'AMISTAD'],\n",
       " ['ARTE', 'LITERATURA', 'LECTURA'],\n",
       " ['SENTIMIENTOS', 'CELOS'],\n",
       " ['MISCELÁNEA', 'HUIR'],\n",
       " ['MISCELÁNEA', 'UTOPÍA'],\n",
       " ['MISCELÁNEA', 'OCUPACIÓN'],\n",
       " ['TIEMPO', 'JUVENTUD'],\n",
       " ['SENTIMIENTOS', 'AMOR', 'BESOS'],\n",
       " ['SENTIMIENTOS', 'AMOR', 'AMAR'],\n",
       " ['CUALIDADES', 'INOCENCIA'],\n",
       " ['SENTIMIENTOS', 'ALEGRÍA'],\n",
       " ['SOCIEDAD', 'DINERO'],\n",
       " ['SENTIMIENTOS', 'GRATITUD'],\n",
       " ['CUALIDADES', 'PERSEVERANCIA'],\n",
       " ['MISCELÁNEA', 'FUERZAS'],\n",
       " ['CUALIDADES', 'TALENTO'],\n",
       " ['SENTIMIENTOS', 'ADMIRACIÓN'],\n",
       " ['SENTIMIENTOS', 'AMISTAD'],\n",
       " ['CUALIDADES', 'SABIDURÍA'],\n",
       " ['SOCIEDAD', 'LIBERTAD'],\n",
       " ['SENTIMIENTOS', 'AMOR', 'PASIÓN'],\n",
       " ['SOCIEDAD', 'MUJERES'],\n",
       " ['SENTIMIENTOS', 'CELOS'],\n",
       " ['DEFECTOS', 'MALDAD'],\n",
       " ['NATURALEZA', 'SER HUMANO', 'HACER'],\n",
       " ['CUALIDADES', 'ATREVIMIENTO'],\n",
       " ['NATURALEZA', 'SER HUMANO', 'CALLAR'],\n",
       " ['CUALIDADES', 'SUBLIME'],\n",
       " ['ARTE', 'ARTISTAS'],\n",
       " ['MISCELÁNEA', 'CONSENSO'],\n",
       " ['CUALIDADES', 'SENTIDO COMÚN'],\n",
       " ['SENTIMIENTOS', 'AMOR', 'AMANTES'],\n",
       " ['SENTIMIENTOS', 'MIEDO', 'TEMOR'],\n",
       " ['CUALIDADES', 'SABIDURÍA', 'SABER'],\n",
       " ['SENTIMIENTOS'],\n",
       " ['PENSAMIENTO Y RAZÓN', 'DUDA'],\n",
       " ['DEFECTOS', 'EGOÍSMO'],\n",
       " ['SOCIEDAD', 'PROGRESO'],\n",
       " ['SOCIEDAD', 'TRABAJO'],\n",
       " ['CUALIDADES', 'PERSEVERANCIA'],\n",
       " ['SENTIMIENTOS', 'AMOR'],\n",
       " ['MISCELÁNEA', 'INTENCIONES'],\n",
       " ['SENTIMIENTOS', 'FELICIDAD'],\n",
       " ['TIEMPO', 'VEJEZ'],\n",
       " ['SENTIMIENTOS', 'PENA'],\n",
       " ['NATURALEZA', 'VIDA', 'VIVIR'],\n",
       " ['SENTIMIENTOS'],\n",
       " ['CUALIDADES', 'BELLEZA'],\n",
       " ['SENTIMIENTOS', 'AMOR', 'BESOS'],\n",
       " ['NATURALEZA', 'SER HUMANO'],\n",
       " ['CUALIDADES', 'GRANDEZA'],\n",
       " ['SENTIMIENTOS', 'ADMIRACIÓN'],\n",
       " ['SENTIMIENTOS', 'AMOR', 'AMAR'],\n",
       " ['SOCIEDAD', 'PODER'],\n",
       " ['NATURALEZA', 'SER HUMANO', 'PALABRAS'],\n",
       " ['MISCELÁNEA', 'ELOGIOS'],\n",
       " ['SENTIMIENTOS', 'AMOR'],\n",
       " ['SENTIMIENTOS', 'AMOR'],\n",
       " ['CUALIDADES', 'HUMOR'],\n",
       " ['NATURALEZA', 'VIDA'],\n",
       " ['SENTIMIENTOS', 'AMISTAD', 'AMIGOS'],\n",
       " ['ARTE', 'MÚSICA'],\n",
       " ['SOCIEDAD', 'TRABAJO'],\n",
       " ['PENSAMIENTO Y RAZÓN', 'VERDAD'],\n",
       " ['MISCELÁNEA', 'DESTINO'],\n",
       " ['PENSAMIENTO Y RAZÓN', 'FILOSOFÍA'],\n",
       " ['SENTIMIENTOS', 'AMOR', 'AMAR'],\n",
       " ['PENSAMIENTO Y RAZÓN', 'FILOSOFÍA'],\n",
       " ['MISCELÁNEA', 'OBRAR'],\n",
       " ['MISCELÁNEA', 'CALUMNIA'],\n",
       " ['CUALIDADES', 'CONSTANCIA'],\n",
       " ['MISCELÁNEA', 'MISERABLE'],\n",
       " ['SOCIEDAD', 'FAMILIA'],\n",
       " ['TIEMPO', 'INFANCIA'],\n",
       " ['SOCIEDAD', 'POLÍTICA'],\n",
       " ['PENSAMIENTO Y RAZÓN', 'OPINIÓN'],\n",
       " ['SOCIEDAD', 'DERECHOS'],\n",
       " ['SENTIMIENTOS', 'ADMIRACIÓN'],\n",
       " ['DEFECTOS', 'MALDAD'],\n",
       " ['MISCELÁNEA', 'LUCHAR'],\n",
       " ['PENSAMIENTO Y RAZÓN', 'DESEO'],\n",
       " ['MISCELÁNEA', 'PECADO'],\n",
       " ['SENTIMIENTOS', 'AMISTAD'],\n",
       " ['CUALIDADES', 'PERSEVERANCIA'],\n",
       " ['MISCELÁNEA', 'DIFICULTADES'],\n",
       " ['CUALIDADES', 'HUMOR'],\n",
       " ['NATURALEZA', 'SER HUMANO', 'DECIR'],\n",
       " ['SENTIMIENTOS', 'AMOR'],\n",
       " ['SENTIMIENTOS', 'FELICIDAD'],\n",
       " ['SOCIEDAD', 'LÍDERES'],\n",
       " ['MISCELÁNEA', 'ÉXITO'],\n",
       " ['CUALIDADES', 'INTELIGENCIA'],\n",
       " ['MISCELÁNEA', 'SECRETO'],\n",
       " ['SENTIMIENTOS', 'CONFIANZA'],\n",
       " ['CUALIDADES', 'BELLEZA'],\n",
       " ['SENTIMIENTOS', 'AMOR', 'AMAR'],\n",
       " ['TIEMPO', 'ETERNIDAD'],\n",
       " ['SENTIMIENTOS', 'AMISTAD', 'AMIGOS'],\n",
       " ['DEFECTOS', 'MALDAD'],\n",
       " ['CUALIDADES', 'BONDAD'],\n",
       " ['SENTIMIENTOS', 'AMOR', 'AMAR'],\n",
       " ['SENTIMIENTOS', 'AMOR'],\n",
       " ['MISCELÁNEA', 'SIN CLASIFICAR'],\n",
       " ['CUALIDADES', 'INTELIGENCIA'],\n",
       " ['CUALIDADES', 'HONRADEZ'],\n",
       " ['DEFECTOS', 'VIOLENCIA'],\n",
       " ['TIEMPO', 'PRESENTE'],\n",
       " ['SOCIEDAD', 'DINERO'],\n",
       " ['SENTIMIENTOS', 'AMOR', 'CORAZÓN'],\n",
       " ['MISCELÁNEA', 'LÁGRIMAS'],\n",
       " ['CUALIDADES', 'SABIDURÍA'],\n",
       " ['DEFECTOS', 'ESTUPIDEZ'],\n",
       " ['SENTIMIENTOS', 'AMOR'],\n",
       " ['NATURALEZA', 'SER HUMANO', 'CREER'],\n",
       " ['MISCELÁNEA', 'LÁGRIMAS'],\n",
       " ['CUALIDADES', 'VIRTUD'],\n",
       " ['SOCIEDAD', 'POLÍTICA'],\n",
       " ['SENTIMIENTOS', 'AMOR', 'AMAR'],\n",
       " ['NATURALEZA', 'VIDA', 'VIVIR'],\n",
       " ['DEFECTOS', 'MALDAD'],\n",
       " ['NATURALEZA', 'SER HUMANO', 'DAR'],\n",
       " ['NATURALEZA', 'VIDA', 'VIVIR'],\n",
       " ['SOCIEDAD', 'LIBERTAD'],\n",
       " ['DEFECTOS', 'HIPOCRESÍA'],\n",
       " ['CUALIDADES', 'BONDAD'],\n",
       " ['ARTE', 'MÚSICA'],\n",
       " ['MISCELÁNEA', 'ERRORES'],\n",
       " ['PENSAMIENTO Y RAZÓN', 'VERDAD'],\n",
       " ['SENTIMIENTOS', 'ESPERANZA'],\n",
       " ['SENTIMIENTOS', 'ODIO'],\n",
       " ['SOCIEDAD', 'LEYES', 'JUSTICIA'],\n",
       " ['SENTIMIENTOS', 'AMISTAD'],\n",
       " ['SENTIMIENTOS', 'AMISTAD'],\n",
       " ['SOCIEDAD', 'LIBERTAD'],\n",
       " ['PENSAMIENTO Y RAZÓN', 'VERDAD'],\n",
       " ['SENTIMIENTOS', 'AMISTAD'],\n",
       " ['SOCIEDAD', 'LEYES', 'JUSTICIA'],\n",
       " ['SENTIMIENTOS', 'AMOR'],\n",
       " ['SOCIEDAD', 'MATRIMONIO'],\n",
       " ['DEFECTOS', 'IGNORANCIA'],\n",
       " ['MISCELÁNEA', 'TEORÍAS'],\n",
       " ['DEFECTOS', 'INGRATITUD'],\n",
       " ['SENTIMIENTOS', 'MELANCOLÍA'],\n",
       " ['SENTIMIENTOS', 'DOLOR'],\n",
       " ['NATURALEZA', 'VIDA'],\n",
       " ['SENTIMIENTOS', 'ABURRIMIENTO'],\n",
       " ['SOCIEDAD', 'RELIGIÓN'],\n",
       " ['MISCELÁNEA', 'AYUDAR'],\n",
       " ['CUALIDADES', 'SABIDURÍA', 'SABER'],\n",
       " ['CUALIDADES', 'SENSATEZ'],\n",
       " ['CUALIDADES', 'PERSEVERANCIA'],\n",
       " ['SENTIMIENTOS', 'AMOR', 'PASIÓN'],\n",
       " ['MISCELÁNEA', 'ÉXITO'],\n",
       " ['SENTIMIENTOS', 'MIEDO', 'TEMOR'],\n",
       " ['SOCIEDAD', 'LIBERTAD'],\n",
       " ['MISCELÁNEA', 'MALES'],\n",
       " ['NATURALEZA', 'VIDA'],\n",
       " ['SENTIMIENTOS', 'AMOR'],\n",
       " ['SENTIMIENTOS', 'ORGULLO'],\n",
       " ['NATURALEZA', 'VIDA'],\n",
       " ['SOCIEDAD', 'PAZ'],\n",
       " ['SENTIMIENTOS', 'MIEDO', 'TEMOR'],\n",
       " ['MISCELÁNEA', 'APARIENCIA'],\n",
       " ['SOCIEDAD', 'MEDIOS', 'TELEVISIÓN'],\n",
       " ['SENTIMIENTOS', 'AMOR'],\n",
       " ['SENTIMIENTOS', 'AMISTAD'],\n",
       " ['NATURALEZA', 'SER HUMANO', 'HABLAR'],\n",
       " ['SENTIMIENTOS', 'FELICIDAD'],\n",
       " ['SOCIEDAD', 'MATRIMONIO'],\n",
       " ['SOCIEDAD', 'EDUCACIÓN'],\n",
       " ['DEFECTOS', 'INGRATITUD'],\n",
       " ['MISCELÁNEA', 'ENGAÑO'],\n",
       " ['CUALIDADES', 'BELLEZA'],\n",
       " ['CUALIDADES', 'SABIDURÍA', 'SABER'],\n",
       " ['MISCELÁNEA', 'CIRCUNSTANCIAS'],\n",
       " ['NATURALEZA', 'VIDA'],\n",
       " ['SENTIMIENTOS', 'AMISTAD', 'AMIGOS'],\n",
       " ['PENSAMIENTO Y RAZÓN', 'ENTENDIMIENTO'],\n",
       " ['SENTIMIENTOS', 'VERGÜENZA'],\n",
       " ['NATURALEZA', 'SER HUMANO', 'HABLAR'],\n",
       " ['MISCELÁNEA', 'HAMBRE'],\n",
       " ['PENSAMIENTO Y RAZÓN', 'DESEO'],\n",
       " ['NATURALEZA', 'SER HUMANO'],\n",
       " ['SENTIMIENTOS', 'AMOR', 'AMAR'],\n",
       " ['SOCIEDAD', 'MATRIMONIO'],\n",
       " ['PENSAMIENTO Y RAZÓN', 'IMAGINACIÓN'],\n",
       " ['SENTIMIENTOS', 'AMISTAD'],\n",
       " ['SOCIEDAD', 'DINERO', 'POBREZA'],\n",
       " ['SENTIMIENTOS', 'AMOR', 'BESOS'],\n",
       " ['CUALIDADES', 'SABIDURÍA'],\n",
       " ['SOCIEDAD', 'RELIGIÓN', 'DIOS'],\n",
       " ['MISCELÁNEA', 'CAMINAR'],\n",
       " ['CUALIDADES', 'SABIDURÍA', 'SABIO'],\n",
       " ['SOCIEDAD', 'PROGRESO'],\n",
       " ['PENSAMIENTO Y RAZÓN', 'MENTIRAS'],\n",
       " ['CUALIDADES', 'CALIDAD'],\n",
       " ['MISCELÁNEA', 'COMPAÑÍA'],\n",
       " ['SOCIEDAD', 'MEDIOS', 'PRENSA'],\n",
       " ['MISCELÁNEA', 'SECRETO'],\n",
       " ['SENTIMIENTOS', 'ADMIRACIÓN'],\n",
       " ['NATURALEZA', 'MUERTE'],\n",
       " ['CUALIDADES', 'ESFUERZO'],\n",
       " ['SENTIMIENTOS', 'AMOR', 'AMAR'],\n",
       " ['TIEMPO', 'VEJEZ'],\n",
       " ['PENSAMIENTO Y RAZÓN', 'RAZÓN'],\n",
       " ['SENTIMIENTOS', 'AMOR'],\n",
       " ['PENSAMIENTO Y RAZÓN', 'DECISIONES'],\n",
       " ['CUALIDADES', 'BONDAD'],\n",
       " ['TIEMPO', 'EDAD'],\n",
       " ['TIEMPO', 'VEJEZ'],\n",
       " ['DEFECTOS', 'OCIOSIDAD'],\n",
       " ['TIEMPO'],\n",
       " ['MISCELÁNEA', 'TEORÍAS'],\n",
       " ['SOCIEDAD', 'CASTIGOS'],\n",
       " ['NATURALEZA', 'SER HUMANO', 'LENGUAJE'],\n",
       " ['SOCIEDAD', 'GOBIERNO'],\n",
       " ['SENTIMIENTOS', 'ESPERANZA'],\n",
       " ['SENTIMIENTOS', 'ODIO'],\n",
       " ['SOCIEDAD', 'LIBERTAD'],\n",
       " ['SENTIMIENTOS', 'AMISTAD'],\n",
       " ['ARTE', 'MÚSICA'],\n",
       " ['SENTIMIENTOS', 'AMISTAD'],\n",
       " ['PENSAMIENTO Y RAZÓN', 'PENSAMIENTO', 'PENSAR'],\n",
       " ['MISCELÁNEA', 'SIN CLASIFICAR'],\n",
       " ['CUALIDADES', 'COMPRENSIÓN'],\n",
       " ['DEFECTOS'],\n",
       " ['SENTIMIENTOS', 'ORGULLO'],\n",
       " ['CUALIDADES', 'COMPRENSIÓN'],\n",
       " ['SENTIMIENTOS', 'AMOR'],\n",
       " ['SENTIMIENTOS', 'AMISTAD', 'AMIGOS'],\n",
       " ['MISCELÁNEA', 'SUERTE'],\n",
       " ['CUALIDADES', 'EXPERIENCIA'],\n",
       " ['MISCELÁNEA', 'ESCUCHAR'],\n",
       " ['NATURALEZA', 'SER HUMANO', 'PALABRAS'],\n",
       " ['DEFECTOS', 'MALDAD'],\n",
       " ['MISCELÁNEA', 'SUPERSTICIÓN'],\n",
       " ['CUALIDADES', 'HUMOR'],\n",
       " ['CUALIDADES', 'INTELIGENCIA'],\n",
       " ['MISCELÁNEA', 'NEGOCIOS'],\n",
       " ['DEFECTOS', 'OCIOSIDAD'],\n",
       " ['CUALIDADES', 'SABIDURÍA', 'SABER'],\n",
       " ['SOCIEDAD', 'EDUCACIÓN', 'APRENDER'],\n",
       " ['SOCIEDAD', 'GOBIERNO'],\n",
       " ['CUALIDADES', 'ACTITUD'],\n",
       " ['MISCELÁNEA', 'DISTANCIA'],\n",
       " ['MISCELÁNEA', 'ERRAR'],\n",
       " ['SOCIEDAD'],\n",
       " ['SENTIMIENTOS', 'AMOR'],\n",
       " ['SOCIEDAD', 'LIBERTAD'],\n",
       " ['MISCELÁNEA', 'FANTASÍA'],\n",
       " ['SENTIMIENTOS', 'AMISTAD', 'AMIGOS'],\n",
       " ['SOCIEDAD', 'LEYES', 'JUSTICIA'],\n",
       " ['SENTIMIENTOS', 'CONFIANZA'],\n",
       " ['PENSAMIENTO Y RAZÓN', 'VERDAD'],\n",
       " ['SENTIMIENTOS', 'ORGULLO', 'ORGULLOSOS'],\n",
       " ['SOCIEDAD', 'EDUCACIÓN', 'ENSEÑAR'],\n",
       " ['SENTIMIENTOS', 'ENVIDIA'],\n",
       " ['SOCIEDAD', 'FAMILIA', 'HIJOS'],\n",
       " ['MISCELÁNEA', 'DESTINO'],\n",
       " ['PENSAMIENTO Y RAZÓN', 'IDEAS'],\n",
       " ['CUALIDADES', 'PACIENCIA'],\n",
       " ['SOCIEDAD', 'RELIGIÓN', 'DIOS'],\n",
       " ['SENTIMIENTOS', 'AMOR'],\n",
       " ['SENTIMIENTOS', 'AMOR', 'AMAR'],\n",
       " ['MISCELÁNEA', 'DESCUBRIMIENTO'],\n",
       " ['MISCELÁNEA', 'CONOCER'],\n",
       " ['MISCELÁNEA', 'INMORTALIDAD'],\n",
       " ['SENTIMIENTOS', 'ODIO'],\n",
       " ['SENTIMIENTOS', 'AMOR', 'BESOS'],\n",
       " ['CUALIDADES', 'AMBICIÓN'],\n",
       " ['DEFECTOS', 'HIPOCRESÍA'],\n",
       " ['SOCIEDAD', 'NAVIDAD'],\n",
       " ['SENTIMIENTOS', 'AMOR'],\n",
       " ['ARTE', 'MÚSICA'],\n",
       " ['SOCIEDAD', 'LEYES', 'JUSTICIA'],\n",
       " ['TIEMPO', 'INFANCIA'],\n",
       " ['SENTIMIENTOS', 'AMOR', 'PASIÓN'],\n",
       " ['NATURALEZA', 'SER HUMANO', 'CREER'],\n",
       " ['MISCELÁNEA', 'CAMBIO'],\n",
       " ['SOCIEDAD', 'POLÍTICA', 'DEMOCRACIA'],\n",
       " ['SOCIEDAD', 'DINERO'],\n",
       " ['NATURALEZA', 'SER HUMANO', 'PALABRAS'],\n",
       " ['NATURALEZA', 'VIDA'],\n",
       " ['TIEMPO', 'JUVENTUD'],\n",
       " ['PENSAMIENTO Y RAZÓN', 'PREDICCIONES'],\n",
       " ['SENTIMIENTOS', 'AMOR', 'CORAZÓN'],\n",
       " ['SENTIMIENTOS', 'AMOR', 'BESOS'],\n",
       " ['CIENCIAS', 'MATEMÁTICAS'],\n",
       " ...]"
      ]
     },
     "execution_count": 119,
     "metadata": {},
     "output_type": "execute_result"
    }
   ],
   "source": [
    "col1 = []\n",
    "for i, u enumerate(new_columns):\n",
    "    "
   ]
  },
  {
   "cell_type": "code",
   "execution_count": 138,
   "id": "32f525bf",
   "metadata": {},
   "outputs": [],
   "source": [
    "df2 = pd.DataFrame(new_columns, columns = ['Cat1', 'Cat2', 'Cat3', 'Cat4'])"
   ]
  },
  {
   "cell_type": "code",
   "execution_count": 139,
   "id": "40133d0a",
   "metadata": {},
   "outputs": [
    {
     "data": {
      "text/plain": [
       "True"
      ]
     },
     "execution_count": 139,
     "metadata": {},
     "output_type": "execute_result"
    }
   ],
   "source": [
    "len(df2) == len(df_frases)"
   ]
  },
  {
   "cell_type": "code",
   "execution_count": 140,
   "id": "75beffdc",
   "metadata": {},
   "outputs": [],
   "source": [
    "df_def = pd.concat([df_frases, df2], axis = 1)"
   ]
  },
  {
   "cell_type": "code",
   "execution_count": 146,
   "id": "1658378b",
   "metadata": {},
   "outputs": [
    {
     "data": {
      "text/html": [
       "<div>\n",
       "<style scoped>\n",
       "    .dataframe tbody tr th:only-of-type {\n",
       "        vertical-align: middle;\n",
       "    }\n",
       "\n",
       "    .dataframe tbody tr th {\n",
       "        vertical-align: top;\n",
       "    }\n",
       "\n",
       "    .dataframe thead th {\n",
       "        text-align: right;\n",
       "    }\n",
       "</style>\n",
       "<table border=\"1\" class=\"dataframe\">\n",
       "  <thead>\n",
       "    <tr style=\"text-align: right;\">\n",
       "      <th></th>\n",
       "      <th>Frase</th>\n",
       "      <th>Autor</th>\n",
       "      <th>Categoría</th>\n",
       "      <th>Cat1</th>\n",
       "      <th>Cat2</th>\n",
       "      <th>Cat3</th>\n",
       "      <th>Cat4</th>\n",
       "    </tr>\n",
       "  </thead>\n",
       "  <tbody>\n",
       "    <tr>\n",
       "      <th>0</th>\n",
       "      <td>Un amigo es uno que lo sabe todo de ti y a pes...</td>\n",
       "      <td>Elbert Hubbard (1856-1915) Ensayista estadouni...</td>\n",
       "      <td>SENTIMIENTOS / AMISTAD</td>\n",
       "      <td>SENTIMIENTOS</td>\n",
       "      <td>AMISTAD</td>\n",
       "      <td>None</td>\n",
       "      <td>None</td>\n",
       "    </tr>\n",
       "    <tr>\n",
       "      <th>1</th>\n",
       "      <td>Si sientes que todo perdió su sentido, siempre...</td>\n",
       "      <td>Emerson (1803-1882) Poeta y pensador estadouni...</td>\n",
       "      <td>SENTIMIENTOS / AMISTAD / AMIGOS</td>\n",
       "      <td>SENTIMIENTOS</td>\n",
       "      <td>AMISTAD</td>\n",
       "      <td>AMIGOS</td>\n",
       "      <td>None</td>\n",
       "    </tr>\n",
       "    <tr>\n",
       "      <th>2</th>\n",
       "      <td>La amistad es más difícil y más rara que el am...</td>\n",
       "      <td>Alberto Moravia (1907-1990) Alberto Pincherle....</td>\n",
       "      <td>SENTIMIENTOS / AMISTAD</td>\n",
       "      <td>SENTIMIENTOS</td>\n",
       "      <td>AMISTAD</td>\n",
       "      <td>None</td>\n",
       "      <td>None</td>\n",
       "    </tr>\n",
       "    <tr>\n",
       "      <th>3</th>\n",
       "      <td>Ama hasta que te duela. Si te duele es buena s...</td>\n",
       "      <td>Madre Teresa de Calcuta (1910-1997) Misionera ...</td>\n",
       "      <td>SENTIMIENTOS / AMOR / AMAR</td>\n",
       "      <td>SENTIMIENTOS</td>\n",
       "      <td>AMOR</td>\n",
       "      <td>AMAR</td>\n",
       "      <td>None</td>\n",
       "    </tr>\n",
       "    <tr>\n",
       "      <th>4</th>\n",
       "      <td>Un hermano puede no ser un amigo, pero un amig...</td>\n",
       "      <td>Demetrio de Falero (350 AC-280 AC) Orador, fil...</td>\n",
       "      <td>SENTIMIENTOS / AMISTAD</td>\n",
       "      <td>SENTIMIENTOS</td>\n",
       "      <td>AMISTAD</td>\n",
       "      <td>None</td>\n",
       "      <td>None</td>\n",
       "    </tr>\n",
       "    <tr>\n",
       "      <th>...</th>\n",
       "      <td>...</td>\n",
       "      <td>...</td>\n",
       "      <td>...</td>\n",
       "      <td>...</td>\n",
       "      <td>...</td>\n",
       "      <td>...</td>\n",
       "      <td>...</td>\n",
       "    </tr>\n",
       "    <tr>\n",
       "      <th>10341</th>\n",
       "      <td>No temas ser excéntrico en la opinión, pues to...</td>\n",
       "      <td>Bertrand Russell (1872-1970) Filósofo, matemát...</td>\n",
       "      <td>PENSAMIENTO Y RAZÓN / OPINIÓN</td>\n",
       "      <td>NaN</td>\n",
       "      <td>NaN</td>\n",
       "      <td>NaN</td>\n",
       "      <td>NaN</td>\n",
       "    </tr>\n",
       "    <tr>\n",
       "      <th>10342</th>\n",
       "      <td>La felicidad y la desdicha son, ante todo, cue...</td>\n",
       "      <td>Simone de Beauvoir (1908-1986) Novelista e int...</td>\n",
       "      <td>SENTIMIENTOS / FELICIDAD</td>\n",
       "      <td>NaN</td>\n",
       "      <td>NaN</td>\n",
       "      <td>NaN</td>\n",
       "      <td>NaN</td>\n",
       "    </tr>\n",
       "    <tr>\n",
       "      <th>10343</th>\n",
       "      <td>La felicidad no es un bien que puede atesorars...</td>\n",
       "      <td>Dame Daphne du Maurier (1907-1989) Novelista y...</td>\n",
       "      <td>SENTIMIENTOS / FELICIDAD</td>\n",
       "      <td>NaN</td>\n",
       "      <td>NaN</td>\n",
       "      <td>NaN</td>\n",
       "      <td>NaN</td>\n",
       "    </tr>\n",
       "    <tr>\n",
       "      <th>10344</th>\n",
       "      <td>Toda vida humana tiene algo único. Algo que un...</td>\n",
       "      <td>Sándor Márai (1900-1989) Escritor húngaro.</td>\n",
       "      <td>NATURALEZA / VIDA</td>\n",
       "      <td>NaN</td>\n",
       "      <td>NaN</td>\n",
       "      <td>NaN</td>\n",
       "      <td>NaN</td>\n",
       "    </tr>\n",
       "    <tr>\n",
       "      <th>10345</th>\n",
       "      <td>No es suficiente conocer la verdad, también es...</td>\n",
       "      <td>Simone de Beauvoir (1908-1986) Novelista e int...</td>\n",
       "      <td>PENSAMIENTO Y RAZÓN / VERDAD</td>\n",
       "      <td>NaN</td>\n",
       "      <td>NaN</td>\n",
       "      <td>NaN</td>\n",
       "      <td>NaN</td>\n",
       "    </tr>\n",
       "  </tbody>\n",
       "</table>\n",
       "<p>10338 rows × 7 columns</p>\n",
       "</div>"
      ],
      "text/plain": [
       "                                                   Frase  \\\n",
       "0      Un amigo es uno que lo sabe todo de ti y a pes...   \n",
       "1      Si sientes que todo perdió su sentido, siempre...   \n",
       "2      La amistad es más difícil y más rara que el am...   \n",
       "3      Ama hasta que te duela. Si te duele es buena s...   \n",
       "4      Un hermano puede no ser un amigo, pero un amig...   \n",
       "...                                                  ...   \n",
       "10341  No temas ser excéntrico en la opinión, pues to...   \n",
       "10342  La felicidad y la desdicha son, ante todo, cue...   \n",
       "10343  La felicidad no es un bien que puede atesorars...   \n",
       "10344  Toda vida humana tiene algo único. Algo que un...   \n",
       "10345  No es suficiente conocer la verdad, también es...   \n",
       "\n",
       "                                                   Autor  \\\n",
       "0      Elbert Hubbard (1856-1915) Ensayista estadouni...   \n",
       "1      Emerson (1803-1882) Poeta y pensador estadouni...   \n",
       "2      Alberto Moravia (1907-1990) Alberto Pincherle....   \n",
       "3      Madre Teresa de Calcuta (1910-1997) Misionera ...   \n",
       "4      Demetrio de Falero (350 AC-280 AC) Orador, fil...   \n",
       "...                                                  ...   \n",
       "10341  Bertrand Russell (1872-1970) Filósofo, matemát...   \n",
       "10342  Simone de Beauvoir (1908-1986) Novelista e int...   \n",
       "10343  Dame Daphne du Maurier (1907-1989) Novelista y...   \n",
       "10344         Sándor Márai (1900-1989) Escritor húngaro.   \n",
       "10345  Simone de Beauvoir (1908-1986) Novelista e int...   \n",
       "\n",
       "                             Categoría          Cat1     Cat2    Cat3  Cat4  \n",
       "0               SENTIMIENTOS / AMISTAD  SENTIMIENTOS  AMISTAD    None  None  \n",
       "1      SENTIMIENTOS / AMISTAD / AMIGOS  SENTIMIENTOS  AMISTAD  AMIGOS  None  \n",
       "2               SENTIMIENTOS / AMISTAD  SENTIMIENTOS  AMISTAD    None  None  \n",
       "3           SENTIMIENTOS / AMOR / AMAR  SENTIMIENTOS     AMOR    AMAR  None  \n",
       "4               SENTIMIENTOS / AMISTAD  SENTIMIENTOS  AMISTAD    None  None  \n",
       "...                                ...           ...      ...     ...   ...  \n",
       "10341    PENSAMIENTO Y RAZÓN / OPINIÓN           NaN      NaN     NaN   NaN  \n",
       "10342         SENTIMIENTOS / FELICIDAD           NaN      NaN     NaN   NaN  \n",
       "10343         SENTIMIENTOS / FELICIDAD           NaN      NaN     NaN   NaN  \n",
       "10344                NATURALEZA / VIDA           NaN      NaN     NaN   NaN  \n",
       "10345     PENSAMIENTO Y RAZÓN / VERDAD           NaN      NaN     NaN   NaN  \n",
       "\n",
       "[10338 rows x 7 columns]"
      ]
     },
     "execution_count": 146,
     "metadata": {},
     "output_type": "execute_result"
    }
   ],
   "source": [
    "df_def\n"
   ]
  },
  {
   "cell_type": "code",
   "execution_count": 145,
   "id": "f14249d9",
   "metadata": {},
   "outputs": [],
   "source": [
    "v4 = df_def.to_csv(r'C:\\Users\\jvaym\\Desktop\\IRONHACK\\Semana4\\frases_v4.csv', encoding='utf-8', index=False)"
   ]
  },
  {
   "cell_type": "code",
   "execution_count": 154,
   "id": "f8c7cd73",
   "metadata": {},
   "outputs": [
    {
     "name": "stderr",
     "output_type": "stream",
     "text": [
      "C:\\Users\\jvaym\\AppData\\Local\\Temp/ipykernel_60244/1710904135.py:1: FutureWarning: In a future version of pandas all arguments of DataFrame.dropna will be keyword-only\n",
      "  df_def.dropna(df_def['Frase'], axis = 0, inplace = True)\n"
     ]
    },
    {
     "ename": "TypeError",
     "evalue": "dropna() got multiple values for argument 'axis'",
     "output_type": "error",
     "traceback": [
      "\u001b[1;31m---------------------------------------------------------------------------\u001b[0m",
      "\u001b[1;31mTypeError\u001b[0m                                 Traceback (most recent call last)",
      "\u001b[1;32m~\\AppData\\Local\\Temp/ipykernel_60244/1710904135.py\u001b[0m in \u001b[0;36m<module>\u001b[1;34m\u001b[0m\n\u001b[1;32m----> 1\u001b[1;33m \u001b[0mdf_def\u001b[0m\u001b[1;33m.\u001b[0m\u001b[0mdropna\u001b[0m\u001b[1;33m(\u001b[0m\u001b[0mdf_def\u001b[0m\u001b[1;33m[\u001b[0m\u001b[1;34m'Frase'\u001b[0m\u001b[1;33m]\u001b[0m\u001b[1;33m,\u001b[0m \u001b[0maxis\u001b[0m \u001b[1;33m=\u001b[0m \u001b[1;36m0\u001b[0m\u001b[1;33m,\u001b[0m \u001b[0minplace\u001b[0m \u001b[1;33m=\u001b[0m \u001b[1;32mTrue\u001b[0m\u001b[1;33m)\u001b[0m\u001b[1;33m\u001b[0m\u001b[1;33m\u001b[0m\u001b[0m\n\u001b[0m",
      "\u001b[1;32m~\\anaconda3\\lib\\site-packages\\pandas\\util\\_decorators.py\u001b[0m in \u001b[0;36mwrapper\u001b[1;34m(*args, **kwargs)\u001b[0m\n\u001b[0;32m    309\u001b[0m                     \u001b[0mstacklevel\u001b[0m\u001b[1;33m=\u001b[0m\u001b[0mstacklevel\u001b[0m\u001b[1;33m,\u001b[0m\u001b[1;33m\u001b[0m\u001b[1;33m\u001b[0m\u001b[0m\n\u001b[0;32m    310\u001b[0m                 )\n\u001b[1;32m--> 311\u001b[1;33m             \u001b[1;32mreturn\u001b[0m \u001b[0mfunc\u001b[0m\u001b[1;33m(\u001b[0m\u001b[1;33m*\u001b[0m\u001b[0margs\u001b[0m\u001b[1;33m,\u001b[0m \u001b[1;33m**\u001b[0m\u001b[0mkwargs\u001b[0m\u001b[1;33m)\u001b[0m\u001b[1;33m\u001b[0m\u001b[1;33m\u001b[0m\u001b[0m\n\u001b[0m\u001b[0;32m    312\u001b[0m \u001b[1;33m\u001b[0m\u001b[0m\n\u001b[0;32m    313\u001b[0m         \u001b[1;32mreturn\u001b[0m \u001b[0mwrapper\u001b[0m\u001b[1;33m\u001b[0m\u001b[1;33m\u001b[0m\u001b[0m\n",
      "\u001b[1;31mTypeError\u001b[0m: dropna() got multiple values for argument 'axis'"
     ]
    }
   ],
   "source": [
    "df_def.dropna(df_def['Frase'], axis = 0, inplace = True)"
   ]
  },
  {
   "cell_type": "code",
   "execution_count": 161,
   "id": "b5038378",
   "metadata": {},
   "outputs": [
    {
     "data": {
      "text/plain": [
       "Frase            0\n",
       "Autor            0\n",
       "Categoría        0\n",
       "Cat1           113\n",
       "Cat2           762\n",
       "Cat3          8478\n",
       "Cat4         10190\n",
       "dtype: int64"
      ]
     },
     "execution_count": 161,
     "metadata": {},
     "output_type": "execute_result"
    }
   ],
   "source": [
    "df_def.isna().sum()"
   ]
  },
  {
   "cell_type": "code",
   "execution_count": 160,
   "id": "c4fe2570",
   "metadata": {},
   "outputs": [],
   "source": [
    "df_def.dropna(subset = ['Frase'], inplace = True)"
   ]
  },
  {
   "cell_type": "code",
   "execution_count": 170,
   "id": "fed28424",
   "metadata": {},
   "outputs": [
    {
     "ename": "IndentationError",
     "evalue": "expected an indented block (Temp/ipykernel_60244/302523084.py, line 2)",
     "output_type": "error",
     "traceback": [
      "\u001b[1;36m  File \u001b[1;32m\"C:\\Users\\jvaym\\AppData\\Local\\Temp/ipykernel_60244/302523084.py\"\u001b[1;36m, line \u001b[1;32m2\u001b[0m\n\u001b[1;33m    \u001b[0m\n\u001b[1;37m    ^\u001b[0m\n\u001b[1;31mIndentationError\u001b[0m\u001b[1;31m:\u001b[0m expected an indented block\n"
     ]
    }
   ],
   "source": [
    "for i, u in enumerate(df_def):\n",
    "    print()"
   ]
  },
  {
   "cell_type": "code",
   "execution_count": 173,
   "id": "a2ce0eb4",
   "metadata": {},
   "outputs": [],
   "source": [
    "df_def['Cat1'][10341] = 'NaN'"
   ]
  },
  {
   "cell_type": "code",
   "execution_count": 186,
   "id": "3ea9c0bb",
   "metadata": {},
   "outputs": [
    {
     "data": {
      "text/plain": [
       "nan"
      ]
     },
     "execution_count": 186,
     "metadata": {},
     "output_type": "execute_result"
    }
   ],
   "source": [
    "df_def['Cat1'][10341]"
   ]
  },
  {
   "cell_type": "code",
   "execution_count": 213,
   "id": "3ce687f0",
   "metadata": {},
   "outputs": [
    {
     "data": {
      "text/html": [
       "<div>\n",
       "<style scoped>\n",
       "    .dataframe tbody tr th:only-of-type {\n",
       "        vertical-align: middle;\n",
       "    }\n",
       "\n",
       "    .dataframe tbody tr th {\n",
       "        vertical-align: top;\n",
       "    }\n",
       "\n",
       "    .dataframe thead th {\n",
       "        text-align: right;\n",
       "    }\n",
       "</style>\n",
       "<table border=\"1\" class=\"dataframe\">\n",
       "  <thead>\n",
       "    <tr style=\"text-align: right;\">\n",
       "      <th></th>\n",
       "      <th>Frase</th>\n",
       "      <th>Autor</th>\n",
       "      <th>Categoría</th>\n",
       "      <th>Cat1</th>\n",
       "      <th>Cat2</th>\n",
       "      <th>Cat3</th>\n",
       "      <th>Cat4</th>\n",
       "    </tr>\n",
       "  </thead>\n",
       "  <tbody>\n",
       "    <tr>\n",
       "      <th>0</th>\n",
       "      <td>Un amigo es uno que lo sabe todo de ti y a pes...</td>\n",
       "      <td>Elbert Hubbard (1856-1915) Ensayista estadouni...</td>\n",
       "      <td>SENTIMIENTOS / AMISTAD</td>\n",
       "      <td>SENTIMIENTOS</td>\n",
       "      <td>AMISTAD</td>\n",
       "      <td>None</td>\n",
       "      <td>None</td>\n",
       "    </tr>\n",
       "    <tr>\n",
       "      <th>1</th>\n",
       "      <td>Si sientes que todo perdió su sentido, siempre...</td>\n",
       "      <td>Emerson (1803-1882) Poeta y pensador estadouni...</td>\n",
       "      <td>SENTIMIENTOS / AMISTAD / AMIGOS</td>\n",
       "      <td>SENTIMIENTOS</td>\n",
       "      <td>AMISTAD</td>\n",
       "      <td>AMIGOS</td>\n",
       "      <td>None</td>\n",
       "    </tr>\n",
       "    <tr>\n",
       "      <th>2</th>\n",
       "      <td>La amistad es más difícil y más rara que el am...</td>\n",
       "      <td>Alberto Moravia (1907-1990) Alberto Pincherle....</td>\n",
       "      <td>SENTIMIENTOS / AMISTAD</td>\n",
       "      <td>SENTIMIENTOS</td>\n",
       "      <td>AMISTAD</td>\n",
       "      <td>None</td>\n",
       "      <td>None</td>\n",
       "    </tr>\n",
       "    <tr>\n",
       "      <th>3</th>\n",
       "      <td>Ama hasta que te duela. Si te duele es buena s...</td>\n",
       "      <td>Madre Teresa de Calcuta (1910-1997) Misionera ...</td>\n",
       "      <td>SENTIMIENTOS / AMOR / AMAR</td>\n",
       "      <td>SENTIMIENTOS</td>\n",
       "      <td>AMOR</td>\n",
       "      <td>AMAR</td>\n",
       "      <td>None</td>\n",
       "    </tr>\n",
       "    <tr>\n",
       "      <th>4</th>\n",
       "      <td>Un hermano puede no ser un amigo, pero un amig...</td>\n",
       "      <td>Demetrio de Falero (350 AC-280 AC) Orador, fil...</td>\n",
       "      <td>SENTIMIENTOS / AMISTAD</td>\n",
       "      <td>SENTIMIENTOS</td>\n",
       "      <td>AMISTAD</td>\n",
       "      <td>None</td>\n",
       "      <td>None</td>\n",
       "    </tr>\n",
       "    <tr>\n",
       "      <th>...</th>\n",
       "      <td>...</td>\n",
       "      <td>...</td>\n",
       "      <td>...</td>\n",
       "      <td>...</td>\n",
       "      <td>...</td>\n",
       "      <td>...</td>\n",
       "      <td>...</td>\n",
       "    </tr>\n",
       "    <tr>\n",
       "      <th>10341</th>\n",
       "      <td>No temas ser excéntrico en la opinión, pues to...</td>\n",
       "      <td>Bertrand Russell (1872-1970) Filósofo, matemát...</td>\n",
       "      <td>PENSAMIENTO Y RAZÓN / OPINIÓN</td>\n",
       "      <td>NaN</td>\n",
       "      <td>NaN</td>\n",
       "      <td>NaN</td>\n",
       "      <td>NaN</td>\n",
       "    </tr>\n",
       "    <tr>\n",
       "      <th>10342</th>\n",
       "      <td>La felicidad y la desdicha son, ante todo, cue...</td>\n",
       "      <td>Simone de Beauvoir (1908-1986) Novelista e int...</td>\n",
       "      <td>SENTIMIENTOS / FELICIDAD</td>\n",
       "      <td>NaN</td>\n",
       "      <td>NaN</td>\n",
       "      <td>NaN</td>\n",
       "      <td>NaN</td>\n",
       "    </tr>\n",
       "    <tr>\n",
       "      <th>10343</th>\n",
       "      <td>La felicidad no es un bien que puede atesorars...</td>\n",
       "      <td>Dame Daphne du Maurier (1907-1989) Novelista y...</td>\n",
       "      <td>SENTIMIENTOS / FELICIDAD</td>\n",
       "      <td>NaN</td>\n",
       "      <td>NaN</td>\n",
       "      <td>NaN</td>\n",
       "      <td>NaN</td>\n",
       "    </tr>\n",
       "    <tr>\n",
       "      <th>10344</th>\n",
       "      <td>Toda vida humana tiene algo único. Algo que un...</td>\n",
       "      <td>Sándor Márai (1900-1989) Escritor húngaro.</td>\n",
       "      <td>NATURALEZA / VIDA</td>\n",
       "      <td>NaN</td>\n",
       "      <td>NaN</td>\n",
       "      <td>NaN</td>\n",
       "      <td>NaN</td>\n",
       "    </tr>\n",
       "    <tr>\n",
       "      <th>10345</th>\n",
       "      <td>No es suficiente conocer la verdad, también es...</td>\n",
       "      <td>Simone de Beauvoir (1908-1986) Novelista e int...</td>\n",
       "      <td>PENSAMIENTO Y RAZÓN / VERDAD</td>\n",
       "      <td>NaN</td>\n",
       "      <td>NaN</td>\n",
       "      <td>NaN</td>\n",
       "      <td>NaN</td>\n",
       "    </tr>\n",
       "  </tbody>\n",
       "</table>\n",
       "<p>10225 rows × 7 columns</p>\n",
       "</div>"
      ],
      "text/plain": [
       "                                                   Frase  \\\n",
       "0      Un amigo es uno que lo sabe todo de ti y a pes...   \n",
       "1      Si sientes que todo perdió su sentido, siempre...   \n",
       "2      La amistad es más difícil y más rara que el am...   \n",
       "3      Ama hasta que te duela. Si te duele es buena s...   \n",
       "4      Un hermano puede no ser un amigo, pero un amig...   \n",
       "...                                                  ...   \n",
       "10341  No temas ser excéntrico en la opinión, pues to...   \n",
       "10342  La felicidad y la desdicha son, ante todo, cue...   \n",
       "10343  La felicidad no es un bien que puede atesorars...   \n",
       "10344  Toda vida humana tiene algo único. Algo que un...   \n",
       "10345  No es suficiente conocer la verdad, también es...   \n",
       "\n",
       "                                                   Autor  \\\n",
       "0      Elbert Hubbard (1856-1915) Ensayista estadouni...   \n",
       "1      Emerson (1803-1882) Poeta y pensador estadouni...   \n",
       "2      Alberto Moravia (1907-1990) Alberto Pincherle....   \n",
       "3      Madre Teresa de Calcuta (1910-1997) Misionera ...   \n",
       "4      Demetrio de Falero (350 AC-280 AC) Orador, fil...   \n",
       "...                                                  ...   \n",
       "10341  Bertrand Russell (1872-1970) Filósofo, matemát...   \n",
       "10342  Simone de Beauvoir (1908-1986) Novelista e int...   \n",
       "10343  Dame Daphne du Maurier (1907-1989) Novelista y...   \n",
       "10344         Sándor Márai (1900-1989) Escritor húngaro.   \n",
       "10345  Simone de Beauvoir (1908-1986) Novelista e int...   \n",
       "\n",
       "                             Categoría          Cat1     Cat2    Cat3  Cat4  \n",
       "0               SENTIMIENTOS / AMISTAD  SENTIMIENTOS  AMISTAD    None  None  \n",
       "1      SENTIMIENTOS / AMISTAD / AMIGOS  SENTIMIENTOS  AMISTAD  AMIGOS  None  \n",
       "2               SENTIMIENTOS / AMISTAD  SENTIMIENTOS  AMISTAD    None  None  \n",
       "3           SENTIMIENTOS / AMOR / AMAR  SENTIMIENTOS     AMOR    AMAR  None  \n",
       "4               SENTIMIENTOS / AMISTAD  SENTIMIENTOS  AMISTAD    None  None  \n",
       "...                                ...           ...      ...     ...   ...  \n",
       "10341    PENSAMIENTO Y RAZÓN / OPINIÓN           NaN      NaN     NaN   NaN  \n",
       "10342         SENTIMIENTOS / FELICIDAD           NaN      NaN     NaN   NaN  \n",
       "10343         SENTIMIENTOS / FELICIDAD           NaN      NaN     NaN   NaN  \n",
       "10344                NATURALEZA / VIDA           NaN      NaN     NaN   NaN  \n",
       "10345     PENSAMIENTO Y RAZÓN / VERDAD           NaN      NaN     NaN   NaN  \n",
       "\n",
       "[10225 rows x 7 columns]"
      ]
     },
     "execution_count": 213,
     "metadata": {},
     "output_type": "execute_result"
    }
   ],
   "source": [
    "df_def.reset_index()\n",
    "df_def\n"
   ]
  },
  {
   "cell_type": "code",
   "execution_count": 184,
   "id": "7524914b",
   "metadata": {},
   "outputs": [],
   "source": [
    "df_def['Cat1'][10341] = float(df_def['Cat1'][10341])"
   ]
  },
  {
   "cell_type": "code",
   "execution_count": 219,
   "id": "ac8dc581",
   "metadata": {},
   "outputs": [],
   "source": [
    "lst = []\n",
    "for u, e in enumerate(df_def['Cat1']):\n",
    "    if type(e) != str:\n",
    "        lst.append({u:e})"
   ]
  },
  {
   "cell_type": "code",
   "execution_count": 237,
   "id": "3302a695",
   "metadata": {},
   "outputs": [
    {
     "data": {
      "text/plain": [
       "int"
      ]
     },
     "execution_count": 237,
     "metadata": {},
     "output_type": "execute_result"
    }
   ],
   "source": [
    "x = lst[0].keys()\n",
    "type(list(x)[0])"
   ]
  },
  {
   "cell_type": "code",
   "execution_count": 249,
   "id": "41f70d77",
   "metadata": {},
   "outputs": [
    {
     "data": {
      "text/plain": [
       "['PENSAMIENTO Y RAZÓN ', ' OPINIÓN']"
      ]
     },
     "execution_count": 249,
     "metadata": {},
     "output_type": "execute_result"
    }
   ],
   "source": [
    "df_def['Categoría'][10341].split('/')\n",
    "    \n",
    "    "
   ]
  },
  {
   "cell_type": "code",
   "execution_count": 250,
   "id": "e3ef2c22",
   "metadata": {},
   "outputs": [],
   "source": [
    "df_def.dropna(subset = ['Cat1'], inplace = True)"
   ]
  },
  {
   "cell_type": "code",
   "execution_count": 252,
   "id": "3fce1ac8",
   "metadata": {},
   "outputs": [
    {
     "data": {
      "text/plain": [
       "(10112, 7)"
      ]
     },
     "execution_count": 252,
     "metadata": {},
     "output_type": "execute_result"
    }
   ],
   "source": [
    "df_def.shape"
   ]
  },
  {
   "cell_type": "code",
   "execution_count": 253,
   "id": "36f580a3",
   "metadata": {},
   "outputs": [],
   "source": [
    "v5 = df_def.to_csv(r'C:\\Users\\jvaym\\Desktop\\IRONHACK\\Semana4\\frases_v5.csv', encoding='utf-8', index=False)"
   ]
  },
  {
   "cell_type": "code",
   "execution_count": 254,
   "id": "4b446a84",
   "metadata": {},
   "outputs": [
    {
     "data": {
      "text/plain": [
       "<bound method NDFrame.describe of                                                    Frase  \\\n",
       "0      Un amigo es uno que lo sabe todo de ti y a pes...   \n",
       "1      Si sientes que todo perdió su sentido, siempre...   \n",
       "2      La amistad es más difícil y más rara que el am...   \n",
       "3      Ama hasta que te duela. Si te duele es buena s...   \n",
       "4      Un hermano puede no ser un amigo, pero un amig...   \n",
       "...                                                  ...   \n",
       "10220                   Poder olvidar significa cordura.   \n",
       "10221  No holgazanees y invita a la inspiración; sal ...   \n",
       "10222  Los dioses tramaron desventuras para que los h...   \n",
       "10223  Dije \"je t’aime\", en lo de amar sobran los adv...   \n",
       "10224     No hay autoridad moral como la del sacrificio.   \n",
       "\n",
       "                                                   Autor  \\\n",
       "0      Elbert Hubbard (1856-1915) Ensayista estadouni...   \n",
       "1      Emerson (1803-1882) Poeta y pensador estadouni...   \n",
       "2      Alberto Moravia (1907-1990) Alberto Pincherle....   \n",
       "3      Madre Teresa de Calcuta (1910-1997) Misionera ...   \n",
       "4      Demetrio de Falero (350 AC-280 AC) Orador, fil...   \n",
       "...                                                  ...   \n",
       "10220  Jack London (1876-1916) Escritor y activista a...   \n",
       "10221  Jack London (1876-1916) Escritor y activista a...   \n",
       "10222   Homero (VIII AC-VIII AC) Poeta y rapsoda griego.   \n",
       "10223  Rafael Chirbes (1949-2015) Escritor y crítico ...   \n",
       "10224  Nadine Gordimer (1923-2014) Escritora sudafric...   \n",
       "\n",
       "                             Categoría                 Cat1       Cat2  \\\n",
       "0               SENTIMIENTOS / AMISTAD         SENTIMIENTOS    AMISTAD   \n",
       "1      SENTIMIENTOS / AMISTAD / AMIGOS         SENTIMIENTOS    AMISTAD   \n",
       "2               SENTIMIENTOS / AMISTAD         SENTIMIENTOS    AMISTAD   \n",
       "3           SENTIMIENTOS / AMOR / AMAR         SENTIMIENTOS       AMOR   \n",
       "4               SENTIMIENTOS / AMISTAD         SENTIMIENTOS    AMISTAD   \n",
       "...                                ...                  ...        ...   \n",
       "10220             MISCELÁNEA / OLVIDAR  PENSAMIENTO Y RAZÓN    OPINIÓN   \n",
       "10221               ARTE / INSPIRACIÓN         SENTIMIENTOS  FELICIDAD   \n",
       "10222           MISCELÁNEA / DESGRACIA         SENTIMIENTOS  FELICIDAD   \n",
       "10223       SENTIMIENTOS / AMOR / AMAR           NATURALEZA       VIDA   \n",
       "10224                 SOCIEDAD / MORAL  PENSAMIENTO Y RAZÓN     VERDAD   \n",
       "\n",
       "         Cat3  Cat4  \n",
       "0        None  None  \n",
       "1      AMIGOS  None  \n",
       "2        None  None  \n",
       "3        AMAR  None  \n",
       "4        None  None  \n",
       "...       ...   ...  \n",
       "10220    None  None  \n",
       "10221    None  None  \n",
       "10222    None  None  \n",
       "10223    None  None  \n",
       "10224    None  None  \n",
       "\n",
       "[10112 rows x 7 columns]>"
      ]
     },
     "execution_count": 254,
     "metadata": {},
     "output_type": "execute_result"
    }
   ],
   "source": [
    "df_def.describe"
   ]
  },
  {
   "cell_type": "code",
   "execution_count": 255,
   "id": "0f9fd0b2",
   "metadata": {},
   "outputs": [
    {
     "data": {
      "text/html": [
       "<div>\n",
       "<style scoped>\n",
       "    .dataframe tbody tr th:only-of-type {\n",
       "        vertical-align: middle;\n",
       "    }\n",
       "\n",
       "    .dataframe tbody tr th {\n",
       "        vertical-align: top;\n",
       "    }\n",
       "\n",
       "    .dataframe thead th {\n",
       "        text-align: right;\n",
       "    }\n",
       "</style>\n",
       "<table border=\"1\" class=\"dataframe\">\n",
       "  <thead>\n",
       "    <tr style=\"text-align: right;\">\n",
       "      <th></th>\n",
       "      <th>index</th>\n",
       "      <th>Frase</th>\n",
       "      <th>Autor</th>\n",
       "      <th>Categoría</th>\n",
       "      <th>Cat1</th>\n",
       "      <th>Cat2</th>\n",
       "      <th>Cat3</th>\n",
       "      <th>Cat4</th>\n",
       "    </tr>\n",
       "  </thead>\n",
       "  <tbody>\n",
       "    <tr>\n",
       "      <th>0</th>\n",
       "      <td>0</td>\n",
       "      <td>Un amigo es uno que lo sabe todo de ti y a pes...</td>\n",
       "      <td>Elbert Hubbard (1856-1915) Ensayista estadouni...</td>\n",
       "      <td>SENTIMIENTOS / AMISTAD</td>\n",
       "      <td>SENTIMIENTOS</td>\n",
       "      <td>AMISTAD</td>\n",
       "      <td>None</td>\n",
       "      <td>None</td>\n",
       "    </tr>\n",
       "    <tr>\n",
       "      <th>1</th>\n",
       "      <td>1</td>\n",
       "      <td>Si sientes que todo perdió su sentido, siempre...</td>\n",
       "      <td>Emerson (1803-1882) Poeta y pensador estadouni...</td>\n",
       "      <td>SENTIMIENTOS / AMISTAD / AMIGOS</td>\n",
       "      <td>SENTIMIENTOS</td>\n",
       "      <td>AMISTAD</td>\n",
       "      <td>AMIGOS</td>\n",
       "      <td>None</td>\n",
       "    </tr>\n",
       "    <tr>\n",
       "      <th>2</th>\n",
       "      <td>2</td>\n",
       "      <td>La amistad es más difícil y más rara que el am...</td>\n",
       "      <td>Alberto Moravia (1907-1990) Alberto Pincherle....</td>\n",
       "      <td>SENTIMIENTOS / AMISTAD</td>\n",
       "      <td>SENTIMIENTOS</td>\n",
       "      <td>AMISTAD</td>\n",
       "      <td>None</td>\n",
       "      <td>None</td>\n",
       "    </tr>\n",
       "    <tr>\n",
       "      <th>3</th>\n",
       "      <td>3</td>\n",
       "      <td>Ama hasta que te duela. Si te duele es buena s...</td>\n",
       "      <td>Madre Teresa de Calcuta (1910-1997) Misionera ...</td>\n",
       "      <td>SENTIMIENTOS / AMOR / AMAR</td>\n",
       "      <td>SENTIMIENTOS</td>\n",
       "      <td>AMOR</td>\n",
       "      <td>AMAR</td>\n",
       "      <td>None</td>\n",
       "    </tr>\n",
       "    <tr>\n",
       "      <th>4</th>\n",
       "      <td>4</td>\n",
       "      <td>Un hermano puede no ser un amigo, pero un amig...</td>\n",
       "      <td>Demetrio de Falero (350 AC-280 AC) Orador, fil...</td>\n",
       "      <td>SENTIMIENTOS / AMISTAD</td>\n",
       "      <td>SENTIMIENTOS</td>\n",
       "      <td>AMISTAD</td>\n",
       "      <td>None</td>\n",
       "      <td>None</td>\n",
       "    </tr>\n",
       "    <tr>\n",
       "      <th>...</th>\n",
       "      <td>...</td>\n",
       "      <td>...</td>\n",
       "      <td>...</td>\n",
       "      <td>...</td>\n",
       "      <td>...</td>\n",
       "      <td>...</td>\n",
       "      <td>...</td>\n",
       "      <td>...</td>\n",
       "    </tr>\n",
       "    <tr>\n",
       "      <th>10107</th>\n",
       "      <td>10220</td>\n",
       "      <td>Poder olvidar significa cordura.</td>\n",
       "      <td>Jack London (1876-1916) Escritor y activista a...</td>\n",
       "      <td>MISCELÁNEA / OLVIDAR</td>\n",
       "      <td>PENSAMIENTO Y RAZÓN</td>\n",
       "      <td>OPINIÓN</td>\n",
       "      <td>None</td>\n",
       "      <td>None</td>\n",
       "    </tr>\n",
       "    <tr>\n",
       "      <th>10108</th>\n",
       "      <td>10221</td>\n",
       "      <td>No holgazanees y invita a la inspiración; sal ...</td>\n",
       "      <td>Jack London (1876-1916) Escritor y activista a...</td>\n",
       "      <td>ARTE / INSPIRACIÓN</td>\n",
       "      <td>SENTIMIENTOS</td>\n",
       "      <td>FELICIDAD</td>\n",
       "      <td>None</td>\n",
       "      <td>None</td>\n",
       "    </tr>\n",
       "    <tr>\n",
       "      <th>10109</th>\n",
       "      <td>10222</td>\n",
       "      <td>Los dioses tramaron desventuras para que los h...</td>\n",
       "      <td>Homero (VIII AC-VIII AC) Poeta y rapsoda griego.</td>\n",
       "      <td>MISCELÁNEA / DESGRACIA</td>\n",
       "      <td>SENTIMIENTOS</td>\n",
       "      <td>FELICIDAD</td>\n",
       "      <td>None</td>\n",
       "      <td>None</td>\n",
       "    </tr>\n",
       "    <tr>\n",
       "      <th>10110</th>\n",
       "      <td>10223</td>\n",
       "      <td>Dije \"je t’aime\", en lo de amar sobran los adv...</td>\n",
       "      <td>Rafael Chirbes (1949-2015) Escritor y crítico ...</td>\n",
       "      <td>SENTIMIENTOS / AMOR / AMAR</td>\n",
       "      <td>NATURALEZA</td>\n",
       "      <td>VIDA</td>\n",
       "      <td>None</td>\n",
       "      <td>None</td>\n",
       "    </tr>\n",
       "    <tr>\n",
       "      <th>10111</th>\n",
       "      <td>10224</td>\n",
       "      <td>No hay autoridad moral como la del sacrificio.</td>\n",
       "      <td>Nadine Gordimer (1923-2014) Escritora sudafric...</td>\n",
       "      <td>SOCIEDAD / MORAL</td>\n",
       "      <td>PENSAMIENTO Y RAZÓN</td>\n",
       "      <td>VERDAD</td>\n",
       "      <td>None</td>\n",
       "      <td>None</td>\n",
       "    </tr>\n",
       "  </tbody>\n",
       "</table>\n",
       "<p>10112 rows × 8 columns</p>\n",
       "</div>"
      ],
      "text/plain": [
       "       index                                              Frase  \\\n",
       "0          0  Un amigo es uno que lo sabe todo de ti y a pes...   \n",
       "1          1  Si sientes que todo perdió su sentido, siempre...   \n",
       "2          2  La amistad es más difícil y más rara que el am...   \n",
       "3          3  Ama hasta que te duela. Si te duele es buena s...   \n",
       "4          4  Un hermano puede no ser un amigo, pero un amig...   \n",
       "...      ...                                                ...   \n",
       "10107  10220                   Poder olvidar significa cordura.   \n",
       "10108  10221  No holgazanees y invita a la inspiración; sal ...   \n",
       "10109  10222  Los dioses tramaron desventuras para que los h...   \n",
       "10110  10223  Dije \"je t’aime\", en lo de amar sobran los adv...   \n",
       "10111  10224     No hay autoridad moral como la del sacrificio.   \n",
       "\n",
       "                                                   Autor  \\\n",
       "0      Elbert Hubbard (1856-1915) Ensayista estadouni...   \n",
       "1      Emerson (1803-1882) Poeta y pensador estadouni...   \n",
       "2      Alberto Moravia (1907-1990) Alberto Pincherle....   \n",
       "3      Madre Teresa de Calcuta (1910-1997) Misionera ...   \n",
       "4      Demetrio de Falero (350 AC-280 AC) Orador, fil...   \n",
       "...                                                  ...   \n",
       "10107  Jack London (1876-1916) Escritor y activista a...   \n",
       "10108  Jack London (1876-1916) Escritor y activista a...   \n",
       "10109   Homero (VIII AC-VIII AC) Poeta y rapsoda griego.   \n",
       "10110  Rafael Chirbes (1949-2015) Escritor y crítico ...   \n",
       "10111  Nadine Gordimer (1923-2014) Escritora sudafric...   \n",
       "\n",
       "                             Categoría                 Cat1       Cat2  \\\n",
       "0               SENTIMIENTOS / AMISTAD         SENTIMIENTOS    AMISTAD   \n",
       "1      SENTIMIENTOS / AMISTAD / AMIGOS         SENTIMIENTOS    AMISTAD   \n",
       "2               SENTIMIENTOS / AMISTAD         SENTIMIENTOS    AMISTAD   \n",
       "3           SENTIMIENTOS / AMOR / AMAR         SENTIMIENTOS       AMOR   \n",
       "4               SENTIMIENTOS / AMISTAD         SENTIMIENTOS    AMISTAD   \n",
       "...                                ...                  ...        ...   \n",
       "10107             MISCELÁNEA / OLVIDAR  PENSAMIENTO Y RAZÓN    OPINIÓN   \n",
       "10108               ARTE / INSPIRACIÓN         SENTIMIENTOS  FELICIDAD   \n",
       "10109           MISCELÁNEA / DESGRACIA         SENTIMIENTOS  FELICIDAD   \n",
       "10110       SENTIMIENTOS / AMOR / AMAR           NATURALEZA       VIDA   \n",
       "10111                 SOCIEDAD / MORAL  PENSAMIENTO Y RAZÓN     VERDAD   \n",
       "\n",
       "         Cat3  Cat4  \n",
       "0        None  None  \n",
       "1      AMIGOS  None  \n",
       "2        None  None  \n",
       "3        AMAR  None  \n",
       "4        None  None  \n",
       "...       ...   ...  \n",
       "10107    None  None  \n",
       "10108    None  None  \n",
       "10109    None  None  \n",
       "10110    None  None  \n",
       "10111    None  None  \n",
       "\n",
       "[10112 rows x 8 columns]"
      ]
     },
     "execution_count": 255,
     "metadata": {},
     "output_type": "execute_result"
    }
   ],
   "source": [
    "df_def.reset_index()"
   ]
  },
  {
   "cell_type": "code",
   "execution_count": 256,
   "id": "c7fddf96",
   "metadata": {},
   "outputs": [],
   "source": [
    "df_def.drop('Categoría', axis = 1, inplace = True)"
   ]
  },
  {
   "cell_type": "code",
   "execution_count": 257,
   "id": "dfde5be2",
   "metadata": {},
   "outputs": [
    {
     "data": {
      "text/plain": [
       "(10112, 6)"
      ]
     },
     "execution_count": 257,
     "metadata": {},
     "output_type": "execute_result"
    }
   ],
   "source": [
    "df_def.shape"
   ]
  },
  {
   "cell_type": "code",
   "execution_count": 259,
   "id": "a0c1aa68",
   "metadata": {},
   "outputs": [
    {
     "data": {
      "text/plain": [
       "Frase        0\n",
       "Autor        0\n",
       "Cat1         0\n",
       "Cat2       649\n",
       "Cat3      8365\n",
       "Cat4     10077\n",
       "dtype: int64"
      ]
     },
     "execution_count": 259,
     "metadata": {},
     "output_type": "execute_result"
    }
   ],
   "source": [
    "df_def.isna().sum()"
   ]
  },
  {
   "cell_type": "code",
   "execution_count": 260,
   "id": "11dd27cc",
   "metadata": {},
   "outputs": [],
   "source": [
    "v6 = df_def.to_csv(r'C:\\Users\\jvaym\\Desktop\\IRONHACK\\Semana4\\frases_v6.csv', encoding='utf-8', index=False)"
   ]
  },
  {
   "cell_type": "code",
   "execution_count": null,
   "id": "e7af531e",
   "metadata": {},
   "outputs": [],
   "source": []
  }
 ],
 "metadata": {
  "kernelspec": {
   "display_name": "Python 3 (ipykernel)",
   "language": "python",
   "name": "python3"
  },
  "language_info": {
   "codemirror_mode": {
    "name": "ipython",
    "version": 3
   },
   "file_extension": ".py",
   "mimetype": "text/x-python",
   "name": "python",
   "nbconvert_exporter": "python",
   "pygments_lexer": "ipython3",
   "version": "3.9.7"
  }
 },
 "nbformat": 4,
 "nbformat_minor": 5
}
